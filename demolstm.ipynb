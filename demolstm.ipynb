{
  "nbformat": 4,
  "nbformat_minor": 0,
  "metadata": {
    "colab": {
      "name": "demolstm.ipynb",
      "provenance": [],
      "collapsed_sections": [],
      "authorship_tag": "ABX9TyP54J6c7oQVxYE6ZDoukMIJ",
      "include_colab_link": true
    },
    "kernelspec": {
      "name": "python3",
      "display_name": "Python 3"
    },
    "language_info": {
      "name": "python"
    }
  },
  "cells": [
    {
      "cell_type": "markdown",
      "metadata": {
        "id": "view-in-github",
        "colab_type": "text"
      },
      "source": [
        "<a href=\"https://colab.research.google.com/github/Tien84/Face-Detection/blob/master/demolstm.ipynb\" target=\"_parent\"><img src=\"https://colab.research.google.com/assets/colab-badge.svg\" alt=\"Open In Colab\"/></a>"
      ]
    },
    {
      "cell_type": "code",
      "execution_count": null,
      "metadata": {
        "id": "zj8vg3lU3wSZ"
      },
      "outputs": [],
      "source": [
        "!pip install numpy"
      ]
    },
    {
      "cell_type": "code",
      "source": [
        "!pip install pandas"
      ],
      "metadata": {
        "id": "2hpcowkpYp4M"
      },
      "execution_count": null,
      "outputs": []
    },
    {
      "cell_type": "code",
      "source": [
        "!pip install keras"
      ],
      "metadata": {
        "id": "jRGtczUw6W1t"
      },
      "execution_count": null,
      "outputs": []
    },
    {
      "cell_type": "code",
      "source": [
        "!pip install matplotlib"
      ],
      "metadata": {
        "id": "m8zkN7j_ZEAh"
      },
      "execution_count": null,
      "outputs": []
    },
    {
      "cell_type": "code",
      "source": [
        "!pip install sklearn"
      ],
      "metadata": {
        "id": "ypISN1iXaq8p"
      },
      "execution_count": null,
      "outputs": []
    },
    {
      "cell_type": "code",
      "source": [
        "!pip install tensorflow"
      ],
      "metadata": {
        "id": "foPkw2Ida580"
      },
      "execution_count": null,
      "outputs": []
    },
    {
      "cell_type": "code",
      "source": [
        "from google.colab import drive\n",
        "drive.mount('/content/driver')"
      ],
      "metadata": {
        "id": "0T5EDpN_a6Lk"
      },
      "execution_count": null,
      "outputs": []
    },
    {
      "cell_type": "code",
      "source": [
        "import pandas as pd\n",
        "import numpy as np\n",
        "import matplotlib.pyplot as plt\n",
        "\n",
        "data = pd.read_csv('/content/driver/My Drive/LSTM_Model/AAPL.csv')\n",
        "#data= data[::-1] \n",
        "data.index.freg='Date'\n",
        "data"
      ],
      "metadata": {
        "id": "a5vjhe2xbGY5"
      },
      "execution_count": null,
      "outputs": []
    },
    {
      "cell_type": "code",
      "source": [
        "data.head(), data.tail()"
      ],
      "metadata": {
        "id": "wRXRD6i0tf98"
      },
      "execution_count": null,
      "outputs": []
    },
    {
      "cell_type": "code",
      "source": [
        "open_price = data.iloc[:,1:2]\n",
        "train_set = open_price[:1816].values\n",
        "test_set = open_price[1816:].values\n",
        "print(\"Train size: \",train_set.shape)\n",
        "print(\"Test size:\",test_set.shape)"
      ],
      "metadata": {
        "id": "z8HEFFbwnABu"
      },
      "execution_count": null,
      "outputs": []
    },
    {
      "cell_type": "code",
      "source": [
        "dates = pd.to_datetime(data['Date'])\n",
        "plt.plot_date(dates,open_price,fmt='-')\n",
        "plt.savefig(\"Bitcoin.jpg\")"
      ],
      "metadata": {
        "id": "FRSyLJwokusV"
      },
      "execution_count": null,
      "outputs": []
    },
    {
      "cell_type": "code",
      "source": [
        "len(data)"
      ],
      "metadata": {
        "id": "FXsrX6O2p8uZ"
      },
      "execution_count": null,
      "outputs": []
    },
    {
      "cell_type": "code",
      "source": [
        "from keras.preprocessing.sequence import TimeseriesGenerator"
      ],
      "metadata": {
        "id": "ileV2T7suhj5"
      },
      "execution_count": 13,
      "outputs": []
    },
    {
      "cell_type": "code",
      "source": [
        "def get_data(train,test,time_step,num_predict,date):\n",
        "  x_train= list()\n",
        "  y_train = list()\n",
        "  x_test = list()\n",
        "  y_test = list()\n",
        "  date_test= list()\n",
        "\n",
        "  for i in range(0,len(train) - time_step - num_predict):\n",
        "    x_train.append(train[i:i+time_step])\n",
        "    y_train.append(train[i+time_step:i+time_step+num_predict])\n",
        "\n",
        "  for i in range(0, len(test) - time_step - num_predict):\n",
        "    x_test.append(test[i:i+time_step])\n",
        "    y_test.append(test[i+time_step:i+time_step+num_predict])\n",
        "    date_test.append(date[i+time_step:i+time_step+num_predict])\n",
        "  \n",
        "  return np.asarray(x_train), np.asarray(y_train), np.asarray(x_test), np.asarray(y_test), np.asarray(date_test)"
      ],
      "metadata": {
        "id": "nFxtxue9bGu9"
      },
      "execution_count": 14,
      "outputs": []
    },
    {
      "cell_type": "code",
      "source": [
        "from sklearn.preprocessing import MinMaxScaler\n",
        "x_train, y_train, x_test, y_test, date_test = get_data(train_set,test_set,30,1, dates)\n",
        "\n",
        "# dua ve 0->1 cho tap train\n",
        "scaler = MinMaxScaler()\n",
        "x_train = x_train.reshape(-1,30)\n",
        "y_train = x_train.reshape(-1,1)\n",
        "\n",
        "x_train = scaler.fit_transform(train_set)\n",
        "y_train = scaler.fit_transform(train_set)\n",
        "\n",
        "# dua ve 0->1 cho tap test\n",
        "#x_test = x_test.reshape(-1,30)\n",
        "x_test = x_test.reshape(-1)\n",
        "y_test = y_test.reshape(-1,1)\n",
        "\n",
        "x_test = scaler.fit_transform(test_set)\n",
        "y_test = scaler.fit_transform(test_set)\n",
        "\n",
        "date_test = date_test.reshape(-1,1)"
      ],
      "metadata": {
        "id": "E8AXxqhVfDi3"
      },
      "execution_count": 15,
      "outputs": []
    },
    {
      "cell_type": "code",
      "source": [
        "from keras import Sequential\n",
        "from keras.layers import LSTM\n",
        "from keras.layers import Dropout,Dense\n",
        "#dau vao 202 doan 1\n",
        "n_input = 202\n",
        "n_features = 1\n",
        "\n",
        "model = Sequential()\n",
        "model.add(LSTM(units=50,activation='relu', input_shape=(n_input, n_features), return_sequences=True))\n",
        "model.add(Dropout(0.3))\n",
        "\n",
        "model.add(LSTM(units=50, return_sequences=True))\n",
        "model.add(Dropout(0.3))\n",
        "\n",
        "model.add(LSTM(units=50))\n",
        "model.add(Dropout(0.3))\n",
        "model.add(Dense(1))\n"
      ],
      "metadata": {
        "id": "QZp7Ta8rfQOu"
      },
      "execution_count": 26,
      "outputs": []
    },
    {
      "cell_type": "code",
      "source": [
        "model.compile(optimizer='adam', loss='mse')"
      ],
      "metadata": {
        "id": "ebwmvH2cfQRy"
      },
      "execution_count": 27,
      "outputs": []
    },
    {
      "cell_type": "code",
      "source": [
        "model.summary()"
      ],
      "metadata": {
        "id": "dQ3m1WfnykU7"
      },
      "execution_count": null,
      "outputs": []
    },
    {
      "cell_type": "code",
      "source": [
        "history=model.fit(x_train, y_train, epochs=20, validation_split=0.2, verbose=1, batch_size=30)\n",
        "model.save('/content/driver/My Drive/LSTM_Model/lstm_test')"
      ],
      "metadata": {
        "id": "oDHhWqHYg4WW"
      },
      "execution_count": null,
      "outputs": []
    },
    {
      "cell_type": "code",
      "source": [
        "plt.plot(history.history['loss'])\n",
        "plt.plot(history.history['val_loss'])\n",
        "plt.title('model loss')\n",
        "plt.ylabel('loss')\n",
        "plt.xlabel('epoch')\n",
        "plt.legend(['train','test'], loc= 'upper left')\n",
        "plt.show()"
      ],
      "metadata": {
        "colab": {
          "base_uri": "https://localhost:8080/",
          "height": 295
        },
        "id": "5VhMvVFtoMoa",
        "outputId": "2291b245-cdae-4863-87e8-8db8f1078c1c"
      },
      "execution_count": 31,
      "outputs": [
        {
          "output_type": "display_data",
          "data": {
            "image/png": "[encoded data removed]",
            "text/plain": [
              "<Figure size 432x288 with 1 Axes>"
            ]
          },
          "metadata": {
            "needs_background": "light"
          }
        }
      ]
    },
    {
      "cell_type": "code",
      "source": [
        "import matplotlib.pyplot as plt\n",
        "import keras\n",
        "model = keras.models.load_model('/content/driver/My Drive/LSTM_Model/lstm_test')\n",
        "\n",
        "test_output = model.predict(x_test)\n",
        "\n",
        "# print(test_output)\n",
        "test_1 = scaler.inverse_transform(test_output)\n",
        "test_2 = scaler.inverse_transform(y_test)\n",
        "plt.plot(test_1[:202], color='r')\n",
        "plt.plot(test_2[:202] ,color='b')\n",
        "plt.title(\"BITCOIN\")\n",
        "#plt.xlabel(\"STT\")\n",
        "plt.ylabel(\"Price\")\n",
        "plt.legend(('prediction', 'reality'),loc='upper right')\n",
        "plt.show()"
      ],
      "metadata": {
        "colab": {
          "base_uri": "https://localhost:8080/",
          "height": 336
        },
        "id": "y8LCBONtg4gK",
        "outputId": "473c3b34-a8f7-44d5-a71f-124699d11ca9"
      },
      "execution_count": 32,
      "outputs": [
        {
          "output_type": "stream",
          "name": "stdout",
          "text": [
            "WARNING:tensorflow:Model was constructed with shape (None, 202, 1) for input KerasTensor(type_spec=TensorSpec(shape=(None, 202, 1), dtype=tf.float32, name='lstm_3_input'), name='lstm_3_input', description=\"created by layer 'lstm_3_input'\"), but it was called on an input with incompatible shape (None, 1, 1).\n"
          ]
        },
        {
          "output_type": "stream",
          "name": "stderr",
          "text": [
            "WARNING:tensorflow:Model was constructed with shape (None, 202, 1) for input KerasTensor(type_spec=TensorSpec(shape=(None, 202, 1), dtype=tf.float32, name='lstm_3_input'), name='lstm_3_input', description=\"created by layer 'lstm_3_input'\"), but it was called on an input with incompatible shape (None, 1, 1).\n"
          ]
        },
        {
          "output_type": "display_data",
          "data": {
            "image/png": "[encoded data removed]",
            "text/plain": [
              "<Figure size 432x288 with 1 Axes>"
            ]
          },
          "metadata": {
            "needs_background": "light"
          }
        }
      ]
    },
    {
      "cell_type": "code",
      "source": [
        "test_1 = scaler.inverse_transform(test_output)\n",
        "test_2 = scaler.inverse_transform(y_test)\n",
        "print(test_1)\n",
        "print(test_2)"
      ],
      "metadata": {
        "id": "rt3l049FiwEo"
      },
      "execution_count": null,
      "outputs": []
    },
    {
      "cell_type": "code",
      "source": [
        "# Đánh giá mô hình\n",
        "score = model.evaluate(x_test, y_test,verbose=1, batch_size = 30)\n",
        "print('Test Score', score)"
      ],
      "metadata": {
        "colab": {
          "base_uri": "https://localhost:8080/"
        },
        "id": "lJOKItdnj1kz",
        "outputId": "19fc6aa0-b47d-4c25-abcb-5495616e448b"
      },
      "execution_count": 35,
      "outputs": [
        {
          "output_type": "stream",
          "name": "stdout",
          "text": [
            "7/7 [==============================] - 0s 4ms/step - loss: 0.0011\n",
            "Test Score 0.001083296025171876\n"
          ]
        }
      ]
    },
    {
      "cell_type": "code",
      "source": [
        "from sklearn.metrics import mean_squared_error\n",
        "from math import sqrt\n",
        "predictions= model.predict(x_test) \n",
        "mse = mean_squared_error(y_test, predictions)\n",
        "rmse = sqrt(mse)\n",
        "print('RMSE: %f' % rmse)"
      ],
      "metadata": {
        "colab": {
          "base_uri": "https://localhost:8080/"
        },
        "id": "V4ri-_ljxBYt",
        "outputId": "0e1e5570-5811-4add-de8f-3a9c1fba647a"
      },
      "execution_count": 39,
      "outputs": [
        {
          "output_type": "stream",
          "name": "stdout",
          "text": [
            "RMSE: 0.032913\n"
          ]
        }
      ]
    }
  ]
}