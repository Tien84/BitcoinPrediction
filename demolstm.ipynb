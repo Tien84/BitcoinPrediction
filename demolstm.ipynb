{
  "nbformat": 4,
  "nbformat_minor": 0,
  "metadata": {
    "colab": {
      "name": "demolstm.ipynb",
      "provenance": [],
      "collapsed_sections": [],
      "authorship_tag": "ABX9TyPy9t4TYYAQxz6ytI2bYoOc",
      "include_colab_link": true
    },
    "kernelspec": {
      "name": "python3",
      "display_name": "Python 3"
    },
    "language_info": {
      "name": "python"
    }
  },
  "cells": [
    {
      "cell_type": "markdown",
      "metadata": {
        "id": "view-in-github",
        "colab_type": "text"
      },
      "source": [
        "<a href=\"https://colab.research.google.com/github/Tien84/Face-Detection/blob/master/demolstm.ipynb\" target=\"_parent\"><img src=\"https://colab.research.google.com/assets/colab-badge.svg\" alt=\"Open In Colab\"/></a>"
      ]
    },
    {
      "cell_type": "code",
      "execution_count": null,
      "metadata": {
        "id": "zj8vg3lU3wSZ"
      },
      "outputs": [],
      "source": [
        "!pip install numpy"
      ]
    },
    {
      "cell_type": "code",
      "source": [
        "!pip install pandas"
      ],
      "metadata": {
        "id": "2hpcowkpYp4M"
      },
      "execution_count": null,
      "outputs": []
    },
    {
      "cell_type": "code",
      "source": [
        "!pip install keras"
      ],
      "metadata": {
        "id": "jRGtczUw6W1t"
      },
      "execution_count": null,
      "outputs": []
    },
    {
      "cell_type": "code",
      "source": [
        "!pip install matplotlib"
      ],
      "metadata": {
        "id": "m8zkN7j_ZEAh"
      },
      "execution_count": null,
      "outputs": []
    },
    {
      "cell_type": "code",
      "source": [
        "!pip install sklearn"
      ],
      "metadata": {
        "id": "ypISN1iXaq8p"
      },
      "execution_count": null,
      "outputs": []
    },
    {
      "cell_type": "code",
      "source": [
        "!pip install tensorflow"
      ],
      "metadata": {
        "id": "foPkw2Ida580"
      },
      "execution_count": null,
      "outputs": []
    },
    {
      "cell_type": "code",
      "source": [
        "from google.colab import drive\n",
        "drive.mount('/content/driver')"
      ],
      "metadata": {
        "id": "0T5EDpN_a6Lk"
      },
      "execution_count": null,
      "outputs": []
    },
    {
      "cell_type": "code",
      "source": [
        "import pandas as pd\n",
        "import numpy as np\n",
        "import matplotlib.pyplot as plt\n",
        "\n",
        "data = pd.read_csv('/content/driver/My Drive/LSTM_Model/AAPL.csv')\n",
        "#data= data[::-1] \n",
        "data.index.freg='Date'\n",
        "data"
      ],
      "metadata": {
        "id": "a5vjhe2xbGY5",
        "colab": {
          "base_uri": "https://localhost:8080/",
          "height": 424
        },
        "outputId": "c09d12b1-7c16-479a-f537-76fce25087cc"
      },
      "execution_count": 46,
      "outputs": [
        {
          "output_type": "execute_result",
          "data": {
            "text/html": [
              "\n",
              "  <div id=\"df-66917f72-a49f-49c0-bc3e-bef5d8a3b31f\">\n",
              "    <div class=\"colab-df-container\">\n",
              "      <div>\n",
              "<style scoped>\n",
              "    .dataframe tbody tr th:only-of-type {\n",
              "        vertical-align: middle;\n",
              "    }\n",
              "\n",
              "    .dataframe tbody tr th {\n",
              "        vertical-align: top;\n",
              "    }\n",
              "\n",
              "    .dataframe thead th {\n",
              "        text-align: right;\n",
              "    }\n",
              "</style>\n",
              "<table border=\"1\" class=\"dataframe\">\n",
              "  <thead>\n",
              "    <tr style=\"text-align: right;\">\n",
              "      <th></th>\n",
              "      <th>Date</th>\n",
              "      <th>Open</th>\n",
              "      <th>High</th>\n",
              "      <th>Low</th>\n",
              "      <th>Close</th>\n",
              "      <th>Adj Close</th>\n",
              "      <th>Volume</th>\n",
              "    </tr>\n",
              "  </thead>\n",
              "  <tbody>\n",
              "    <tr>\n",
              "      <th>0</th>\n",
              "      <td>2012-01-03</td>\n",
              "      <td>58.500000</td>\n",
              "      <td>58.928570</td>\n",
              "      <td>58.428570</td>\n",
              "      <td>58.747143</td>\n",
              "      <td>56.011238</td>\n",
              "      <td>75564699</td>\n",
              "    </tr>\n",
              "    <tr>\n",
              "      <th>1</th>\n",
              "      <td>2012-01-04</td>\n",
              "      <td>58.599998</td>\n",
              "      <td>59.240002</td>\n",
              "      <td>58.468571</td>\n",
              "      <td>59.062859</td>\n",
              "      <td>56.312252</td>\n",
              "      <td>65061108</td>\n",
              "    </tr>\n",
              "    <tr>\n",
              "      <th>2</th>\n",
              "      <td>2012-01-05</td>\n",
              "      <td>59.278572</td>\n",
              "      <td>59.792858</td>\n",
              "      <td>58.952858</td>\n",
              "      <td>59.718571</td>\n",
              "      <td>56.937424</td>\n",
              "      <td>67816805</td>\n",
              "    </tr>\n",
              "    <tr>\n",
              "      <th>3</th>\n",
              "      <td>2012-01-06</td>\n",
              "      <td>59.967140</td>\n",
              "      <td>60.392857</td>\n",
              "      <td>59.888573</td>\n",
              "      <td>60.342857</td>\n",
              "      <td>57.532646</td>\n",
              "      <td>79596412</td>\n",
              "    </tr>\n",
              "    <tr>\n",
              "      <th>4</th>\n",
              "      <td>2012-01-09</td>\n",
              "      <td>60.788570</td>\n",
              "      <td>61.107143</td>\n",
              "      <td>60.192856</td>\n",
              "      <td>60.247143</td>\n",
              "      <td>57.441391</td>\n",
              "      <td>98505792</td>\n",
              "    </tr>\n",
              "    <tr>\n",
              "      <th>...</th>\n",
              "      <td>...</td>\n",
              "      <td>...</td>\n",
              "      <td>...</td>\n",
              "      <td>...</td>\n",
              "      <td>...</td>\n",
              "      <td>...</td>\n",
              "      <td>...</td>\n",
              "    </tr>\n",
              "    <tr>\n",
              "      <th>2013</th>\n",
              "      <td>2020-01-03</td>\n",
              "      <td>297.149994</td>\n",
              "      <td>300.579987</td>\n",
              "      <td>296.500000</td>\n",
              "      <td>297.429993</td>\n",
              "      <td>293.598297</td>\n",
              "      <td>36633878</td>\n",
              "    </tr>\n",
              "    <tr>\n",
              "      <th>2014</th>\n",
              "      <td>2020-01-06</td>\n",
              "      <td>293.790009</td>\n",
              "      <td>299.959991</td>\n",
              "      <td>292.750000</td>\n",
              "      <td>299.799988</td>\n",
              "      <td>295.937744</td>\n",
              "      <td>29644644</td>\n",
              "    </tr>\n",
              "    <tr>\n",
              "      <th>2015</th>\n",
              "      <td>2020-01-07</td>\n",
              "      <td>299.839996</td>\n",
              "      <td>300.899994</td>\n",
              "      <td>297.480011</td>\n",
              "      <td>298.390015</td>\n",
              "      <td>294.545959</td>\n",
              "      <td>26207813</td>\n",
              "    </tr>\n",
              "    <tr>\n",
              "      <th>2016</th>\n",
              "      <td>2020-01-08</td>\n",
              "      <td>297.160004</td>\n",
              "      <td>304.439911</td>\n",
              "      <td>297.156006</td>\n",
              "      <td>303.190002</td>\n",
              "      <td>299.284088</td>\n",
              "      <td>33090946</td>\n",
              "    </tr>\n",
              "    <tr>\n",
              "      <th>2017</th>\n",
              "      <td>2020-01-09</td>\n",
              "      <td>307.234985</td>\n",
              "      <td>310.429993</td>\n",
              "      <td>306.200012</td>\n",
              "      <td>309.630005</td>\n",
              "      <td>305.641113</td>\n",
              "      <td>42621542</td>\n",
              "    </tr>\n",
              "  </tbody>\n",
              "</table>\n",
              "<p>2018 rows × 7 columns</p>\n",
              "</div>\n",
              "      <button class=\"colab-df-convert\" onclick=\"convertToInteractive('df-66917f72-a49f-49c0-bc3e-bef5d8a3b31f')\"\n",
              "              title=\"Convert this dataframe to an interactive table.\"\n",
              "              style=\"display:none;\">\n",
              "        \n",
              "  <svg xmlns=\"http://www.w3.org/2000/svg\" height=\"24px\"viewBox=\"0 0 24 24\"\n",
              "       width=\"24px\">\n",
              "    <path d=\"M0 0h24v24H0V0z\" fill=\"none\"/>\n",
              "    <path d=\"M18.56 5.44l.94 2.06.94-2.06 2.06-.94-2.06-.94-.94-2.06-.94 2.06-2.06.94zm-11 1L8.5 8.5l.94-2.06 2.06-.94-2.06-.94L8.5 2.5l-.94 2.06-2.06.94zm10 10l.94 2.06.94-2.06 2.06-.94-2.06-.94-.94-2.06-.94 2.06-2.06.94z\"/><path d=\"M17.41 7.96l-1.37-1.37c-.4-.4-.92-.59-1.43-.59-.52 0-1.04.2-1.43.59L10.3 9.45l-7.72 7.72c-.78.78-.78 2.05 0 2.83L4 21.41c.39.39.9.59 1.41.59.51 0 1.02-.2 1.41-.59l7.78-7.78 2.81-2.81c.8-.78.8-2.07 0-2.86zM5.41 20L4 18.59l7.72-7.72 1.47 1.35L5.41 20z\"/>\n",
              "  </svg>\n",
              "      </button>\n",
              "      \n",
              "  <style>\n",
              "    .colab-df-container {\n",
              "      display:flex;\n",
              "      flex-wrap:wrap;\n",
              "      gap: 12px;\n",
              "    }\n",
              "\n",
              "    .colab-df-convert {\n",
              "      background-color: #E8F0FE;\n",
              "      border: none;\n",
              "      border-radius: 50%;\n",
              "      cursor: pointer;\n",
              "      display: none;\n",
              "      fill: #1967D2;\n",
              "      height: 32px;\n",
              "      padding: 0 0 0 0;\n",
              "      width: 32px;\n",
              "    }\n",
              "\n",
              "    .colab-df-convert:hover {\n",
              "      background-color: #E2EBFA;\n",
              "      box-shadow: 0px 1px 2px rgba(60, 64, 67, 0.3), 0px 1px 3px 1px rgba(60, 64, 67, 0.15);\n",
              "      fill: #174EA6;\n",
              "    }\n",
              "\n",
              "    [theme=dark] .colab-df-convert {\n",
              "      background-color: #3B4455;\n",
              "      fill: #D2E3FC;\n",
              "    }\n",
              "\n",
              "    [theme=dark] .colab-df-convert:hover {\n",
              "      background-color: #434B5C;\n",
              "      box-shadow: 0px 1px 3px 1px rgba(0, 0, 0, 0.15);\n",
              "      filter: drop-shadow(0px 1px 2px rgba(0, 0, 0, 0.3));\n",
              "      fill: #FFFFFF;\n",
              "    }\n",
              "  </style>\n",
              "\n",
              "      <script>\n",
              "        const buttonEl =\n",
              "          document.querySelector('#df-66917f72-a49f-49c0-bc3e-bef5d8a3b31f button.colab-df-convert');\n",
              "        buttonEl.style.display =\n",
              "          google.colab.kernel.accessAllowed ? 'block' : 'none';\n",
              "\n",
              "        async function convertToInteractive(key) {\n",
              "          const element = document.querySelector('#df-66917f72-a49f-49c0-bc3e-bef5d8a3b31f');\n",
              "          const dataTable =\n",
              "            await google.colab.kernel.invokeFunction('convertToInteractive',\n",
              "                                                     [key], {});\n",
              "          if (!dataTable) return;\n",
              "\n",
              "          const docLinkHtml = 'Like what you see? Visit the ' +\n",
              "            '<a target=\"_blank\" href=https://colab.research.google.com/notebooks/data_table.ipynb>data table notebook</a>'\n",
              "            + ' to learn more about interactive tables.';\n",
              "          element.innerHTML = '';\n",
              "          dataTable['output_type'] = 'display_data';\n",
              "          await google.colab.output.renderOutput(dataTable, element);\n",
              "          const docLink = document.createElement('div');\n",
              "          docLink.innerHTML = docLinkHtml;\n",
              "          element.appendChild(docLink);\n",
              "        }\n",
              "      </script>\n",
              "    </div>\n",
              "  </div>\n",
              "  "
            ],
            "text/plain": [
              "            Date        Open        High  ...       Close   Adj Close    Volume\n",
              "0     2012-01-03   58.500000   58.928570  ...   58.747143   56.011238  75564699\n",
              "1     2012-01-04   58.599998   59.240002  ...   59.062859   56.312252  65061108\n",
              "2     2012-01-05   59.278572   59.792858  ...   59.718571   56.937424  67816805\n",
              "3     2012-01-06   59.967140   60.392857  ...   60.342857   57.532646  79596412\n",
              "4     2012-01-09   60.788570   61.107143  ...   60.247143   57.441391  98505792\n",
              "...          ...         ...         ...  ...         ...         ...       ...\n",
              "2013  2020-01-03  297.149994  300.579987  ...  297.429993  293.598297  36633878\n",
              "2014  2020-01-06  293.790009  299.959991  ...  299.799988  295.937744  29644644\n",
              "2015  2020-01-07  299.839996  300.899994  ...  298.390015  294.545959  26207813\n",
              "2016  2020-01-08  297.160004  304.439911  ...  303.190002  299.284088  33090946\n",
              "2017  2020-01-09  307.234985  310.429993  ...  309.630005  305.641113  42621542\n",
              "\n",
              "[2018 rows x 7 columns]"
            ]
          },
          "metadata": {},
          "execution_count": 46
        }
      ]
    },
    {
      "cell_type": "code",
      "source": [
        "data.head(), data.tail()"
      ],
      "metadata": {
        "id": "wRXRD6i0tf98",
        "colab": {
          "base_uri": "https://localhost:8080/"
        },
        "outputId": "b71b544e-0eaf-48dc-f532-9bd7522c5611"
      },
      "execution_count": 48,
      "outputs": [
        {
          "output_type": "execute_result",
          "data": {
            "text/plain": [
              "(         Date       Open       High        Low      Close  Adj Close    Volume\n",
              " 0  2012-01-03  58.500000  58.928570  58.428570  58.747143  56.011238  75564699\n",
              " 1  2012-01-04  58.599998  59.240002  58.468571  59.062859  56.312252  65061108\n",
              " 2  2012-01-05  59.278572  59.792858  58.952858  59.718571  56.937424  67816805\n",
              " 3  2012-01-06  59.967140  60.392857  59.888573  60.342857  57.532646  79596412\n",
              " 4  2012-01-09  60.788570  61.107143  60.192856  60.247143  57.441391  98505792,\n",
              "             Date        Open        High  ...       Close   Adj Close    Volume\n",
              " 2013  2020-01-03  297.149994  300.579987  ...  297.429993  293.598297  36633878\n",
              " 2014  2020-01-06  293.790009  299.959991  ...  299.799988  295.937744  29644644\n",
              " 2015  2020-01-07  299.839996  300.899994  ...  298.390015  294.545959  26207813\n",
              " 2016  2020-01-08  297.160004  304.439911  ...  303.190002  299.284088  33090946\n",
              " 2017  2020-01-09  307.234985  310.429993  ...  309.630005  305.641113  42621542\n",
              " \n",
              " [5 rows x 7 columns])"
            ]
          },
          "metadata": {},
          "execution_count": 48
        }
      ]
    },
    {
      "cell_type": "code",
      "source": [
        "open_price = data.iloc[:,1:2]\n",
        "train_set = open_price[:1816].values\n",
        "test_set = open_price[1816:].values\n",
        "print(\"Train size: \",train_set.shape)\n",
        "print(\"Test size:\",test_set.shape)"
      ],
      "metadata": {
        "id": "z8HEFFbwnABu",
        "colab": {
          "base_uri": "https://localhost:8080/"
        },
        "outputId": "e0d3e811-4ebe-4665-f1b0-c86324b40468"
      },
      "execution_count": 49,
      "outputs": [
        {
          "output_type": "stream",
          "name": "stdout",
          "text": [
            "Train size:  (1816, 1)\n",
            "Test size: (202, 1)\n"
          ]
        }
      ]
    },
    {
      "cell_type": "code",
      "source": [
        "dates = pd.to_datetime(data['Date'])\n",
        "plt.plot_date(dates,open_price,fmt='-')\n",
        "plt.savefig(\"Bitcoin.jpg\")"
      ],
      "metadata": {
        "id": "FRSyLJwokusV",
        "colab": {
          "base_uri": "https://localhost:8080/",
          "height": 265
        },
        "outputId": "949c5666-0b12-44de-a6ac-d33b5ae7c5f9"
      },
      "execution_count": 61,
      "outputs": [
        {
          "output_type": "display_data",
          "data": {
            "image/png": "[encoded data removed]",
            "text/plain": [
              "<Figure size 432x288 with 1 Axes>"
            ]
          },
          "metadata": {
            "needs_background": "light"
          }
        }
      ]
    },
    {
      "cell_type": "code",
      "source": [
        "len(data)"
      ],
      "metadata": {
        "colab": {
          "base_uri": "https://localhost:8080/"
        },
        "id": "FXsrX6O2p8uZ",
        "outputId": "9cb71007-6a28-46eb-b5f5-2153091ebe38"
      },
      "execution_count": 51,
      "outputs": [
        {
          "output_type": "execute_result",
          "data": {
            "text/plain": [
              "2018"
            ]
          },
          "metadata": {},
          "execution_count": 51
        }
      ]
    },
    {
      "cell_type": "code",
      "source": [
        "from keras.preprocessing.sequence import TimeseriesGenerator"
      ],
      "metadata": {
        "id": "ileV2T7suhj5"
      },
      "execution_count": 62,
      "outputs": []
    },
    {
      "cell_type": "code",
      "source": [
        "def get_data(train,test,time_step,num_predict,date):\n",
        "  x_train= list()\n",
        "  y_train = list()\n",
        "  x_test = list()\n",
        "  y_test = list()\n",
        "  date_test= list()\n",
        "\n",
        "  for i in range(0,len(train) - time_step - num_predict):\n",
        "    x_train.append(train[i:i+time_step])\n",
        "    y_train.append(train[i+time_step:i+time_step+num_predict])\n",
        "\n",
        "  for i in range(0, len(test) - time_step - num_predict):\n",
        "    x_test.append(test[i:i+time_step])\n",
        "    y_test.append(test[i+time_step:i+time_step+num_predict])\n",
        "    date_test.append(date[i+time_step:i+time_step+num_predict])\n",
        "  \n",
        "  return np.asarray(x_train), np.asarray(y_train), np.asarray(x_test), np.asarray(y_test), np.asarray(date_test)"
      ],
      "metadata": {
        "id": "nFxtxue9bGu9"
      },
      "execution_count": 63,
      "outputs": []
    },
    {
      "cell_type": "code",
      "source": [
        "from sklearn.preprocessing import MinMaxScaler\n",
        "x_train, y_train, x_test, y_test, date_test = get_data(train_set,test_set,30,1, dates)\n",
        "\n",
        "# dua ve 0->1 cho tap train\n",
        "scaler = MinMaxScaler()\n",
        "x_train = x_train.reshape(-1,30)\n",
        "y_train = x_train.reshape(-1,1)\n",
        "\n",
        "x_train = scaler.fit_transform(train_set)\n",
        "y_train = scaler.fit_transform(train_set)\n",
        "\n",
        "# dua ve 0->1 cho tap test\n",
        "#x_test = x_test.reshape(-1,30)\n",
        "x_test = x_test.reshape(-1)\n",
        "y_test = y_test.reshape(-1,1)\n",
        "\n",
        "x_test = scaler.fit_transform(test_set)\n",
        "y_test = scaler.fit_transform(test_set)\n",
        "\n",
        "date_test = date_test.reshape(-1,1)"
      ],
      "metadata": {
        "id": "E8AXxqhVfDi3"
      },
      "execution_count": 64,
      "outputs": []
    },
    {
      "cell_type": "code",
      "source": [
        "from keras import Sequential\n",
        "from keras.layers import LSTM\n",
        "from keras.layers import Dropout,Dense\n",
        "#dau vao 202 doan 1\n",
        "n_input = 202\n",
        "n_features = 1\n",
        "\n",
        "model = Sequential()\n",
        "model.add(LSTM(units=50,activation='relu', input_shape=(n_input, n_features), return_sequences=True))\n",
        "model.add(Dropout(0))\n",
        "\n",
        "model.add(LSTM(units=50, return_sequences=True))\n",
        "model.add(Dropout(0))\n",
        "\n",
        "model.add(LSTM(units=50))\n",
        "model.add(Dropout(0))\n",
        "model.add(Dense(1))\n"
      ],
      "metadata": {
        "id": "QZp7Ta8rfQOu"
      },
      "execution_count": 85,
      "outputs": []
    },
    {
      "cell_type": "code",
      "source": [
        "model.compile(optimizer='adam', loss='mse')"
      ],
      "metadata": {
        "id": "ebwmvH2cfQRy"
      },
      "execution_count": 86,
      "outputs": []
    },
    {
      "cell_type": "code",
      "source": [
        "model.summary()"
      ],
      "metadata": {
        "id": "dQ3m1WfnykU7"
      },
      "execution_count": null,
      "outputs": []
    },
    {
      "cell_type": "code",
      "source": [
        "model.fit(x_train, y_train, epochs=20, validation_split=0.2, verbose=1, batch_size=30)\n",
        "model.save('/content/driver/My Drive/LSTM_Model/lstm_test')"
      ],
      "metadata": {
        "id": "oDHhWqHYg4WW"
      },
      "execution_count": null,
      "outputs": []
    },
    {
      "cell_type": "code",
      "source": [
        "import matplotlib.pyplot as plt\n",
        "import keras\n",
        "model = keras.models.load_model('/content/driver/My Drive/LSTM_Model/lstm_test')\n",
        "\n",
        "test_output = model.predict(x_test)\n",
        "\n",
        "# print(test_output)\n",
        "test_1 = scaler.inverse_transform(test_output)\n",
        "test_2 = scaler.inverse_transform(y_test)\n",
        "plt.plot(test_1[:202], color='r')\n",
        "plt.plot(test_2[:202] ,color='b')\n",
        "plt.title(\"BITCOIN\")\n",
        "#plt.xlabel(\"STT\")\n",
        "plt.ylabel(\"Price\")\n",
        "plt.legend(('prediction', 'reality'),loc='upper right')\n",
        "plt.show()"
      ],
      "metadata": {
        "colab": {
          "base_uri": "https://localhost:8080/",
          "height": 336
        },
        "id": "y8LCBONtg4gK",
        "outputId": "cd280404-a74a-46c7-bfc4-accd294b8c84"
      },
      "execution_count": 89,
      "outputs": [
        {
          "output_type": "stream",
          "name": "stdout",
          "text": [
            "WARNING:tensorflow:Model was constructed with shape (None, 202, 1) for input KerasTensor(type_spec=TensorSpec(shape=(None, 202, 1), dtype=tf.float32, name='lstm_27_input'), name='lstm_27_input', description=\"created by layer 'lstm_27_input'\"), but it was called on an input with incompatible shape (None, 1, 1).\n"
          ]
        },
        {
          "output_type": "stream",
          "name": "stderr",
          "text": [
            "WARNING:tensorflow:Model was constructed with shape (None, 202, 1) for input KerasTensor(type_spec=TensorSpec(shape=(None, 202, 1), dtype=tf.float32, name='lstm_27_input'), name='lstm_27_input', description=\"created by layer 'lstm_27_input'\"), but it was called on an input with incompatible shape (None, 1, 1).\n"
          ]
        },
        {
          "output_type": "display_data",
          "data": {
            "image/png": "[encoded data removed]",
            "text/plain": [
              "<Figure size 432x288 with 1 Axes>"
            ]
          },
          "metadata": {
            "needs_background": "light"
          }
        }
      ]
    },
    {
      "cell_type": "code",
      "source": [
        "test_1 = scaler.inverse_transform(test_output)\n",
        "test_2 = scaler.inverse_transform(y_test)\n",
        "print(test_1)\n",
        "print(test_2)"
      ],
      "metadata": {
        "id": "rt3l049FiwEo"
      },
      "execution_count": null,
      "outputs": []
    }
  ]
}