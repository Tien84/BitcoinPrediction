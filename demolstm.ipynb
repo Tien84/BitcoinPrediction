{
  "nbformat": 4,
  "nbformat_minor": 0,
  "metadata": {
    "colab": {
      "name": "demolstm.ipynb",
      "provenance": [],
      "collapsed_sections": [],
      "authorship_tag": "ABX9TyOzf1icN2z+SiW3QhL7t2qb",
      "include_colab_link": true
    },
    "kernelspec": {
      "name": "python3",
      "display_name": "Python 3"
    },
    "language_info": {
      "name": "python"
    }
  },
  "cells": [
    {
      "cell_type": "markdown",
      "metadata": {
        "id": "view-in-github",
        "colab_type": "text"
      },
      "source": [
        "<a href=\"https://colab.research.google.com/github/Tien84/Face-Detection/blob/master/demolstm.ipynb\" target=\"_parent\"><img src=\"https://colab.research.google.com/assets/colab-badge.svg\" alt=\"Open In Colab\"/></a>"
      ]
    },
    {
      "cell_type": "code",
      "execution_count": null,
      "metadata": {
        "id": "zj8vg3lU3wSZ"
      },
      "outputs": [],
      "source": [
        "!pip install numpy"
      ]
    },
    {
      "cell_type": "code",
      "source": [
        "!pip install pandas"
      ],
      "metadata": {
        "id": "2hpcowkpYp4M"
      },
      "execution_count": null,
      "outputs": []
    },
    {
      "cell_type": "code",
      "source": [
        "!pip install keras"
      ],
      "metadata": {
        "id": "jRGtczUw6W1t"
      },
      "execution_count": null,
      "outputs": []
    },
    {
      "cell_type": "code",
      "source": [
        "!pip install matplotlib"
      ],
      "metadata": {
        "id": "m8zkN7j_ZEAh"
      },
      "execution_count": null,
      "outputs": []
    },
    {
      "cell_type": "code",
      "source": [
        "!pip install sklearn"
      ],
      "metadata": {
        "id": "ypISN1iXaq8p"
      },
      "execution_count": null,
      "outputs": []
    },
    {
      "cell_type": "code",
      "source": [
        "!pip install tensorflow"
      ],
      "metadata": {
        "id": "foPkw2Ida580"
      },
      "execution_count": null,
      "outputs": []
    },
    {
      "cell_type": "code",
      "source": [
        "from google.colab import drive\n",
        "drive.mount('/content/driver')"
      ],
      "metadata": {
        "id": "0T5EDpN_a6Lk"
      },
      "execution_count": null,
      "outputs": []
    },
    {
      "cell_type": "code",
      "source": [
        "import pandas as pd\n",
        "import numpy as np\n",
        "import matplotlib.pyplot as plt\n",
        "\n",
        "data = pd.read_csv('/content/driver/My Drive/LSTM_Model/AAPL.csv')\n",
        "data= data[::-1] \n",
        "data.index.freg='Date'\n",
        "data"
      ],
      "metadata": {
        "id": "a5vjhe2xbGY5"
      },
      "execution_count": null,
      "outputs": []
    },
    {
      "cell_type": "code",
      "source": [
        "data.head()"
      ],
      "metadata": {
        "id": "D2b4cWBfj6dZ"
      },
      "execution_count": null,
      "outputs": []
    },
    {
      "cell_type": "code",
      "source": [
        "data.head(), data.tail()"
      ],
      "metadata": {
        "id": "wRXRD6i0tf98"
      },
      "execution_count": null,
      "outputs": []
    },
    {
      "cell_type": "code",
      "source": [
        "open_price = data.iloc[:,1:2]\n",
        "train_set = open_price[:1816].values\n",
        "test_set = open_price[1816:].values\n",
        "print(\"Train size: \",train_set.shape)\n",
        "print(\"Test size:\",test_set.shape)"
      ],
      "metadata": {
        "id": "z8HEFFbwnABu",
        "colab": {
          "base_uri": "https://localhost:8080/"
        },
        "outputId": "7939d841-ebf9-4d86-b3db-6eb419e0b477"
      },
      "execution_count": 30,
      "outputs": [
        {
          "output_type": "stream",
          "name": "stdout",
          "text": [
            "Train size:  (1816, 1)\n",
            "Test size: (202, 1)\n"
          ]
        }
      ]
    },
    {
      "cell_type": "code",
      "source": [
        "dates = pd.to_datetime(data['Date'])\n",
        "plt.plot_date(dates,open_price,fmt='-')\n",
        "plt.savefig(\"Bitcoin.jpg\")"
      ],
      "metadata": {
        "id": "FRSyLJwokusV",
        "colab": {
          "base_uri": "https://localhost:8080/",
          "height": 265
        },
        "outputId": "c3a2ebfb-f283-4dd7-ec82-ea093855ad13"
      },
      "execution_count": 31,
      "outputs": [
        {
          "output_type": "display_data",
          "data": {
            "image/png": "[encoded data removed]",
            "text/plain": [
              "<Figure size 432x288 with 1 Axes>"
            ]
          },
          "metadata": {
            "needs_background": "light"
          }
        }
      ]
    },
    {
      "cell_type": "code",
      "source": [
        "len(data)"
      ],
      "metadata": {
        "colab": {
          "base_uri": "https://localhost:8080/"
        },
        "id": "FXsrX6O2p8uZ",
        "outputId": "6f0b9bf5-780d-42e5-fbe2-0a9c842908f8"
      },
      "execution_count": 32,
      "outputs": [
        {
          "output_type": "execute_result",
          "data": {
            "text/plain": [
              "2018"
            ]
          },
          "metadata": {},
          "execution_count": 32
        }
      ]
    },
    {
      "cell_type": "code",
      "source": [
        "from keras.preprocessing.sequence import TimeseriesGenerator"
      ],
      "metadata": {
        "id": "ileV2T7suhj5"
      },
      "execution_count": 33,
      "outputs": []
    },
    {
      "cell_type": "code",
      "source": [
        "def get_data(train,test,time_step,num_predict,date):\n",
        "  x_train= list()\n",
        "  y_train = list()\n",
        "  x_test = list()\n",
        "  y_test = list()\n",
        "  date_test= list()\n",
        "\n",
        "  for i in range(0,len(train) - time_step - num_predict):\n",
        "    x_train.append(train[i:i+time_step])\n",
        "    y_train.append(train[i+time_step:i+time_step+num_predict])\n",
        "\n",
        "  for i in range(0, len(test) - time_step - num_predict):\n",
        "    x_test.append(test[i:i+time_step])\n",
        "    y_test.append(test[i+time_step:i+time_step+num_predict])\n",
        "    date_test.append(date[i+time_step:i+time_step+num_predict])\n",
        "  \n",
        "  return np.asarray(x_train), np.asarray(y_train), np.asarray(x_test), np.asarray(y_test), np.asarray(date_test)"
      ],
      "metadata": {
        "id": "nFxtxue9bGu9"
      },
      "execution_count": 35,
      "outputs": []
    },
    {
      "cell_type": "code",
      "source": [
        "from sklearn.preprocessing import MinMaxScaler\n",
        "x_train, y_train, x_test, y_test, date_test = get_data(train_set,test_set,30,1, dates)\n",
        "\n",
        "# dua ve 0->1 cho tap train\n",
        "scaler = MinMaxScaler()\n",
        "x_train = x_train.reshape(-1,30)\n",
        "y_train = x_train.reshape(-1,1)\n",
        "\n",
        "x_train = scaler.fit_transform(train_set)\n",
        "y_train = scaler.fit_transform(train_set)\n",
        "\n",
        "# dua ve 0->1 cho tap test\n",
        "#x_test = x_test.reshape(-1,30)\n",
        "x_test = x_test.reshape(-1)\n",
        "y_test = y_test.reshape(-1,1)\n",
        "\n",
        "x_test = scaler.fit_transform(test_set)\n",
        "y_test = scaler.fit_transform(test_set)\n",
        "\n",
        "date_test = date_test.reshape(-1,1)"
      ],
      "metadata": {
        "id": "E8AXxqhVfDi3"
      },
      "execution_count": 36,
      "outputs": []
    },
    {
      "cell_type": "code",
      "source": [
        "from keras import Sequential\n",
        "from keras.layers import LSTM\n",
        "from keras.layers import Dropout,Dense\n",
        "#dau vao 30 doan 1\n",
        "n_input = 202\n",
        "n_features = 1\n",
        "\n",
        "model = Sequential()\n",
        "model.add(LSTM(units=50,activation='relu', input_shape=(n_input, n_features), return_sequences=True))\n",
        "model.add(Dropout(0.3))\n",
        "\n",
        "model.add(LSTM(units=50, return_sequences=True))\n",
        "model.add(Dropout(0.3))\n",
        "\n",
        "model.add(LSTM(units=50))\n",
        "model.add(Dropout(0.3))\n",
        "model.add(Dense(1))\n"
      ],
      "metadata": {
        "id": "QZp7Ta8rfQOu"
      },
      "execution_count": 38,
      "outputs": []
    },
    {
      "cell_type": "code",
      "source": [
        "model.compile(optimizer='adam', loss='mse')"
      ],
      "metadata": {
        "id": "ebwmvH2cfQRy"
      },
      "execution_count": 39,
      "outputs": []
    },
    {
      "cell_type": "code",
      "source": [
        "model.summary()"
      ],
      "metadata": {
        "colab": {
          "base_uri": "https://localhost:8080/"
        },
        "id": "dQ3m1WfnykU7",
        "outputId": "5afb6a65-e7f4-4e75-e843-a2bc356982ab"
      },
      "execution_count": 40,
      "outputs": [
        {
          "output_type": "stream",
          "name": "stdout",
          "text": [
            "Model: \"sequential_2\"\n",
            "_________________________________________________________________\n",
            " Layer (type)                Output Shape              Param #   \n",
            "=================================================================\n",
            " lstm_6 (LSTM)               (None, 202, 50)           10400     \n",
            "                                                                 \n",
            " dropout_6 (Dropout)         (None, 202, 50)           0         \n",
            "                                                                 \n",
            " lstm_7 (LSTM)               (None, 202, 50)           20200     \n",
            "                                                                 \n",
            " dropout_7 (Dropout)         (None, 202, 50)           0         \n",
            "                                                                 \n",
            " lstm_8 (LSTM)               (None, 50)                20200     \n",
            "                                                                 \n",
            " dropout_8 (Dropout)         (None, 50)                0         \n",
            "                                                                 \n",
            " dense_2 (Dense)             (None, 1)                 51        \n",
            "                                                                 \n",
            "=================================================================\n",
            "Total params: 50,851\n",
            "Trainable params: 50,851\n",
            "Non-trainable params: 0\n",
            "_________________________________________________________________\n"
          ]
        }
      ]
    },
    {
      "cell_type": "code",
      "source": [
        "model.fit(x_train, y_train, epochs=20, validation_split=0.2, verbose=1, batch_size=30)\n",
        "model.save('/content/driver/My Drive/LSTM_Model/lstm_test')"
      ],
      "metadata": {
        "id": "oDHhWqHYg4WW",
        "colab": {
          "base_uri": "https://localhost:8080/"
        },
        "outputId": "b2ca65d8-218f-4556-a306-a00766d4984c"
      },
      "execution_count": 41,
      "outputs": [
        {
          "output_type": "stream",
          "name": "stdout",
          "text": [
            "Epoch 1/20\n",
            "WARNING:tensorflow:Model was constructed with shape (None, 202, 1) for input KerasTensor(type_spec=TensorSpec(shape=(None, 202, 1), dtype=tf.float32, name='lstm_6_input'), name='lstm_6_input', description=\"created by layer 'lstm_6_input'\"), but it was called on an input with incompatible shape (None, 1, 1).\n",
            "WARNING:tensorflow:Model was constructed with shape (None, 202, 1) for input KerasTensor(type_spec=TensorSpec(shape=(None, 202, 1), dtype=tf.float32, name='lstm_6_input'), name='lstm_6_input', description=\"created by layer 'lstm_6_input'\"), but it was called on an input with incompatible shape (None, 1, 1).\n",
            "45/49 [==========================>...] - ETA: 0s - loss: 0.1018WARNING:tensorflow:Model was constructed with shape (None, 202, 1) for input KerasTensor(type_spec=TensorSpec(shape=(None, 202, 1), dtype=tf.float32, name='lstm_6_input'), name='lstm_6_input', description=\"created by layer 'lstm_6_input'\"), but it was called on an input with incompatible shape (None, 1, 1).\n",
            "49/49 [==============================] - 7s 28ms/step - loss: 0.0969 - val_loss: 0.0717\n",
            "Epoch 2/20\n",
            "49/49 [==============================] - 0s 7ms/step - loss: 0.0274 - val_loss: 0.0676\n",
            "Epoch 3/20\n",
            "49/49 [==============================] - 0s 7ms/step - loss: 0.0172 - val_loss: 0.0354\n",
            "Epoch 4/20\n",
            "49/49 [==============================] - 0s 7ms/step - loss: 0.0081 - val_loss: 0.0115\n",
            "Epoch 5/20\n",
            "49/49 [==============================] - 0s 7ms/step - loss: 0.0059 - val_loss: 0.0131\n",
            "Epoch 6/20\n",
            "49/49 [==============================] - 0s 8ms/step - loss: 0.0049 - val_loss: 0.0129\n",
            "Epoch 7/20\n",
            "49/49 [==============================] - 0s 9ms/step - loss: 0.0049 - val_loss: 0.0177\n",
            "Epoch 8/20\n",
            "49/49 [==============================] - 0s 8ms/step - loss: 0.0047 - val_loss: 0.0196\n",
            "Epoch 9/20\n",
            "49/49 [==============================] - 0s 7ms/step - loss: 0.0042 - val_loss: 0.0169\n",
            "Epoch 10/20\n",
            "49/49 [==============================] - 0s 7ms/step - loss: 0.0040 - val_loss: 0.0173\n",
            "Epoch 11/20\n",
            "49/49 [==============================] - 0s 7ms/step - loss: 0.0037 - val_loss: 0.0158\n",
            "Epoch 12/20\n",
            "49/49 [==============================] - 0s 8ms/step - loss: 0.0039 - val_loss: 0.0151\n",
            "Epoch 13/20\n",
            "49/49 [==============================] - 0s 7ms/step - loss: 0.0036 - val_loss: 0.0167\n",
            "Epoch 14/20\n",
            "49/49 [==============================] - 0s 7ms/step - loss: 0.0033 - val_loss: 0.0143\n",
            "Epoch 15/20\n",
            "49/49 [==============================] - 0s 7ms/step - loss: 0.0038 - val_loss: 0.0185\n",
            "Epoch 16/20\n",
            "49/49 [==============================] - 0s 8ms/step - loss: 0.0031 - val_loss: 0.0144\n",
            "Epoch 17/20\n",
            "49/49 [==============================] - 0s 8ms/step - loss: 0.0033 - val_loss: 0.0160\n",
            "Epoch 18/20\n",
            "49/49 [==============================] - 0s 8ms/step - loss: 0.0030 - val_loss: 0.0148\n",
            "Epoch 19/20\n",
            "49/49 [==============================] - 0s 8ms/step - loss: 0.0034 - val_loss: 0.0156\n",
            "Epoch 20/20\n",
            "49/49 [==============================] - 0s 7ms/step - loss: 0.0031 - val_loss: 0.0148\n"
          ]
        },
        {
          "output_type": "stream",
          "name": "stderr",
          "text": [
            "WARNING:absl:Found untraced functions such as lstm_cell_7_layer_call_fn, lstm_cell_7_layer_call_and_return_conditional_losses, lstm_cell_8_layer_call_fn, lstm_cell_8_layer_call_and_return_conditional_losses, lstm_cell_7_layer_call_fn while saving (showing 5 of 10). These functions will not be directly callable after loading.\n"
          ]
        },
        {
          "output_type": "stream",
          "name": "stdout",
          "text": [
            "INFO:tensorflow:Assets written to: /content/driver/My Drive/LSTM_Model/lstm_test/assets\n"
          ]
        },
        {
          "output_type": "stream",
          "name": "stderr",
          "text": [
            "INFO:tensorflow:Assets written to: /content/driver/My Drive/LSTM_Model/lstm_test/assets\n",
            "WARNING:absl:<keras.layers.recurrent.LSTMCell object at 0x7f2a57487a50> has the same name 'LSTMCell' as a built-in Keras object. Consider renaming <class 'keras.layers.recurrent.LSTMCell'> to avoid naming conflicts when loading with `tf.keras.models.load_model`. If renaming is not possible, pass the object in the `custom_objects` parameter of the load function.\n",
            "WARNING:absl:<keras.layers.recurrent.LSTMCell object at 0x7f2a57533550> has the same name 'LSTMCell' as a built-in Keras object. Consider renaming <class 'keras.layers.recurrent.LSTMCell'> to avoid naming conflicts when loading with `tf.keras.models.load_model`. If renaming is not possible, pass the object in the `custom_objects` parameter of the load function.\n",
            "WARNING:absl:<keras.layers.recurrent.LSTMCell object at 0x7f2a57533a10> has the same name 'LSTMCell' as a built-in Keras object. Consider renaming <class 'keras.layers.recurrent.LSTMCell'> to avoid naming conflicts when loading with `tf.keras.models.load_model`. If renaming is not possible, pass the object in the `custom_objects` parameter of the load function.\n"
          ]
        }
      ]
    },
    {
      "cell_type": "code",
      "source": [
        "import matplotlib.pyplot as plt\n",
        "import keras\n",
        "model = keras.models.load_model('/content/driver/My Drive/LSTM_Model/lstm_test')\n",
        "\n",
        "test_output = model.predict(x_test)\n",
        "\n",
        "# print(test_output)\n",
        "test_1 = scaler.inverse_transform(test_output)\n",
        "test_2 = scaler.inverse_transform(y_test)\n",
        "plt.plot(test_1[:202], color='r')\n",
        "plt.plot(test_2[:202] ,color='b')\n",
        "plt.title(\"BITCOIN\")\n",
        "#plt.xlabel(\"STT\")\n",
        "plt.ylabel(\"Price\")\n",
        "plt.legend(('prediction', 'reality'),loc='upper right')\n",
        "plt.show()"
      ],
      "metadata": {
        "colab": {
          "base_uri": "https://localhost:8080/",
          "height": 336
        },
        "id": "y8LCBONtg4gK",
        "outputId": "5862aee2-2abb-461e-d5c7-552b1ef26774"
      },
      "execution_count": 45,
      "outputs": [
        {
          "output_type": "stream",
          "name": "stdout",
          "text": [
            "WARNING:tensorflow:Model was constructed with shape (None, 202, 1) for input KerasTensor(type_spec=TensorSpec(shape=(None, 202, 1), dtype=tf.float32, name='lstm_6_input'), name='lstm_6_input', description=\"created by layer 'lstm_6_input'\"), but it was called on an input with incompatible shape (None, 1, 1).\n"
          ]
        },
        {
          "output_type": "stream",
          "name": "stderr",
          "text": [
            "WARNING:tensorflow:Model was constructed with shape (None, 202, 1) for input KerasTensor(type_spec=TensorSpec(shape=(None, 202, 1), dtype=tf.float32, name='lstm_6_input'), name='lstm_6_input', description=\"created by layer 'lstm_6_input'\"), but it was called on an input with incompatible shape (None, 1, 1).\n"
          ]
        },
        {
          "output_type": "display_data",
          "data": {
            "image/png": "[encoded data removed]",
            "text/plain": [
              "<Figure size 432x288 with 1 Axes>"
            ]
          },
          "metadata": {
            "needs_background": "light"
          }
        }
      ]
    },
    {
      "cell_type": "code",
      "source": [
        "test_1 = scaler.inverse_transform(test_output)\n",
        "test_2 = scaler.inverse_transform(y_test)\n",
        "print(test_1)\n",
        "print(test_2)"
      ],
      "metadata": {
        "id": "rt3l049FiwEo",
        "colab": {
          "base_uri": "https://localhost:8080/"
        },
        "outputId": "9cd49b3d-67ba-47a5-e03e-3a6963c85182"
      },
      "execution_count": 44,
      "outputs": [
        {
          "output_type": "stream",
          "name": "stdout",
          "text": [
            "[[89.983475]\n",
            " [91.215126]\n",
            " [89.401405]\n",
            " [88.95677 ]\n",
            " [88.638435]\n",
            " [90.87919 ]\n",
            " [89.95155 ]\n",
            " [89.802505]\n",
            " [90.912285]\n",
            " [93.278175]\n",
            " [94.09132 ]\n",
            " [93.29644 ]\n",
            " [92.9072  ]\n",
            " [94.12375 ]\n",
            " [95.060844]\n",
            " [93.18552 ]\n",
            " [93.75101 ]\n",
            " [96.24663 ]\n",
            " [96.10749 ]\n",
            " [98.0891  ]\n",
            " [97.66287 ]\n",
            " [97.824005]\n",
            " [97.7548  ]\n",
            " [97.68302 ]\n",
            " [96.49768 ]\n",
            " [94.88168 ]\n",
            " [93.51934 ]\n",
            " [93.3134  ]\n",
            " [95.27962 ]\n",
            " [94.97065 ]\n",
            " [94.3609  ]\n",
            " [94.628654]\n",
            " [93.38121 ]\n",
            " [93.57404 ]\n",
            " [94.01216 ]\n",
            " [94.60927 ]\n",
            " [94.551094]\n",
            " [95.22045 ]\n",
            " [92.59431 ]\n",
            " [93.42554 ]\n",
            " [91.90482 ]\n",
            " [94.03812 ]\n",
            " [91.31024 ]\n",
            " [89.983475]\n",
            " [88.80034 ]\n",
            " [88.823074]\n",
            " [88.91667 ]\n",
            " [87.748   ]\n",
            " [87.13329 ]\n",
            " [87.01746 ]\n",
            " [87.179085]\n",
            " [87.64319 ]\n",
            " [86.91775 ]\n",
            " [86.49831 ]\n",
            " [85.01014 ]\n",
            " [86.7452  ]\n",
            " [85.01556 ]\n",
            " [83.37973 ]\n",
            " [81.227585]\n",
            " [81.855705]\n",
            " [81.1825  ]\n",
            " [85.61975 ]\n",
            " [83.923904]\n",
            " [86.49291 ]\n",
            " [86.13097 ]\n",
            " [85.51958 ]\n",
            " [86.07961 ]\n",
            " [85.30832 ]\n",
            " [85.00878 ]\n",
            " [84.64795 ]\n",
            " [85.43427 ]\n",
            " [87.037674]\n",
            " [85.32999 ]\n",
            " [85.585915]\n",
            " [84.63573 ]\n",
            " [83.923904]\n",
            " [82.52553 ]\n",
            " [81.60725 ]\n",
            " [80.7671  ]\n",
            " [81.19753 ]\n",
            " [80.69603 ]\n",
            " [81.51167 ]\n",
            " [81.73558 ]\n",
            " [82.66321 ]\n",
            " [82.97255 ]\n",
            " [82.346886]\n",
            " [80.645454]\n",
            " [80.65092 ]\n",
            " [80.68372 ]\n",
            " [81.12922 ]\n",
            " [81.157906]\n",
            " [82.92214 ]\n",
            " [80.66733 ]\n",
            " [81.5103  ]\n",
            " [80.22573 ]\n",
            " [79.28052 ]\n",
            " [79.35168 ]\n",
            " [80.3775  ]\n",
            " [82.01674 ]\n",
            " [80.40485 ]\n",
            " [80.63725 ]\n",
            " [79.77713 ]\n",
            " [81.33412 ]\n",
            " [78.78106 ]\n",
            " [80.50055 ]\n",
            " [75.692894]\n",
            " [75.57395 ]\n",
            " [77.13603 ]\n",
            " [78.33217 ]\n",
            " [79.342094]\n",
            " [79.51448 ]\n",
            " [79.8551  ]\n",
            " [81.22348 ]\n",
            " [79.65402 ]\n",
            " [80.50602 ]\n",
            " [79.35168 ]\n",
            " [81.476166]\n",
            " [83.34297 ]\n",
            " [81.945786]\n",
            " [82.548706]\n",
            " [84.32343 ]\n",
            " [85.28122 ]\n",
            " [86.56579 ]\n",
            " [86.76676 ]\n",
            " [79.54457 ]\n",
            " [80.62358 ]\n",
            " [83.49134 ]\n",
            " [84.62487 ]\n",
            " [86.48211 ]\n",
            " [81.73832 ]\n",
            " [85.957954]\n",
            " [87.85814 ]\n",
            " [88.009834]\n",
            " [89.450745]\n",
            " [89.983475]\n",
            " [88.13864 ]\n",
            " [88.25933 ]\n",
            " [87.94004 ]\n",
            " [88.2875  ]\n",
            " [84.86503 ]\n",
            " [85.80919 ]\n",
            " [86.295784]\n",
            " [87.12522 ]\n",
            " [85.4749  ]\n",
            " [84.6018  ]\n",
            " [84.669655]\n",
            " [84.33974 ]\n",
            " [85.00201 ]\n",
            " [84.51084 ]\n",
            " [84.40764 ]\n",
            " [82.50098 ]\n",
            " [84.60315 ]\n",
            " [81.62227 ]\n",
            " [78.80979 ]\n",
            " [77.64102 ]\n",
            " [77.01151 ]\n",
            " [75.706566]\n",
            " [75.96637 ]\n",
            " [74.175125]\n",
            " [77.188034]\n",
            " [77.01972 ]\n",
            " [77.52742 ]\n",
            " [76.62157 ]\n",
            " [74.76634 ]\n",
            " [73.85582 ]\n",
            " [73.64441 ]\n",
            " [73.0065  ]\n",
            " [72.7314  ]\n",
            " [71.92871 ]\n",
            " [71.40431 ]\n",
            " [69.7798  ]\n",
            " [72.92341 ]\n",
            " [71.59443 ]\n",
            " [70.92125 ]\n",
            " [69.76087 ]\n",
            " [68.38227 ]\n",
            " [67.000725]\n",
            " [66.374725]\n",
            " [66.001526]\n",
            " [65.98902 ]\n",
            " [65.98532 ]\n",
            " [66.00281 ]\n",
            " [65.98532 ]\n",
            " [65.98532 ]\n",
            " [65.98532 ]\n",
            " [65.98532 ]\n",
            " [65.98532 ]\n",
            " [65.98532 ]\n",
            " [65.98532 ]\n",
            " [65.98532 ]\n",
            " [65.98532 ]\n",
            " [65.98532 ]\n",
            " [65.98532 ]\n",
            " [65.98532 ]\n",
            " [65.98532 ]\n",
            " [65.98532 ]\n",
            " [65.98532 ]\n",
            " [65.98532 ]\n",
            " [65.98532 ]\n",
            " [65.98532 ]\n",
            " [65.98532 ]\n",
            " [65.98532 ]]\n",
            "[[ 91.428574]\n",
            " [ 92.755714]\n",
            " [ 90.804283]\n",
            " [ 90.328568]\n",
            " [ 89.988571]\n",
            " [ 92.39286 ]\n",
            " [ 91.394287]\n",
            " [ 91.234283]\n",
            " [ 92.428574]\n",
            " [ 95.      ]\n",
            " [ 95.89286 ]\n",
            " [ 95.019997]\n",
            " [ 94.594284]\n",
            " [ 95.928574]\n",
            " [ 96.964287]\n",
            " [ 94.898567]\n",
            " [ 95.51857 ]\n",
            " [ 98.285713]\n",
            " [ 98.129997]\n",
            " [100.365715]\n",
            " [ 99.881432]\n",
            " [100.064285]\n",
            " [ 99.985718]\n",
            " [ 99.904282]\n",
            " [ 98.567139]\n",
            " [ 96.765717]\n",
            " [ 95.264282]\n",
            " [ 95.038574]\n",
            " [ 97.207146]\n",
            " [ 96.864288]\n",
            " [ 96.190002]\n",
            " [ 96.485718]\n",
            " [ 95.112854]\n",
            " [ 95.324287]\n",
            " [ 95.805717]\n",
            " [ 96.464287]\n",
            " [ 96.400002]\n",
            " [ 97.141426]\n",
            " [ 94.252853]\n",
            " [ 95.16143 ]\n",
            " [ 93.502853]\n",
            " [ 95.834282]\n",
            " [ 92.858574]\n",
            " [ 91.428574]\n",
            " [ 90.16143 ]\n",
            " [ 90.185715]\n",
            " [ 90.285713]\n",
            " [ 89.040001]\n",
            " [ 88.387138]\n",
            " [ 88.264282]\n",
            " [ 88.435715]\n",
            " [ 88.928574]\n",
            " [ 88.158569]\n",
            " [ 87.714287]\n",
            " [ 86.14286 ]\n",
            " [ 87.975716]\n",
            " [ 86.148567]\n",
            " [ 84.428574]\n",
            " [ 82.174286]\n",
            " [ 82.831429]\n",
            " [ 82.127144]\n",
            " [ 86.785713]\n",
            " [ 85.      ]\n",
            " [ 87.708572]\n",
            " [ 87.325714]\n",
            " [ 86.68    ]\n",
            " [ 87.271431]\n",
            " [ 86.457146]\n",
            " [ 86.141426]\n",
            " [ 85.761429]\n",
            " [ 86.589996]\n",
            " [ 88.285713]\n",
            " [ 86.480003]\n",
            " [ 86.75    ]\n",
            " [ 85.748573]\n",
            " [ 85.      ]\n",
            " [ 83.53286 ]\n",
            " [ 82.571426]\n",
            " [ 81.692856]\n",
            " [ 82.14286 ]\n",
            " [ 81.618568]\n",
            " [ 82.471428]\n",
            " [ 82.705711]\n",
            " [ 83.677139]\n",
            " [ 84.001427]\n",
            " [ 83.345711]\n",
            " [ 81.565712]\n",
            " [ 81.571426]\n",
            " [ 81.605713]\n",
            " [ 82.071426]\n",
            " [ 82.101425]\n",
            " [ 83.94857 ]\n",
            " [ 81.58857 ]\n",
            " [ 82.470001]\n",
            " [ 81.127144]\n",
            " [ 80.139999]\n",
            " [ 80.214287]\n",
            " [ 81.285713]\n",
            " [ 83.      ]\n",
            " [ 81.314285]\n",
            " [ 81.557144]\n",
            " [ 80.658569]\n",
            " [ 82.285713]\n",
            " [ 79.618568]\n",
            " [ 81.414284]\n",
            " [ 76.394287]\n",
            " [ 76.269997]\n",
            " [ 77.901428]\n",
            " [ 79.150002]\n",
            " [ 80.204285]\n",
            " [ 80.384285]\n",
            " [ 80.739998]\n",
            " [ 82.169998]\n",
            " [ 80.529999]\n",
            " [ 81.419998]\n",
            " [ 80.214287]\n",
            " [ 82.434288]\n",
            " [ 84.389999]\n",
            " [ 82.925713]\n",
            " [ 83.557144]\n",
            " [ 85.419998]\n",
            " [ 86.428574]\n",
            " [ 87.785713]\n",
            " [ 87.998573]\n",
            " [ 80.41571 ]\n",
            " [ 81.542854]\n",
            " [ 84.545715]\n",
            " [ 85.737144]\n",
            " [ 87.697144]\n",
            " [ 82.708572]\n",
            " [ 87.14286 ]\n",
            " [ 89.157143]\n",
            " [ 89.318573]\n",
            " [ 90.85714 ]\n",
            " [ 91.428574]\n",
            " [ 89.455711]\n",
            " [ 89.584282]\n",
            " [ 89.244286]\n",
            " [ 89.614288]\n",
            " [ 85.989998]\n",
            " [ 86.985718]\n",
            " [ 87.5     ]\n",
            " [ 88.378571]\n",
            " [ 86.632858]\n",
            " [ 85.71286 ]\n",
            " [ 85.784286]\n",
            " [ 85.437141]\n",
            " [ 86.134285]\n",
            " [ 85.617142]\n",
            " [ 85.508568]\n",
            " [ 83.507141]\n",
            " [ 85.714287]\n",
            " [ 82.587143]\n",
            " [ 79.648567]\n",
            " [ 78.428574]\n",
            " [ 77.771431]\n",
            " [ 76.408569]\n",
            " [ 76.68    ]\n",
            " [ 74.807144]\n",
            " [ 77.955711]\n",
            " [ 77.779999]\n",
            " [ 78.309998]\n",
            " [ 77.364288]\n",
            " [ 75.425713]\n",
            " [ 74.472855]\n",
            " [ 74.251427]\n",
            " [ 73.582855]\n",
            " [ 73.294289]\n",
            " [ 72.451431]\n",
            " [ 71.900002]\n",
            " [ 70.187141]\n",
            " [ 73.495712]\n",
            " [ 72.099998]\n",
            " [ 71.391426]\n",
            " [ 70.167145]\n",
            " [ 68.707146]\n",
            " [ 67.237144]\n",
            " [ 66.494286]\n",
            " [ 65.482857]\n",
            " [ 65.328568]\n",
            " [ 65.144287]\n",
            " [ 65.498573]\n",
            " [ 65.120003]\n",
            " [ 63.689999]\n",
            " [ 63.477142]\n",
            " [ 64.064285]\n",
            " [ 64.894287]\n",
            " [ 60.714287]\n",
            " [ 60.424286]\n",
            " [ 61.07    ]\n",
            " [ 61.432858]\n",
            " [ 60.998569]\n",
            " [ 60.599998]\n",
            " [ 59.932858]\n",
            " [ 60.344284]\n",
            " [ 60.341427]\n",
            " [ 60.857143]\n",
            " [ 60.78857 ]\n",
            " [ 59.96714 ]\n",
            " [ 59.278572]\n",
            " [ 58.599998]\n",
            " [ 58.5     ]]\n"
          ]
        }
      ]
    }
  ]
}