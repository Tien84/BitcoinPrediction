{
  "nbformat": 4,
  "nbformat_minor": 0,
  "metadata": {
    "colab": {
      "name": "demolstm.ipynb",
      "provenance": [],
      "collapsed_sections": [],
      "authorship_tag": "ABX9TyOWPOpga9IJntlwzVm2TxcU",
      "include_colab_link": true
    },
    "kernelspec": {
      "name": "python3",
      "display_name": "Python 3"
    },
    "language_info": {
      "name": "python"
    }
  },
  "cells": [
    {
      "cell_type": "markdown",
      "metadata": {
        "id": "view-in-github",
        "colab_type": "text"
      },
      "source": [
        "<a href=\"https://colab.research.google.com/github/Tien84/Face-Detection/blob/master/demolstm.ipynb\" target=\"_parent\"><img src=\"https://colab.research.google.com/assets/colab-badge.svg\" alt=\"Open In Colab\"/></a>"
      ]
    },
    {
      "cell_type": "code",
      "execution_count": null,
      "metadata": {
        "id": "zj8vg3lU3wSZ"
      },
      "outputs": [],
      "source": [
        "!pip install numpy"
      ]
    },
    {
      "cell_type": "code",
      "source": [
        "!pip install pandas"
      ],
      "metadata": {
        "id": "2hpcowkpYp4M"
      },
      "execution_count": null,
      "outputs": []
    },
    {
      "cell_type": "code",
      "source": [
        "!pip install keras"
      ],
      "metadata": {
        "id": "jRGtczUw6W1t"
      },
      "execution_count": null,
      "outputs": []
    },
    {
      "cell_type": "code",
      "source": [
        "!pip install matplotlib"
      ],
      "metadata": {
        "id": "m8zkN7j_ZEAh"
      },
      "execution_count": null,
      "outputs": []
    },
    {
      "cell_type": "code",
      "source": [
        "!pip install sklearn"
      ],
      "metadata": {
        "id": "ypISN1iXaq8p"
      },
      "execution_count": null,
      "outputs": []
    },
    {
      "cell_type": "code",
      "source": [
        "!pip install tensorflow"
      ],
      "metadata": {
        "id": "foPkw2Ida580"
      },
      "execution_count": null,
      "outputs": []
    },
    {
      "cell_type": "code",
      "source": [
        "from google.colab import drive\n",
        "drive.mount('/content/driver')"
      ],
      "metadata": {
        "id": "0T5EDpN_a6Lk",
        "colab": {
          "base_uri": "https://localhost:8080/"
        },
        "outputId": "c5132ce9-6f88-4a38-be35-dc3b31b8b0b6"
      },
      "execution_count": 7,
      "outputs": [
        {
          "output_type": "stream",
          "name": "stdout",
          "text": [
            "Mounted at /content/driver\n"
          ]
        }
      ]
    },
    {
      "cell_type": "code",
      "source": [
        "import pandas as pd\n",
        "import numpy as np\n",
        "import matplotlib.pyplot as plt\n",
        "\n",
        "data = pd.read_csv('/content/driver/My Drive/LSTM_Model/AAPL.csv')\n",
        "#data= data[::-1] \n",
        "data.index.freg='Date'\n",
        "data"
      ],
      "metadata": {
        "id": "a5vjhe2xbGY5"
      },
      "execution_count": null,
      "outputs": []
    },
    {
      "cell_type": "code",
      "source": [
        "data.head(), data.tail()"
      ],
      "metadata": {
        "id": "wRXRD6i0tf98"
      },
      "execution_count": null,
      "outputs": []
    },
    {
      "cell_type": "code",
      "source": [
        "open_price = data.iloc[:,1:2]\n",
        "train_set = open_price[:2018].values\n",
        "test_set = open_price[2018:].values\n",
        "print(\"Train size: \",train_set.shape)\n",
        "print(\"Test size:\",test_set.shape)"
      ],
      "metadata": {
        "id": "z8HEFFbwnABu",
        "colab": {
          "base_uri": "https://localhost:8080/"
        },
        "outputId": "9413a098-db72-4aad-be39-d132e5a18479"
      },
      "execution_count": 20,
      "outputs": [
        {
          "output_type": "stream",
          "name": "stdout",
          "text": [
            "Train size:  (2018, 1)\n",
            "Test size: (0, 1)\n"
          ]
        }
      ]
    },
    {
      "cell_type": "code",
      "source": [
        "dates = pd.to_datetime(data['Date'])\n",
        "plt.plot_date(dates,open_price,fmt='-')\n",
        "plt.savefig(\"Bitcoin.jpg\")"
      ],
      "metadata": {
        "id": "FRSyLJwokusV",
        "colab": {
          "base_uri": "https://localhost:8080/",
          "height": 265
        },
        "outputId": "4b262cf0-9b0a-40fa-e28c-7f1ea26611ed"
      },
      "execution_count": 11,
      "outputs": [
        {
          "output_type": "display_data",
          "data": {
            "image/png": "[encoded data removed]",
            "text/plain": [
              "<Figure size 432x288 with 1 Axes>"
            ]
          },
          "metadata": {
            "needs_background": "light"
          }
        }
      ]
    },
    {
      "cell_type": "code",
      "source": [
        "len(data)"
      ],
      "metadata": {
        "id": "FXsrX6O2p8uZ",
        "colab": {
          "base_uri": "https://localhost:8080/"
        },
        "outputId": "0e8037cf-a9e4-401f-e216-7ba975a7db55"
      },
      "execution_count": 12,
      "outputs": [
        {
          "output_type": "execute_result",
          "data": {
            "text/plain": [
              "2018"
            ]
          },
          "metadata": {},
          "execution_count": 12
        }
      ]
    },
    {
      "cell_type": "code",
      "source": [
        "import numpy as np\n",
        "import pandas as pd\n",
        "import matplotlib.pyplot as plt\n",
        "%matplotlib inline\n",
        "from sklearn.preprocessing import MinMaxScaler\n",
        "from keras.preprocessing.sequence import TimeseriesGenerator\n",
        "from keras.models import Sequential\n",
        "from keras.layers import Dense\n",
        "from keras.layers import LSTM\n",
        "from keras.layers import Dropout\n",
        "from tensorflow import keras\n",
        "import warnings\n",
        "warnings.filterwarnings(\"ignore\")"
      ],
      "metadata": {
        "id": "Z-1uvn8YbMUv"
      },
      "execution_count": 21,
      "outputs": []
    },
    {
      "cell_type": "code",
      "source": [
        "#Import dataset\n",
        "\n",
        "#data_end = int(np.floor(1*(data.shape[0])))\n",
        "data_end = 2018\n",
        "#train = data[0:data_end]['Adj Close']\n",
        "train = data[0:data_end]['Adj Close']\n",
        "train =train.values.reshape(-1)\n",
        "#test = data[data_end:]['Adj Close'].values.reshape(-1)\n",
        "test = data[data_end:]['Adj Close'].values.reshape(-1)\n",
        "date_test = data[data_end:]['Date'].values.reshape(-1)\n",
        "print(\"Train size: \",train.shape)\n",
        "print(\"Test size:\",test.shape)"
      ],
      "metadata": {
        "colab": {
          "base_uri": "https://localhost:8080/"
        },
        "id": "sLQj38QCbxbj",
        "outputId": "5208f098-d5b3-4b65-8553-f1718ebfc8bb"
      },
      "execution_count": 34,
      "outputs": [
        {
          "output_type": "stream",
          "name": "stdout",
          "text": [
            "Train size:  (2018,)\n",
            "Test size: (0,)\n"
          ]
        }
      ]
    },
    {
      "cell_type": "code",
      "source": [
        "def get_data(train,test,time_step,num_predict,date):\n",
        "  x_train= list()\n",
        "  y_train = list()\n",
        "  x_test = list()\n",
        "  y_test = list()\n",
        "  date_test= list()\n",
        "\n",
        "  for i in range(0,len(train) - time_step - num_predict):\n",
        "    x_train.append(train[i:i+time_step])\n",
        "    y_train.append(train[i+time_step:i+time_step+num_predict])\n",
        "\n",
        "  for i in range(0, len(test) - time_step - num_predict):\n",
        "    x_test.append(test[i:i+time_step])\n",
        "    y_test.append(test[i+time_step:i+time_step+num_predict])\n",
        "    date_test.append(date[i+time_step:i+time_step+num_predict])\n",
        "  \n",
        "  return np.asarray(x_train), np.asarray(y_train), np.asarray(x_test), np.asarray(y_test), np.asarray(date_test)"
      ],
      "metadata": {
        "id": "nFxtxue9bGu9"
      },
      "execution_count": 35,
      "outputs": []
    },
    {
      "cell_type": "code",
      "source": [
        "from sklearn.preprocessing import MinMaxScaler\n",
        "x_train, y_train, x_test, y_test, date_test = get_data(train_set,test_set,30,1, dates)\n",
        "\n",
        "# dua ve 0->1 cho tap train\n",
        "scaler = MinMaxScaler()\n",
        "x_train = x_train.reshape(-1,30)\n",
        "y_train = x_train.reshape(-1,1)\n",
        "\n",
        "x_train = scaler.fit_transform(train_set)\n",
        "y_train = scaler.fit_transform(train_set)\n",
        "\n",
        "# dua ve 0->1 cho tap test\n",
        "#x_test = x_test.reshape(-1,30)\n",
        "x_test = x_test.reshape(-1,1)\n",
        "y_test = y_test.reshape(-1,1)\n",
        "\n",
        "x_test = scaler.fit_transform(test_set)\n",
        "y_test = scaler.fit_transform(test_set)\n",
        "\n",
        "date_test = date_test.reshape(-1,1)"
      ],
      "metadata": {
        "id": "E8AXxqhVfDi3"
      },
      "execution_count": null,
      "outputs": []
    },
    {
      "cell_type": "code",
      "source": [
        "from sklearn.preprocessing import MinMaxScaler\n",
        "x_train, y_train, x_test, y_test, date_test = get_data(train,test,30,1, date_test)\n",
        "\n",
        "# dua ve 0->1 cho tap train\n",
        "scaler = MinMaxScaler()\n",
        "x_train = x_train.reshape(-1,30)\n",
        "y_train = y_train.reshape(-1,1)\n",
        "\n",
        "x_train = scaler.fit_transform(x_train)\n",
        "y_train = scaler.fit_transform(y_train)\n",
        "\n",
        "# dua ve 0->1 cho tap test\n",
        "x_test = x_test.reshape(-1,1)\n",
        "y_test = y_test.reshape(-1,1)\n",
        "\n",
        "x_test = scaler.fit_transform(test)\n",
        "y_test = scaler.fit_transform(y_test)\n",
        "\n",
        "date_test = date_test.reshape(-1,1)"
      ],
      "metadata": {
        "colab": {
          "base_uri": "https://localhost:8080/",
          "height": 468
        },
        "id": "kdKaQY_xhSy0",
        "outputId": "47ebbf45-2243-411b-b08e-8ea34ff866c3"
      },
      "execution_count": 99,
      "outputs": [
        {
          "output_type": "error",
          "ename": "ValueError",
          "evalue": "ignored",
          "traceback": [
            "\u001b[0;31m---------------------------------------------------------------------------\u001b[0m",
            "\u001b[0;31mValueError\u001b[0m                                Traceback (most recent call last)",
            "\u001b[0;32m<ipython-input-99-e0fb31d8c48f>\u001b[0m in \u001b[0;36m<module>\u001b[0;34m()\u001b[0m\n\u001b[1;32m     14\u001b[0m \u001b[0my_test\u001b[0m \u001b[0;34m=\u001b[0m \u001b[0my_test\u001b[0m\u001b[0;34m.\u001b[0m\u001b[0mreshape\u001b[0m\u001b[0;34m(\u001b[0m\u001b[0;34m-\u001b[0m\u001b[0;36m1\u001b[0m\u001b[0;34m,\u001b[0m\u001b[0;36m1\u001b[0m\u001b[0;34m)\u001b[0m\u001b[0;34m\u001b[0m\u001b[0;34m\u001b[0m\u001b[0m\n\u001b[1;32m     15\u001b[0m \u001b[0;34m\u001b[0m\u001b[0m\n\u001b[0;32m---> 16\u001b[0;31m \u001b[0mx_test\u001b[0m \u001b[0;34m=\u001b[0m \u001b[0mscaler\u001b[0m\u001b[0;34m.\u001b[0m\u001b[0mfit_transform\u001b[0m\u001b[0;34m(\u001b[0m\u001b[0mtest\u001b[0m\u001b[0;34m)\u001b[0m\u001b[0;34m\u001b[0m\u001b[0;34m\u001b[0m\u001b[0m\n\u001b[0m\u001b[1;32m     17\u001b[0m \u001b[0my_test\u001b[0m \u001b[0;34m=\u001b[0m \u001b[0mscaler\u001b[0m\u001b[0;34m.\u001b[0m\u001b[0mfit_transform\u001b[0m\u001b[0;34m(\u001b[0m\u001b[0my_test\u001b[0m\u001b[0;34m)\u001b[0m\u001b[0;34m\u001b[0m\u001b[0;34m\u001b[0m\u001b[0m\n\u001b[1;32m     18\u001b[0m \u001b[0;34m\u001b[0m\u001b[0m\n",
            "\u001b[0;32m/usr/local/lib/python3.7/dist-packages/sklearn/base.py\u001b[0m in \u001b[0;36mfit_transform\u001b[0;34m(self, X, y, **fit_params)\u001b[0m\n\u001b[1;32m    845\u001b[0m         \u001b[0;32mif\u001b[0m \u001b[0my\u001b[0m \u001b[0;32mis\u001b[0m \u001b[0;32mNone\u001b[0m\u001b[0;34m:\u001b[0m\u001b[0;34m\u001b[0m\u001b[0;34m\u001b[0m\u001b[0m\n\u001b[1;32m    846\u001b[0m             \u001b[0;31m# fit method of arity 1 (unsupervised transformation)\u001b[0m\u001b[0;34m\u001b[0m\u001b[0;34m\u001b[0m\u001b[0;34m\u001b[0m\u001b[0m\n\u001b[0;32m--> 847\u001b[0;31m             \u001b[0;32mreturn\u001b[0m \u001b[0mself\u001b[0m\u001b[0;34m.\u001b[0m\u001b[0mfit\u001b[0m\u001b[0;34m(\u001b[0m\u001b[0mX\u001b[0m\u001b[0;34m,\u001b[0m \u001b[0;34m**\u001b[0m\u001b[0mfit_params\u001b[0m\u001b[0;34m)\u001b[0m\u001b[0;34m.\u001b[0m\u001b[0mtransform\u001b[0m\u001b[0;34m(\u001b[0m\u001b[0mX\u001b[0m\u001b[0;34m)\u001b[0m\u001b[0;34m\u001b[0m\u001b[0;34m\u001b[0m\u001b[0m\n\u001b[0m\u001b[1;32m    848\u001b[0m         \u001b[0;32melse\u001b[0m\u001b[0;34m:\u001b[0m\u001b[0;34m\u001b[0m\u001b[0;34m\u001b[0m\u001b[0m\n\u001b[1;32m    849\u001b[0m             \u001b[0;31m# fit method of arity 2 (supervised transformation)\u001b[0m\u001b[0;34m\u001b[0m\u001b[0;34m\u001b[0m\u001b[0;34m\u001b[0m\u001b[0m\n",
            "\u001b[0;32m/usr/local/lib/python3.7/dist-packages/sklearn/preprocessing/_data.py\u001b[0m in \u001b[0;36mfit\u001b[0;34m(self, X, y)\u001b[0m\n\u001b[1;32m    414\u001b[0m         \u001b[0;31m# Reset internal state before fitting\u001b[0m\u001b[0;34m\u001b[0m\u001b[0;34m\u001b[0m\u001b[0;34m\u001b[0m\u001b[0m\n\u001b[1;32m    415\u001b[0m         \u001b[0mself\u001b[0m\u001b[0;34m.\u001b[0m\u001b[0m_reset\u001b[0m\u001b[0;34m(\u001b[0m\u001b[0;34m)\u001b[0m\u001b[0;34m\u001b[0m\u001b[0;34m\u001b[0m\u001b[0m\n\u001b[0;32m--> 416\u001b[0;31m         \u001b[0;32mreturn\u001b[0m \u001b[0mself\u001b[0m\u001b[0;34m.\u001b[0m\u001b[0mpartial_fit\u001b[0m\u001b[0;34m(\u001b[0m\u001b[0mX\u001b[0m\u001b[0;34m,\u001b[0m \u001b[0my\u001b[0m\u001b[0;34m)\u001b[0m\u001b[0;34m\u001b[0m\u001b[0;34m\u001b[0m\u001b[0m\n\u001b[0m\u001b[1;32m    417\u001b[0m \u001b[0;34m\u001b[0m\u001b[0m\n\u001b[1;32m    418\u001b[0m     \u001b[0;32mdef\u001b[0m \u001b[0mpartial_fit\u001b[0m\u001b[0;34m(\u001b[0m\u001b[0mself\u001b[0m\u001b[0;34m,\u001b[0m \u001b[0mX\u001b[0m\u001b[0;34m,\u001b[0m \u001b[0my\u001b[0m\u001b[0;34m=\u001b[0m\u001b[0;32mNone\u001b[0m\u001b[0;34m)\u001b[0m\u001b[0;34m:\u001b[0m\u001b[0;34m\u001b[0m\u001b[0;34m\u001b[0m\u001b[0m\n",
            "\u001b[0;32m/usr/local/lib/python3.7/dist-packages/sklearn/preprocessing/_data.py\u001b[0m in \u001b[0;36mpartial_fit\u001b[0;34m(self, X, y)\u001b[0m\n\u001b[1;32m    456\u001b[0m             \u001b[0mestimator\u001b[0m\u001b[0;34m=\u001b[0m\u001b[0mself\u001b[0m\u001b[0;34m,\u001b[0m\u001b[0;34m\u001b[0m\u001b[0;34m\u001b[0m\u001b[0m\n\u001b[1;32m    457\u001b[0m             \u001b[0mdtype\u001b[0m\u001b[0;34m=\u001b[0m\u001b[0mFLOAT_DTYPES\u001b[0m\u001b[0;34m,\u001b[0m\u001b[0;34m\u001b[0m\u001b[0;34m\u001b[0m\u001b[0m\n\u001b[0;32m--> 458\u001b[0;31m             \u001b[0mforce_all_finite\u001b[0m\u001b[0;34m=\u001b[0m\u001b[0;34m\"allow-nan\"\u001b[0m\u001b[0;34m,\u001b[0m\u001b[0;34m\u001b[0m\u001b[0;34m\u001b[0m\u001b[0m\n\u001b[0m\u001b[1;32m    459\u001b[0m         )\n\u001b[1;32m    460\u001b[0m \u001b[0;34m\u001b[0m\u001b[0m\n",
            "\u001b[0;32m/usr/local/lib/python3.7/dist-packages/sklearn/base.py\u001b[0m in \u001b[0;36m_validate_data\u001b[0;34m(self, X, y, reset, validate_separately, **check_params)\u001b[0m\n\u001b[1;32m    559\u001b[0m             \u001b[0;32mraise\u001b[0m \u001b[0mValueError\u001b[0m\u001b[0;34m(\u001b[0m\u001b[0;34m\"Validation should be done on X, y or both.\"\u001b[0m\u001b[0;34m)\u001b[0m\u001b[0;34m\u001b[0m\u001b[0;34m\u001b[0m\u001b[0m\n\u001b[1;32m    560\u001b[0m         \u001b[0;32melif\u001b[0m \u001b[0;32mnot\u001b[0m \u001b[0mno_val_X\u001b[0m \u001b[0;32mand\u001b[0m \u001b[0mno_val_y\u001b[0m\u001b[0;34m:\u001b[0m\u001b[0;34m\u001b[0m\u001b[0;34m\u001b[0m\u001b[0m\n\u001b[0;32m--> 561\u001b[0;31m             \u001b[0mX\u001b[0m \u001b[0;34m=\u001b[0m \u001b[0mcheck_array\u001b[0m\u001b[0;34m(\u001b[0m\u001b[0mX\u001b[0m\u001b[0;34m,\u001b[0m \u001b[0;34m**\u001b[0m\u001b[0mcheck_params\u001b[0m\u001b[0;34m)\u001b[0m\u001b[0;34m\u001b[0m\u001b[0;34m\u001b[0m\u001b[0m\n\u001b[0m\u001b[1;32m    562\u001b[0m             \u001b[0mout\u001b[0m \u001b[0;34m=\u001b[0m \u001b[0mX\u001b[0m\u001b[0;34m\u001b[0m\u001b[0;34m\u001b[0m\u001b[0m\n\u001b[1;32m    563\u001b[0m         \u001b[0;32melif\u001b[0m \u001b[0mno_val_X\u001b[0m \u001b[0;32mand\u001b[0m \u001b[0;32mnot\u001b[0m \u001b[0mno_val_y\u001b[0m\u001b[0;34m:\u001b[0m\u001b[0;34m\u001b[0m\u001b[0;34m\u001b[0m\u001b[0m\n",
            "\u001b[0;32m/usr/local/lib/python3.7/dist-packages/sklearn/utils/validation.py\u001b[0m in \u001b[0;36mcheck_array\u001b[0;34m(array, accept_sparse, accept_large_sparse, dtype, order, copy, force_all_finite, ensure_2d, allow_nd, ensure_min_samples, ensure_min_features, estimator)\u001b[0m\n\u001b[1;32m    763\u001b[0m                     \u001b[0;34m\"Reshape your data either using array.reshape(-1, 1) if \"\u001b[0m\u001b[0;34m\u001b[0m\u001b[0;34m\u001b[0m\u001b[0m\n\u001b[1;32m    764\u001b[0m                     \u001b[0;34m\"your data has a single feature or array.reshape(1, -1) \"\u001b[0m\u001b[0;34m\u001b[0m\u001b[0;34m\u001b[0m\u001b[0m\n\u001b[0;32m--> 765\u001b[0;31m                     \u001b[0;34m\"if it contains a single sample.\"\u001b[0m\u001b[0;34m.\u001b[0m\u001b[0mformat\u001b[0m\u001b[0;34m(\u001b[0m\u001b[0marray\u001b[0m\u001b[0;34m)\u001b[0m\u001b[0;34m\u001b[0m\u001b[0;34m\u001b[0m\u001b[0m\n\u001b[0m\u001b[1;32m    766\u001b[0m                 )\n\u001b[1;32m    767\u001b[0m \u001b[0;34m\u001b[0m\u001b[0m\n",
            "\u001b[0;31mValueError\u001b[0m: Expected 2D array, got 1D array instead:\narray=[].\nReshape your data either using array.reshape(-1, 1) if your data has a single feature or array.reshape(1, -1) if it contains a single sample."
          ]
        }
      ]
    },
    {
      "cell_type": "code",
      "source": [
        "from keras import Sequential\n",
        "from keras.layers import LSTM\n",
        "from keras.layers import Dropout,Dense\n",
        "#dau vao 202 doan 1\n",
        "n_input = 2018\n",
        "n_features = 1\n",
        "\n",
        "model = Sequential()\n",
        "model.add(LSTM(units=50,activation='relu', input_shape=(n_input, n_features), return_sequences=True))\n",
        "model.add(Dropout(0.3))\n",
        "\n",
        "model.add(LSTM(units=50, return_sequences=True))\n",
        "model.add(Dropout(0.3))\n",
        "\n",
        "model.add(LSTM(units=50))\n",
        "model.add(Dropout(0.3))\n",
        "model.add(Dense(1))\n"
      ],
      "metadata": {
        "id": "QZp7Ta8rfQOu"
      },
      "execution_count": 46,
      "outputs": []
    },
    {
      "cell_type": "code",
      "source": [
        "model.compile(optimizer='adam', loss='mse')"
      ],
      "metadata": {
        "id": "ebwmvH2cfQRy"
      },
      "execution_count": 47,
      "outputs": []
    },
    {
      "cell_type": "code",
      "source": [
        "model.summary()"
      ],
      "metadata": {
        "id": "dQ3m1WfnykU7",
        "colab": {
          "base_uri": "https://localhost:8080/"
        },
        "outputId": "2c6be1ad-2821-4d4e-f4b3-4dd6e2f21ab8"
      },
      "execution_count": 48,
      "outputs": [
        {
          "output_type": "stream",
          "name": "stdout",
          "text": [
            "Model: \"sequential\"\n",
            "_________________________________________________________________\n",
            " Layer (type)                Output Shape              Param #   \n",
            "=================================================================\n",
            " lstm (LSTM)                 (None, 2018, 50)          10400     \n",
            "                                                                 \n",
            " dropout (Dropout)           (None, 2018, 50)          0         \n",
            "                                                                 \n",
            " lstm_1 (LSTM)               (None, 2018, 50)          20200     \n",
            "                                                                 \n",
            " dropout_1 (Dropout)         (None, 2018, 50)          0         \n",
            "                                                                 \n",
            " lstm_2 (LSTM)               (None, 50)                20200     \n",
            "                                                                 \n",
            " dropout_2 (Dropout)         (None, 50)                0         \n",
            "                                                                 \n",
            " dense (Dense)               (None, 1)                 51        \n",
            "                                                                 \n",
            "=================================================================\n",
            "Total params: 50,851\n",
            "Trainable params: 50,851\n",
            "Non-trainable params: 0\n",
            "_________________________________________________________________\n"
          ]
        }
      ]
    },
    {
      "cell_type": "code",
      "source": [
        "history=model.fit(x_train, y_train, epochs=20, validation_split=0.2, verbose=1, batch_size=30)\n",
        "model.save('/content/driver/My Drive/LSTM_Model/lstm_test')"
      ],
      "metadata": {
        "id": "oDHhWqHYg4WW",
        "colab": {
          "base_uri": "https://localhost:8080/",
          "height": 659
        },
        "outputId": "626deee9-742f-4f83-d782-36e1161c8d9d"
      },
      "execution_count": 49,
      "outputs": [
        {
          "output_type": "stream",
          "name": "stdout",
          "text": [
            "Epoch 1/20\n"
          ]
        },
        {
          "output_type": "error",
          "ename": "ValueError",
          "evalue": "ignored",
          "traceback": [
            "\u001b[0;31m---------------------------------------------------------------------------\u001b[0m",
            "\u001b[0;31mValueError\u001b[0m                                Traceback (most recent call last)",
            "\u001b[0;32m<ipython-input-49-cf63c075504f>\u001b[0m in \u001b[0;36m<module>\u001b[0;34m()\u001b[0m\n\u001b[0;32m----> 1\u001b[0;31m \u001b[0mhistory\u001b[0m\u001b[0;34m=\u001b[0m\u001b[0mmodel\u001b[0m\u001b[0;34m.\u001b[0m\u001b[0mfit\u001b[0m\u001b[0;34m(\u001b[0m\u001b[0mx_train\u001b[0m\u001b[0;34m,\u001b[0m \u001b[0my_train\u001b[0m\u001b[0;34m,\u001b[0m \u001b[0mepochs\u001b[0m\u001b[0;34m=\u001b[0m\u001b[0;36m20\u001b[0m\u001b[0;34m,\u001b[0m \u001b[0mvalidation_split\u001b[0m\u001b[0;34m=\u001b[0m\u001b[0;36m0.2\u001b[0m\u001b[0;34m,\u001b[0m \u001b[0mverbose\u001b[0m\u001b[0;34m=\u001b[0m\u001b[0;36m1\u001b[0m\u001b[0;34m,\u001b[0m \u001b[0mbatch_size\u001b[0m\u001b[0;34m=\u001b[0m\u001b[0;36m30\u001b[0m\u001b[0;34m)\u001b[0m\u001b[0;34m\u001b[0m\u001b[0;34m\u001b[0m\u001b[0m\n\u001b[0m\u001b[1;32m      2\u001b[0m \u001b[0mmodel\u001b[0m\u001b[0;34m.\u001b[0m\u001b[0msave\u001b[0m\u001b[0;34m(\u001b[0m\u001b[0;34m'/content/driver/My Drive/LSTM_Model/lstm_test'\u001b[0m\u001b[0;34m)\u001b[0m\u001b[0;34m\u001b[0m\u001b[0;34m\u001b[0m\u001b[0m\n",
            "\u001b[0;32m/usr/local/lib/python3.7/dist-packages/keras/utils/traceback_utils.py\u001b[0m in \u001b[0;36merror_handler\u001b[0;34m(*args, **kwargs)\u001b[0m\n\u001b[1;32m     65\u001b[0m     \u001b[0;32mexcept\u001b[0m \u001b[0mException\u001b[0m \u001b[0;32mas\u001b[0m \u001b[0me\u001b[0m\u001b[0;34m:\u001b[0m  \u001b[0;31m# pylint: disable=broad-except\u001b[0m\u001b[0;34m\u001b[0m\u001b[0;34m\u001b[0m\u001b[0m\n\u001b[1;32m     66\u001b[0m       \u001b[0mfiltered_tb\u001b[0m \u001b[0;34m=\u001b[0m \u001b[0m_process_traceback_frames\u001b[0m\u001b[0;34m(\u001b[0m\u001b[0me\u001b[0m\u001b[0;34m.\u001b[0m\u001b[0m__traceback__\u001b[0m\u001b[0;34m)\u001b[0m\u001b[0;34m\u001b[0m\u001b[0;34m\u001b[0m\u001b[0m\n\u001b[0;32m---> 67\u001b[0;31m       \u001b[0;32mraise\u001b[0m \u001b[0me\u001b[0m\u001b[0;34m.\u001b[0m\u001b[0mwith_traceback\u001b[0m\u001b[0;34m(\u001b[0m\u001b[0mfiltered_tb\u001b[0m\u001b[0;34m)\u001b[0m \u001b[0;32mfrom\u001b[0m \u001b[0;32mNone\u001b[0m\u001b[0;34m\u001b[0m\u001b[0;34m\u001b[0m\u001b[0m\n\u001b[0m\u001b[1;32m     68\u001b[0m     \u001b[0;32mfinally\u001b[0m\u001b[0;34m:\u001b[0m\u001b[0;34m\u001b[0m\u001b[0;34m\u001b[0m\u001b[0m\n\u001b[1;32m     69\u001b[0m       \u001b[0;32mdel\u001b[0m \u001b[0mfiltered_tb\u001b[0m\u001b[0;34m\u001b[0m\u001b[0;34m\u001b[0m\u001b[0m\n",
            "\u001b[0;32m/usr/local/lib/python3.7/dist-packages/tensorflow/python/framework/func_graph.py\u001b[0m in \u001b[0;36mautograph_handler\u001b[0;34m(*args, **kwargs)\u001b[0m\n\u001b[1;32m   1127\u001b[0m           \u001b[0;32mexcept\u001b[0m \u001b[0mException\u001b[0m \u001b[0;32mas\u001b[0m \u001b[0me\u001b[0m\u001b[0;34m:\u001b[0m  \u001b[0;31m# pylint:disable=broad-except\u001b[0m\u001b[0;34m\u001b[0m\u001b[0;34m\u001b[0m\u001b[0m\n\u001b[1;32m   1128\u001b[0m             \u001b[0;32mif\u001b[0m \u001b[0mhasattr\u001b[0m\u001b[0;34m(\u001b[0m\u001b[0me\u001b[0m\u001b[0;34m,\u001b[0m \u001b[0;34m\"ag_error_metadata\"\u001b[0m\u001b[0;34m)\u001b[0m\u001b[0;34m:\u001b[0m\u001b[0;34m\u001b[0m\u001b[0;34m\u001b[0m\u001b[0m\n\u001b[0;32m-> 1129\u001b[0;31m               \u001b[0;32mraise\u001b[0m \u001b[0me\u001b[0m\u001b[0;34m.\u001b[0m\u001b[0mag_error_metadata\u001b[0m\u001b[0;34m.\u001b[0m\u001b[0mto_exception\u001b[0m\u001b[0;34m(\u001b[0m\u001b[0me\u001b[0m\u001b[0;34m)\u001b[0m\u001b[0;34m\u001b[0m\u001b[0;34m\u001b[0m\u001b[0m\n\u001b[0m\u001b[1;32m   1130\u001b[0m             \u001b[0;32melse\u001b[0m\u001b[0;34m:\u001b[0m\u001b[0;34m\u001b[0m\u001b[0;34m\u001b[0m\u001b[0m\n\u001b[1;32m   1131\u001b[0m               \u001b[0;32mraise\u001b[0m\u001b[0;34m\u001b[0m\u001b[0;34m\u001b[0m\u001b[0m\n",
            "\u001b[0;31mValueError\u001b[0m: in user code:\n\n    File \"/usr/local/lib/python3.7/dist-packages/keras/engine/training.py\", line 878, in train_function  *\n        return step_function(self, iterator)\n    File \"/usr/local/lib/python3.7/dist-packages/keras/engine/training.py\", line 867, in step_function  **\n        outputs = model.distribute_strategy.run(run_step, args=(data,))\n    File \"/usr/local/lib/python3.7/dist-packages/keras/engine/training.py\", line 860, in run_step  **\n        outputs = model.train_step(data)\n    File \"/usr/local/lib/python3.7/dist-packages/keras/engine/training.py\", line 808, in train_step\n        y_pred = self(x, training=True)\n    File \"/usr/local/lib/python3.7/dist-packages/keras/utils/traceback_utils.py\", line 67, in error_handler\n        raise e.with_traceback(filtered_tb) from None\n    File \"/usr/local/lib/python3.7/dist-packages/keras/engine/input_spec.py\", line 263, in assert_input_compatibility\n        raise ValueError(f'Input {input_index} of layer \"{layer_name}\" is '\n\n    ValueError: Input 0 of layer \"sequential\" is incompatible with the layer: expected shape=(None, 2018, 1), found shape=(None, 30)\n"
          ]
        }
      ]
    },
    {
      "cell_type": "code",
      "source": [
        "plt.plot(history.history['loss'])\n",
        "plt.plot(history.history['val_loss'])\n",
        "plt.title('model loss')\n",
        "plt.ylabel('loss')\n",
        "plt.xlabel('epoch')\n",
        "plt.legend(['train','test'], loc= 'upper left')\n",
        "plt.show()"
      ],
      "metadata": {
        "colab": {
          "base_uri": "https://localhost:8080/",
          "height": 295
        },
        "id": "5VhMvVFtoMoa",
        "outputId": "49ac25d2-c044-45dd-be41-0150770328e9"
      },
      "execution_count": null,
      "outputs": [
        {
          "output_type": "display_data",
          "data": {
            "image/png": "[encoded data removed]",
            "text/plain": [
              "<Figure size 432x288 with 1 Axes>"
            ]
          },
          "metadata": {
            "needs_background": "light"
          }
        }
      ]
    },
    {
      "cell_type": "code",
      "source": [
        "import matplotlib.pyplot as plt\n",
        "import keras\n",
        "model = keras.models.load_model('/content/driver/My Drive/LSTM_Model/lstm_test')\n",
        "\n",
        "test_output = model.predict(x_test)\n",
        "\n",
        "# print(test_output)\n",
        "test_1 = scaler.inverse_transform(test_output)\n",
        "test_2 = scaler.inverse_transform(y_test)\n",
        "plt.plot(test_1[:202], color='r')\n",
        "plt.plot(test_2[:202] ,color='b')\n",
        "plt.title(\"BITCOIN\")\n",
        "#plt.xlabel(\"STT\")\n",
        "plt.ylabel(\"Price\")\n",
        "plt.legend(('prediction', 'reality'),loc='upper right')\n",
        "plt.show()"
      ],
      "metadata": {
        "colab": {
          "base_uri": "https://localhost:8080/",
          "height": 336
        },
        "id": "y8LCBONtg4gK",
        "outputId": "d7e95c78-2b32-4fb8-bafb-e76e1f9a640d"
      },
      "execution_count": null,
      "outputs": [
        {
          "output_type": "stream",
          "name": "stdout",
          "text": [
            "WARNING:tensorflow:Model was constructed with shape (None, 202, 1) for input KerasTensor(type_spec=TensorSpec(shape=(None, 202, 1), dtype=tf.float32, name='lstm_input'), name='lstm_input', description=\"created by layer 'lstm_input'\"), but it was called on an input with incompatible shape (None, 1, 1).\n"
          ]
        },
        {
          "output_type": "stream",
          "name": "stderr",
          "text": [
            "WARNING:tensorflow:Model was constructed with shape (None, 202, 1) for input KerasTensor(type_spec=TensorSpec(shape=(None, 202, 1), dtype=tf.float32, name='lstm_input'), name='lstm_input', description=\"created by layer 'lstm_input'\"), but it was called on an input with incompatible shape (None, 1, 1).\n"
          ]
        },
        {
          "output_type": "display_data",
          "data": {
            "image/png": "[encoded data removed]",
            "text/plain": [
              "<Figure size 432x288 with 1 Axes>"
            ]
          },
          "metadata": {
            "needs_background": "light"
          }
        }
      ]
    },
    {
      "cell_type": "code",
      "source": [
        "test_1 = scaler.inverse_transform(test_output)\n",
        "test_2 = scaler.inverse_transform(y_test)\n",
        "print(test_1)\n",
        "print(test_2)"
      ],
      "metadata": {
        "id": "rt3l049FiwEo",
        "colab": {
          "base_uri": "https://localhost:8080/"
        },
        "outputId": "ceb843f8-fece-4d6a-c656-0eeea59f9528"
      },
      "execution_count": null,
      "outputs": [
        {
          "output_type": "stream",
          "name": "stdout",
          "text": [
            "[[190.71861]\n",
            " [190.87334]\n",
            " [188.01666]\n",
            " [188.20154]\n",
            " [189.02766]\n",
            " [190.84923]\n",
            " [190.29639]\n",
            " [192.46399]\n",
            " [194.00352]\n",
            " [195.65735]\n",
            " [195.6275 ]\n",
            " [199.489  ]\n",
            " [197.86943]\n",
            " [200.01105]\n",
            " [198.38362]\n",
            " [197.77048]\n",
            " [198.6405 ]\n",
            " [198.7195 ]\n",
            " [202.23929]\n",
            " [201.95534]\n",
            " [203.51942]\n",
            " [206.36676]\n",
            " [205.85336]\n",
            " [203.97766]\n",
            " [203.49016]\n",
            " [202.18056]\n",
            " [208.7975 ]\n",
            " [208.75905]\n",
            " [209.76685]\n",
            " [203.38283]\n",
            " [204.9313 ]\n",
            " [201.04329]\n",
            " [199.56784]\n",
            " [196.61995]\n",
            " [187.12714]\n",
            " [186.19926]\n",
            " [186.10399]\n",
            " [189.1083 ]\n",
            " [186.55313]\n",
            " [184.90968]\n",
            " [185.47006]\n",
            " [185.21564]\n",
            " [184.71912]\n",
            " [184.71912]\n",
            " [184.71912]\n",
            " [184.71912]\n",
            " [184.71912]\n",
            " [184.71912]\n",
            " [184.71912]\n",
            " [184.71912]\n",
            " [185.06995]\n",
            " [184.8488 ]\n",
            " [186.26733]\n",
            " [191.01997]\n",
            " [194.07338]\n",
            " [193.1644 ]\n",
            " [193.9137 ]\n",
            " [190.75377]\n",
            " [192.1134 ]\n",
            " [195.2594 ]\n",
            " [198.85771]\n",
            " [199.53827]\n",
            " [197.98816]\n",
            " [197.73088]\n",
            " [197.622  ]\n",
            " [196.96811]\n",
            " [199.45941]\n",
            " [197.86943]\n",
            " [202.28824]\n",
            " [200.5619 ]\n",
            " [202.39589]\n",
            " [202.46437]\n",
            " [199.97166]\n",
            " [198.38362]\n",
            " [200.9942 ]\n",
            " [202.42523]\n",
            " [201.58293]\n",
            " [203.18759]\n",
            " [203.67548]\n",
            " [203.14854]\n",
            " [203.09972]\n",
            " [204.84381]\n",
            " [202.75774]\n",
            " [207.4299 ]\n",
            " [206.66669]\n",
            " [207.8446 ]\n",
            " [206.48288]\n",
            " [207.4299 ]\n",
            " [207.71927]\n",
            " [215.0228 ]\n",
            " [212.63867]\n",
            " [204.59099]\n",
            " [197.18619]\n",
            " [195.5181 ]\n",
            " [194.62193]\n",
            " [199.3707 ]\n",
            " [200.45377]\n",
            " [198.79848]\n",
            " [200.17834]\n",
            " [202.27846]\n",
            " [202.57196]\n",
            " [203.37308]\n",
            " [209.50798]\n",
            " [209.75726]\n",
            " [211.77318]\n",
            " [211.96361]\n",
            " [208.36469]\n",
            " [204.91187]\n",
            " [206.8504 ]\n",
            " [203.19737]\n",
            " [207.46849]\n",
            " [209.06651]\n",
            " [205.46541]\n",
            " [207.36235]\n",
            " [210.8289 ]\n",
            " [212.78113]\n",
            " [213.53018]\n",
            " [212.6007 ]\n",
            " [216.57353]\n",
            " [222.8104 ]\n",
            " [218.37682]\n",
            " [216.25465]\n",
            " [218.33957]\n",
            " [219.36226]\n",
            " [220.24242]\n",
            " [219.65906]\n",
            " [217.39717]\n",
            " [219.33441]\n",
            " [217.02309]\n",
            " [218.37682]\n",
            " [218.87926]\n",
            " [219.21373]\n",
            " [223.05756]\n",
            " [221.21182]\n",
            " [216.91075]\n",
            " [223.57852]\n",
            " [224.15308]\n",
            " [223.74283]\n",
            " [224.84442]\n",
            " [225.66055]\n",
            " [230.16125]\n",
            " [231.88533]\n",
            " [233.19333]\n",
            " [230.53375]\n",
            " [232.05257]\n",
            " [231.61217]\n",
            " [234.17982]\n",
            " [237.32477]\n",
            " [238.12871]\n",
            " [240.17404]\n",
            " [239.03111]\n",
            " [242.61307]\n",
            " [243.89828]\n",
            " [240.3849 ]\n",
            " [242.4632 ]\n",
            " [244.36844]\n",
            " [250.6586 ]\n",
            " [250.43697]\n",
            " [250.21497]\n",
            " [251.76962]\n",
            " [251.73038]\n",
            " [251.42384]\n",
            " [253.95807]\n",
            " [253.63318]\n",
            " [255.64731]\n",
            " [255.59389]\n",
            " [257.20206]\n",
            " [258.77524]\n",
            " [257.00592]\n",
            " [255.60152]\n",
            " [254.7593 ]\n",
            " [254.85143]\n",
            " [258.05853]\n",
            " [257.0361 ]\n",
            " [257.8037 ]\n",
            " [258.30536]\n",
            " [251.43172]\n",
            " [253.58669]\n",
            " [255.67783]\n",
            " [258.4622 ]\n",
            " [260.32852]\n",
            " [259.29523]\n",
            " [259.45078]\n",
            " [258.68588]\n",
            " [261.3966 ]\n",
            " [265.36047]\n",
            " [267.15094]\n",
            " [267.30966]\n",
            " [267.10257]\n",
            " [268.9715 ]\n",
            " [267.8118 ]\n",
            " [270.62546]\n",
            " [270.71207]\n",
            " [274.81274]\n",
            " [273.75064]\n",
            " [274.0527 ]\n",
            " [278.00543]\n",
            " [278.5597 ]\n",
            " [276.4934 ]\n",
            " [280.17468]\n",
            " [278.56573]\n",
            " [284.4346 ]]\n",
            "[[191.509995]\n",
            " [191.664001]\n",
            " [188.75    ]\n",
            " [188.949997]\n",
            " [189.830002]\n",
            " [191.639999]\n",
            " [191.089996]\n",
            " [193.25    ]\n",
            " [194.789993]\n",
            " [196.449997]\n",
            " [196.419998]\n",
            " [200.320007]\n",
            " [198.679993]\n",
            " [200.850006]\n",
            " [199.199997]\n",
            " [198.580002]\n",
            " [199.460007]\n",
            " [199.539993]\n",
            " [203.119995]\n",
            " [202.830002]\n",
            " [204.429993]\n",
            " [207.360001]\n",
            " [206.830002]\n",
            " [204.899994]\n",
            " [204.399994]\n",
            " [203.059998]\n",
            " [209.880005]\n",
            " [209.839996]\n",
            " [210.889999]\n",
            " [204.289993]\n",
            " [205.880005]\n",
            " [201.899994]\n",
            " [200.399994]\n",
            " [197.419006]\n",
            " [187.710007]\n",
            " [186.410004]\n",
            " [186.270004]\n",
            " [189.910004]\n",
            " [186.929993]\n",
            " [183.520004]\n",
            " [185.220001]\n",
            " [184.660004]\n",
            " [179.800003]\n",
            " [180.199997]\n",
            " [178.919998]\n",
            " [176.419998]\n",
            " [177.949997]\n",
            " [176.229996]\n",
            " [175.600006]\n",
            " [175.440002]\n",
            " [184.279999]\n",
            " [183.080002]\n",
            " [186.509995]\n",
            " [191.809998]\n",
            " [194.860001]\n",
            " [193.949997]\n",
            " [194.699997]\n",
            " [191.544998]\n",
            " [192.899994]\n",
            " [196.050003]\n",
            " [199.679993]\n",
            " [200.369995]\n",
            " [198.800003]\n",
            " [198.539993]\n",
            " [198.429993]\n",
            " [197.770004]\n",
            " [200.289993]\n",
            " [198.679993]\n",
            " [203.169998]\n",
            " [201.410004]\n",
            " [203.279999]\n",
            " [203.350006]\n",
            " [200.809998]\n",
            " [199.199997]\n",
            " [201.850006]\n",
            " [203.309998]\n",
            " [202.449997]\n",
            " [204.089996]\n",
            " [204.589996]\n",
            " [204.050003]\n",
            " [204.      ]\n",
            " [205.789993]\n",
            " [203.649994]\n",
            " [208.460007]\n",
            " [207.669998]\n",
            " [208.889999]\n",
            " [207.479996]\n",
            " [208.460007]\n",
            " [208.759995]\n",
            " [216.419998]\n",
            " [213.899994]\n",
            " [205.529999]\n",
            " [197.990005]\n",
            " [196.309998]\n",
            " [195.410004]\n",
            " [200.199997]\n",
            " [201.300003]\n",
            " [199.619995]\n",
            " [201.020004]\n",
            " [203.160004]\n",
            " [203.460007]\n",
            " [204.279999]\n",
            " [210.619995]\n",
            " [210.880005]\n",
            " [212.990005]\n",
            " [213.190002]\n",
            " [209.429993]\n",
            " [205.860001]\n",
            " [207.860001]\n",
            " [204.100006]\n",
            " [208.5     ]\n",
            " [210.160004]\n",
            " [206.429993]\n",
            " [208.389999]\n",
            " [212.      ]\n",
            " [214.050003]\n",
            " [214.839996]\n",
            " [213.860001]\n",
            " [218.070007]\n",
            " [224.800003]\n",
            " [220.      ]\n",
            " [217.729996]\n",
            " [219.960007]\n",
            " [221.059998]\n",
            " [222.009995]\n",
            " [221.380005]\n",
            " [218.949997]\n",
            " [221.029999]\n",
            " [218.550003]\n",
            " [220.      ]\n",
            " [220.539993]\n",
            " [220.899994]\n",
            " [225.070007]\n",
            " [223.059998]\n",
            " [218.429993]\n",
            " [225.639999]\n",
            " [226.270004]\n",
            " [225.820007]\n",
            " [227.029999]\n",
            " [227.929993]\n",
            " [232.949997]\n",
            " [234.899994]\n",
            " [236.389999]\n",
            " [233.369995]\n",
            " [235.089996]\n",
            " [234.589996]\n",
            " [237.520004]\n",
            " [241.160004]\n",
            " [242.100006]\n",
            " [244.509995]\n",
            " [243.160004]\n",
            " [247.419998]\n",
            " [248.970001]\n",
            " [244.759995]\n",
            " [247.240005]\n",
            " [249.539993]\n",
            " [257.329987]\n",
            " [257.049988]\n",
            " [256.769989]\n",
            " [258.73999 ]\n",
            " [258.690002]\n",
            " [258.299988]\n",
            " [261.549988]\n",
            " [261.130005]\n",
            " [263.75    ]\n",
            " [263.679993]\n",
            " [265.799988]\n",
            " [267.899994]\n",
            " [265.540009]\n",
            " [263.690002]\n",
            " [262.589996]\n",
            " [262.709991]\n",
            " [266.940002]\n",
            " [265.579987]\n",
            " [266.600006]\n",
            " [267.269989]\n",
            " [258.309998]\n",
            " [261.070007]\n",
            " [263.790009]\n",
            " [267.480011]\n",
            " [270.      ]\n",
            " [268.600006]\n",
            " [268.809998]\n",
            " [267.779999]\n",
            " [271.459991]\n",
            " [277.      ]\n",
            " [279.570007]\n",
            " [279.799988]\n",
            " [279.5     ]\n",
            " [282.230011]\n",
            " [280.529999]\n",
            " [284.690002]\n",
            " [284.820007]\n",
            " [291.119995]\n",
            " [289.459991]\n",
            " [289.929993]\n",
            " [296.23999 ]\n",
            " [297.149994]\n",
            " [293.790009]\n",
            " [299.839996]\n",
            " [297.160004]\n",
            " [307.234985]]\n"
          ]
        }
      ]
    },
    {
      "cell_type": "code",
      "source": [
        "# Đánh giá mô hình\n",
        "score = model.evaluate(x_test, y_test,verbose=1, batch_size = 30)\n",
        "print('Test Score', score)"
      ],
      "metadata": {
        "colab": {
          "base_uri": "https://localhost:8080/"
        },
        "id": "lJOKItdnj1kz",
        "outputId": "b1be1659-bd17-48fa-a8a3-b1cf7989db55"
      },
      "execution_count": null,
      "outputs": [
        {
          "output_type": "stream",
          "name": "stdout",
          "text": [
            "WARNING:tensorflow:Model was constructed with shape (None, 202, 1) for input KerasTensor(type_spec=TensorSpec(shape=(None, 202, 1), dtype=tf.float32, name='lstm_input'), name='lstm_input', description=\"created by layer 'lstm_input'\"), but it was called on an input with incompatible shape (None, 1, 1).\n"
          ]
        },
        {
          "output_type": "stream",
          "name": "stderr",
          "text": [
            "WARNING:tensorflow:Model was constructed with shape (None, 202, 1) for input KerasTensor(type_spec=TensorSpec(shape=(None, 202, 1), dtype=tf.float32, name='lstm_input'), name='lstm_input', description=\"created by layer 'lstm_input'\"), but it was called on an input with incompatible shape (None, 1, 1).\n"
          ]
        },
        {
          "output_type": "stream",
          "name": "stdout",
          "text": [
            "7/7 [==============================] - 1s 3ms/step - loss: 0.0020\n",
            "Test Score 0.002030509989708662\n"
          ]
        }
      ]
    },
    {
      "cell_type": "code",
      "source": [
        "from sklearn.metrics import mean_squared_error\n",
        "from math import sqrt\n",
        "predictions= model.predict(x_test) \n",
        "mse = mean_squared_error(y_test, predictions)\n",
        "rmse = sqrt(mse)\n",
        "print('RMSE: %f' % rmse)"
      ],
      "metadata": {
        "colab": {
          "base_uri": "https://localhost:8080/"
        },
        "id": "V4ri-_ljxBYt",
        "outputId": "bfe3c02f-085d-4e22-cebf-bcd96a122a61"
      },
      "execution_count": null,
      "outputs": [
        {
          "output_type": "stream",
          "name": "stdout",
          "text": [
            "RMSE: 0.045061\n"
          ]
        }
      ]
    }
  ]
}