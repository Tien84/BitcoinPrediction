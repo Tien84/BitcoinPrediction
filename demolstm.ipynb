{
  "nbformat": 4,
  "nbformat_minor": 0,
  "metadata": {
    "colab": {
      "name": "demolstm.ipynb",
      "provenance": [],
      "collapsed_sections": [],
      "authorship_tag": "ABX9TyPtVbWKO7F5o+kl+Iz1HljX",
      "include_colab_link": true
    },
    "kernelspec": {
      "name": "python3",
      "display_name": "Python 3"
    },
    "language_info": {
      "name": "python"
    }
  },
  "cells": [
    {
      "cell_type": "markdown",
      "metadata": {
        "id": "view-in-github",
        "colab_type": "text"
      },
      "source": [
        "<a href=\"https://colab.research.google.com/github/Tien84/Face-Detection/blob/master/demolstm.ipynb\" target=\"_parent\"><img src=\"https://colab.research.google.com/assets/colab-badge.svg\" alt=\"Open In Colab\"/></a>"
      ]
    },
    {
      "cell_type": "code",
      "execution_count": null,
      "metadata": {
        "id": "zj8vg3lU3wSZ"
      },
      "outputs": [],
      "source": [
        "!pip install numpy"
      ]
    },
    {
      "cell_type": "code",
      "source": [
        "!pip install pandas"
      ],
      "metadata": {
        "id": "2hpcowkpYp4M"
      },
      "execution_count": null,
      "outputs": []
    },
    {
      "cell_type": "code",
      "source": [
        "!pip install keras"
      ],
      "metadata": {
        "id": "jRGtczUw6W1t"
      },
      "execution_count": null,
      "outputs": []
    },
    {
      "cell_type": "code",
      "source": [
        "!pip install matplotlib"
      ],
      "metadata": {
        "id": "m8zkN7j_ZEAh"
      },
      "execution_count": null,
      "outputs": []
    },
    {
      "cell_type": "code",
      "source": [
        "!pip install sklearn"
      ],
      "metadata": {
        "id": "ypISN1iXaq8p"
      },
      "execution_count": null,
      "outputs": []
    },
    {
      "cell_type": "code",
      "source": [
        "!pip install tensorflow"
      ],
      "metadata": {
        "id": "foPkw2Ida580"
      },
      "execution_count": null,
      "outputs": []
    },
    {
      "cell_type": "code",
      "source": [
        "from google.colab import drive\n",
        "drive.mount('/content/driver')"
      ],
      "metadata": {
        "id": "0T5EDpN_a6Lk",
        "colab": {
          "base_uri": "https://localhost:8080/"
        },
        "outputId": "fcc073a6-0165-49b7-e52a-36d2adafe6b9"
      },
      "execution_count": 7,
      "outputs": [
        {
          "output_type": "stream",
          "name": "stdout",
          "text": [
            "Mounted at /content/driver\n"
          ]
        }
      ]
    },
    {
      "cell_type": "code",
      "source": [
        "import pandas as pd\n",
        "import numpy as np\n",
        "import matplotlib.pyplot as plt\n",
        "\n",
        "data = pd.read_csv('/content/driver/My Drive/LSTM_Model/AAPL.csv')\n",
        "#data= data[::-1] \n",
        "data.index.freg='Date'\n",
        "data"
      ],
      "metadata": {
        "id": "a5vjhe2xbGY5",
        "colab": {
          "base_uri": "https://localhost:8080/",
          "height": 424
        },
        "outputId": "f2cf6daf-c142-4752-9673-aea0c1694d99"
      },
      "execution_count": 8,
      "outputs": [
        {
          "output_type": "execute_result",
          "data": {
            "text/html": [
              "\n",
              "  <div id=\"df-4e4dc2e6-2d57-415f-b491-27d1a2b5f8c0\">\n",
              "    <div class=\"colab-df-container\">\n",
              "      <div>\n",
              "<style scoped>\n",
              "    .dataframe tbody tr th:only-of-type {\n",
              "        vertical-align: middle;\n",
              "    }\n",
              "\n",
              "    .dataframe tbody tr th {\n",
              "        vertical-align: top;\n",
              "    }\n",
              "\n",
              "    .dataframe thead th {\n",
              "        text-align: right;\n",
              "    }\n",
              "</style>\n",
              "<table border=\"1\" class=\"dataframe\">\n",
              "  <thead>\n",
              "    <tr style=\"text-align: right;\">\n",
              "      <th></th>\n",
              "      <th>Date</th>\n",
              "      <th>Open</th>\n",
              "      <th>High</th>\n",
              "      <th>Low</th>\n",
              "      <th>Close</th>\n",
              "      <th>Adj Close</th>\n",
              "      <th>Volume</th>\n",
              "    </tr>\n",
              "  </thead>\n",
              "  <tbody>\n",
              "    <tr>\n",
              "      <th>0</th>\n",
              "      <td>2012-01-03</td>\n",
              "      <td>58.500000</td>\n",
              "      <td>58.928570</td>\n",
              "      <td>58.428570</td>\n",
              "      <td>58.747143</td>\n",
              "      <td>56.011238</td>\n",
              "      <td>75564699</td>\n",
              "    </tr>\n",
              "    <tr>\n",
              "      <th>1</th>\n",
              "      <td>2012-01-04</td>\n",
              "      <td>58.599998</td>\n",
              "      <td>59.240002</td>\n",
              "      <td>58.468571</td>\n",
              "      <td>59.062859</td>\n",
              "      <td>56.312252</td>\n",
              "      <td>65061108</td>\n",
              "    </tr>\n",
              "    <tr>\n",
              "      <th>2</th>\n",
              "      <td>2012-01-05</td>\n",
              "      <td>59.278572</td>\n",
              "      <td>59.792858</td>\n",
              "      <td>58.952858</td>\n",
              "      <td>59.718571</td>\n",
              "      <td>56.937424</td>\n",
              "      <td>67816805</td>\n",
              "    </tr>\n",
              "    <tr>\n",
              "      <th>3</th>\n",
              "      <td>2012-01-06</td>\n",
              "      <td>59.967140</td>\n",
              "      <td>60.392857</td>\n",
              "      <td>59.888573</td>\n",
              "      <td>60.342857</td>\n",
              "      <td>57.532646</td>\n",
              "      <td>79596412</td>\n",
              "    </tr>\n",
              "    <tr>\n",
              "      <th>4</th>\n",
              "      <td>2012-01-09</td>\n",
              "      <td>60.788570</td>\n",
              "      <td>61.107143</td>\n",
              "      <td>60.192856</td>\n",
              "      <td>60.247143</td>\n",
              "      <td>57.441391</td>\n",
              "      <td>98505792</td>\n",
              "    </tr>\n",
              "    <tr>\n",
              "      <th>...</th>\n",
              "      <td>...</td>\n",
              "      <td>...</td>\n",
              "      <td>...</td>\n",
              "      <td>...</td>\n",
              "      <td>...</td>\n",
              "      <td>...</td>\n",
              "      <td>...</td>\n",
              "    </tr>\n",
              "    <tr>\n",
              "      <th>2013</th>\n",
              "      <td>2020-01-03</td>\n",
              "      <td>297.149994</td>\n",
              "      <td>300.579987</td>\n",
              "      <td>296.500000</td>\n",
              "      <td>297.429993</td>\n",
              "      <td>293.598297</td>\n",
              "      <td>36633878</td>\n",
              "    </tr>\n",
              "    <tr>\n",
              "      <th>2014</th>\n",
              "      <td>2020-01-06</td>\n",
              "      <td>293.790009</td>\n",
              "      <td>299.959991</td>\n",
              "      <td>292.750000</td>\n",
              "      <td>299.799988</td>\n",
              "      <td>295.937744</td>\n",
              "      <td>29644644</td>\n",
              "    </tr>\n",
              "    <tr>\n",
              "      <th>2015</th>\n",
              "      <td>2020-01-07</td>\n",
              "      <td>299.839996</td>\n",
              "      <td>300.899994</td>\n",
              "      <td>297.480011</td>\n",
              "      <td>298.390015</td>\n",
              "      <td>294.545959</td>\n",
              "      <td>26207813</td>\n",
              "    </tr>\n",
              "    <tr>\n",
              "      <th>2016</th>\n",
              "      <td>2020-01-08</td>\n",
              "      <td>297.160004</td>\n",
              "      <td>304.439911</td>\n",
              "      <td>297.156006</td>\n",
              "      <td>303.190002</td>\n",
              "      <td>299.284088</td>\n",
              "      <td>33090946</td>\n",
              "    </tr>\n",
              "    <tr>\n",
              "      <th>2017</th>\n",
              "      <td>2020-01-09</td>\n",
              "      <td>307.234985</td>\n",
              "      <td>310.429993</td>\n",
              "      <td>306.200012</td>\n",
              "      <td>309.630005</td>\n",
              "      <td>305.641113</td>\n",
              "      <td>42621542</td>\n",
              "    </tr>\n",
              "  </tbody>\n",
              "</table>\n",
              "<p>2018 rows × 7 columns</p>\n",
              "</div>\n",
              "      <button class=\"colab-df-convert\" onclick=\"convertToInteractive('df-4e4dc2e6-2d57-415f-b491-27d1a2b5f8c0')\"\n",
              "              title=\"Convert this dataframe to an interactive table.\"\n",
              "              style=\"display:none;\">\n",
              "        \n",
              "  <svg xmlns=\"http://www.w3.org/2000/svg\" height=\"24px\"viewBox=\"0 0 24 24\"\n",
              "       width=\"24px\">\n",
              "    <path d=\"M0 0h24v24H0V0z\" fill=\"none\"/>\n",
              "    <path d=\"M18.56 5.44l.94 2.06.94-2.06 2.06-.94-2.06-.94-.94-2.06-.94 2.06-2.06.94zm-11 1L8.5 8.5l.94-2.06 2.06-.94-2.06-.94L8.5 2.5l-.94 2.06-2.06.94zm10 10l.94 2.06.94-2.06 2.06-.94-2.06-.94-.94-2.06-.94 2.06-2.06.94z\"/><path d=\"M17.41 7.96l-1.37-1.37c-.4-.4-.92-.59-1.43-.59-.52 0-1.04.2-1.43.59L10.3 9.45l-7.72 7.72c-.78.78-.78 2.05 0 2.83L4 21.41c.39.39.9.59 1.41.59.51 0 1.02-.2 1.41-.59l7.78-7.78 2.81-2.81c.8-.78.8-2.07 0-2.86zM5.41 20L4 18.59l7.72-7.72 1.47 1.35L5.41 20z\"/>\n",
              "  </svg>\n",
              "      </button>\n",
              "      \n",
              "  <style>\n",
              "    .colab-df-container {\n",
              "      display:flex;\n",
              "      flex-wrap:wrap;\n",
              "      gap: 12px;\n",
              "    }\n",
              "\n",
              "    .colab-df-convert {\n",
              "      background-color: #E8F0FE;\n",
              "      border: none;\n",
              "      border-radius: 50%;\n",
              "      cursor: pointer;\n",
              "      display: none;\n",
              "      fill: #1967D2;\n",
              "      height: 32px;\n",
              "      padding: 0 0 0 0;\n",
              "      width: 32px;\n",
              "    }\n",
              "\n",
              "    .colab-df-convert:hover {\n",
              "      background-color: #E2EBFA;\n",
              "      box-shadow: 0px 1px 2px rgba(60, 64, 67, 0.3), 0px 1px 3px 1px rgba(60, 64, 67, 0.15);\n",
              "      fill: #174EA6;\n",
              "    }\n",
              "\n",
              "    [theme=dark] .colab-df-convert {\n",
              "      background-color: #3B4455;\n",
              "      fill: #D2E3FC;\n",
              "    }\n",
              "\n",
              "    [theme=dark] .colab-df-convert:hover {\n",
              "      background-color: #434B5C;\n",
              "      box-shadow: 0px 1px 3px 1px rgba(0, 0, 0, 0.15);\n",
              "      filter: drop-shadow(0px 1px 2px rgba(0, 0, 0, 0.3));\n",
              "      fill: #FFFFFF;\n",
              "    }\n",
              "  </style>\n",
              "\n",
              "      <script>\n",
              "        const buttonEl =\n",
              "          document.querySelector('#df-4e4dc2e6-2d57-415f-b491-27d1a2b5f8c0 button.colab-df-convert');\n",
              "        buttonEl.style.display =\n",
              "          google.colab.kernel.accessAllowed ? 'block' : 'none';\n",
              "\n",
              "        async function convertToInteractive(key) {\n",
              "          const element = document.querySelector('#df-4e4dc2e6-2d57-415f-b491-27d1a2b5f8c0');\n",
              "          const dataTable =\n",
              "            await google.colab.kernel.invokeFunction('convertToInteractive',\n",
              "                                                     [key], {});\n",
              "          if (!dataTable) return;\n",
              "\n",
              "          const docLinkHtml = 'Like what you see? Visit the ' +\n",
              "            '<a target=\"_blank\" href=https://colab.research.google.com/notebooks/data_table.ipynb>data table notebook</a>'\n",
              "            + ' to learn more about interactive tables.';\n",
              "          element.innerHTML = '';\n",
              "          dataTable['output_type'] = 'display_data';\n",
              "          await google.colab.output.renderOutput(dataTable, element);\n",
              "          const docLink = document.createElement('div');\n",
              "          docLink.innerHTML = docLinkHtml;\n",
              "          element.appendChild(docLink);\n",
              "        }\n",
              "      </script>\n",
              "    </div>\n",
              "  </div>\n",
              "  "
            ],
            "text/plain": [
              "            Date        Open        High  ...       Close   Adj Close    Volume\n",
              "0     2012-01-03   58.500000   58.928570  ...   58.747143   56.011238  75564699\n",
              "1     2012-01-04   58.599998   59.240002  ...   59.062859   56.312252  65061108\n",
              "2     2012-01-05   59.278572   59.792858  ...   59.718571   56.937424  67816805\n",
              "3     2012-01-06   59.967140   60.392857  ...   60.342857   57.532646  79596412\n",
              "4     2012-01-09   60.788570   61.107143  ...   60.247143   57.441391  98505792\n",
              "...          ...         ...         ...  ...         ...         ...       ...\n",
              "2013  2020-01-03  297.149994  300.579987  ...  297.429993  293.598297  36633878\n",
              "2014  2020-01-06  293.790009  299.959991  ...  299.799988  295.937744  29644644\n",
              "2015  2020-01-07  299.839996  300.899994  ...  298.390015  294.545959  26207813\n",
              "2016  2020-01-08  297.160004  304.439911  ...  303.190002  299.284088  33090946\n",
              "2017  2020-01-09  307.234985  310.429993  ...  309.630005  305.641113  42621542\n",
              "\n",
              "[2018 rows x 7 columns]"
            ]
          },
          "metadata": {},
          "execution_count": 8
        }
      ]
    },
    {
      "cell_type": "code",
      "source": [
        "data.head(), data.tail()"
      ],
      "metadata": {
        "id": "wRXRD6i0tf98",
        "colab": {
          "base_uri": "https://localhost:8080/"
        },
        "outputId": "f6b09bde-6981-43be-a19b-c321f9c82069"
      },
      "execution_count": 9,
      "outputs": [
        {
          "output_type": "execute_result",
          "data": {
            "text/plain": [
              "(         Date       Open       High        Low      Close  Adj Close    Volume\n",
              " 0  2012-01-03  58.500000  58.928570  58.428570  58.747143  56.011238  75564699\n",
              " 1  2012-01-04  58.599998  59.240002  58.468571  59.062859  56.312252  65061108\n",
              " 2  2012-01-05  59.278572  59.792858  58.952858  59.718571  56.937424  67816805\n",
              " 3  2012-01-06  59.967140  60.392857  59.888573  60.342857  57.532646  79596412\n",
              " 4  2012-01-09  60.788570  61.107143  60.192856  60.247143  57.441391  98505792,\n",
              "             Date        Open        High  ...       Close   Adj Close    Volume\n",
              " 2013  2020-01-03  297.149994  300.579987  ...  297.429993  293.598297  36633878\n",
              " 2014  2020-01-06  293.790009  299.959991  ...  299.799988  295.937744  29644644\n",
              " 2015  2020-01-07  299.839996  300.899994  ...  298.390015  294.545959  26207813\n",
              " 2016  2020-01-08  297.160004  304.439911  ...  303.190002  299.284088  33090946\n",
              " 2017  2020-01-09  307.234985  310.429993  ...  309.630005  305.641113  42621542\n",
              " \n",
              " [5 rows x 7 columns])"
            ]
          },
          "metadata": {},
          "execution_count": 9
        }
      ]
    },
    {
      "cell_type": "code",
      "source": [
        "open_price = data.iloc[:,1:2]\n",
        "train_set = open_price[:2000].values\n",
        "test_set = open_price[2000:].values\n",
        "print(\"Train size: \",train_set.shape)\n",
        "print(\"Test size:\",test_set.shape)"
      ],
      "metadata": {
        "id": "z8HEFFbwnABu",
        "colab": {
          "base_uri": "https://localhost:8080/"
        },
        "outputId": "31b8cda5-82f4-4e4a-e1f5-bb064757ccc6"
      },
      "execution_count": 71,
      "outputs": [
        {
          "output_type": "stream",
          "name": "stdout",
          "text": [
            "Train size:  (2000, 1)\n",
            "Test size: (18, 1)\n"
          ]
        }
      ]
    },
    {
      "cell_type": "code",
      "source": [
        "dates = pd.to_datetime(data['Date'])\n",
        "plt.plot_date(dates,open_price,fmt='-')\n",
        "plt.savefig(\"Bitcoin.jpg\")"
      ],
      "metadata": {
        "id": "FRSyLJwokusV",
        "colab": {
          "base_uri": "https://localhost:8080/",
          "height": 265
        },
        "outputId": "e5131da6-75fc-4bc3-a993-ef4fe9695b00"
      },
      "execution_count": 72,
      "outputs": [
        {
          "output_type": "display_data",
          "data": {
            "image/png": "[encoded data removed]",
            "text/plain": [
              "<Figure size 432x288 with 1 Axes>"
            ]
          },
          "metadata": {
            "needs_background": "light"
          }
        }
      ]
    },
    {
      "cell_type": "code",
      "source": [
        "len(data)"
      ],
      "metadata": {
        "id": "FXsrX6O2p8uZ",
        "colab": {
          "base_uri": "https://localhost:8080/"
        },
        "outputId": "8745bed4-9642-46ce-f8e6-47482ef059ba"
      },
      "execution_count": 73,
      "outputs": [
        {
          "output_type": "execute_result",
          "data": {
            "text/plain": [
              "2018"
            ]
          },
          "metadata": {},
          "execution_count": 73
        }
      ]
    },
    {
      "cell_type": "code",
      "source": [
        "import numpy as np\n",
        "import pandas as pd\n",
        "import matplotlib.pyplot as plt\n",
        "%matplotlib inline\n",
        "from sklearn.preprocessing import MinMaxScaler\n",
        "from keras.preprocessing.sequence import TimeseriesGenerator\n",
        "from keras.models import Sequential\n",
        "from keras.layers import Dense\n",
        "from keras.layers import LSTM\n",
        "from keras.layers import Dropout\n",
        "from tensorflow import keras\n",
        "import warnings\n",
        "warnings.filterwarnings(\"ignore\")"
      ],
      "metadata": {
        "id": "Z-1uvn8YbMUv"
      },
      "execution_count": 74,
      "outputs": []
    },
    {
      "cell_type": "code",
      "source": [
        "#Import dataset\n",
        "\n",
        "#data_end = int(np.floor(1*(data.shape[0])))\n",
        "data_end = 2018\n",
        "#train = data[0:data_end]['Adj Close']\n",
        "train = data[0:data_end]['Adj Close']\n",
        "train =train.values.reshape(-1)\n",
        "#test = data[data_end:]['Adj Close'].values.reshape(-1)\n",
        "test = data[data_end:]['Adj Close'].values.reshape(-1)\n",
        "date_test = data[data_end:]['Date'].values.reshape(-1)\n",
        "print(\"Train size: \",train.shape)\n",
        "print(\"Test size:\",test.shape)"
      ],
      "metadata": {
        "colab": {
          "base_uri": "https://localhost:8080/"
        },
        "id": "sLQj38QCbxbj",
        "outputId": "5208f098-d5b3-4b65-8553-f1718ebfc8bb"
      },
      "execution_count": null,
      "outputs": [
        {
          "output_type": "stream",
          "name": "stdout",
          "text": [
            "Train size:  (2018,)\n",
            "Test size: (0,)\n"
          ]
        }
      ]
    },
    {
      "cell_type": "code",
      "source": [
        "def get_data(train,test,time_step,num_predict,date):\n",
        "  x_train= list()\n",
        "  y_train = list()\n",
        "  x_test = list()\n",
        "  y_test = list()\n",
        "  date_test= list()\n",
        "\n",
        "  for i in range(0,len(train) - time_step - num_predict):\n",
        "    x_train.append(train[i:i+time_step])\n",
        "    y_train.append(train[i+time_step:i+time_step+num_predict])\n",
        "\n",
        "  for i in range(0, len(test) - time_step - num_predict):\n",
        "    x_test.append(test[i:i+time_step])\n",
        "    y_test.append(test[i+time_step:i+time_step+num_predict])\n",
        "    date_test.append(date[i+time_step:i+time_step+num_predict])\n",
        "  \n",
        "  return np.asarray(x_train), np.asarray(y_train), np.asarray(x_test), np.asarray(y_test), np.asarray(date_test)"
      ],
      "metadata": {
        "id": "nFxtxue9bGu9"
      },
      "execution_count": 75,
      "outputs": []
    },
    {
      "cell_type": "code",
      "source": [
        "from sklearn.preprocessing import MinMaxScaler\n",
        "x_train, y_train, x_test, y_test, date_test = get_data(train_set,test_set,2018,1, dates)\n",
        "\n",
        "# dua ve 0->1 cho tap train\n",
        "scaler = MinMaxScaler()\n",
        "x_train = x_train.reshape(-1,2018)\n",
        "y_train = x_train.reshape(-1,1)\n",
        "\n",
        "#train_set_scaled = scaler.fit_transform(train_set)\n",
        "\n",
        "x_train = scaler.fit_transform(train_set)\n",
        "y_train = scaler.fit_transform(train_set)\n",
        "\n",
        "# dua ve 0->1 cho tap test\n",
        "x_test = x_test.reshape(-1,2018)\n",
        "y_test = y_test.reshape(-1,1)\n",
        "\n",
        "#x_test = scaler.fit_transform(train_set)\n",
        "x_test = scaler.fit_transform(test_set)\n",
        "y_test = scaler.fit_transform(test_set)\n",
        "\n",
        "\n",
        "date_test = date_test.reshape(-1,1)"
      ],
      "metadata": {
        "id": "E8AXxqhVfDi3"
      },
      "execution_count": 79,
      "outputs": []
    },
    {
      "cell_type": "code",
      "source": [
        "from sklearn.preprocessing import MinMaxScaler\n",
        "x_train, y_train, x_test, y_test, date_test = get_data(train,test,30,1, date_test)\n",
        "\n",
        "# dua ve 0->1 cho tap train\n",
        "scaler = MinMaxScaler()\n",
        "x_train = x_train.reshape(-1,30)\n",
        "y_train = y_train.reshape(-1,1)\n",
        "\n",
        "x_train = scaler.fit_transform(x_train)\n",
        "y_train = scaler.fit_transform(y_train)\n",
        "\n",
        "# dua ve 0->1 cho tap test\n",
        "x_test = x_test.reshape(-1,1)\n",
        "y_test = y_test.reshape(-1,1)\n",
        "\n",
        "x_test = scaler.fit_transform(test)\n",
        "y_test = scaler.fit_transform(y_test)\n",
        "\n",
        "date_test = date_test.reshape(-1,1)"
      ],
      "metadata": {
        "id": "kdKaQY_xhSy0"
      },
      "execution_count": null,
      "outputs": []
    },
    {
      "cell_type": "code",
      "source": [
        "from keras import Sequential\n",
        "from keras.layers import LSTM\n",
        "from keras.layers import Dropout,Dense\n",
        "#dau vao 202 doan 1\n",
        "n_input = 2018\n",
        "n_features = 1\n",
        "\n",
        "model = Sequential()\n",
        "model.add(LSTM(units=50,activation='relu', input_shape=(n_input, n_features), return_sequences=True))\n",
        "model.add(Dropout(0.3))\n",
        "\n",
        "model.add(LSTM(units=50, return_sequences=True))\n",
        "model.add(Dropout(0.3))\n",
        "\n",
        "model.add(LSTM(units=50))\n",
        "model.add(Dropout(0.3))\n",
        "model.add(Dense(1))\n"
      ],
      "metadata": {
        "id": "QZp7Ta8rfQOu"
      },
      "execution_count": 80,
      "outputs": []
    },
    {
      "cell_type": "code",
      "source": [
        "model.compile(optimizer='adam', loss='mse')"
      ],
      "metadata": {
        "id": "ebwmvH2cfQRy"
      },
      "execution_count": 81,
      "outputs": []
    },
    {
      "cell_type": "code",
      "source": [
        "model.summary()"
      ],
      "metadata": {
        "id": "dQ3m1WfnykU7",
        "colab": {
          "base_uri": "https://localhost:8080/"
        },
        "outputId": "12a3b10b-902e-4a72-c687-6e803723a290"
      },
      "execution_count": 82,
      "outputs": [
        {
          "output_type": "stream",
          "name": "stdout",
          "text": [
            "Model: \"sequential_3\"\n",
            "_________________________________________________________________\n",
            " Layer (type)                Output Shape              Param #   \n",
            "=================================================================\n",
            " lstm_9 (LSTM)               (None, 2018, 50)          10400     \n",
            "                                                                 \n",
            " dropout_9 (Dropout)         (None, 2018, 50)          0         \n",
            "                                                                 \n",
            " lstm_10 (LSTM)              (None, 2018, 50)          20200     \n",
            "                                                                 \n",
            " dropout_10 (Dropout)        (None, 2018, 50)          0         \n",
            "                                                                 \n",
            " lstm_11 (LSTM)              (None, 50)                20200     \n",
            "                                                                 \n",
            " dropout_11 (Dropout)        (None, 50)                0         \n",
            "                                                                 \n",
            " dense_3 (Dense)             (None, 1)                 51        \n",
            "                                                                 \n",
            "=================================================================\n",
            "Total params: 50,851\n",
            "Trainable params: 50,851\n",
            "Non-trainable params: 0\n",
            "_________________________________________________________________\n"
          ]
        }
      ]
    },
    {
      "cell_type": "code",
      "source": [
        "history=model.fit(x_train, y_train, epochs=20, validation_split=0.2, verbose=1, batch_size=30)\n",
        "model.save('/content/driver/My Drive/LSTM_Model/lstm_test')"
      ],
      "metadata": {
        "id": "oDHhWqHYg4WW",
        "colab": {
          "base_uri": "https://localhost:8080/"
        },
        "outputId": "3278f209-5146-4742-ca2c-54f6ee4344dc"
      },
      "execution_count": 83,
      "outputs": [
        {
          "output_type": "stream",
          "name": "stdout",
          "text": [
            "Epoch 1/20\n",
            "WARNING:tensorflow:Model was constructed with shape (None, 2018, 1) for input KerasTensor(type_spec=TensorSpec(shape=(None, 2018, 1), dtype=tf.float32, name='lstm_9_input'), name='lstm_9_input', description=\"created by layer 'lstm_9_input'\"), but it was called on an input with incompatible shape (None, 1, 1).\n"
          ]
        },
        {
          "output_type": "stream",
          "name": "stderr",
          "text": [
            "WARNING:tensorflow:Model was constructed with shape (None, 2018, 1) for input KerasTensor(type_spec=TensorSpec(shape=(None, 2018, 1), dtype=tf.float32, name='lstm_9_input'), name='lstm_9_input', description=\"created by layer 'lstm_9_input'\"), but it was called on an input with incompatible shape (None, 1, 1).\n"
          ]
        },
        {
          "output_type": "stream",
          "name": "stdout",
          "text": [
            "WARNING:tensorflow:Model was constructed with shape (None, 2018, 1) for input KerasTensor(type_spec=TensorSpec(shape=(None, 2018, 1), dtype=tf.float32, name='lstm_9_input'), name='lstm_9_input', description=\"created by layer 'lstm_9_input'\"), but it was called on an input with incompatible shape (None, 1, 1).\n"
          ]
        },
        {
          "output_type": "stream",
          "name": "stderr",
          "text": [
            "WARNING:tensorflow:Model was constructed with shape (None, 2018, 1) for input KerasTensor(type_spec=TensorSpec(shape=(None, 2018, 1), dtype=tf.float32, name='lstm_9_input'), name='lstm_9_input', description=\"created by layer 'lstm_9_input'\"), but it was called on an input with incompatible shape (None, 1, 1).\n"
          ]
        },
        {
          "output_type": "stream",
          "name": "stdout",
          "text": [
            "50/54 [==========================>...] - ETA: 0s - loss: 0.0427WARNING:tensorflow:Model was constructed with shape (None, 2018, 1) for input KerasTensor(type_spec=TensorSpec(shape=(None, 2018, 1), dtype=tf.float32, name='lstm_9_input'), name='lstm_9_input', description=\"created by layer 'lstm_9_input'\"), but it was called on an input with incompatible shape (None, 1, 1).\n"
          ]
        },
        {
          "output_type": "stream",
          "name": "stderr",
          "text": [
            "WARNING:tensorflow:Model was constructed with shape (None, 2018, 1) for input KerasTensor(type_spec=TensorSpec(shape=(None, 2018, 1), dtype=tf.float32, name='lstm_9_input'), name='lstm_9_input', description=\"created by layer 'lstm_9_input'\"), but it was called on an input with incompatible shape (None, 1, 1).\n"
          ]
        },
        {
          "output_type": "stream",
          "name": "stdout",
          "text": [
            "54/54 [==============================] - 7s 30ms/step - loss: 0.0413 - val_loss: 0.1393\n",
            "Epoch 2/20\n",
            "54/54 [==============================] - 0s 9ms/step - loss: 0.0180 - val_loss: 0.0996\n",
            "Epoch 3/20\n",
            "54/54 [==============================] - 0s 8ms/step - loss: 0.0088 - val_loss: 0.0015\n",
            "Epoch 4/20\n",
            "54/54 [==============================] - 0s 8ms/step - loss: 0.0030 - val_loss: 0.0037\n",
            "Epoch 5/20\n",
            "54/54 [==============================] - 0s 8ms/step - loss: 0.0027 - val_loss: 0.0045\n",
            "Epoch 6/20\n",
            "54/54 [==============================] - 0s 8ms/step - loss: 0.0026 - val_loss: 0.0011\n",
            "Epoch 7/20\n",
            "54/54 [==============================] - 0s 7ms/step - loss: 0.0024 - val_loss: 0.0018\n",
            "Epoch 8/20\n",
            "54/54 [==============================] - 0s 8ms/step - loss: 0.0026 - val_loss: 7.5289e-04\n",
            "Epoch 9/20\n",
            "54/54 [==============================] - 0s 8ms/step - loss: 0.0022 - val_loss: 2.4215e-04\n",
            "Epoch 10/20\n",
            "54/54 [==============================] - 0s 8ms/step - loss: 0.0025 - val_loss: 1.2486e-04\n",
            "Epoch 11/20\n",
            "54/54 [==============================] - 0s 8ms/step - loss: 0.0021 - val_loss: 1.5135e-05\n",
            "Epoch 12/20\n",
            "54/54 [==============================] - 0s 8ms/step - loss: 0.0021 - val_loss: 2.4425e-04\n",
            "Epoch 13/20\n",
            "54/54 [==============================] - 0s 8ms/step - loss: 0.0019 - val_loss: 3.9605e-04\n",
            "Epoch 14/20\n",
            "54/54 [==============================] - 0s 8ms/step - loss: 0.0018 - val_loss: 7.8462e-04\n",
            "Epoch 15/20\n",
            "54/54 [==============================] - 0s 9ms/step - loss: 0.0018 - val_loss: 0.0013\n",
            "Epoch 16/20\n",
            "54/54 [==============================] - 0s 8ms/step - loss: 0.0019 - val_loss: 0.0022\n",
            "Epoch 17/20\n",
            "54/54 [==============================] - 0s 8ms/step - loss: 0.0017 - val_loss: 0.0039\n",
            "Epoch 18/20\n",
            "54/54 [==============================] - 0s 8ms/step - loss: 0.0018 - val_loss: 0.0029\n",
            "Epoch 19/20\n",
            "54/54 [==============================] - 0s 7ms/step - loss: 0.0016 - val_loss: 0.0047\n",
            "Epoch 20/20\n",
            "54/54 [==============================] - 0s 8ms/step - loss: 0.0017 - val_loss: 0.0044\n"
          ]
        },
        {
          "output_type": "stream",
          "name": "stderr",
          "text": [
            "WARNING:absl:Found untraced functions such as lstm_cell_25_layer_call_fn, lstm_cell_25_layer_call_and_return_conditional_losses, lstm_cell_26_layer_call_fn, lstm_cell_26_layer_call_and_return_conditional_losses, lstm_cell_25_layer_call_fn while saving (showing 5 of 10). These functions will not be directly callable after loading.\n"
          ]
        },
        {
          "output_type": "stream",
          "name": "stdout",
          "text": [
            "INFO:tensorflow:Assets written to: /content/driver/My Drive/LSTM_Model/lstm_test/assets\n"
          ]
        },
        {
          "output_type": "stream",
          "name": "stderr",
          "text": [
            "INFO:tensorflow:Assets written to: /content/driver/My Drive/LSTM_Model/lstm_test/assets\n",
            "WARNING:absl:<keras.layers.recurrent.LSTMCell object at 0x7fa1c5769cd0> has the same name 'LSTMCell' as a built-in Keras object. Consider renaming <class 'keras.layers.recurrent.LSTMCell'> to avoid naming conflicts when loading with `tf.keras.models.load_model`. If renaming is not possible, pass the object in the `custom_objects` parameter of the load function.\n",
            "WARNING:absl:<keras.layers.recurrent.LSTMCell object at 0x7fa1cc0d0b50> has the same name 'LSTMCell' as a built-in Keras object. Consider renaming <class 'keras.layers.recurrent.LSTMCell'> to avoid naming conflicts when loading with `tf.keras.models.load_model`. If renaming is not possible, pass the object in the `custom_objects` parameter of the load function.\n",
            "WARNING:absl:<keras.layers.recurrent.LSTMCell object at 0x7fa1cc077210> has the same name 'LSTMCell' as a built-in Keras object. Consider renaming <class 'keras.layers.recurrent.LSTMCell'> to avoid naming conflicts when loading with `tf.keras.models.load_model`. If renaming is not possible, pass the object in the `custom_objects` parameter of the load function.\n"
          ]
        }
      ]
    },
    {
      "cell_type": "code",
      "source": [
        "plt.plot(history.history['loss'])\n",
        "plt.plot(history.history['val_loss'])\n",
        "plt.title('model loss')\n",
        "plt.ylabel('loss')\n",
        "plt.xlabel('epoch')\n",
        "plt.legend(['train','test'], loc= 'upper left')\n",
        "plt.show()"
      ],
      "metadata": {
        "colab": {
          "base_uri": "https://localhost:8080/",
          "height": 295
        },
        "id": "5VhMvVFtoMoa",
        "outputId": "a9b4d821-ad9b-42f3-f448-9848fd1701b4"
      },
      "execution_count": 84,
      "outputs": [
        {
          "output_type": "display_data",
          "data": {
            "image/png": "[encoded data removed]",
            "text/plain": [
              "<Figure size 432x288 with 1 Axes>"
            ]
          },
          "metadata": {
            "needs_background": "light"
          }
        }
      ]
    },
    {
      "cell_type": "code",
      "source": [
        "import matplotlib.pyplot as plt\n",
        "import keras\n",
        "model = keras.models.load_model('/content/driver/My Drive/LSTM_Model/lstm_test')\n",
        "\n",
        "test_output = model.predict(x_test)\n",
        "#test_output = model.predict(x_train)\n",
        "# print(test_output)\n",
        "test_1 = scaler.inverse_transform(test_output)\n",
        "test_2 = scaler.inverse_transform(y_test)\n",
        "plt.plot(test_1[:2000], color='r')\n",
        "plt.plot(test_2[:2000] ,color='b')\n",
        "plt.title(\"BITCOIN\")\n",
        "#plt.xlabel(\"STT\")\n",
        "plt.ylabel(\"Price\")\n",
        "plt.legend(('prediction', 'reality'),loc='upper right')\n",
        "plt.show()"
      ],
      "metadata": {
        "colab": {
          "base_uri": "https://localhost:8080/",
          "height": 336
        },
        "id": "y8LCBONtg4gK",
        "outputId": "1fec5d79-c0c2-40c3-eed8-b844049a9dcc"
      },
      "execution_count": 85,
      "outputs": [
        {
          "output_type": "stream",
          "name": "stdout",
          "text": [
            "WARNING:tensorflow:Model was constructed with shape (None, 2018, 1) for input KerasTensor(type_spec=TensorSpec(shape=(None, 2018, 1), dtype=tf.float32, name='lstm_9_input'), name='lstm_9_input', description=\"created by layer 'lstm_9_input'\"), but it was called on an input with incompatible shape (None, 1, 1).\n"
          ]
        },
        {
          "output_type": "stream",
          "name": "stderr",
          "text": [
            "WARNING:tensorflow:Model was constructed with shape (None, 2018, 1) for input KerasTensor(type_spec=TensorSpec(shape=(None, 2018, 1), dtype=tf.float32, name='lstm_9_input'), name='lstm_9_input', description=\"created by layer 'lstm_9_input'\"), but it was called on an input with incompatible shape (None, 1, 1).\n"
          ]
        },
        {
          "output_type": "display_data",
          "data": {
            "image/png": "[encoded data removed]",
            "text/plain": [
              "<Figure size 432x288 with 1 Axes>"
            ]
          },
          "metadata": {
            "needs_background": "light"
          }
        }
      ]
    },
    {
      "cell_type": "code",
      "source": [
        "test_1 = scaler.inverse_transform(test_output)\n",
        "test_2 = scaler.inverse_transform(y_test)\n",
        "print(test_1)\n",
        "print(test_2)"
      ],
      "metadata": {
        "id": "rt3l049FiwEo",
        "colab": {
          "base_uri": "https://localhost:8080/"
        },
        "outputId": "cd122754-897c-4605-f984-e78b112c4a1c"
      },
      "execution_count": 86,
      "outputs": [
        {
          "output_type": "stream",
          "name": "stdout",
          "text": [
            "[[273.68845]\n",
            " [276.8629 ]\n",
            " [279.60132]\n",
            " [279.8419 ]\n",
            " [279.52792]\n",
            " [282.334  ]\n",
            " [280.60025]\n",
            " [284.75632]\n",
            " [284.88132]\n",
            " [290.5337 ]\n",
            " [289.12494]\n",
            " [289.5299 ]\n",
            " [294.48346]\n",
            " [295.12054]\n",
            " [292.66977]\n",
            " [296.88602]\n",
            " [295.12744]\n",
            " [300.82877]]\n",
            "[[271.459991]\n",
            " [277.      ]\n",
            " [279.570007]\n",
            " [279.799988]\n",
            " [279.5     ]\n",
            " [282.230011]\n",
            " [280.529999]\n",
            " [284.690002]\n",
            " [284.820007]\n",
            " [291.119995]\n",
            " [289.459991]\n",
            " [289.929993]\n",
            " [296.23999 ]\n",
            " [297.149994]\n",
            " [293.790009]\n",
            " [299.839996]\n",
            " [297.160004]\n",
            " [307.234985]]\n"
          ]
        }
      ]
    },
    {
      "cell_type": "code",
      "source": [
        "# Đánh giá mô hình\n",
        "score = model.evaluate(x_test, y_test,verbose=1, batch_size = 30)\n",
        "print('Test Score', score)"
      ],
      "metadata": {
        "colab": {
          "base_uri": "https://localhost:8080/"
        },
        "id": "lJOKItdnj1kz",
        "outputId": "cbea37d1-5339-4027-a67d-0de25e68ac70"
      },
      "execution_count": 87,
      "outputs": [
        {
          "output_type": "stream",
          "name": "stdout",
          "text": [
            "WARNING:tensorflow:Model was constructed with shape (None, 2018, 1) for input KerasTensor(type_spec=TensorSpec(shape=(None, 2018, 1), dtype=tf.float32, name='lstm_9_input'), name='lstm_9_input', description=\"created by layer 'lstm_9_input'\"), but it was called on an input with incompatible shape (None, 1, 1).\n"
          ]
        },
        {
          "output_type": "stream",
          "name": "stderr",
          "text": [
            "WARNING:tensorflow:Model was constructed with shape (None, 2018, 1) for input KerasTensor(type_spec=TensorSpec(shape=(None, 2018, 1), dtype=tf.float32, name='lstm_9_input'), name='lstm_9_input', description=\"created by layer 'lstm_9_input'\"), but it was called on an input with incompatible shape (None, 1, 1).\n"
          ]
        },
        {
          "output_type": "stream",
          "name": "stdout",
          "text": [
            "1/1 [==============================] - 1s 1s/step - loss: 0.0030\n",
            "Test Score 0.002951047383248806\n"
          ]
        }
      ]
    },
    {
      "cell_type": "code",
      "source": [
        "from sklearn.metrics import mean_squared_error\n",
        "from math import sqrt\n",
        "predictions= model.predict(x_test) \n",
        "mse = mean_squared_error(y_test, predictions)\n",
        "rmse = sqrt(mse)\n",
        "print('RMSE: %f' % rmse)"
      ],
      "metadata": {
        "colab": {
          "base_uri": "https://localhost:8080/"
        },
        "id": "V4ri-_ljxBYt",
        "outputId": "b7a06934-3bd4-4aba-a7cf-874d4918a249"
      },
      "execution_count": 88,
      "outputs": [
        {
          "output_type": "stream",
          "name": "stdout",
          "text": [
            "RMSE: 0.054324\n"
          ]
        }
      ]
    }
  ]
}