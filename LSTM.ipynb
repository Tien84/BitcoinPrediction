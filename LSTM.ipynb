{
  "nbformat": 4,
  "nbformat_minor": 0,
  "metadata": {
    "colab": {
      "provenance": [],
      "collapsed_sections": [],
      "authorship_tag": "ABX9TyNuV/5VyFw9ZhFomU1ym8eS",
      "include_colab_link": true
    },
    "kernelspec": {
      "name": "python3",
      "display_name": "Python 3"
    },
    "language_info": {
      "name": "python"
    }
  },
  "cells": [
    {
      "cell_type": "markdown",
      "metadata": {
        "id": "view-in-github",
        "colab_type": "text"
      },
      "source": [
        "<a href=\"https://colab.research.google.com/github/Tien84/BitcoinPrediction/blob/master/LSTM.ipynb\" target=\"_parent\"><img src=\"https://colab.research.google.com/assets/colab-badge.svg\" alt=\"Open In Colab\"/></a>"
      ]
    },
    {
      "cell_type": "code",
      "source": [
        "from keras.models import Sequential\n",
        "from keras.layers import Activation, Dense, Dropout, LSTM, Flatten, TimeDistributed, ConvLSTM2D\n",
        "from keras.layers.convolutional import Conv1D\n",
        "from keras.layers.convolutional import MaxPooling1D\n",
        "\n",
        "\n",
        "import matplotlib.pyplot as plt\n",
        "import numpy as np\n",
        "import pandas as pd\n",
        "import seaborn as sns\n",
        "from sklearn.metrics import mean_absolute_error\n",
        "%matplotlib inline"
      ],
      "metadata": {
        "id": "66MV5HtXcAKl"
      },
      "execution_count": null,
      "outputs": []
    },
    {
      "cell_type": "code",
      "source": [
        "hist = pd.read_csv('/content/driver/My Drive/DataSet/DataBitcoin.csv')\n",
        "hist = hist.set_index('Date')\n",
        "hist.index = pd.to_datetime(hist.index)\n",
        "target_col = 'Adj Close'"
      ],
      "metadata": {
        "id": "i7sufKKFcANa"
      },
      "execution_count": null,
      "outputs": []
    },
    {
      "cell_type": "code",
      "source": [
        "hist.head(5)"
      ],
      "metadata": {
        "colab": {
          "base_uri": "https://localhost:8080/",
          "height": 237
        },
        "id": "3Bc3iQ6VcAQz",
        "outputId": "c397609d-abef-488f-c1a0-a143571ad823"
      },
      "execution_count": null,
      "outputs": [
        {
          "output_type": "execute_result",
          "data": {
            "text/plain": [
              "                  Open        High         Low       Close   Adj Close  \\\n",
              "Date                                                                     \n",
              "2015-11-03  361.872986  417.899994  357.647003  403.416992  403.416992   \n",
              "2015-11-04  403.664001  495.562012  380.548004  411.562988  411.562988   \n",
              "2015-11-05  408.076996  447.561005  374.580994  386.354004  386.354004   \n",
              "2015-11-06  388.046997  395.835999  354.024994  374.470001  374.470001   \n",
              "2015-11-07  374.269012  390.585999  372.433014  386.481995  386.481995   \n",
              "\n",
              "               Volume  \n",
              "Date                   \n",
              "2015-11-03  206162000  \n",
              "2015-11-04  263900000  \n",
              "2015-11-05  151824992  \n",
              "2015-11-06  122687000  \n",
              "2015-11-07   56625100  "
            ],
            "text/html": [
              "\n",
              "  <div id=\"df-118042ff-66b1-4304-a376-8fc1e2def41f\">\n",
              "    <div class=\"colab-df-container\">\n",
              "      <div>\n",
              "<style scoped>\n",
              "    .dataframe tbody tr th:only-of-type {\n",
              "        vertical-align: middle;\n",
              "    }\n",
              "\n",
              "    .dataframe tbody tr th {\n",
              "        vertical-align: top;\n",
              "    }\n",
              "\n",
              "    .dataframe thead th {\n",
              "        text-align: right;\n",
              "    }\n",
              "</style>\n",
              "<table border=\"1\" class=\"dataframe\">\n",
              "  <thead>\n",
              "    <tr style=\"text-align: right;\">\n",
              "      <th></th>\n",
              "      <th>Open</th>\n",
              "      <th>High</th>\n",
              "      <th>Low</th>\n",
              "      <th>Close</th>\n",
              "      <th>Adj Close</th>\n",
              "      <th>Volume</th>\n",
              "    </tr>\n",
              "    <tr>\n",
              "      <th>Date</th>\n",
              "      <th></th>\n",
              "      <th></th>\n",
              "      <th></th>\n",
              "      <th></th>\n",
              "      <th></th>\n",
              "      <th></th>\n",
              "    </tr>\n",
              "  </thead>\n",
              "  <tbody>\n",
              "    <tr>\n",
              "      <th>2015-11-03</th>\n",
              "      <td>361.872986</td>\n",
              "      <td>417.899994</td>\n",
              "      <td>357.647003</td>\n",
              "      <td>403.416992</td>\n",
              "      <td>403.416992</td>\n",
              "      <td>206162000</td>\n",
              "    </tr>\n",
              "    <tr>\n",
              "      <th>2015-11-04</th>\n",
              "      <td>403.664001</td>\n",
              "      <td>495.562012</td>\n",
              "      <td>380.548004</td>\n",
              "      <td>411.562988</td>\n",
              "      <td>411.562988</td>\n",
              "      <td>263900000</td>\n",
              "    </tr>\n",
              "    <tr>\n",
              "      <th>2015-11-05</th>\n",
              "      <td>408.076996</td>\n",
              "      <td>447.561005</td>\n",
              "      <td>374.580994</td>\n",
              "      <td>386.354004</td>\n",
              "      <td>386.354004</td>\n",
              "      <td>151824992</td>\n",
              "    </tr>\n",
              "    <tr>\n",
              "      <th>2015-11-06</th>\n",
              "      <td>388.046997</td>\n",
              "      <td>395.835999</td>\n",
              "      <td>354.024994</td>\n",
              "      <td>374.470001</td>\n",
              "      <td>374.470001</td>\n",
              "      <td>122687000</td>\n",
              "    </tr>\n",
              "    <tr>\n",
              "      <th>2015-11-07</th>\n",
              "      <td>374.269012</td>\n",
              "      <td>390.585999</td>\n",
              "      <td>372.433014</td>\n",
              "      <td>386.481995</td>\n",
              "      <td>386.481995</td>\n",
              "      <td>56625100</td>\n",
              "    </tr>\n",
              "  </tbody>\n",
              "</table>\n",
              "</div>\n",
              "      <button class=\"colab-df-convert\" onclick=\"convertToInteractive('df-118042ff-66b1-4304-a376-8fc1e2def41f')\"\n",
              "              title=\"Convert this dataframe to an interactive table.\"\n",
              "              style=\"display:none;\">\n",
              "        \n",
              "  <svg xmlns=\"http://www.w3.org/2000/svg\" height=\"24px\"viewBox=\"0 0 24 24\"\n",
              "       width=\"24px\">\n",
              "    <path d=\"M0 0h24v24H0V0z\" fill=\"none\"/>\n",
              "    <path d=\"M18.56 5.44l.94 2.06.94-2.06 2.06-.94-2.06-.94-.94-2.06-.94 2.06-2.06.94zm-11 1L8.5 8.5l.94-2.06 2.06-.94-2.06-.94L8.5 2.5l-.94 2.06-2.06.94zm10 10l.94 2.06.94-2.06 2.06-.94-2.06-.94-.94-2.06-.94 2.06-2.06.94z\"/><path d=\"M17.41 7.96l-1.37-1.37c-.4-.4-.92-.59-1.43-.59-.52 0-1.04.2-1.43.59L10.3 9.45l-7.72 7.72c-.78.78-.78 2.05 0 2.83L4 21.41c.39.39.9.59 1.41.59.51 0 1.02-.2 1.41-.59l7.78-7.78 2.81-2.81c.8-.78.8-2.07 0-2.86zM5.41 20L4 18.59l7.72-7.72 1.47 1.35L5.41 20z\"/>\n",
              "  </svg>\n",
              "      </button>\n",
              "      \n",
              "  <style>\n",
              "    .colab-df-container {\n",
              "      display:flex;\n",
              "      flex-wrap:wrap;\n",
              "      gap: 12px;\n",
              "    }\n",
              "\n",
              "    .colab-df-convert {\n",
              "      background-color: #E8F0FE;\n",
              "      border: none;\n",
              "      border-radius: 50%;\n",
              "      cursor: pointer;\n",
              "      display: none;\n",
              "      fill: #1967D2;\n",
              "      height: 32px;\n",
              "      padding: 0 0 0 0;\n",
              "      width: 32px;\n",
              "    }\n",
              "\n",
              "    .colab-df-convert:hover {\n",
              "      background-color: #E2EBFA;\n",
              "      box-shadow: 0px 1px 2px rgba(60, 64, 67, 0.3), 0px 1px 3px 1px rgba(60, 64, 67, 0.15);\n",
              "      fill: #174EA6;\n",
              "    }\n",
              "\n",
              "    [theme=dark] .colab-df-convert {\n",
              "      background-color: #3B4455;\n",
              "      fill: #D2E3FC;\n",
              "    }\n",
              "\n",
              "    [theme=dark] .colab-df-convert:hover {\n",
              "      background-color: #434B5C;\n",
              "      box-shadow: 0px 1px 3px 1px rgba(0, 0, 0, 0.15);\n",
              "      filter: drop-shadow(0px 1px 2px rgba(0, 0, 0, 0.3));\n",
              "      fill: #FFFFFF;\n",
              "    }\n",
              "  </style>\n",
              "\n",
              "      <script>\n",
              "        const buttonEl =\n",
              "          document.querySelector('#df-118042ff-66b1-4304-a376-8fc1e2def41f button.colab-df-convert');\n",
              "        buttonEl.style.display =\n",
              "          google.colab.kernel.accessAllowed ? 'block' : 'none';\n",
              "\n",
              "        async function convertToInteractive(key) {\n",
              "          const element = document.querySelector('#df-118042ff-66b1-4304-a376-8fc1e2def41f');\n",
              "          const dataTable =\n",
              "            await google.colab.kernel.invokeFunction('convertToInteractive',\n",
              "                                                     [key], {});\n",
              "          if (!dataTable) return;\n",
              "\n",
              "          const docLinkHtml = 'Like what you see? Visit the ' +\n",
              "            '<a target=\"_blank\" href=https://colab.research.google.com/notebooks/data_table.ipynb>data table notebook</a>'\n",
              "            + ' to learn more about interactive tables.';\n",
              "          element.innerHTML = '';\n",
              "          dataTable['output_type'] = 'display_data';\n",
              "          await google.colab.output.renderOutput(dataTable, element);\n",
              "          const docLink = document.createElement('div');\n",
              "          docLink.innerHTML = docLinkHtml;\n",
              "          element.appendChild(docLink);\n",
              "        }\n",
              "      </script>\n",
              "    </div>\n",
              "  </div>\n",
              "  "
            ]
          },
          "metadata": {},
          "execution_count": 59
        }
      ]
    },
    {
      "cell_type": "code",
      "source": [
        "hist.tail(5)"
      ],
      "metadata": {
        "colab": {
          "base_uri": "https://localhost:8080/",
          "height": 237
        },
        "id": "f3mRQF7VcASy",
        "outputId": "80aaffae-ab56-4e0d-a4c0-9c81ad6f7465"
      },
      "execution_count": null,
      "outputs": [
        {
          "output_type": "execute_result",
          "data": {
            "text/plain": [
              "                    Open          High           Low         Close  \\\n",
              "Date                                                                 \n",
              "2022-10-30  20817.982422  20917.005859  20547.462891  20635.603516   \n",
              "2022-10-31  20633.695313  20795.320313  20287.458984  20495.773438   \n",
              "2022-11-01  20494.898438  20647.289063  20359.845703  20485.273438   \n",
              "2022-11-02  20482.958984  20742.810547  20087.134766  20159.503906   \n",
              "2022-11-03  20158.783203  20335.416016  20148.492188  20335.416016   \n",
              "\n",
              "               Adj Close       Volume  \n",
              "Date                                   \n",
              "2022-10-30  20635.603516  31486345556  \n",
              "2022-10-31  20495.773438  45668466815  \n",
              "2022-11-01  20485.273438  39819303159  \n",
              "2022-11-02  20159.503906  55552169483  \n",
              "2022-11-03  20335.416016  56120430592  "
            ],
            "text/html": [
              "\n",
              "  <div id=\"df-d1de4193-3f7f-43bb-87f0-be02a1e3110a\">\n",
              "    <div class=\"colab-df-container\">\n",
              "      <div>\n",
              "<style scoped>\n",
              "    .dataframe tbody tr th:only-of-type {\n",
              "        vertical-align: middle;\n",
              "    }\n",
              "\n",
              "    .dataframe tbody tr th {\n",
              "        vertical-align: top;\n",
              "    }\n",
              "\n",
              "    .dataframe thead th {\n",
              "        text-align: right;\n",
              "    }\n",
              "</style>\n",
              "<table border=\"1\" class=\"dataframe\">\n",
              "  <thead>\n",
              "    <tr style=\"text-align: right;\">\n",
              "      <th></th>\n",
              "      <th>Open</th>\n",
              "      <th>High</th>\n",
              "      <th>Low</th>\n",
              "      <th>Close</th>\n",
              "      <th>Adj Close</th>\n",
              "      <th>Volume</th>\n",
              "    </tr>\n",
              "    <tr>\n",
              "      <th>Date</th>\n",
              "      <th></th>\n",
              "      <th></th>\n",
              "      <th></th>\n",
              "      <th></th>\n",
              "      <th></th>\n",
              "      <th></th>\n",
              "    </tr>\n",
              "  </thead>\n",
              "  <tbody>\n",
              "    <tr>\n",
              "      <th>2022-10-30</th>\n",
              "      <td>20817.982422</td>\n",
              "      <td>20917.005859</td>\n",
              "      <td>20547.462891</td>\n",
              "      <td>20635.603516</td>\n",
              "      <td>20635.603516</td>\n",
              "      <td>31486345556</td>\n",
              "    </tr>\n",
              "    <tr>\n",
              "      <th>2022-10-31</th>\n",
              "      <td>20633.695313</td>\n",
              "      <td>20795.320313</td>\n",
              "      <td>20287.458984</td>\n",
              "      <td>20495.773438</td>\n",
              "      <td>20495.773438</td>\n",
              "      <td>45668466815</td>\n",
              "    </tr>\n",
              "    <tr>\n",
              "      <th>2022-11-01</th>\n",
              "      <td>20494.898438</td>\n",
              "      <td>20647.289063</td>\n",
              "      <td>20359.845703</td>\n",
              "      <td>20485.273438</td>\n",
              "      <td>20485.273438</td>\n",
              "      <td>39819303159</td>\n",
              "    </tr>\n",
              "    <tr>\n",
              "      <th>2022-11-02</th>\n",
              "      <td>20482.958984</td>\n",
              "      <td>20742.810547</td>\n",
              "      <td>20087.134766</td>\n",
              "      <td>20159.503906</td>\n",
              "      <td>20159.503906</td>\n",
              "      <td>55552169483</td>\n",
              "    </tr>\n",
              "    <tr>\n",
              "      <th>2022-11-03</th>\n",
              "      <td>20158.783203</td>\n",
              "      <td>20335.416016</td>\n",
              "      <td>20148.492188</td>\n",
              "      <td>20335.416016</td>\n",
              "      <td>20335.416016</td>\n",
              "      <td>56120430592</td>\n",
              "    </tr>\n",
              "  </tbody>\n",
              "</table>\n",
              "</div>\n",
              "      <button class=\"colab-df-convert\" onclick=\"convertToInteractive('df-d1de4193-3f7f-43bb-87f0-be02a1e3110a')\"\n",
              "              title=\"Convert this dataframe to an interactive table.\"\n",
              "              style=\"display:none;\">\n",
              "        \n",
              "  <svg xmlns=\"http://www.w3.org/2000/svg\" height=\"24px\"viewBox=\"0 0 24 24\"\n",
              "       width=\"24px\">\n",
              "    <path d=\"M0 0h24v24H0V0z\" fill=\"none\"/>\n",
              "    <path d=\"M18.56 5.44l.94 2.06.94-2.06 2.06-.94-2.06-.94-.94-2.06-.94 2.06-2.06.94zm-11 1L8.5 8.5l.94-2.06 2.06-.94-2.06-.94L8.5 2.5l-.94 2.06-2.06.94zm10 10l.94 2.06.94-2.06 2.06-.94-2.06-.94-.94-2.06-.94 2.06-2.06.94z\"/><path d=\"M17.41 7.96l-1.37-1.37c-.4-.4-.92-.59-1.43-.59-.52 0-1.04.2-1.43.59L10.3 9.45l-7.72 7.72c-.78.78-.78 2.05 0 2.83L4 21.41c.39.39.9.59 1.41.59.51 0 1.02-.2 1.41-.59l7.78-7.78 2.81-2.81c.8-.78.8-2.07 0-2.86zM5.41 20L4 18.59l7.72-7.72 1.47 1.35L5.41 20z\"/>\n",
              "  </svg>\n",
              "      </button>\n",
              "      \n",
              "  <style>\n",
              "    .colab-df-container {\n",
              "      display:flex;\n",
              "      flex-wrap:wrap;\n",
              "      gap: 12px;\n",
              "    }\n",
              "\n",
              "    .colab-df-convert {\n",
              "      background-color: #E8F0FE;\n",
              "      border: none;\n",
              "      border-radius: 50%;\n",
              "      cursor: pointer;\n",
              "      display: none;\n",
              "      fill: #1967D2;\n",
              "      height: 32px;\n",
              "      padding: 0 0 0 0;\n",
              "      width: 32px;\n",
              "    }\n",
              "\n",
              "    .colab-df-convert:hover {\n",
              "      background-color: #E2EBFA;\n",
              "      box-shadow: 0px 1px 2px rgba(60, 64, 67, 0.3), 0px 1px 3px 1px rgba(60, 64, 67, 0.15);\n",
              "      fill: #174EA6;\n",
              "    }\n",
              "\n",
              "    [theme=dark] .colab-df-convert {\n",
              "      background-color: #3B4455;\n",
              "      fill: #D2E3FC;\n",
              "    }\n",
              "\n",
              "    [theme=dark] .colab-df-convert:hover {\n",
              "      background-color: #434B5C;\n",
              "      box-shadow: 0px 1px 3px 1px rgba(0, 0, 0, 0.15);\n",
              "      filter: drop-shadow(0px 1px 2px rgba(0, 0, 0, 0.3));\n",
              "      fill: #FFFFFF;\n",
              "    }\n",
              "  </style>\n",
              "\n",
              "      <script>\n",
              "        const buttonEl =\n",
              "          document.querySelector('#df-d1de4193-3f7f-43bb-87f0-be02a1e3110a button.colab-df-convert');\n",
              "        buttonEl.style.display =\n",
              "          google.colab.kernel.accessAllowed ? 'block' : 'none';\n",
              "\n",
              "        async function convertToInteractive(key) {\n",
              "          const element = document.querySelector('#df-d1de4193-3f7f-43bb-87f0-be02a1e3110a');\n",
              "          const dataTable =\n",
              "            await google.colab.kernel.invokeFunction('convertToInteractive',\n",
              "                                                     [key], {});\n",
              "          if (!dataTable) return;\n",
              "\n",
              "          const docLinkHtml = 'Like what you see? Visit the ' +\n",
              "            '<a target=\"_blank\" href=https://colab.research.google.com/notebooks/data_table.ipynb>data table notebook</a>'\n",
              "            + ' to learn more about interactive tables.';\n",
              "          element.innerHTML = '';\n",
              "          dataTable['output_type'] = 'display_data';\n",
              "          await google.colab.output.renderOutput(dataTable, element);\n",
              "          const docLink = document.createElement('div');\n",
              "          docLink.innerHTML = docLinkHtml;\n",
              "          element.appendChild(docLink);\n",
              "        }\n",
              "      </script>\n",
              "    </div>\n",
              "  </div>\n",
              "  "
            ]
          },
          "metadata": {},
          "execution_count": 60
        }
      ]
    },
    {
      "cell_type": "code",
      "source": [
        "def train_test_split(df, test_size=0.2):\n",
        "    split_row = len(df) - int(test_size * len(df))\n",
        "    train_data = df.iloc[:split_row]\n",
        "    test_data = df.iloc[split_row:]\n",
        "    return train_data, test_data"
      ],
      "metadata": {
        "id": "4QSSV6BscAVY"
      },
      "execution_count": null,
      "outputs": []
    },
    {
      "cell_type": "code",
      "source": [
        "def line_plot(line1, line2, label1=None, label2=None, title='', lw=2):\n",
        "    fig, ax = plt.subplots(1, figsize=(13, 7))\n",
        "    ax.plot(line1, label=label1, linewidth=lw)\n",
        "    ax.plot(line2, label=label2, linewidth=lw)\n",
        "    ax.set_ylabel('price [USD]', fontsize=14)\n",
        "    ax.set_title(title, fontsize=16)\n",
        "    ax.legend(loc='best', fontsize=16);"
      ],
      "metadata": {
        "id": "8275Bnu8cAXv"
      },
      "execution_count": null,
      "outputs": []
    },
    {
      "cell_type": "code",
      "source": [
        "train, test = train_test_split(hist, test_size=0.2)"
      ],
      "metadata": {
        "id": "wEwfG-RIcdWs"
      },
      "execution_count": null,
      "outputs": []
    },
    {
      "cell_type": "code",
      "source": [
        "line_plot(train[target_col], test[target_col], 'training', 'test', title='')"
      ],
      "metadata": {
        "colab": {
          "base_uri": "https://localhost:8080/",
          "height": 428
        },
        "id": "kdHSxTtycdcS",
        "outputId": "9783fe2c-f9cc-4fe0-8b18-eb0de0bf6c4a"
      },
      "execution_count": null,
      "outputs": [
        {
          "output_type": "display_data",
          "data": {
            "text/plain": [
              "<Figure size 936x504 with 1 Axes>"
            ],
            "image/png": "[encoded data removed]"
          },
          "metadata": {
            "needs_background": "light"
          }
        }
      ]
    },
    {
      "cell_type": "code",
      "source": [
        "def normalise_zero_base(df):\n",
        "    return df / df.iloc[0] - 1\n",
        "\n",
        "def normalise_min_max(df):\n",
        "    return (df - df.min()) / (df.max() - df.min())"
      ],
      "metadata": {
        "id": "_ZmoHHpJcdj1"
      },
      "execution_count": null,
      "outputs": []
    },
    {
      "cell_type": "code",
      "source": [
        "def extract_window_data(df, window_len=5, zero_base=True):\n",
        "    window_data = []\n",
        "    for idx in range(len(df) - window_len):\n",
        "        tmp = df[idx: (idx + window_len)].copy()\n",
        "        if zero_base:\n",
        "            tmp = normalise_zero_base(tmp)\n",
        "        window_data.append(tmp.values)\n",
        "    return np.array(window_data)"
      ],
      "metadata": {
        "id": "o2M29eWncdo0"
      },
      "execution_count": null,
      "outputs": []
    },
    {
      "cell_type": "code",
      "source": [
        "def prepare_data(df, target_col, window_len=10, zero_base=True, test_size=0.2):\n",
        "    train_data, test_data = train_test_split(df, test_size=test_size)\n",
        "    X_train = extract_window_data(train_data, window_len, zero_base)\n",
        "    X_test = extract_window_data(test_data, window_len, zero_base)\n",
        "    y_train = train_data[target_col][window_len:].values\n",
        "    y_test = test_data[target_col][window_len:].values\n",
        "    if zero_base:\n",
        "        y_train = y_train / train_data[target_col][:-window_len].values - 1\n",
        "        y_test = y_test / test_data[target_col][:-window_len].values - 1\n",
        "\n",
        "    return train_data, test_data, X_train, X_test, y_train, y_test"
      ],
      "metadata": {
        "id": "NvxMGWkecAab"
      },
      "execution_count": null,
      "outputs": []
    },
    {
      "cell_type": "code",
      "source": [
        "np.random.seed(42)\n",
        "window_len = 5\n",
        "test_size = 0.2\n",
        "zero_base = True\n",
        "lstm_neurons = 100\n",
        "epochs = 50\n",
        "batch_size = 30\n",
        "loss = 'mse'\n",
        "dropout = 0.2\n",
        "optimizer = 'adam'"
      ],
      "metadata": {
        "id": "_Bq5SYxacAdN"
      },
      "execution_count": null,
      "outputs": []
    },
    {
      "cell_type": "code",
      "source": [
        "train, test, X_train, X_test, y_train, y_test = prepare_data(\n",
        "    hist, target_col, window_len=window_len, zero_base=zero_base, test_size=test_size)"
      ],
      "metadata": {
        "id": "aM_rGHR1cyhs"
      },
      "execution_count": null,
      "outputs": []
    },
    {
      "cell_type": "code",
      "source": [
        "def build_lstm_model(input_data, output_size, neurons=100, activ_func='linear',\n",
        "                     dropout=0.2, loss='mse', optimizer='adam'):\n",
        "    model = Sequential()\n",
        "    model.add(LSTM(neurons, input_shape=(input_data.shape[1], input_data.shape[2])))\n",
        "    model.add(Dropout(dropout))\n",
        "    model.add(Dense(units=output_size))\n",
        "    model.add(Activation(activ_func))\n",
        "\n",
        "    model.compile(loss=loss, optimizer=optimizer)\n",
        "    return model"
      ],
      "metadata": {
        "id": "ghJgvbntc6Jc"
      },
      "execution_count": null,
      "outputs": []
    },
    {
      "cell_type": "code",
      "source": [
        "model = build_lstm_model(\n",
        "    X_train, output_size=1, neurons=lstm_neurons, dropout=dropout, loss=loss,\n",
        "    optimizer=optimizer)\n",
        "history = model.fit(\n",
        "    X_train, y_train, epochs=epochs, batch_size=batch_size, verbose=1, shuffle=True)"
      ],
      "metadata": {
        "colab": {
          "base_uri": "https://localhost:8080/"
        },
        "id": "NFnb1nrKc6OU",
        "outputId": "22546093-0f00-4908-bbda-347a7932b6d0"
      },
      "execution_count": null,
      "outputs": [
        {
          "output_type": "stream",
          "name": "stdout",
          "text": [
            "Epoch 1/50\n",
            "69/69 [==============================] - 4s 8ms/step - loss: 0.0038\n",
            "Epoch 2/50\n",
            "69/69 [==============================] - 1s 8ms/step - loss: 0.0026\n",
            "Epoch 3/50\n",
            "69/69 [==============================] - 1s 11ms/step - loss: 0.0021\n",
            "Epoch 4/50\n",
            "69/69 [==============================] - 1s 15ms/step - loss: 0.0020\n",
            "Epoch 5/50\n",
            "69/69 [==============================] - 1s 17ms/step - loss: 0.0020\n",
            "Epoch 6/50\n",
            "69/69 [==============================] - 1s 17ms/step - loss: 0.0019\n",
            "Epoch 7/50\n",
            "69/69 [==============================] - 1s 17ms/step - loss: 0.0018\n",
            "Epoch 8/50\n",
            "69/69 [==============================] - 1s 13ms/step - loss: 0.0017\n",
            "Epoch 9/50\n",
            "69/69 [==============================] - 1s 7ms/step - loss: 0.0018\n",
            "Epoch 10/50\n",
            "69/69 [==============================] - 1s 8ms/step - loss: 0.0017\n",
            "Epoch 11/50\n",
            "69/69 [==============================] - 1s 8ms/step - loss: 0.0017\n",
            "Epoch 12/50\n",
            "69/69 [==============================] - 1s 8ms/step - loss: 0.0017\n",
            "Epoch 13/50\n",
            "69/69 [==============================] - 1s 8ms/step - loss: 0.0017\n",
            "Epoch 14/50\n",
            "69/69 [==============================] - 1s 8ms/step - loss: 0.0017\n",
            "Epoch 15/50\n",
            "69/69 [==============================] - 1s 8ms/step - loss: 0.0017\n",
            "Epoch 16/50\n",
            "69/69 [==============================] - 0s 7ms/step - loss: 0.0017\n",
            "Epoch 17/50\n",
            "69/69 [==============================] - 1s 8ms/step - loss: 0.0018\n",
            "Epoch 18/50\n",
            "69/69 [==============================] - 1s 8ms/step - loss: 0.0017\n",
            "Epoch 19/50\n",
            "69/69 [==============================] - 1s 7ms/step - loss: 0.0017\n",
            "Epoch 20/50\n",
            "69/69 [==============================] - 1s 7ms/step - loss: 0.0016\n",
            "Epoch 21/50\n",
            "69/69 [==============================] - 1s 7ms/step - loss: 0.0017\n",
            "Epoch 22/50\n",
            "69/69 [==============================] - 1s 8ms/step - loss: 0.0017\n",
            "Epoch 23/50\n",
            "69/69 [==============================] - 1s 8ms/step - loss: 0.0017\n",
            "Epoch 24/50\n",
            "69/69 [==============================] - 1s 7ms/step - loss: 0.0017\n",
            "Epoch 25/50\n",
            "69/69 [==============================] - 1s 7ms/step - loss: 0.0017\n",
            "Epoch 26/50\n",
            "69/69 [==============================] - 1s 8ms/step - loss: 0.0017\n",
            "Epoch 27/50\n",
            "69/69 [==============================] - 1s 8ms/step - loss: 0.0017\n",
            "Epoch 28/50\n",
            "69/69 [==============================] - 1s 8ms/step - loss: 0.0017\n",
            "Epoch 29/50\n",
            "69/69 [==============================] - 1s 8ms/step - loss: 0.0017\n",
            "Epoch 30/50\n",
            "69/69 [==============================] - 1s 7ms/step - loss: 0.0017\n",
            "Epoch 31/50\n",
            "69/69 [==============================] - 1s 8ms/step - loss: 0.0017\n",
            "Epoch 32/50\n",
            "69/69 [==============================] - 1s 7ms/step - loss: 0.0017\n",
            "Epoch 33/50\n",
            "69/69 [==============================] - 1s 8ms/step - loss: 0.0017\n",
            "Epoch 34/50\n",
            "69/69 [==============================] - 1s 7ms/step - loss: 0.0017\n",
            "Epoch 35/50\n",
            "69/69 [==============================] - 1s 7ms/step - loss: 0.0017\n",
            "Epoch 36/50\n",
            "69/69 [==============================] - 0s 7ms/step - loss: 0.0017\n",
            "Epoch 37/50\n",
            "69/69 [==============================] - 1s 8ms/step - loss: 0.0017\n",
            "Epoch 38/50\n",
            "69/69 [==============================] - 1s 7ms/step - loss: 0.0016\n",
            "Epoch 39/50\n",
            "69/69 [==============================] - 1s 8ms/step - loss: 0.0017\n",
            "Epoch 40/50\n",
            "69/69 [==============================] - 1s 7ms/step - loss: 0.0017\n",
            "Epoch 41/50\n",
            "69/69 [==============================] - 1s 8ms/step - loss: 0.0017\n",
            "Epoch 42/50\n",
            "69/69 [==============================] - 1s 8ms/step - loss: 0.0017\n",
            "Epoch 43/50\n",
            "69/69 [==============================] - 1s 8ms/step - loss: 0.0016\n",
            "Epoch 44/50\n",
            "69/69 [==============================] - 1s 8ms/step - loss: 0.0017\n",
            "Epoch 45/50\n",
            "69/69 [==============================] - 1s 8ms/step - loss: 0.0017\n",
            "Epoch 46/50\n",
            "69/69 [==============================] - 1s 8ms/step - loss: 0.0016\n",
            "Epoch 47/50\n",
            "69/69 [==============================] - 0s 7ms/step - loss: 0.0017\n",
            "Epoch 48/50\n",
            "69/69 [==============================] - 1s 8ms/step - loss: 0.0016\n",
            "Epoch 49/50\n",
            "69/69 [==============================] - 1s 8ms/step - loss: 0.0016\n",
            "Epoch 50/50\n",
            "69/69 [==============================] - 1s 8ms/step - loss: 0.0017\n"
          ]
        }
      ]
    },
    {
      "cell_type": "code",
      "source": [
        "print(model.summary())"
      ],
      "metadata": {
        "colab": {
          "base_uri": "https://localhost:8080/"
        },
        "id": "rUfpXjl-cyta",
        "outputId": "fb16e9f5-3679-463d-d314-3a018dc92d7e"
      },
      "execution_count": null,
      "outputs": [
        {
          "output_type": "stream",
          "name": "stdout",
          "text": [
            "Model: \"sequential\"\n",
            "_________________________________________________________________\n",
            " Layer (type)                Output Shape              Param #   \n",
            "=================================================================\n",
            " lstm (LSTM)                 (None, 100)               42800     \n",
            "                                                                 \n",
            " dropout (Dropout)           (None, 100)               0         \n",
            "                                                                 \n",
            " dense (Dense)               (None, 1)                 101       \n",
            "                                                                 \n",
            " activation (Activation)     (None, 1)                 0         \n",
            "                                                                 \n",
            "=================================================================\n",
            "Total params: 42,901\n",
            "Trainable params: 42,901\n",
            "Non-trainable params: 0\n",
            "_________________________________________________________________\n",
            "None\n"
          ]
        }
      ]
    },
    {
      "cell_type": "code",
      "source": [
        "targets = test[target_col][window_len:]\n",
        "preds = model.predict(X_test).squeeze()\n",
        "mean_absolute_error(preds, y_test)"
      ],
      "metadata": {
        "colab": {
          "base_uri": "https://localhost:8080/"
        },
        "id": "5WHXjrtedGxv",
        "outputId": "40599dbc-7663-49e2-f21c-b40bf87ad5d1"
      },
      "execution_count": null,
      "outputs": [
        {
          "output_type": "stream",
          "name": "stdout",
          "text": [
            "16/16 [==============================] - 1s 3ms/step\n"
          ]
        },
        {
          "output_type": "execute_result",
          "data": {
            "text/plain": [
              "0.024985270341687935"
            ]
          },
          "metadata": {},
          "execution_count": 73
        }
      ]
    },
    {
      "cell_type": "code",
      "source": [
        "preds = test[target_col].values[:-window_len] * (preds + 1)\n",
        "preds = pd.Series(index=targets.index, data=preds)\n",
        "line_plot(targets, preds, 'actual', 'prediction', lw=3)"
      ],
      "metadata": {
        "colab": {
          "base_uri": "https://localhost:8080/",
          "height": 432
        },
        "id": "3m0HdWFrdG2O",
        "outputId": "252f00dc-cb6b-457c-ce48-2073d503a9a9"
      },
      "execution_count": null,
      "outputs": [
        {
          "output_type": "display_data",
          "data": {
            "text/plain": [
              "<Figure size 936x504 with 1 Axes>"
            ],
            "image/png": "[encoded data removed]"
          },
          "metadata": {
            "needs_background": "light"
          }
        }
      ]
    },
    {
      "cell_type": "code",
      "source": [
        "from sklearn.metrics import mean_squared_error\n",
        "from math import sqrt\n",
        "predictions= model.predict(X_test) \n",
        "mse = mean_squared_error(y_test, predictions)\n",
        "rmse = sqrt(mse)\n",
        "print('RMSE: %f' % rmse)"
      ],
      "metadata": {
        "colab": {
          "base_uri": "https://localhost:8080/"
        },
        "id": "IuSnIq5TdG-u",
        "outputId": "c72aa811-4bc0-4e9c-ee2e-0b3b14f0df32"
      },
      "execution_count": null,
      "outputs": [
        {
          "output_type": "stream",
          "name": "stdout",
          "text": [
            "16/16 [==============================] - 0s 3ms/step\n",
            "RMSE: 0.034216\n"
          ]
        }
      ]
    },
    {
      "cell_type": "code",
      "source": [
        "mape = np.mean(np.abs(np.array(preds) - np.array(test))/np.abs(test))\n",
        "print('MAPE: ' + str(mape))"
      ],
      "metadata": {
        "colab": {
          "base_uri": "https://localhost:8080/",
          "height": 190
        },
        "id": "rh8iaJs1dHL1",
        "outputId": "4f9d03a7-79b6-4377-ad89-f32f499ae2c6"
      },
      "execution_count": null,
      "outputs": [
        {
          "output_type": "error",
          "ename": "ValueError",
          "evalue": "ignored",
          "traceback": [
            "\u001b[0;31m---------------------------------------------------------------------------\u001b[0m",
            "\u001b[0;31mValueError\u001b[0m                                Traceback (most recent call last)",
            "\u001b[0;32m<ipython-input-84-7c5f23273c0a>\u001b[0m in \u001b[0;36m<module>\u001b[0;34m\u001b[0m\n\u001b[0;32m----> 1\u001b[0;31m \u001b[0mmape\u001b[0m \u001b[0;34m=\u001b[0m \u001b[0mnp\u001b[0m\u001b[0;34m.\u001b[0m\u001b[0mmean\u001b[0m\u001b[0;34m(\u001b[0m\u001b[0mnp\u001b[0m\u001b[0;34m.\u001b[0m\u001b[0mabs\u001b[0m\u001b[0;34m(\u001b[0m\u001b[0mnp\u001b[0m\u001b[0;34m.\u001b[0m\u001b[0marray\u001b[0m\u001b[0;34m(\u001b[0m\u001b[0mpreds\u001b[0m\u001b[0;34m)\u001b[0m \u001b[0;34m-\u001b[0m \u001b[0mnp\u001b[0m\u001b[0;34m.\u001b[0m\u001b[0marray\u001b[0m\u001b[0;34m(\u001b[0m\u001b[0mtest\u001b[0m\u001b[0;34m)\u001b[0m\u001b[0;34m)\u001b[0m\u001b[0;34m/\u001b[0m\u001b[0mnp\u001b[0m\u001b[0;34m.\u001b[0m\u001b[0mabs\u001b[0m\u001b[0;34m(\u001b[0m\u001b[0mtest\u001b[0m\u001b[0;34m)\u001b[0m\u001b[0;34m)\u001b[0m\u001b[0;34m\u001b[0m\u001b[0;34m\u001b[0m\u001b[0m\n\u001b[0m\u001b[1;32m      2\u001b[0m \u001b[0mprint\u001b[0m\u001b[0;34m(\u001b[0m\u001b[0;34m'MAPE: '\u001b[0m \u001b[0;34m+\u001b[0m \u001b[0mstr\u001b[0m\u001b[0;34m(\u001b[0m\u001b[0mmape\u001b[0m\u001b[0;34m)\u001b[0m\u001b[0;34m)\u001b[0m\u001b[0;34m\u001b[0m\u001b[0;34m\u001b[0m\u001b[0m\n",
            "\u001b[0;31mValueError\u001b[0m: operands could not be broadcast together with shapes (506,) (511,6) "
          ]
        }
      ]
    }
  ]
}