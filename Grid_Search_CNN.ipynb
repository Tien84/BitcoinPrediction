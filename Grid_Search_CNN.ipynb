{
  "nbformat": 4,
  "nbformat_minor": 0,
  "metadata": {
    "colab": {
      "provenance": [],
      "authorship_tag": "ABX9TyOL4sQ635WELfnPp9Nrfn7N",
      "include_colab_link": true
    },
    "kernelspec": {
      "name": "python3",
      "display_name": "Python 3"
    },
    "language_info": {
      "name": "python"
    }
  },
  "cells": [
    {
      "cell_type": "markdown",
      "metadata": {
        "id": "view-in-github",
        "colab_type": "text"
      },
      "source": [
        "<a href=\"https://colab.research.google.com/github/Tien84/Face-Detection/blob/master/Grid_Search_CNN.ipynb\" target=\"_parent\"><img src=\"https://colab.research.google.com/assets/colab-badge.svg\" alt=\"Open In Colab\"/></a>"
      ]
    },
    {
      "cell_type": "code",
      "execution_count": null,
      "metadata": {
        "colab": {
          "base_uri": "https://localhost:8080/"
        },
        "id": "0ibsi9GaTFaT",
        "outputId": "afaf706a-14a3-4032-dd86-e2972ffad8c0"
      },
      "outputs": [
        {
          "output_type": "stream",
          "name": "stdout",
          "text": [
            "Mounted at /content/driver\n"
          ]
        }
      ],
      "source": [
        "from google.colab import drive\n",
        "drive.mount('/content/driver')"
      ]
    },
    {
      "cell_type": "code",
      "source": [
        "# load and plot dataset\n",
        "from pandas import read_csv\n",
        "from matplotlib import pyplot\n",
        "# load\n",
        "series = read_csv('/content/driver/My Drive/LSTM_Model/DataBitcoin.csv', header=0, index_col=0)\n",
        "# summarize shape\n",
        "print(series.shape)\n",
        "# plot\n",
        "pyplot.plot(series['Adj Close'])\n",
        "pyplot.show()"
      ],
      "metadata": {
        "colab": {
          "base_uri": "https://localhost:8080/",
          "height": 285
        },
        "id": "bT5aAc1iTRCc",
        "outputId": "c8635498-1bef-4ea9-d39b-c2f36f8ae60f"
      },
      "execution_count": null,
      "outputs": [
        {
          "output_type": "stream",
          "name": "stdout",
          "text": [
            "(2558, 6)\n"
          ]
        },
        {
          "output_type": "display_data",
          "data": {
            "text/plain": [
              "<Figure size 432x288 with 1 Axes>"
            ],
            "image/png": "[encoded data removed]"
          },
          "metadata": {
            "needs_background": "light"
          }
        }
      ]
    },
    {
      "cell_type": "code",
      "source": [
        "# grid search cnn for airline passengers\n",
        "from math import sqrt\n",
        "from numpy import array\n",
        "from numpy import mean\n",
        "from pandas import DataFrame\n",
        "from pandas import concat\n",
        "from pandas import read_csv\n",
        "from sklearn.metrics import mean_squared_error\n",
        "from keras.models import Sequential\n",
        "from keras.layers import Dense\n",
        "from keras.layers import Flatten\n",
        "from keras.layers.convolutional import Conv1D\n",
        "from keras.layers.convolutional import MaxPooling1D\n",
        " \n",
        "# split a univariate dataset into train/test sets\n",
        "def train_test_split(data, n_test):\n",
        "\treturn data[:-n_test], data[-n_test:]\n",
        " \n",
        "# transform list into supervised learning format\n",
        "def series_to_supervised(data, n_in=1, n_out=1):\n",
        "\tdf = DataFrame(data)\n",
        "\tcols = list()\n",
        "\t# input sequence (t-n, ... t-1)\n",
        "\tfor i in range(n_in, 0, -1):\n",
        "\t\tcols.append(df.shift(i))\n",
        "\t# forecast sequence (t, t+1, ... t+n)\n",
        "\tfor i in range(0, n_out):\n",
        "\t\tcols.append(df.shift(-i))\n",
        "\t# put it all together\n",
        "\tagg = concat(cols, axis=1)\n",
        "\t# drop rows with NaN values\n",
        "\tagg.dropna(inplace=True)\n",
        "\treturn agg.values\n",
        " \n",
        "# root mean squared error or rmse\n",
        "def measure_rmse(actual, predicted):\n",
        "\treturn sqrt(mean_squared_error(actual, predicted))\n",
        "# mape\n",
        "def measure_mape(test, predicted):\n",
        "  return mean(abs(array(predicted) - array(test))/abs(test))\n",
        "# difference dataset\n",
        "def difference(data, order):\n",
        "\treturn [data[i] - data[i - order] for i in range(order, len(data))]\n",
        " "
      ],
      "metadata": {
        "id": "1vW74O6YgzoP"
      },
      "execution_count": null,
      "outputs": []
    },
    {
      "cell_type": "code",
      "source": [
        "# fit a model\n",
        "def model_fit(train, config):\n",
        "\t# unpack config\n",
        "\tn_input, n_filters, n_kernel, n_epochs, n_batch, n_diff = config\n",
        "\t# prepare data\n",
        "\tif n_diff > 0:\n",
        "\t\ttrain = difference(train, n_diff)\n",
        "\t# transform series into supervised format\n",
        "\tdata = series_to_supervised(train, n_in=n_input)\n",
        "\t# separate inputs and outputs\n",
        "\ttrain_x, train_y = data[:, :-1], data[:, -1]\n",
        "\t# reshape input data into [samples, timesteps, features]\n",
        "\tn_features = 1\n",
        "\ttrain_x = train_x.reshape((train_x.shape[0], train_x.shape[1], n_features))\n",
        "\t# define model\n",
        "\tmodel = Sequential()\n",
        "\tmodel.add(Conv1D(filters=n_filters, kernel_size=n_kernel, activation='relu', input_shape=(n_input, n_features)))\n",
        "\tmodel.add(MaxPooling1D(pool_size=2))\n",
        "\tmodel.add(Flatten())\n",
        "\tmodel.add(Dense(1))\n",
        "\tmodel.compile(loss='mse', optimizer='adam')\n",
        "\t# fit\n",
        "\tmodel.fit(train_x, train_y, epochs=n_epochs, batch_size=n_batch, verbose=0)\n",
        "\treturn model"
      ],
      "metadata": {
        "id": "9z-DAHtRWCIO"
      },
      "execution_count": null,
      "outputs": []
    },
    {
      "cell_type": "code",
      "source": [
        "# forecast with the fit model\n",
        "def model_predict(model, history, config):\n",
        "\t# unpack config\n",
        "\tn_input, _, _, _, _, n_diff = config\n",
        "\t# prepare data\n",
        "\tcorrection = 0.0\n",
        "\tif n_diff > 0:\n",
        "\t\tcorrection = history[-n_diff]\n",
        "\t\thistory = difference(history, n_diff)\n",
        "\tx_input = array(history[-n_input:]).reshape((1, n_input, 1))\n",
        "\t# forecast\n",
        "\tyhat = model.predict(x_input, verbose=0)\n",
        "\treturn correction + yhat[0]"
      ],
      "metadata": {
        "id": "acPDpm3LbRnw"
      },
      "execution_count": null,
      "outputs": []
    },
    {
      "cell_type": "code",
      "source": [
        "# walk-forward validation for univariate data\n",
        "def walk_forward_validation(data, n_test, cfg):\n",
        "\tpredictions = list()\n",
        "\t# split dataset\n",
        "\ttrain, test = train_test_split(data, n_test)\n",
        "\t# fit model\n",
        "\tmodel = model_fit(train, cfg)\n",
        "\t# seed history with training dataset\n",
        "\thistory = [x for x in train]\n",
        "\t# step over each time-step in the test set\n",
        "\tfor i in range(len(test)):\n",
        "\t\t# fit model and make forecast for history\n",
        "\t\tyhat = model_predict(model, history, cfg)\n",
        "\t\t# store forecast in list of predictions\n",
        "\t\tpredictions.append(yhat)\n",
        "\t\t# add actual observation to history for the next loop\n",
        "\t\thistory.append(test[i])\n",
        "\t# estimate prediction error\n",
        "\terror = measure_rmse(test, predictions)\n",
        "\tprint(' > %.3f' % error)\n",
        "\treturn error"
      ],
      "metadata": {
        "id": "zRk8SrIolD4m"
      },
      "execution_count": null,
      "outputs": []
    },
    {
      "cell_type": "code",
      "source": [
        "# walk-forward validation for univariate data\n",
        "def walk_forward_validation_mape(data, n_test, cfg):\n",
        "\tpredictions = list()\n",
        "\t# split dataset\n",
        "\ttrain, test = train_test_split(data, n_test)\n",
        "\t# fit model\n",
        "\tmodel = model_fit(train, cfg)\n",
        "\t# seed history with training dataset\n",
        "\thistory = [x for x in train]\n",
        "\t# step over each time-step in the test set\n",
        "\tfor i in range(len(test)):\n",
        "\t\t# fit model and make forecast for history\n",
        "\t\tyhat = model_predict(model, history, cfg)\n",
        "\t\t# store forecast in list of predictions\n",
        "\t\tpredictions.append(yhat)\n",
        "\t\t# add actual observation to history for the next loop\n",
        "\t\thistory.append(test[i])\n",
        "\t# estimate prediction error\n",
        "\terror = measure_mape(test, predictions)\n",
        "\tprint(' > %.3f' % error)\n",
        "\treturn error"
      ],
      "metadata": {
        "id": "gj2iPjx4-CQa"
      },
      "execution_count": null,
      "outputs": []
    },
    {
      "cell_type": "code",
      "source": [
        "# score a model, return None on failure\n",
        "def repeat_evaluate(data, config, n_test, n_repeats=10):\n",
        "\t# convert config to a key\n",
        "\tkey = str(config)\n",
        "\t# fit and evaluate the model n times\n",
        "\tscores = [walk_forward_validation(data, n_test, config) for _ in range(n_repeats)]\n",
        "\t# summarize score\n",
        "\tresult = mean(scores)\n",
        "\tprint('> Model[%s] %.3f' % (key, result))\n",
        "\treturn (key, result)"
      ],
      "metadata": {
        "id": "xY5HeIVSk6mk"
      },
      "execution_count": null,
      "outputs": []
    },
    {
      "cell_type": "code",
      "source": [
        "# score a model, return None on failure\n",
        "def repeat_evaluate_mape(data, config, n_test, n_repeats=10):\n",
        "\t# convert config to a key\n",
        "\tkey = str(config)\n",
        "\t# fit and evaluate the model n times\n",
        "\tscores = [walk_forward_validation_mape(data, n_test, config) for _ in range(n_repeats)]\n",
        "\t# summarize score\n",
        "\tresult = mean(scores)\n",
        "\tprint('> Model[%s] %.3f' % (key, result))\n",
        "\treturn (key, result)"
      ],
      "metadata": {
        "id": "nLRTQBTKBpRc"
      },
      "execution_count": null,
      "outputs": []
    },
    {
      "cell_type": "code",
      "source": [
        "# grid search configs\n",
        "def grid_search(data, cfg_list, n_test):\n",
        "\t# evaluate configs\n",
        "\tscores = [repeat_evaluate(data, cfg, n_test) for cfg in cfg_list]\n",
        "\t# sort configs by error, asc\n",
        "\tscores.sort(key=lambda tup: tup[1])\n",
        "\treturn scores"
      ],
      "metadata": {
        "id": "ytsBHenvhy_a"
      },
      "execution_count": null,
      "outputs": []
    },
    {
      "cell_type": "code",
      "source": [
        "# grid search configs\n",
        "def grid_search_mape(data, cfg_list, n_test):\n",
        "\t# evaluate configs\n",
        "\tscores = [repeat_evaluate_mape(data, cfg, n_test) for cfg in cfg_list]\n",
        "\t# sort configs by error, asc\n",
        "\tscores.sort(key=lambda tup: tup[1])\n",
        "\treturn scores"
      ],
      "metadata": {
        "id": "s8XllGgNH97N"
      },
      "execution_count": null,
      "outputs": []
    },
    {
      "cell_type": "code",
      "source": [
        "# create a list of configs to try\n",
        "def model_configs():\n",
        "\t# define scope of configs\n",
        "\tn_input = [12]\n",
        "\tn_filters = [50]\n",
        "\tn_kernels = [3, 5]\n",
        "\tn_epochs = [20]\n",
        "\tn_batch = [1, 30]\n",
        "\tn_diff = [12]\n",
        "\t# create configs\n",
        "\tconfigs = list()\n",
        "\tfor a in n_input:\n",
        "\t\tfor b in n_filters:\n",
        "\t\t\tfor c in n_kernels:\n",
        "\t\t\t\tfor d in n_epochs:\n",
        "\t\t\t\t\tfor e in n_batch:\n",
        "\t\t\t\t\t\tfor f in n_diff:\n",
        "\t\t\t\t\t\t\tcfg = [a,b,c,d,e,f]\n",
        "\t\t\t\t\t\t\tconfigs.append(cfg)\n",
        "\tprint('Total configs: %d' % len(configs))\n",
        "\treturn configs"
      ],
      "metadata": {
        "id": "IPYLdlO9bRqI"
      },
      "execution_count": null,
      "outputs": []
    },
    {
      "cell_type": "code",
      "source": [
        "# define dataset\n",
        "series = read_csv('/content/driver/My Drive/LSTM_Model/DataBitcoin.csv', header=0, index_col=0)\n",
        "data = series['Adj Close'].values\n",
        "# data split\n",
        "n_test = 768\n",
        "# model configs\n",
        "cfg_list = model_configs()\n",
        "# grid search\n",
        "scores = grid_search(data, cfg_list, n_test)\n",
        "scores_mape = grid_search_mape(data, cfg_list, n_test)\n",
        "print('done')\n",
        "# list top 10 configs\n",
        "for cfg, error in scores[:10]:\n",
        "\tprint(cfg, error)\n",
        "for cfg, error in scores_mape[:10]:\n",
        "\tprint(cfg, error)"
      ],
      "metadata": {
        "colab": {
          "base_uri": "https://localhost:8080/"
        },
        "id": "s5hRVwhsbRss",
        "outputId": "836461f5-f8e3-47a4-dd0f-04dab8353ada"
      },
      "execution_count": null,
      "outputs": [
        {
          "output_type": "stream",
          "name": "stdout",
          "text": [
            "Total configs: 4\n",
            " > 0.754\n",
            " > 0.782\n",
            " > 0.749\n",
            " > 0.759\n",
            " > 0.789\n",
            " > 0.768\n",
            " > 0.758\n",
            " > 0.744\n",
            " > 0.767\n",
            " > 0.772\n",
            "> Model[[12, 50, 3, 20, 1, 12]] 0.764\n",
            " > 0.763\n",
            " > 0.758\n",
            " > 0.766\n",
            " > 0.766\n",
            " > 0.769\n",
            " > 0.761\n",
            " > 0.761\n",
            " > 0.755\n",
            " > 0.761\n",
            " > 0.762\n",
            "> Model[[12, 50, 3, 20, 30, 12]] 0.762\n",
            " > 0.758\n",
            " > 0.764\n",
            " > 0.763\n",
            " > 0.761\n",
            " > 0.756\n",
            " > 0.762\n",
            " > 0.769\n",
            " > 0.762\n",
            " > 0.776\n",
            " > 0.777\n",
            "> Model[[12, 50, 5, 20, 1, 12]] 0.765\n",
            " > 0.763\n",
            " > 0.764\n",
            " > 0.753\n",
            " > 0.759\n",
            " > 0.758\n",
            " > 0.769\n",
            " > 0.763\n",
            " > 0.759\n",
            " > 0.757\n",
            " > 0.760\n",
            "> Model[[12, 50, 5, 20, 30, 12]] 0.760\n",
            "done\n",
            "[12, 50, 5, 20, 30, 12] 0.7604409375664587\n",
            "[12, 50, 3, 20, 30, 12] 0.7622852012334997\n",
            "[12, 50, 3, 20, 1, 12] 0.7642604359095988\n",
            "[12, 50, 5, 20, 1, 12] 0.7649500005043887\n"
          ]
        }
      ]
    },
    {
      "cell_type": "code",
      "source": [],
      "metadata": {
        "id": "VQ9vtZHBWCKc"
      },
      "execution_count": null,
      "outputs": []
    }
  ]
}