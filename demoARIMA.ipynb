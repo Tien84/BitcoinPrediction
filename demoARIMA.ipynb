{
  "cells": [
    {
      "cell_type": "markdown",
      "metadata": {
        "id": "view-in-github",
        "colab_type": "text"
      },
      "source": [
        "<a href=\"https://colab.research.google.com/github/Tien84/Face-Detection/blob/master/demoARIMA.ipynb\" target=\"_parent\"><img src=\"https://colab.research.google.com/assets/colab-badge.svg\" alt=\"Open In Colab\"/></a>"
      ]
    },
    {
      "cell_type": "code",
      "execution_count": 2,
      "metadata": {
        "id": "3HZroei8xLyR",
        "colab": {
          "base_uri": "https://localhost:8080/"
        },
        "outputId": "2116ae28-7af8-43f7-d69a-9ef7985b1685"
      },
      "outputs": [
        {
          "output_type": "stream",
          "name": "stdout",
          "text": [
            "Requirement already satisfied: matplotlib in /usr/local/lib/python3.7/dist-packages (3.2.2)\n",
            "Requirement already satisfied: numpy>=1.11 in /usr/local/lib/python3.7/dist-packages (from matplotlib) (1.19.5)\n",
            "Requirement already satisfied: kiwisolver>=1.0.1 in /usr/local/lib/python3.7/dist-packages (from matplotlib) (1.3.2)\n",
            "Requirement already satisfied: python-dateutil>=2.1 in /usr/local/lib/python3.7/dist-packages (from matplotlib) (2.8.2)\n",
            "Requirement already satisfied: cycler>=0.10 in /usr/local/lib/python3.7/dist-packages (from matplotlib) (0.11.0)\n",
            "Requirement already satisfied: pyparsing!=2.0.4,!=2.1.2,!=2.1.6,>=2.0.1 in /usr/local/lib/python3.7/dist-packages (from matplotlib) (3.0.6)\n",
            "Requirement already satisfied: six>=1.5 in /usr/local/lib/python3.7/dist-packages (from python-dateutil>=2.1->matplotlib) (1.15.0)\n"
          ]
        }
      ],
      "source": [
        "!pip install matplotlib"
      ]
    },
    {
      "cell_type": "code",
      "execution_count": 3,
      "metadata": {
        "id": "m8ZKi4FjxMk5",
        "colab": {
          "base_uri": "https://localhost:8080/"
        },
        "outputId": "ee1e9a6d-425d-412e-f99f-6baa239ce8e5"
      },
      "outputs": [
        {
          "output_type": "stream",
          "name": "stdout",
          "text": [
            "Requirement already satisfied: statsmodels in /usr/local/lib/python3.7/dist-packages (0.13.1)\n",
            "Requirement already satisfied: numpy>=1.17 in /usr/local/lib/python3.7/dist-packages (from statsmodels) (1.19.5)\n",
            "Requirement already satisfied: scipy>=1.3 in /usr/local/lib/python3.7/dist-packages (from statsmodels) (1.4.1)\n",
            "Requirement already satisfied: pandas>=0.25 in /usr/local/lib/python3.7/dist-packages (from statsmodels) (1.1.5)\n",
            "Requirement already satisfied: patsy>=0.5.2 in /usr/local/lib/python3.7/dist-packages (from statsmodels) (0.5.2)\n",
            "Requirement already satisfied: pytz>=2017.2 in /usr/local/lib/python3.7/dist-packages (from pandas>=0.25->statsmodels) (2018.9)\n",
            "Requirement already satisfied: python-dateutil>=2.7.3 in /usr/local/lib/python3.7/dist-packages (from pandas>=0.25->statsmodels) (2.8.2)\n",
            "Requirement already satisfied: six in /usr/local/lib/python3.7/dist-packages (from patsy>=0.5.2->statsmodels) (1.15.0)\n"
          ]
        }
      ],
      "source": [
        "!pip install statsmodels"
      ]
    },
    {
      "cell_type": "code",
      "execution_count": 4,
      "metadata": {
        "id": "epBI8R1DxpiV",
        "colab": {
          "base_uri": "https://localhost:8080/"
        },
        "outputId": "7f7dcf4e-7a92-4e23-d0f9-5eac5e837a6a"
      },
      "outputs": [
        {
          "output_type": "stream",
          "name": "stdout",
          "text": [
            "Requirement already satisfied: numpy in /usr/local/lib/python3.7/dist-packages (1.19.5)\n"
          ]
        }
      ],
      "source": [
        "!pip install numpy"
      ]
    },
    {
      "cell_type": "code",
      "execution_count": 5,
      "metadata": {
        "id": "g_dPHkeR4Tcv",
        "colab": {
          "base_uri": "https://localhost:8080/"
        },
        "outputId": "25e57121-0631-4bf1-e3be-e62f9e6b7d04"
      },
      "outputs": [
        {
          "output_type": "stream",
          "name": "stdout",
          "text": [
            "Requirement already satisfied: scipy in /usr/local/lib/python3.7/dist-packages (1.4.1)\n",
            "Requirement already satisfied: numpy>=1.13.3 in /usr/local/lib/python3.7/dist-packages (from scipy) (1.19.5)\n"
          ]
        }
      ],
      "source": [
        "!pip install scipy"
      ]
    },
    {
      "cell_type": "code",
      "execution_count": 6,
      "metadata": {
        "id": "_9Wivb-WTwta",
        "colab": {
          "base_uri": "https://localhost:8080/"
        },
        "outputId": "bbc392c8-474e-49d6-d2fc-c23f42184ed2"
      },
      "outputs": [
        {
          "output_type": "stream",
          "name": "stdout",
          "text": [
            "Requirement already satisfied: pandas in /usr/local/lib/python3.7/dist-packages (1.1.5)\n",
            "Requirement already satisfied: pytz>=2017.2 in /usr/local/lib/python3.7/dist-packages (from pandas) (2018.9)\n",
            "Requirement already satisfied: python-dateutil>=2.7.3 in /usr/local/lib/python3.7/dist-packages (from pandas) (2.8.2)\n",
            "Requirement already satisfied: numpy>=1.15.4 in /usr/local/lib/python3.7/dist-packages (from pandas) (1.19.5)\n",
            "Requirement already satisfied: six>=1.5 in /usr/local/lib/python3.7/dist-packages (from python-dateutil>=2.7.3->pandas) (1.15.0)\n"
          ]
        }
      ],
      "source": [
        "!pip install pandas"
      ]
    },
    {
      "cell_type": "code",
      "execution_count": 7,
      "metadata": {
        "id": "DWPEnm5CWEH4",
        "colab": {
          "base_uri": "https://localhost:8080/"
        },
        "outputId": "47b0c7d1-958e-4cdc-be71-0ad8b6467330"
      },
      "outputs": [
        {
          "output_type": "stream",
          "name": "stdout",
          "text": [
            "Requirement already satisfied: sklearn in /usr/local/lib/python3.7/dist-packages (0.0)\n",
            "Requirement already satisfied: scikit-learn in /usr/local/lib/python3.7/dist-packages (from sklearn) (1.0.1)\n",
            "Requirement already satisfied: scipy>=1.1.0 in /usr/local/lib/python3.7/dist-packages (from scikit-learn->sklearn) (1.4.1)\n",
            "Requirement already satisfied: threadpoolctl>=2.0.0 in /usr/local/lib/python3.7/dist-packages (from scikit-learn->sklearn) (3.0.0)\n",
            "Requirement already satisfied: joblib>=0.11 in /usr/local/lib/python3.7/dist-packages (from scikit-learn->sklearn) (1.1.0)\n",
            "Requirement already satisfied: numpy>=1.14.6 in /usr/local/lib/python3.7/dist-packages (from scikit-learn->sklearn) (1.19.5)\n"
          ]
        }
      ],
      "source": [
        "!pip install sklearn"
      ]
    },
    {
      "cell_type": "markdown",
      "source": [
        ""
      ],
      "metadata": {
        "id": "K462TCPqNIJy"
      }
    },
    {
      "cell_type": "code",
      "execution_count": 8,
      "metadata": {
        "id": "ERLCkJcWbRA8",
        "colab": {
          "base_uri": "https://localhost:8080/"
        },
        "outputId": "da7a1c07-cd3c-492e-d0db-2036b87721fa"
      },
      "outputs": [
        {
          "output_type": "stream",
          "name": "stdout",
          "text": [
            "Requirement already satisfied: yfinance in /usr/local/lib/python3.7/dist-packages (0.1.68)\n",
            "Requirement already satisfied: lxml>=4.5.1 in /usr/local/lib/python3.7/dist-packages (from yfinance) (4.7.1)\n",
            "Requirement already satisfied: requests>=2.26 in /usr/local/lib/python3.7/dist-packages (from yfinance) (2.27.1)\n",
            "Requirement already satisfied: pandas>=0.24 in /usr/local/lib/python3.7/dist-packages (from yfinance) (1.1.5)\n",
            "Requirement already satisfied: multitasking>=0.0.7 in /usr/local/lib/python3.7/dist-packages (from yfinance) (0.0.10)\n",
            "Requirement already satisfied: numpy>=1.15 in /usr/local/lib/python3.7/dist-packages (from yfinance) (1.19.5)\n",
            "Requirement already satisfied: pytz>=2017.2 in /usr/local/lib/python3.7/dist-packages (from pandas>=0.24->yfinance) (2018.9)\n",
            "Requirement already satisfied: python-dateutil>=2.7.3 in /usr/local/lib/python3.7/dist-packages (from pandas>=0.24->yfinance) (2.8.2)\n",
            "Requirement already satisfied: six>=1.5 in /usr/local/lib/python3.7/dist-packages (from python-dateutil>=2.7.3->pandas>=0.24->yfinance) (1.15.0)\n",
            "Requirement already satisfied: charset-normalizer~=2.0.0 in /usr/local/lib/python3.7/dist-packages (from requests>=2.26->yfinance) (2.0.9)\n",
            "Requirement already satisfied: idna<4,>=2.5 in /usr/local/lib/python3.7/dist-packages (from requests>=2.26->yfinance) (2.10)\n",
            "Requirement already satisfied: urllib3<1.27,>=1.21.1 in /usr/local/lib/python3.7/dist-packages (from requests>=2.26->yfinance) (1.24.3)\n",
            "Requirement already satisfied: certifi>=2017.4.17 in /usr/local/lib/python3.7/dist-packages (from requests>=2.26->yfinance) (2021.10.8)\n"
          ]
        }
      ],
      "source": [
        "!pip install yfinance"
      ]
    },
    {
      "cell_type": "code",
      "execution_count": 31,
      "metadata": {
        "id": "uGkwj58Q3jIN",
        "colab": {
          "base_uri": "https://localhost:8080/"
        },
        "outputId": "396d9ddb-f189-4cc8-de7e-45caad4c393b"
      },
      "outputs": [
        {
          "output_type": "stream",
          "name": "stdout",
          "text": [
            "Drive already mounted at /content/driver; to attempt to forcibly remount, call drive.mount(\"/content/driver\", force_remount=True).\n"
          ]
        }
      ],
      "source": [
        "from google.colab import drive\n",
        "drive.mount('/content/driver')"
      ]
    },
    {
      "cell_type": "code",
      "execution_count": 47,
      "metadata": {
        "id": "4BtAN-YW3rVU"
      },
      "outputs": [],
      "source": [
        "import warnings\n",
        "import itertools\n",
        "import pandas as pd\n",
        "import numpy as np\n",
        "import statsmodels.api as sm\n",
        "import math\n",
        "from statsmodels.tsa.stattools import adfuller\n",
        "import matplotlib.pyplot as plt\n",
        "from statsmodels.tsa.arima_model import ARIMA\n",
        "from statsmodels.tsa.arima_model import ARMA\n",
        "\n",
        "from sklearn.metrics import mean_squared_error, mean_absolute_error"
      ]
    },
    {
      "cell_type": "code",
      "execution_count": 33,
      "metadata": {
        "id": "iyNRM75dxu25",
        "colab": {
          "base_uri": "https://localhost:8080/",
          "height": 441
        },
        "outputId": "1e683532-d20e-483a-e07c-93cd53889961"
      },
      "outputs": [
        {
          "output_type": "stream",
          "name": "stdout",
          "text": [
            "Shape of data (2018, 7)\n"
          ]
        },
        {
          "output_type": "execute_result",
          "data": {
            "text/html": [
              "\n",
              "  <div id=\"df-d80c5d2d-295e-400e-a35d-bc991fd7ee92\">\n",
              "    <div class=\"colab-df-container\">\n",
              "      <div>\n",
              "<style scoped>\n",
              "    .dataframe tbody tr th:only-of-type {\n",
              "        vertical-align: middle;\n",
              "    }\n",
              "\n",
              "    .dataframe tbody tr th {\n",
              "        vertical-align: top;\n",
              "    }\n",
              "\n",
              "    .dataframe thead th {\n",
              "        text-align: right;\n",
              "    }\n",
              "</style>\n",
              "<table border=\"1\" class=\"dataframe\">\n",
              "  <thead>\n",
              "    <tr style=\"text-align: right;\">\n",
              "      <th></th>\n",
              "      <th>Date</th>\n",
              "      <th>Open</th>\n",
              "      <th>High</th>\n",
              "      <th>Low</th>\n",
              "      <th>Close</th>\n",
              "      <th>Adj Close</th>\n",
              "      <th>Volume</th>\n",
              "    </tr>\n",
              "  </thead>\n",
              "  <tbody>\n",
              "    <tr>\n",
              "      <th>0</th>\n",
              "      <td>2012-01-03</td>\n",
              "      <td>58.500000</td>\n",
              "      <td>58.928570</td>\n",
              "      <td>58.428570</td>\n",
              "      <td>58.747143</td>\n",
              "      <td>56.011238</td>\n",
              "      <td>75564699</td>\n",
              "    </tr>\n",
              "    <tr>\n",
              "      <th>1</th>\n",
              "      <td>2012-01-04</td>\n",
              "      <td>58.599998</td>\n",
              "      <td>59.240002</td>\n",
              "      <td>58.468571</td>\n",
              "      <td>59.062859</td>\n",
              "      <td>56.312252</td>\n",
              "      <td>65061108</td>\n",
              "    </tr>\n",
              "    <tr>\n",
              "      <th>2</th>\n",
              "      <td>2012-01-05</td>\n",
              "      <td>59.278572</td>\n",
              "      <td>59.792858</td>\n",
              "      <td>58.952858</td>\n",
              "      <td>59.718571</td>\n",
              "      <td>56.937424</td>\n",
              "      <td>67816805</td>\n",
              "    </tr>\n",
              "    <tr>\n",
              "      <th>3</th>\n",
              "      <td>2012-01-06</td>\n",
              "      <td>59.967140</td>\n",
              "      <td>60.392857</td>\n",
              "      <td>59.888573</td>\n",
              "      <td>60.342857</td>\n",
              "      <td>57.532646</td>\n",
              "      <td>79596412</td>\n",
              "    </tr>\n",
              "    <tr>\n",
              "      <th>4</th>\n",
              "      <td>2012-01-09</td>\n",
              "      <td>60.788570</td>\n",
              "      <td>61.107143</td>\n",
              "      <td>60.192856</td>\n",
              "      <td>60.247143</td>\n",
              "      <td>57.441391</td>\n",
              "      <td>98505792</td>\n",
              "    </tr>\n",
              "    <tr>\n",
              "      <th>...</th>\n",
              "      <td>...</td>\n",
              "      <td>...</td>\n",
              "      <td>...</td>\n",
              "      <td>...</td>\n",
              "      <td>...</td>\n",
              "      <td>...</td>\n",
              "      <td>...</td>\n",
              "    </tr>\n",
              "    <tr>\n",
              "      <th>2013</th>\n",
              "      <td>2020-01-03</td>\n",
              "      <td>297.149994</td>\n",
              "      <td>300.579987</td>\n",
              "      <td>296.500000</td>\n",
              "      <td>297.429993</td>\n",
              "      <td>293.598297</td>\n",
              "      <td>36633878</td>\n",
              "    </tr>\n",
              "    <tr>\n",
              "      <th>2014</th>\n",
              "      <td>2020-01-06</td>\n",
              "      <td>293.790009</td>\n",
              "      <td>299.959991</td>\n",
              "      <td>292.750000</td>\n",
              "      <td>299.799988</td>\n",
              "      <td>295.937744</td>\n",
              "      <td>29644644</td>\n",
              "    </tr>\n",
              "    <tr>\n",
              "      <th>2015</th>\n",
              "      <td>2020-01-07</td>\n",
              "      <td>299.839996</td>\n",
              "      <td>300.899994</td>\n",
              "      <td>297.480011</td>\n",
              "      <td>298.390015</td>\n",
              "      <td>294.545959</td>\n",
              "      <td>26207813</td>\n",
              "    </tr>\n",
              "    <tr>\n",
              "      <th>2016</th>\n",
              "      <td>2020-01-08</td>\n",
              "      <td>297.160004</td>\n",
              "      <td>304.439911</td>\n",
              "      <td>297.156006</td>\n",
              "      <td>303.190002</td>\n",
              "      <td>299.284088</td>\n",
              "      <td>33090946</td>\n",
              "    </tr>\n",
              "    <tr>\n",
              "      <th>2017</th>\n",
              "      <td>2020-01-09</td>\n",
              "      <td>307.234985</td>\n",
              "      <td>310.429993</td>\n",
              "      <td>306.200012</td>\n",
              "      <td>309.630005</td>\n",
              "      <td>305.641113</td>\n",
              "      <td>42621542</td>\n",
              "    </tr>\n",
              "  </tbody>\n",
              "</table>\n",
              "<p>2018 rows × 7 columns</p>\n",
              "</div>\n",
              "      <button class=\"colab-df-convert\" onclick=\"convertToInteractive('df-d80c5d2d-295e-400e-a35d-bc991fd7ee92')\"\n",
              "              title=\"Convert this dataframe to an interactive table.\"\n",
              "              style=\"display:none;\">\n",
              "        \n",
              "  <svg xmlns=\"http://www.w3.org/2000/svg\" height=\"24px\"viewBox=\"0 0 24 24\"\n",
              "       width=\"24px\">\n",
              "    <path d=\"M0 0h24v24H0V0z\" fill=\"none\"/>\n",
              "    <path d=\"M18.56 5.44l.94 2.06.94-2.06 2.06-.94-2.06-.94-.94-2.06-.94 2.06-2.06.94zm-11 1L8.5 8.5l.94-2.06 2.06-.94-2.06-.94L8.5 2.5l-.94 2.06-2.06.94zm10 10l.94 2.06.94-2.06 2.06-.94-2.06-.94-.94-2.06-.94 2.06-2.06.94z\"/><path d=\"M17.41 7.96l-1.37-1.37c-.4-.4-.92-.59-1.43-.59-.52 0-1.04.2-1.43.59L10.3 9.45l-7.72 7.72c-.78.78-.78 2.05 0 2.83L4 21.41c.39.39.9.59 1.41.59.51 0 1.02-.2 1.41-.59l7.78-7.78 2.81-2.81c.8-.78.8-2.07 0-2.86zM5.41 20L4 18.59l7.72-7.72 1.47 1.35L5.41 20z\"/>\n",
              "  </svg>\n",
              "      </button>\n",
              "      \n",
              "  <style>\n",
              "    .colab-df-container {\n",
              "      display:flex;\n",
              "      flex-wrap:wrap;\n",
              "      gap: 12px;\n",
              "    }\n",
              "\n",
              "    .colab-df-convert {\n",
              "      background-color: #E8F0FE;\n",
              "      border: none;\n",
              "      border-radius: 50%;\n",
              "      cursor: pointer;\n",
              "      display: none;\n",
              "      fill: #1967D2;\n",
              "      height: 32px;\n",
              "      padding: 0 0 0 0;\n",
              "      width: 32px;\n",
              "    }\n",
              "\n",
              "    .colab-df-convert:hover {\n",
              "      background-color: #E2EBFA;\n",
              "      box-shadow: 0px 1px 2px rgba(60, 64, 67, 0.3), 0px 1px 3px 1px rgba(60, 64, 67, 0.15);\n",
              "      fill: #174EA6;\n",
              "    }\n",
              "\n",
              "    [theme=dark] .colab-df-convert {\n",
              "      background-color: #3B4455;\n",
              "      fill: #D2E3FC;\n",
              "    }\n",
              "\n",
              "    [theme=dark] .colab-df-convert:hover {\n",
              "      background-color: #434B5C;\n",
              "      box-shadow: 0px 1px 3px 1px rgba(0, 0, 0, 0.15);\n",
              "      filter: drop-shadow(0px 1px 2px rgba(0, 0, 0, 0.3));\n",
              "      fill: #FFFFFF;\n",
              "    }\n",
              "  </style>\n",
              "\n",
              "      <script>\n",
              "        const buttonEl =\n",
              "          document.querySelector('#df-d80c5d2d-295e-400e-a35d-bc991fd7ee92 button.colab-df-convert');\n",
              "        buttonEl.style.display =\n",
              "          google.colab.kernel.accessAllowed ? 'block' : 'none';\n",
              "\n",
              "        async function convertToInteractive(key) {\n",
              "          const element = document.querySelector('#df-d80c5d2d-295e-400e-a35d-bc991fd7ee92');\n",
              "          const dataTable =\n",
              "            await google.colab.kernel.invokeFunction('convertToInteractive',\n",
              "                                                     [key], {});\n",
              "          if (!dataTable) return;\n",
              "\n",
              "          const docLinkHtml = 'Like what you see? Visit the ' +\n",
              "            '<a target=\"_blank\" href=https://colab.research.google.com/notebooks/data_table.ipynb>data table notebook</a>'\n",
              "            + ' to learn more about interactive tables.';\n",
              "          element.innerHTML = '';\n",
              "          dataTable['output_type'] = 'display_data';\n",
              "          await google.colab.output.renderOutput(dataTable, element);\n",
              "          const docLink = document.createElement('div');\n",
              "          docLink.innerHTML = docLinkHtml;\n",
              "          element.appendChild(docLink);\n",
              "        }\n",
              "      </script>\n",
              "    </div>\n",
              "  </div>\n",
              "  "
            ],
            "text/plain": [
              "            Date        Open        High  ...       Close   Adj Close    Volume\n",
              "0     2012-01-03   58.500000   58.928570  ...   58.747143   56.011238  75564699\n",
              "1     2012-01-04   58.599998   59.240002  ...   59.062859   56.312252  65061108\n",
              "2     2012-01-05   59.278572   59.792858  ...   59.718571   56.937424  67816805\n",
              "3     2012-01-06   59.967140   60.392857  ...   60.342857   57.532646  79596412\n",
              "4     2012-01-09   60.788570   61.107143  ...   60.247143   57.441391  98505792\n",
              "...          ...         ...         ...  ...         ...         ...       ...\n",
              "2013  2020-01-03  297.149994  300.579987  ...  297.429993  293.598297  36633878\n",
              "2014  2020-01-06  293.790009  299.959991  ...  299.799988  295.937744  29644644\n",
              "2015  2020-01-07  299.839996  300.899994  ...  298.390015  294.545959  26207813\n",
              "2016  2020-01-08  297.160004  304.439911  ...  303.190002  299.284088  33090946\n",
              "2017  2020-01-09  307.234985  310.429993  ...  309.630005  305.641113  42621542\n",
              "\n",
              "[2018 rows x 7 columns]"
            ]
          },
          "metadata": {},
          "execution_count": 33
        }
      ],
      "source": [
        "df=pd.read_csv('/content/driver/My Drive/LSTM_Model/AAPL.csv')\n",
        "df=df.dropna()\n",
        "print('Shape of data',df.shape)\n",
        "df.head()\n",
        "df"
      ]
    },
    {
      "cell_type": "markdown",
      "source": [
        ""
      ],
      "metadata": {
        "id": "BYQYwuA393o0"
      }
    },
    {
      "cell_type": "code",
      "execution_count": 34,
      "metadata": {
        "id": "A_brQmqIZ1Sk",
        "colab": {
          "base_uri": "https://localhost:8080/",
          "height": 265
        },
        "outputId": "e324f48a-ab65-4681-ad15-8be2d7e843f8"
      },
      "outputs": [
        {
          "output_type": "display_data",
          "data": {
            "image/png": "[encoded data removed]",
            "text/plain": [
              "<Figure size 432x288 with 1 Axes>"
            ]
          },
          "metadata": {
            "needs_background": "light"
          }
        }
      ],
      "source": [
        "plt.plot(df.index, df['Adj Close'])\n",
        "plt.show()"
      ]
    },
    {
      "cell_type": "code",
      "execution_count": 35,
      "metadata": {
        "id": "LZvjzpDhdGtu",
        "colab": {
          "base_uri": "https://localhost:8080/"
        },
        "outputId": "6e156ae0-8c3d-4395-c11f-ec2e5c5bee8d"
      },
      "outputs": [
        {
          "output_type": "stream",
          "name": "stdout",
          "text": [
            "1816\n"
          ]
        }
      ],
      "source": [
        "#Train test split\n",
        "to_row = int(len(df)*0.9)     # Result: 1816\n",
        "print (to_row)\n"
      ]
    },
    {
      "cell_type": "code",
      "source": [
        "training_data = list(df[0:to_row]['Adj Close'])\n",
        "testing_data = list(df[to_row:]['Adj Close'])\n",
        "#testing_data = (df[to_row:]['Adj Close'])\n",
        "testing_data"
      ],
      "metadata": {
        "id": "afiFFhPO7M1K",
        "colab": {
          "base_uri": "https://localhost:8080/"
        },
        "outputId": "80bef17d-5c7f-4fd1-8f04-43d3ec162132"
      },
      "execution_count": 36,
      "outputs": [
        {
          "output_type": "execute_result",
          "data": {
            "text/plain": [
              "[185.81454499999998,\n",
              " 183.894745,\n",
              " 185.548721,\n",
              " 185.794861,\n",
              " 187.005798,\n",
              " 188.275818,\n",
              " 191.012741,\n",
              " 192.32208300000002,\n",
              " 192.65683,\n",
              " 193.946518,\n",
              " 196.99848899999998,\n",
              " 196.407776,\n",
              " 197.51040600000002,\n",
              " 195.866333,\n",
              " 195.787521,\n",
              " 196.141922,\n",
              " 196.161621,\n",
              " 199.981491,\n",
              " 200.70018000000002,\n",
              " 201.359818,\n",
              " 204.264084,\n",
              " 203.949036,\n",
              " 202.09816,\n",
              " 201.133392,\n",
              " 201.438553,\n",
              " 197.559616,\n",
              " 207.25698899999998,\n",
              " 205.90820300000001,\n",
              " 208.467896,\n",
              " 205.24856599999998,\n",
              " 199.715698,\n",
              " 199.755066,\n",
              " 197.608871,\n",
              " 194.31008899999998,\n",
              " 183.016876,\n",
              " 185.914078,\n",
              " 188.141205,\n",
              " 187.313431,\n",
              " 186.249115,\n",
              " 180.425125,\n",
              " 183.884094,\n",
              " 180.119659,\n",
              " 177.045074,\n",
              " 176.365112,\n",
              " 175.63588000000001,\n",
              " 174.798248,\n",
              " 175.704849,\n",
              " 172.521866,\n",
              " 170.777618,\n",
              " 177.02539099999998,\n",
              " 179.883148,\n",
              " 182.524155,\n",
              " 187.382385,\n",
              " 189.77702299999999,\n",
              " 191.974564,\n",
              " 191.36360200000001,\n",
              " 191.324173,\n",
              " 189.93469199999998,\n",
              " 191.067963,\n",
              " 195.561584,\n",
              " 194.990036,\n",
              " 196.556915,\n",
              " 195.88678000000002,\n",
              " 195.689697,\n",
              " 192.723526,\n",
              " 196.891953,\n",
              " 196.832809,\n",
              " 195.039307,\n",
              " 198.616486,\n",
              " 199.77929699999999,\n",
              " 201.43486000000001,\n",
              " 201.257431,\n",
              " 197.10876499999998,\n",
              " 198.310974,\n",
              " 200.272018,\n",
              " 198.813568,\n",
              " 200.341003,\n",
              " 202.223221,\n",
              " 201.523544,\n",
              " 200.390274,\n",
              " 202.666672,\n",
              " 199.641327,\n",
              " 204.20396399999998,\n",
              " 205.800369,\n",
              " 205.632828,\n",
              " 204.006851,\n",
              " 204.716385,\n",
              " 206.628159,\n",
              " 205.741241,\n",
              " 209.93925499999997,\n",
              " 205.396332,\n",
              " 201.05053700000002,\n",
              " 190.52597,\n",
              " 194.132706,\n",
              " 196.14300500000002,\n",
              " 200.469101,\n",
              " 198.252228,\n",
              " 197.74916100000002,\n",
              " 206.12355,\n",
              " 199.98826599999998,\n",
              " 198.99202,\n",
              " 203.68718,\n",
              " 207.48474099999999,\n",
              " 207.494583,\n",
              " 209.74353,\n",
              " 209.565994,\n",
              " 199.87974499999999,\n",
              " 203.677338,\n",
              " 201.379028,\n",
              " 202.730408,\n",
              " 206.162964,\n",
              " 205.89666699999998,\n",
              " 202.898071,\n",
              " 206.34053,\n",
              " 210.37481699999998,\n",
              " 210.355072,\n",
              " 211.25270099999997,\n",
              " 213.74824500000003,\n",
              " 220.544357,\n",
              " 220.04624900000002,\n",
              " 215.770309,\n",
              " 216.90463300000002,\n",
              " 217.69374100000002,\n",
              " 219.73556499999998,\n",
              " 217.950211,\n",
              " 214.764191,\n",
              " 215.740738,\n",
              " 214.714874,\n",
              " 218.01927200000003,\n",
              " 216.89479100000003,\n",
              " 215.839371,\n",
              " 220.91918900000002,\n",
              " 221.530762,\n",
              " 215.977448,\n",
              " 217.812134,\n",
              " 223.91780099999997,\n",
              " 223.96713300000002,\n",
              " 221.34335299999998,\n",
              " 223.937546,\n",
              " 226.95584100000002,\n",
              " 232.99249300000002,\n",
              " 232.657104,\n",
              " 232.11462400000002,\n",
              " 231.17755099999997,\n",
              " 232.07515,\n",
              " 233.18977400000003,\n",
              " 237.233902,\n",
              " 236.691406,\n",
              " 239.867538,\n",
              " 240.262115,\n",
              " 243.221222,\n",
              " 245.65759300000002,\n",
              " 239.97602799999999,\n",
              " 239.94645699999998,\n",
              " 245.371536,\n",
              " 252.335373,\n",
              " 253.992477,\n",
              " 253.627548,\n",
              " 253.73603799999998,\n",
              " 256.087799,\n",
              " 256.788696,\n",
              " 258.822113,\n",
              " 258.585236,\n",
              " 261.062958,\n",
              " 259.256531,\n",
              " 262.33633399999997,\n",
              " 263.659027,\n",
              " 262.859467,\n",
              " 259.799408,\n",
              " 258.634613,\n",
              " 258.407562,\n",
              " 262.938385,\n",
              " 260.885223,\n",
              " 264.389496,\n",
              " 263.807098,\n",
              " 260.75689700000004,\n",
              " 256.107544,\n",
              " 258.368042,\n",
              " 262.15862999999996,\n",
              " 267.222534,\n",
              " 263.481384,\n",
              " 265.02121,\n",
              " 267.28173799999996,\n",
              " 267.96286000000003,\n",
              " 271.605347,\n",
              " 276.254608,\n",
              " 276.797577,\n",
              " 276.136169,\n",
              " 276.41256699999997,\n",
              " 275.840088,\n",
              " 280.34137000000004,\n",
              " 280.60784900000004,\n",
              " 286.17514,\n",
              " 286.06662,\n",
              " 287.764404,\n",
              " 289.866943,\n",
              " 296.480682,\n",
              " 293.598297,\n",
              " 295.937744,\n",
              " 294.545959,\n",
              " 299.284088,\n",
              " 305.64111299999996]"
            ]
          },
          "metadata": {},
          "execution_count": 36
        }
      ]
    },
    {
      "cell_type": "code",
      "source": [
        "print (len(training_data))\n",
        "print(len(testing_data))"
      ],
      "metadata": {
        "colab": {
          "base_uri": "https://localhost:8080/"
        },
        "id": "ZKatuYcYdBkc",
        "outputId": "4eb07af6-edd5-42dd-d1c7-e1b640f5571e"
      },
      "execution_count": 37,
      "outputs": [
        {
          "output_type": "stream",
          "name": "stdout",
          "text": [
            "1816\n",
            "202\n"
          ]
        }
      ]
    },
    {
      "cell_type": "code",
      "execution_count": 38,
      "metadata": {
        "id": "0jeVoElFKWwo",
        "colab": {
          "base_uri": "https://localhost:8080/",
          "height": 391
        },
        "outputId": "d0dbe174-8cfd-4790-b28e-0c23e27e36af"
      },
      "outputs": [
        {
          "output_type": "execute_result",
          "data": {
            "text/plain": [
              "<matplotlib.legend.Legend at 0x7f05da504ed0>"
            ]
          },
          "metadata": {},
          "execution_count": 38
        },
        {
          "output_type": "display_data",
          "data": {
            "image/png": "[encoded data removed]",
            "text/plain": [
              "<Figure size 720x432 with 1 Axes>"
            ]
          },
          "metadata": {
            "needs_background": "light"
          }
        }
      ],
      "source": [
        "plt.figure(figsize=(10,6))\n",
        "plt.grid(True)\n",
        "#plt.xlabel('Dates')\n",
        "plt.ylabel('Closing Prices')\n",
        "plt.plot(df[0:to_row]['Adj Close'],'green',label='Train data')\n",
        "plt.plot(df[to_row:]['Adj Close'],'blue',label= 'Test data')\n",
        "plt.legend()"
      ]
    },
    {
      "cell_type": "code",
      "execution_count": 104,
      "metadata": {
        "id": "SekUK3n-KW4m",
        "colab": {
          "base_uri": "https://localhost:8080/"
        },
        "outputId": "7262af3a-db6b-4ffb-bd2f-0cb40c07b2be"
      },
      "outputs": [
        {
          "output_type": "execute_result",
          "data": {
            "text/plain": [
              "202"
            ]
          },
          "metadata": {},
          "execution_count": 104
        }
      ],
      "source": [
        "model_predict = []\n",
        "n_test_ob = len(testing_data)   #202\n",
        "n_test_ob"
      ]
    },
    {
      "cell_type": "code",
      "execution_count": 137,
      "metadata": {
        "id": "f_BiwR7FVCDq",
        "colab": {
          "base_uri": "https://localhost:8080/"
        },
        "outputId": "72fa6df8-add7-402a-ffd8-c9916f83412d"
      },
      "outputs": [
        {
          "output_type": "stream",
          "name": "stdout",
          "text": [
            "predicted=305.630684, expected=185.814545\n",
            "predicted=305.630684, expected=183.894745\n",
            "predicted=305.630684, expected=185.548721\n",
            "predicted=305.630684, expected=185.794861\n",
            "predicted=305.630684, expected=187.005798\n",
            "predicted=305.630684, expected=188.275818\n",
            "predicted=305.630684, expected=191.012741\n",
            "predicted=305.630684, expected=192.322083\n",
            "predicted=305.630684, expected=192.656830\n",
            "predicted=305.630684, expected=193.946518\n",
            "predicted=305.630684, expected=196.998489\n",
            "predicted=305.630684, expected=196.407776\n",
            "predicted=305.630684, expected=197.510406\n",
            "predicted=305.630684, expected=195.866333\n",
            "predicted=305.630684, expected=195.787521\n",
            "predicted=305.630684, expected=196.141922\n",
            "predicted=305.630684, expected=196.161621\n",
            "predicted=305.630684, expected=199.981491\n",
            "predicted=305.630684, expected=200.700180\n",
            "predicted=305.630684, expected=201.359818\n",
            "predicted=305.630684, expected=204.264084\n",
            "predicted=305.630684, expected=203.949036\n",
            "predicted=305.630684, expected=202.098160\n",
            "predicted=305.630684, expected=201.133392\n",
            "predicted=305.630684, expected=201.438553\n",
            "predicted=305.630684, expected=197.559616\n",
            "predicted=305.630684, expected=207.256989\n",
            "predicted=305.630684, expected=205.908203\n",
            "predicted=305.630684, expected=208.467896\n",
            "predicted=305.630684, expected=205.248566\n",
            "predicted=305.630684, expected=199.715698\n",
            "predicted=305.630684, expected=199.755066\n",
            "predicted=305.630684, expected=197.608871\n",
            "predicted=305.630684, expected=194.310089\n",
            "predicted=305.630684, expected=183.016876\n",
            "predicted=305.630684, expected=185.914078\n",
            "predicted=305.630684, expected=188.141205\n",
            "predicted=305.630684, expected=187.313431\n",
            "predicted=305.630684, expected=186.249115\n",
            "predicted=305.630684, expected=180.425125\n",
            "predicted=305.630684, expected=183.884094\n",
            "predicted=305.630684, expected=180.119659\n",
            "predicted=305.630684, expected=177.045074\n",
            "predicted=305.630684, expected=176.365112\n",
            "predicted=305.630684, expected=175.635880\n",
            "predicted=305.630684, expected=174.798248\n",
            "predicted=305.630684, expected=175.704849\n",
            "predicted=305.630684, expected=172.521866\n",
            "predicted=305.630684, expected=170.777618\n",
            "predicted=305.630684, expected=177.025391\n",
            "predicted=305.630684, expected=179.883148\n",
            "predicted=305.630684, expected=182.524155\n",
            "predicted=305.630684, expected=187.382385\n",
            "predicted=305.630684, expected=189.777023\n",
            "predicted=305.630684, expected=191.974564\n",
            "predicted=305.630684, expected=191.363602\n",
            "predicted=305.630684, expected=191.324173\n",
            "predicted=305.630684, expected=189.934692\n",
            "predicted=305.630684, expected=191.067963\n",
            "predicted=305.630684, expected=195.561584\n",
            "predicted=305.630684, expected=194.990036\n",
            "predicted=305.630684, expected=196.556915\n",
            "predicted=305.630684, expected=195.886780\n",
            "predicted=305.630684, expected=195.689697\n",
            "predicted=305.630684, expected=192.723526\n",
            "predicted=305.630684, expected=196.891953\n",
            "predicted=305.630684, expected=196.832809\n",
            "predicted=305.630684, expected=195.039307\n",
            "predicted=305.630684, expected=198.616486\n",
            "predicted=305.630684, expected=199.779297\n",
            "predicted=305.630684, expected=201.434860\n",
            "predicted=305.630684, expected=201.257431\n",
            "predicted=305.630684, expected=197.108765\n",
            "predicted=305.630684, expected=198.310974\n",
            "predicted=305.630684, expected=200.272018\n",
            "predicted=305.630684, expected=198.813568\n",
            "predicted=305.630684, expected=200.341003\n",
            "predicted=305.630684, expected=202.223221\n",
            "predicted=305.630684, expected=201.523544\n",
            "predicted=305.630684, expected=200.390274\n",
            "predicted=305.630684, expected=202.666672\n",
            "predicted=305.630684, expected=199.641327\n",
            "predicted=305.630684, expected=204.203964\n",
            "predicted=305.630684, expected=205.800369\n",
            "predicted=305.630684, expected=205.632828\n",
            "predicted=305.630684, expected=204.006851\n",
            "predicted=305.630684, expected=204.716385\n",
            "predicted=305.630684, expected=206.628159\n",
            "predicted=305.630684, expected=205.741241\n",
            "predicted=305.630684, expected=209.939255\n",
            "predicted=305.630684, expected=205.396332\n",
            "predicted=305.630684, expected=201.050537\n",
            "predicted=305.630684, expected=190.525970\n",
            "predicted=305.630684, expected=194.132706\n",
            "predicted=305.630684, expected=196.143005\n",
            "predicted=305.630684, expected=200.469101\n",
            "predicted=305.630684, expected=198.252228\n",
            "predicted=305.630684, expected=197.749161\n",
            "predicted=305.630684, expected=206.123550\n",
            "predicted=305.630684, expected=199.988266\n",
            "predicted=305.630684, expected=198.992020\n",
            "predicted=305.630684, expected=203.687180\n",
            "predicted=305.630684, expected=207.484741\n",
            "predicted=305.630684, expected=207.494583\n",
            "predicted=305.630684, expected=209.743530\n",
            "predicted=305.630684, expected=209.565994\n",
            "predicted=305.630684, expected=199.879745\n",
            "predicted=305.630684, expected=203.677338\n",
            "predicted=305.630684, expected=201.379028\n",
            "predicted=305.630684, expected=202.730408\n",
            "predicted=305.630684, expected=206.162964\n",
            "predicted=305.630684, expected=205.896667\n",
            "predicted=305.630684, expected=202.898071\n",
            "predicted=305.630684, expected=206.340530\n",
            "predicted=305.630684, expected=210.374817\n",
            "predicted=305.630684, expected=210.355072\n",
            "predicted=305.630684, expected=211.252701\n",
            "predicted=305.630684, expected=213.748245\n",
            "predicted=305.630684, expected=220.544357\n",
            "predicted=305.630684, expected=220.046249\n",
            "predicted=305.630684, expected=215.770309\n",
            "predicted=305.630684, expected=216.904633\n",
            "predicted=305.630684, expected=217.693741\n",
            "predicted=305.630684, expected=219.735565\n",
            "predicted=305.630684, expected=217.950211\n",
            "predicted=305.630684, expected=214.764191\n",
            "predicted=305.630684, expected=215.740738\n",
            "predicted=305.630684, expected=214.714874\n",
            "predicted=305.630684, expected=218.019272\n",
            "predicted=305.630684, expected=216.894791\n",
            "predicted=305.630684, expected=215.839371\n",
            "predicted=305.630684, expected=220.919189\n",
            "predicted=305.630684, expected=221.530762\n",
            "predicted=305.630684, expected=215.977448\n",
            "predicted=305.630684, expected=217.812134\n",
            "predicted=305.630684, expected=223.917801\n",
            "predicted=305.630684, expected=223.967133\n",
            "predicted=305.630684, expected=221.343353\n",
            "predicted=305.630684, expected=223.937546\n",
            "predicted=305.630684, expected=226.955841\n",
            "predicted=305.630684, expected=232.992493\n",
            "predicted=305.630684, expected=232.657104\n",
            "predicted=305.630684, expected=232.114624\n",
            "predicted=305.630684, expected=231.177551\n",
            "predicted=305.630684, expected=232.075150\n",
            "predicted=305.630684, expected=233.189774\n",
            "predicted=305.630684, expected=237.233902\n",
            "predicted=305.630684, expected=236.691406\n",
            "predicted=305.630684, expected=239.867538\n",
            "predicted=305.630684, expected=240.262115\n",
            "predicted=305.630684, expected=243.221222\n",
            "predicted=305.630684, expected=245.657593\n",
            "predicted=305.630684, expected=239.976028\n",
            "predicted=305.630684, expected=239.946457\n",
            "predicted=305.630684, expected=245.371536\n",
            "predicted=305.630684, expected=252.335373\n",
            "predicted=305.630684, expected=253.992477\n",
            "predicted=305.630684, expected=253.627548\n",
            "predicted=305.630684, expected=253.736038\n",
            "predicted=305.630684, expected=256.087799\n",
            "predicted=305.630684, expected=256.788696\n",
            "predicted=305.630684, expected=258.822113\n",
            "predicted=305.630684, expected=258.585236\n",
            "predicted=305.630684, expected=261.062958\n",
            "predicted=305.630684, expected=259.256531\n",
            "predicted=305.630684, expected=262.336334\n",
            "predicted=305.630684, expected=263.659027\n",
            "predicted=305.630684, expected=262.859467\n",
            "predicted=305.630684, expected=259.799408\n",
            "predicted=305.630684, expected=258.634613\n",
            "predicted=305.630684, expected=258.407562\n",
            "predicted=305.630684, expected=262.938385\n",
            "predicted=305.630684, expected=260.885223\n",
            "predicted=305.630684, expected=264.389496\n",
            "predicted=305.630684, expected=263.807098\n",
            "predicted=305.630684, expected=260.756897\n",
            "predicted=305.630684, expected=256.107544\n",
            "predicted=305.630684, expected=258.368042\n",
            "predicted=305.630684, expected=262.158630\n",
            "predicted=305.630684, expected=267.222534\n",
            "predicted=305.630684, expected=263.481384\n",
            "predicted=305.630684, expected=265.021210\n",
            "predicted=305.630684, expected=267.281738\n",
            "predicted=305.630684, expected=267.962860\n",
            "predicted=305.630684, expected=271.605347\n",
            "predicted=305.630684, expected=276.254608\n",
            "predicted=305.630684, expected=276.797577\n",
            "predicted=305.630684, expected=276.136169\n",
            "predicted=305.630684, expected=276.412567\n",
            "predicted=305.630684, expected=275.840088\n",
            "predicted=305.630684, expected=280.341370\n",
            "predicted=305.630684, expected=280.607849\n",
            "predicted=305.630684, expected=286.175140\n",
            "predicted=305.630684, expected=286.066620\n",
            "predicted=305.630684, expected=287.764404\n",
            "predicted=305.630684, expected=289.866943\n",
            "predicted=305.630684, expected=296.480682\n",
            "predicted=305.630684, expected=293.598297\n",
            "predicted=305.630684, expected=295.937744\n",
            "predicted=305.630684, expected=294.545959\n",
            "predicted=305.630684, expected=299.284088\n",
            "predicted=305.630684, expected=305.641113\n"
          ]
        }
      ],
      "source": [
        "from statsmodels.tsa.arima.model import ARIMA\n",
        "for i in range(n_test_ob):\n",
        "  #model = sm.tsa.arima.ARIMA(training_data, order=(1,1,1))\n",
        "  model = sm.tsa.arima.ARIMA(testing_data, order=(1,1,1))\n",
        "  model_fit = model.fit()\n",
        "  output = model_fit.forecast()\n",
        "  yhat = output[0]\n",
        "  #yhat = list(output[0])[0]\n",
        "  model_predict.append(yhat)\n",
        "  actual_test_value = testing_data[i]\n",
        "  training_data.append(actual_test_value)\n",
        "  print('predicted=%f, expected=%f' % (yhat, actual_test_value))"
      ]
    },
    {
      "cell_type": "code",
      "source": [
        "model_fit.summary()"
      ],
      "metadata": {
        "id": "kZbT73l2BLa7",
        "colab": {
          "base_uri": "https://localhost:8080/",
          "height": 430
        },
        "outputId": "8405296e-0b91-4658-cbf6-5089a5c258ec"
      },
      "execution_count": 138,
      "outputs": [
        {
          "output_type": "execute_result",
          "data": {
            "text/html": [
              "<table class=\"simpletable\">\n",
              "<caption>SARIMAX Results</caption>\n",
              "<tr>\n",
              "  <th>Dep. Variable:</th>           <td>y</td>        <th>  No. Observations:  </th>    <td>202</td>  \n",
              "</tr>\n",
              "<tr>\n",
              "  <th>Model:</th>            <td>ARIMA(1, 1, 1)</td>  <th>  Log Likelihood     </th> <td>-518.269</td>\n",
              "</tr>\n",
              "<tr>\n",
              "  <th>Date:</th>            <td>Sun, 09 Jan 2022</td> <th>  AIC                </th> <td>1042.537</td>\n",
              "</tr>\n",
              "<tr>\n",
              "  <th>Time:</th>                <td>15:02:19</td>     <th>  BIC                </th> <td>1052.447</td>\n",
              "</tr>\n",
              "<tr>\n",
              "  <th>Sample:</th>                  <td>0</td>        <th>  HQIC               </th> <td>1046.547</td>\n",
              "</tr>\n",
              "<tr>\n",
              "  <th></th>                      <td> - 202</td>      <th>                     </th>     <td> </td>   \n",
              "</tr>\n",
              "<tr>\n",
              "  <th>Covariance Type:</th>        <td>opg</td>       <th>                     </th>     <td> </td>   \n",
              "</tr>\n",
              "</table>\n",
              "<table class=\"simpletable\">\n",
              "<tr>\n",
              "     <td></td>       <th>coef</th>     <th>std err</th>      <th>z</th>      <th>P>|z|</th>  <th>[0.025</th>    <th>0.975]</th>  \n",
              "</tr>\n",
              "<tr>\n",
              "  <th>ar.L1</th>  <td>    0.3888</td> <td>   50.731</td> <td>    0.008</td> <td> 0.994</td> <td>  -99.042</td> <td>   99.820</td>\n",
              "</tr>\n",
              "<tr>\n",
              "  <th>ma.L1</th>  <td>   -0.3900</td> <td>   50.704</td> <td>   -0.008</td> <td> 0.994</td> <td>  -99.767</td> <td>   98.987</td>\n",
              "</tr>\n",
              "<tr>\n",
              "  <th>sigma2</th> <td>   10.1657</td> <td>    0.843</td> <td>   12.061</td> <td> 0.000</td> <td>    8.514</td> <td>   11.818</td>\n",
              "</tr>\n",
              "</table>\n",
              "<table class=\"simpletable\">\n",
              "<tr>\n",
              "  <th>Ljung-Box (L1) (Q):</th>     <td>0.16</td> <th>  Jarque-Bera (JB):  </th> <td>25.78</td>\n",
              "</tr>\n",
              "<tr>\n",
              "  <th>Prob(Q):</th>                <td>0.69</td> <th>  Prob(JB):          </th> <td>0.00</td> \n",
              "</tr>\n",
              "<tr>\n",
              "  <th>Heteroskedasticity (H):</th> <td>1.07</td> <th>  Skew:              </th> <td>-0.46</td>\n",
              "</tr>\n",
              "<tr>\n",
              "  <th>Prob(H) (two-sided):</th>    <td>0.80</td> <th>  Kurtosis:          </th> <td>4.50</td> \n",
              "</tr>\n",
              "</table><br/><br/>Warnings:<br/>[1] Covariance matrix calculated using the outer product of gradients (complex-step)."
            ],
            "text/plain": [
              "<class 'statsmodels.iolib.summary.Summary'>\n",
              "\"\"\"\n",
              "                               SARIMAX Results                                \n",
              "==============================================================================\n",
              "Dep. Variable:                      y   No. Observations:                  202\n",
              "Model:                 ARIMA(1, 1, 1)   Log Likelihood                -518.269\n",
              "Date:                Sun, 09 Jan 2022   AIC                           1042.537\n",
              "Time:                        15:02:19   BIC                           1052.447\n",
              "Sample:                             0   HQIC                          1046.547\n",
              "                                - 202                                         \n",
              "Covariance Type:                  opg                                         \n",
              "==============================================================================\n",
              "                 coef    std err          z      P>|z|      [0.025      0.975]\n",
              "------------------------------------------------------------------------------\n",
              "ar.L1          0.3888     50.731      0.008      0.994     -99.042      99.820\n",
              "ma.L1         -0.3900     50.704     -0.008      0.994     -99.767      98.987\n",
              "sigma2        10.1657      0.843     12.061      0.000       8.514      11.818\n",
              "===================================================================================\n",
              "Ljung-Box (L1) (Q):                   0.16   Jarque-Bera (JB):                25.78\n",
              "Prob(Q):                              0.69   Prob(JB):                         0.00\n",
              "Heteroskedasticity (H):               1.07   Skew:                            -0.46\n",
              "Prob(H) (two-sided):                  0.80   Kurtosis:                         4.50\n",
              "===================================================================================\n",
              "\n",
              "Warnings:\n",
              "[1] Covariance matrix calculated using the outer product of gradients (complex-step).\n",
              "\"\"\""
            ]
          },
          "metadata": {},
          "execution_count": 138
        }
      ]
    },
    {
      "cell_type": "code",
      "execution_count": 139,
      "metadata": {
        "colab": {
          "base_uri": "https://localhost:8080/"
        },
        "id": "iTWB27B0TMD_",
        "outputId": "04c69869-db11-4cba-d738-52c67fdcc388"
      },
      "outputs": [
        {
          "output_type": "execute_result",
          "data": {
            "text/plain": [
              "1775"
            ]
          },
          "metadata": {},
          "execution_count": 139
        }
      ],
      "source": [
        "len(model_predict)"
      ]
    },
    {
      "cell_type": "code",
      "execution_count": 140,
      "metadata": {
        "colab": {
          "base_uri": "https://localhost:8080/"
        },
        "id": "4Zlh-xu0H1EB",
        "outputId": "8493ec4c-f22d-4e2c-cbba-c8053ab286bf"
      },
      "outputs": [
        {
          "output_type": "execute_result",
          "data": {
            "text/plain": [
              "202"
            ]
          },
          "metadata": {},
          "execution_count": 140
        }
      ],
      "source": [
        "len(testing_data)"
      ]
    },
    {
      "cell_type": "code",
      "execution_count": 141,
      "metadata": {
        "colab": {
          "base_uri": "https://localhost:8080/",
          "height": 552
        },
        "id": "SgL0RQCdOL8l",
        "outputId": "75429df9-9f50-4c80-93fd-4fb03973f171"
      },
      "outputs": [
        {
          "output_type": "display_data",
          "data": {
            "image/png": "[encoded data removed]",
            "text/plain": [
              "<Figure size 1080x648 with 1 Axes>"
            ]
          },
          "metadata": {
            "needs_background": "light"
          }
        }
      ],
      "source": [
        "plt.figure(figsize=(15,9))\n",
        "plt.grid(True)\n",
        "\n",
        "date_range = df[to_row:].index\n",
        "\n",
        "plt.plot(date_range , model_predict[:-1573], color = 'blue', marker = 'o', linestyle ='dashed', label = 'BTC predictied Price')\n",
        "plt.plot(date_range,testing_data, color = 'red', label = 'BTC Actual Price')\n",
        "\n",
        "plt.title('Bitcoin Price Prediction')\n",
        "#plt.xlabel('Date')\n",
        "plt.ylabel('Price')\n",
        "plt.legend()\n",
        "plt.show()\n"
      ]
    },
    {
      "cell_type": "code",
      "execution_count": 142,
      "metadata": {
        "colab": {
          "base_uri": "https://localhost:8080/"
        },
        "id": "xu7ZnkWwXPdF",
        "outputId": "b12eaacf-add6-4a20-eb04-a11b8311b4ce"
      },
      "outputs": [
        {
          "output_type": "stream",
          "name": "stdout",
          "text": [
            "MAPE: 0.42271494266411674\n"
          ]
        }
      ],
      "source": [
        "#report performance\n",
        "mape = np.mean(np.abs(np.array(model_predict[:-1573]) - np.array(testing_data))/np.abs(testing_data))\n",
        "print('MAPE: ' + str(mape))"
      ]
    },
    {
      "cell_type": "code",
      "execution_count": 144,
      "metadata": {
        "id": "tchKJLEYXPgG",
        "colab": {
          "base_uri": "https://localhost:8080/"
        },
        "outputId": "40ad9955-15ab-4b62-97ae-3d8e07b92537"
      },
      "outputs": [
        {
          "output_type": "stream",
          "name": "stdout",
          "text": [
            "RMSE: 92.332609\n"
          ]
        }
      ],
      "source": [
        "from math import sqrt\n",
        "mse = mean_squared_error(testing_data, model_predict[:-1573])\n",
        "rmse = math.sqrt(mse)\n",
        "print('RMSE: %f' % rmse)"
      ]
    }
  ],
  "metadata": {
    "colab": {
      "collapsed_sections": [],
      "name": "demoARIMA.ipynb",
      "provenance": [],
      "authorship_tag": "ABX9TyPlMXH8lHX4SlFm+LSji71a",
      "include_colab_link": true
    },
    "kernelspec": {
      "display_name": "Python 3",
      "name": "python3"
    },
    "language_info": {
      "name": "python"
    }
  },
  "nbformat": 4,
  "nbformat_minor": 0
}