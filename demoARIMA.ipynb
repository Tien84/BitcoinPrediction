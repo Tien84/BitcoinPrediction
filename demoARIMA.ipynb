{
  "cells": [
    {
      "cell_type": "markdown",
      "metadata": {
        "id": "view-in-github",
        "colab_type": "text"
      },
      "source": [
        "<a href=\"https://colab.research.google.com/github/Tien84/Face-Detection/blob/master/demoARIMA.ipynb\" target=\"_parent\"><img src=\"https://colab.research.google.com/assets/colab-badge.svg\" alt=\"Open In Colab\"/></a>"
      ]
    },
    {
      "cell_type": "code",
      "execution_count": null,
      "metadata": {
        "id": "3HZroei8xLyR"
      },
      "outputs": [],
      "source": [
        "!pip install matplotlib"
      ]
    },
    {
      "cell_type": "code",
      "execution_count": null,
      "metadata": {
        "id": "m8ZKi4FjxMk5"
      },
      "outputs": [],
      "source": [
        "!pip install statsmodels"
      ]
    },
    {
      "cell_type": "code",
      "execution_count": null,
      "metadata": {
        "id": "epBI8R1DxpiV"
      },
      "outputs": [],
      "source": [
        "!pip install numpy"
      ]
    },
    {
      "cell_type": "code",
      "execution_count": null,
      "metadata": {
        "id": "g_dPHkeR4Tcv"
      },
      "outputs": [],
      "source": [
        "!pip install scipy"
      ]
    },
    {
      "cell_type": "code",
      "execution_count": null,
      "metadata": {
        "id": "_9Wivb-WTwta"
      },
      "outputs": [],
      "source": [
        "!pip install pandas"
      ]
    },
    {
      "cell_type": "code",
      "execution_count": null,
      "metadata": {
        "id": "DWPEnm5CWEH4"
      },
      "outputs": [],
      "source": [
        "!pip install sklearn"
      ]
    },
    {
      "cell_type": "markdown",
      "source": [
        ""
      ],
      "metadata": {
        "id": "K462TCPqNIJy"
      }
    },
    {
      "cell_type": "code",
      "execution_count": null,
      "metadata": {
        "id": "ERLCkJcWbRA8"
      },
      "outputs": [],
      "source": [
        "!pip install yfinance"
      ]
    },
    {
      "cell_type": "code",
      "execution_count": 86,
      "metadata": {
        "id": "uGkwj58Q3jIN",
        "colab": {
          "base_uri": "https://localhost:8080/"
        },
        "outputId": "c7b71601-2cad-4f9c-f029-01ed82fd13a1"
      },
      "outputs": [
        {
          "output_type": "stream",
          "name": "stdout",
          "text": [
            "Drive already mounted at /content/driver; to attempt to forcibly remount, call drive.mount(\"/content/driver\", force_remount=True).\n"
          ]
        }
      ],
      "source": [
        "from google.colab import drive\n",
        "drive.mount('/content/driver')"
      ]
    },
    {
      "cell_type": "code",
      "execution_count": 87,
      "metadata": {
        "id": "4BtAN-YW3rVU"
      },
      "outputs": [],
      "source": [
        "import warnings\n",
        "import itertools\n",
        "import pandas as pd\n",
        "import numpy as np\n",
        "import statsmodels.api as sm\n",
        "import math\n",
        "from statsmodels.tsa.stattools import adfuller\n",
        "import matplotlib.pyplot as plt\n",
        "from statsmodels.tsa.arima_model import ARIMA\n",
        "from sklearn.metrics import mean_squared_error, mean_absolute_error"
      ]
    },
    {
      "cell_type": "code",
      "execution_count": 88,
      "metadata": {
        "id": "iyNRM75dxu25",
        "colab": {
          "base_uri": "https://localhost:8080/",
          "height": 441
        },
        "outputId": "6883691b-8183-4841-97ea-732c909cee7e"
      },
      "outputs": [
        {
          "output_type": "stream",
          "name": "stdout",
          "text": [
            "Shape of data (2018, 7)\n"
          ]
        },
        {
          "output_type": "execute_result",
          "data": {
            "text/html": [
              "\n",
              "  <div id=\"df-608bd9a3-057e-4f8e-95c0-0177fb604efc\">\n",
              "    <div class=\"colab-df-container\">\n",
              "      <div>\n",
              "<style scoped>\n",
              "    .dataframe tbody tr th:only-of-type {\n",
              "        vertical-align: middle;\n",
              "    }\n",
              "\n",
              "    .dataframe tbody tr th {\n",
              "        vertical-align: top;\n",
              "    }\n",
              "\n",
              "    .dataframe thead th {\n",
              "        text-align: right;\n",
              "    }\n",
              "</style>\n",
              "<table border=\"1\" class=\"dataframe\">\n",
              "  <thead>\n",
              "    <tr style=\"text-align: right;\">\n",
              "      <th></th>\n",
              "      <th>Date</th>\n",
              "      <th>Open</th>\n",
              "      <th>High</th>\n",
              "      <th>Low</th>\n",
              "      <th>Close</th>\n",
              "      <th>Adj Close</th>\n",
              "      <th>Volume</th>\n",
              "    </tr>\n",
              "  </thead>\n",
              "  <tbody>\n",
              "    <tr>\n",
              "      <th>0</th>\n",
              "      <td>2012-01-03</td>\n",
              "      <td>58.500000</td>\n",
              "      <td>58.928570</td>\n",
              "      <td>58.428570</td>\n",
              "      <td>58.747143</td>\n",
              "      <td>56.011238</td>\n",
              "      <td>75564699</td>\n",
              "    </tr>\n",
              "    <tr>\n",
              "      <th>1</th>\n",
              "      <td>2012-01-04</td>\n",
              "      <td>58.599998</td>\n",
              "      <td>59.240002</td>\n",
              "      <td>58.468571</td>\n",
              "      <td>59.062859</td>\n",
              "      <td>56.312252</td>\n",
              "      <td>65061108</td>\n",
              "    </tr>\n",
              "    <tr>\n",
              "      <th>2</th>\n",
              "      <td>2012-01-05</td>\n",
              "      <td>59.278572</td>\n",
              "      <td>59.792858</td>\n",
              "      <td>58.952858</td>\n",
              "      <td>59.718571</td>\n",
              "      <td>56.937424</td>\n",
              "      <td>67816805</td>\n",
              "    </tr>\n",
              "    <tr>\n",
              "      <th>3</th>\n",
              "      <td>2012-01-06</td>\n",
              "      <td>59.967140</td>\n",
              "      <td>60.392857</td>\n",
              "      <td>59.888573</td>\n",
              "      <td>60.342857</td>\n",
              "      <td>57.532646</td>\n",
              "      <td>79596412</td>\n",
              "    </tr>\n",
              "    <tr>\n",
              "      <th>4</th>\n",
              "      <td>2012-01-09</td>\n",
              "      <td>60.788570</td>\n",
              "      <td>61.107143</td>\n",
              "      <td>60.192856</td>\n",
              "      <td>60.247143</td>\n",
              "      <td>57.441391</td>\n",
              "      <td>98505792</td>\n",
              "    </tr>\n",
              "    <tr>\n",
              "      <th>...</th>\n",
              "      <td>...</td>\n",
              "      <td>...</td>\n",
              "      <td>...</td>\n",
              "      <td>...</td>\n",
              "      <td>...</td>\n",
              "      <td>...</td>\n",
              "      <td>...</td>\n",
              "    </tr>\n",
              "    <tr>\n",
              "      <th>2013</th>\n",
              "      <td>2020-01-03</td>\n",
              "      <td>297.149994</td>\n",
              "      <td>300.579987</td>\n",
              "      <td>296.500000</td>\n",
              "      <td>297.429993</td>\n",
              "      <td>293.598297</td>\n",
              "      <td>36633878</td>\n",
              "    </tr>\n",
              "    <tr>\n",
              "      <th>2014</th>\n",
              "      <td>2020-01-06</td>\n",
              "      <td>293.790009</td>\n",
              "      <td>299.959991</td>\n",
              "      <td>292.750000</td>\n",
              "      <td>299.799988</td>\n",
              "      <td>295.937744</td>\n",
              "      <td>29644644</td>\n",
              "    </tr>\n",
              "    <tr>\n",
              "      <th>2015</th>\n",
              "      <td>2020-01-07</td>\n",
              "      <td>299.839996</td>\n",
              "      <td>300.899994</td>\n",
              "      <td>297.480011</td>\n",
              "      <td>298.390015</td>\n",
              "      <td>294.545959</td>\n",
              "      <td>26207813</td>\n",
              "    </tr>\n",
              "    <tr>\n",
              "      <th>2016</th>\n",
              "      <td>2020-01-08</td>\n",
              "      <td>297.160004</td>\n",
              "      <td>304.439911</td>\n",
              "      <td>297.156006</td>\n",
              "      <td>303.190002</td>\n",
              "      <td>299.284088</td>\n",
              "      <td>33090946</td>\n",
              "    </tr>\n",
              "    <tr>\n",
              "      <th>2017</th>\n",
              "      <td>2020-01-09</td>\n",
              "      <td>307.234985</td>\n",
              "      <td>310.429993</td>\n",
              "      <td>306.200012</td>\n",
              "      <td>309.630005</td>\n",
              "      <td>305.641113</td>\n",
              "      <td>42621542</td>\n",
              "    </tr>\n",
              "  </tbody>\n",
              "</table>\n",
              "<p>2018 rows × 7 columns</p>\n",
              "</div>\n",
              "      <button class=\"colab-df-convert\" onclick=\"convertToInteractive('df-608bd9a3-057e-4f8e-95c0-0177fb604efc')\"\n",
              "              title=\"Convert this dataframe to an interactive table.\"\n",
              "              style=\"display:none;\">\n",
              "        \n",
              "  <svg xmlns=\"http://www.w3.org/2000/svg\" height=\"24px\"viewBox=\"0 0 24 24\"\n",
              "       width=\"24px\">\n",
              "    <path d=\"M0 0h24v24H0V0z\" fill=\"none\"/>\n",
              "    <path d=\"M18.56 5.44l.94 2.06.94-2.06 2.06-.94-2.06-.94-.94-2.06-.94 2.06-2.06.94zm-11 1L8.5 8.5l.94-2.06 2.06-.94-2.06-.94L8.5 2.5l-.94 2.06-2.06.94zm10 10l.94 2.06.94-2.06 2.06-.94-2.06-.94-.94-2.06-.94 2.06-2.06.94z\"/><path d=\"M17.41 7.96l-1.37-1.37c-.4-.4-.92-.59-1.43-.59-.52 0-1.04.2-1.43.59L10.3 9.45l-7.72 7.72c-.78.78-.78 2.05 0 2.83L4 21.41c.39.39.9.59 1.41.59.51 0 1.02-.2 1.41-.59l7.78-7.78 2.81-2.81c.8-.78.8-2.07 0-2.86zM5.41 20L4 18.59l7.72-7.72 1.47 1.35L5.41 20z\"/>\n",
              "  </svg>\n",
              "      </button>\n",
              "      \n",
              "  <style>\n",
              "    .colab-df-container {\n",
              "      display:flex;\n",
              "      flex-wrap:wrap;\n",
              "      gap: 12px;\n",
              "    }\n",
              "\n",
              "    .colab-df-convert {\n",
              "      background-color: #E8F0FE;\n",
              "      border: none;\n",
              "      border-radius: 50%;\n",
              "      cursor: pointer;\n",
              "      display: none;\n",
              "      fill: #1967D2;\n",
              "      height: 32px;\n",
              "      padding: 0 0 0 0;\n",
              "      width: 32px;\n",
              "    }\n",
              "\n",
              "    .colab-df-convert:hover {\n",
              "      background-color: #E2EBFA;\n",
              "      box-shadow: 0px 1px 2px rgba(60, 64, 67, 0.3), 0px 1px 3px 1px rgba(60, 64, 67, 0.15);\n",
              "      fill: #174EA6;\n",
              "    }\n",
              "\n",
              "    [theme=dark] .colab-df-convert {\n",
              "      background-color: #3B4455;\n",
              "      fill: #D2E3FC;\n",
              "    }\n",
              "\n",
              "    [theme=dark] .colab-df-convert:hover {\n",
              "      background-color: #434B5C;\n",
              "      box-shadow: 0px 1px 3px 1px rgba(0, 0, 0, 0.15);\n",
              "      filter: drop-shadow(0px 1px 2px rgba(0, 0, 0, 0.3));\n",
              "      fill: #FFFFFF;\n",
              "    }\n",
              "  </style>\n",
              "\n",
              "      <script>\n",
              "        const buttonEl =\n",
              "          document.querySelector('#df-608bd9a3-057e-4f8e-95c0-0177fb604efc button.colab-df-convert');\n",
              "        buttonEl.style.display =\n",
              "          google.colab.kernel.accessAllowed ? 'block' : 'none';\n",
              "\n",
              "        async function convertToInteractive(key) {\n",
              "          const element = document.querySelector('#df-608bd9a3-057e-4f8e-95c0-0177fb604efc');\n",
              "          const dataTable =\n",
              "            await google.colab.kernel.invokeFunction('convertToInteractive',\n",
              "                                                     [key], {});\n",
              "          if (!dataTable) return;\n",
              "\n",
              "          const docLinkHtml = 'Like what you see? Visit the ' +\n",
              "            '<a target=\"_blank\" href=https://colab.research.google.com/notebooks/data_table.ipynb>data table notebook</a>'\n",
              "            + ' to learn more about interactive tables.';\n",
              "          element.innerHTML = '';\n",
              "          dataTable['output_type'] = 'display_data';\n",
              "          await google.colab.output.renderOutput(dataTable, element);\n",
              "          const docLink = document.createElement('div');\n",
              "          docLink.innerHTML = docLinkHtml;\n",
              "          element.appendChild(docLink);\n",
              "        }\n",
              "      </script>\n",
              "    </div>\n",
              "  </div>\n",
              "  "
            ],
            "text/plain": [
              "            Date        Open        High  ...       Close   Adj Close    Volume\n",
              "0     2012-01-03   58.500000   58.928570  ...   58.747143   56.011238  75564699\n",
              "1     2012-01-04   58.599998   59.240002  ...   59.062859   56.312252  65061108\n",
              "2     2012-01-05   59.278572   59.792858  ...   59.718571   56.937424  67816805\n",
              "3     2012-01-06   59.967140   60.392857  ...   60.342857   57.532646  79596412\n",
              "4     2012-01-09   60.788570   61.107143  ...   60.247143   57.441391  98505792\n",
              "...          ...         ...         ...  ...         ...         ...       ...\n",
              "2013  2020-01-03  297.149994  300.579987  ...  297.429993  293.598297  36633878\n",
              "2014  2020-01-06  293.790009  299.959991  ...  299.799988  295.937744  29644644\n",
              "2015  2020-01-07  299.839996  300.899994  ...  298.390015  294.545959  26207813\n",
              "2016  2020-01-08  297.160004  304.439911  ...  303.190002  299.284088  33090946\n",
              "2017  2020-01-09  307.234985  310.429993  ...  309.630005  305.641113  42621542\n",
              "\n",
              "[2018 rows x 7 columns]"
            ]
          },
          "metadata": {},
          "execution_count": 88
        }
      ],
      "source": [
        "df=pd.read_csv('/content/driver/My Drive/LSTM_Model/AAPL.csv')\n",
        "df=df.dropna()\n",
        "print('Shape of data',df.shape)\n",
        "df.head()\n",
        "df"
      ]
    },
    {
      "cell_type": "markdown",
      "source": [
        ""
      ],
      "metadata": {
        "id": "BYQYwuA393o0"
      }
    },
    {
      "cell_type": "code",
      "execution_count": 89,
      "metadata": {
        "id": "A_brQmqIZ1Sk",
        "colab": {
          "base_uri": "https://localhost:8080/",
          "height": 265
        },
        "outputId": "9c3393af-93c5-4ab5-daa1-b3ccf324c7eb"
      },
      "outputs": [
        {
          "output_type": "display_data",
          "data": {
            "image/png": "[encoded data removed]",
            "text/plain": [
              "<Figure size 432x288 with 1 Axes>"
            ]
          },
          "metadata": {
            "needs_background": "light"
          }
        }
      ],
      "source": [
        "plt.plot(df.index, df['Adj Close'])\n",
        "plt.show()"
      ]
    },
    {
      "cell_type": "code",
      "execution_count": 90,
      "metadata": {
        "id": "LZvjzpDhdGtu",
        "colab": {
          "base_uri": "https://localhost:8080/"
        },
        "outputId": "2a8919d3-d939-4002-ed4c-ebbea13ddf11"
      },
      "outputs": [
        {
          "output_type": "stream",
          "name": "stdout",
          "text": [
            "1816\n"
          ]
        }
      ],
      "source": [
        "#Train test split\n",
        "to_row = int(len(df)*0.9)     # Result: 1816\n",
        "print (to_row)\n"
      ]
    },
    {
      "cell_type": "code",
      "source": [
        "training_data = list(df[0:to_row]['Adj Close'])\n",
        "testing_data = list(df[to_row:]['Adj Close'])\n",
        "testing_data"
      ],
      "metadata": {
        "id": "afiFFhPO7M1K",
        "colab": {
          "base_uri": "https://localhost:8080/"
        },
        "outputId": "d3f54968-48f7-43d3-ded1-53fda050e3b7"
      },
      "execution_count": 91,
      "outputs": [
        {
          "output_type": "execute_result",
          "data": {
            "text/plain": [
              "[185.81454499999998,\n",
              " 183.894745,\n",
              " 185.548721,\n",
              " 185.794861,\n",
              " 187.005798,\n",
              " 188.275818,\n",
              " 191.012741,\n",
              " 192.32208300000002,\n",
              " 192.65683,\n",
              " 193.946518,\n",
              " 196.99848899999998,\n",
              " 196.407776,\n",
              " 197.51040600000002,\n",
              " 195.866333,\n",
              " 195.787521,\n",
              " 196.141922,\n",
              " 196.161621,\n",
              " 199.981491,\n",
              " 200.70018000000002,\n",
              " 201.359818,\n",
              " 204.264084,\n",
              " 203.949036,\n",
              " 202.09816,\n",
              " 201.133392,\n",
              " 201.438553,\n",
              " 197.559616,\n",
              " 207.25698899999998,\n",
              " 205.90820300000001,\n",
              " 208.467896,\n",
              " 205.24856599999998,\n",
              " 199.715698,\n",
              " 199.755066,\n",
              " 197.608871,\n",
              " 194.31008899999998,\n",
              " 183.016876,\n",
              " 185.914078,\n",
              " 188.141205,\n",
              " 187.313431,\n",
              " 186.249115,\n",
              " 180.425125,\n",
              " 183.884094,\n",
              " 180.119659,\n",
              " 177.045074,\n",
              " 176.365112,\n",
              " 175.63588000000001,\n",
              " 174.798248,\n",
              " 175.704849,\n",
              " 172.521866,\n",
              " 170.777618,\n",
              " 177.02539099999998,\n",
              " 179.883148,\n",
              " 182.524155,\n",
              " 187.382385,\n",
              " 189.77702299999999,\n",
              " 191.974564,\n",
              " 191.36360200000001,\n",
              " 191.324173,\n",
              " 189.93469199999998,\n",
              " 191.067963,\n",
              " 195.561584,\n",
              " 194.990036,\n",
              " 196.556915,\n",
              " 195.88678000000002,\n",
              " 195.689697,\n",
              " 192.723526,\n",
              " 196.891953,\n",
              " 196.832809,\n",
              " 195.039307,\n",
              " 198.616486,\n",
              " 199.77929699999999,\n",
              " 201.43486000000001,\n",
              " 201.257431,\n",
              " 197.10876499999998,\n",
              " 198.310974,\n",
              " 200.272018,\n",
              " 198.813568,\n",
              " 200.341003,\n",
              " 202.223221,\n",
              " 201.523544,\n",
              " 200.390274,\n",
              " 202.666672,\n",
              " 199.641327,\n",
              " 204.20396399999998,\n",
              " 205.800369,\n",
              " 205.632828,\n",
              " 204.006851,\n",
              " 204.716385,\n",
              " 206.628159,\n",
              " 205.741241,\n",
              " 209.93925499999997,\n",
              " 205.396332,\n",
              " 201.05053700000002,\n",
              " 190.52597,\n",
              " 194.132706,\n",
              " 196.14300500000002,\n",
              " 200.469101,\n",
              " 198.252228,\n",
              " 197.74916100000002,\n",
              " 206.12355,\n",
              " 199.98826599999998,\n",
              " 198.99202,\n",
              " 203.68718,\n",
              " 207.48474099999999,\n",
              " 207.494583,\n",
              " 209.74353,\n",
              " 209.565994,\n",
              " 199.87974499999999,\n",
              " 203.677338,\n",
              " 201.379028,\n",
              " 202.730408,\n",
              " 206.162964,\n",
              " 205.89666699999998,\n",
              " 202.898071,\n",
              " 206.34053,\n",
              " 210.37481699999998,\n",
              " 210.355072,\n",
              " 211.25270099999997,\n",
              " 213.74824500000003,\n",
              " 220.544357,\n",
              " 220.04624900000002,\n",
              " 215.770309,\n",
              " 216.90463300000002,\n",
              " 217.69374100000002,\n",
              " 219.73556499999998,\n",
              " 217.950211,\n",
              " 214.764191,\n",
              " 215.740738,\n",
              " 214.714874,\n",
              " 218.01927200000003,\n",
              " 216.89479100000003,\n",
              " 215.839371,\n",
              " 220.91918900000002,\n",
              " 221.530762,\n",
              " 215.977448,\n",
              " 217.812134,\n",
              " 223.91780099999997,\n",
              " 223.96713300000002,\n",
              " 221.34335299999998,\n",
              " 223.937546,\n",
              " 226.95584100000002,\n",
              " 232.99249300000002,\n",
              " 232.657104,\n",
              " 232.11462400000002,\n",
              " 231.17755099999997,\n",
              " 232.07515,\n",
              " 233.18977400000003,\n",
              " 237.233902,\n",
              " 236.691406,\n",
              " 239.867538,\n",
              " 240.262115,\n",
              " 243.221222,\n",
              " 245.65759300000002,\n",
              " 239.97602799999999,\n",
              " 239.94645699999998,\n",
              " 245.371536,\n",
              " 252.335373,\n",
              " 253.992477,\n",
              " 253.627548,\n",
              " 253.73603799999998,\n",
              " 256.087799,\n",
              " 256.788696,\n",
              " 258.822113,\n",
              " 258.585236,\n",
              " 261.062958,\n",
              " 259.256531,\n",
              " 262.33633399999997,\n",
              " 263.659027,\n",
              " 262.859467,\n",
              " 259.799408,\n",
              " 258.634613,\n",
              " 258.407562,\n",
              " 262.938385,\n",
              " 260.885223,\n",
              " 264.389496,\n",
              " 263.807098,\n",
              " 260.75689700000004,\n",
              " 256.107544,\n",
              " 258.368042,\n",
              " 262.15862999999996,\n",
              " 267.222534,\n",
              " 263.481384,\n",
              " 265.02121,\n",
              " 267.28173799999996,\n",
              " 267.96286000000003,\n",
              " 271.605347,\n",
              " 276.254608,\n",
              " 276.797577,\n",
              " 276.136169,\n",
              " 276.41256699999997,\n",
              " 275.840088,\n",
              " 280.34137000000004,\n",
              " 280.60784900000004,\n",
              " 286.17514,\n",
              " 286.06662,\n",
              " 287.764404,\n",
              " 289.866943,\n",
              " 296.480682,\n",
              " 293.598297,\n",
              " 295.937744,\n",
              " 294.545959,\n",
              " 299.284088,\n",
              " 305.64111299999996]"
            ]
          },
          "metadata": {},
          "execution_count": 91
        }
      ]
    },
    {
      "cell_type": "code",
      "source": [
        "print (len(training_data))\n",
        "print(len(testing_data))"
      ],
      "metadata": {
        "colab": {
          "base_uri": "https://localhost:8080/"
        },
        "id": "ZKatuYcYdBkc",
        "outputId": "84627c14-511d-4ba1-d17c-90cb1830f40a"
      },
      "execution_count": 92,
      "outputs": [
        {
          "output_type": "stream",
          "name": "stdout",
          "text": [
            "1816\n",
            "202\n"
          ]
        }
      ]
    },
    {
      "cell_type": "code",
      "execution_count": 93,
      "metadata": {
        "id": "0jeVoElFKWwo",
        "colab": {
          "base_uri": "https://localhost:8080/",
          "height": 391
        },
        "outputId": "43895f90-4dba-44d3-800b-5243d4a3aa6d"
      },
      "outputs": [
        {
          "output_type": "execute_result",
          "data": {
            "text/plain": [
              "<matplotlib.legend.Legend at 0x7f7329f02a90>"
            ]
          },
          "metadata": {},
          "execution_count": 93
        },
        {
          "output_type": "display_data",
          "data": {
            "image/png": "[encoded data removed]",
            "text/plain": [
              "<Figure size 720x432 with 1 Axes>"
            ]
          },
          "metadata": {
            "needs_background": "light"
          }
        }
      ],
      "source": [
        "plt.figure(figsize=(10,6))\n",
        "plt.grid(True)\n",
        "#plt.xlabel('Dates')\n",
        "plt.ylabel('Closing Prices')\n",
        "plt.plot(df[0:to_row]['Adj Close'],'green',label='Train data')\n",
        "plt.plot(df[to_row:]['Adj Close'],'blue',label= 'Test data')\n",
        "plt.legend()"
      ]
    },
    {
      "cell_type": "code",
      "execution_count": 94,
      "metadata": {
        "id": "SekUK3n-KW4m",
        "colab": {
          "base_uri": "https://localhost:8080/"
        },
        "outputId": "584d99b7-7f12-42c8-8405-c86c64b752f1"
      },
      "outputs": [
        {
          "output_type": "execute_result",
          "data": {
            "text/plain": [
              "202"
            ]
          },
          "metadata": {},
          "execution_count": 94
        }
      ],
      "source": [
        "model_predict = []\n",
        "n_test_ob = len(testing_data)   #202\n",
        "n_test_ob"
      ]
    },
    {
      "cell_type": "code",
      "execution_count": 110,
      "metadata": {
        "id": "f_BiwR7FVCDq"
      },
      "outputs": [],
      "source": [
        "for i in range(n_test_ob):\n",
        "  #model = ARIMA(training_data, order= (4,1,0))\n",
        "  model = ARIMA(testing_data, order= (4,1,0))\n",
        "  model_fit = model.fit()\n",
        "  output = model_fit.forecast()\n",
        "  yhat = list(output[0])[0]\n",
        "  model_predict.append(yhat)\n",
        "  actual_test_value = testing_data[i]\n",
        "  training_data.append(actual_test_value)"
      ]
    },
    {
      "cell_type": "code",
      "source": [
        "def arima_model(df):\n",
        "  #model = ARIMA(df['Adj Close'][to_row:], order= (1,1,1))\n",
        "  model = ARIMA(testing_data, order= (1,1,1))\n",
        "  model_fit = model.fit()\n",
        "  output = model_fit.forecast()\n",
        "  yhat = list(output[0])[0]\n",
        "  model_predict.append(yhat)\n",
        "  actual_test_value = testing_data[i]\n",
        "  training_data.append(actual_test_value)\n",
        "  print(model_fit.summary())\n",
        "  print(model_fit.resid)\n"
      ],
      "metadata": {
        "id": "EI0L1uymCsst"
      },
      "execution_count": 114,
      "outputs": []
    },
    {
      "cell_type": "code",
      "execution_count": 107,
      "metadata": {
        "id": "gEkeIqTWKW_I",
        "colab": {
          "base_uri": "https://localhost:8080/",
          "height": 425
        },
        "outputId": "71fa5236-d1ce-4075-b236-c070c65dcc1c"
      },
      "outputs": [
        {
          "output_type": "execute_result",
          "data": {
            "text/html": [
              "<table class=\"simpletable\">\n",
              "<caption>ARIMA Model Results</caption>\n",
              "<tr>\n",
              "  <th>Dep. Variable:</th>        <td>D.y</td>       <th>  No. Observations:  </th>    <td>201</td>  \n",
              "</tr>\n",
              "<tr>\n",
              "  <th>Model:</th>          <td>ARIMA(4, 1, 0)</td>  <th>  Log Likelihood     </th> <td>-513.325</td>\n",
              "</tr>\n",
              "<tr>\n",
              "  <th>Method:</th>             <td>css-mle</td>     <th>  S.D. of innovations</th>   <td>3.111</td> \n",
              "</tr>\n",
              "<tr>\n",
              "  <th>Date:</th>          <td>Fri, 07 Jan 2022</td> <th>  AIC                </th> <td>1038.650</td>\n",
              "</tr>\n",
              "<tr>\n",
              "  <th>Time:</th>              <td>15:39:00</td>     <th>  BIC                </th> <td>1058.470</td>\n",
              "</tr>\n",
              "<tr>\n",
              "  <th>Sample:</th>                <td>1</td>        <th>  HQIC               </th> <td>1046.670</td>\n",
              "</tr>\n",
              "<tr>\n",
              "  <th></th>                       <td> </td>        <th>                     </th>     <td> </td>   \n",
              "</tr>\n",
              "</table>\n",
              "<table class=\"simpletable\">\n",
              "<tr>\n",
              "      <td></td>         <th>coef</th>     <th>std err</th>      <th>z</th>      <th>P>|z|</th>  <th>[0.025</th>    <th>0.975]</th>  \n",
              "</tr>\n",
              "<tr>\n",
              "  <th>const</th>     <td>    0.5938</td> <td>    0.200</td> <td>    2.966</td> <td> 0.003</td> <td>    0.201</td> <td>    0.986</td>\n",
              "</tr>\n",
              "<tr>\n",
              "  <th>ar.L1.D.y</th> <td>   -0.0320</td> <td>    0.071</td> <td>   -0.451</td> <td> 0.652</td> <td>   -0.171</td> <td>    0.107</td>\n",
              "</tr>\n",
              "<tr>\n",
              "  <th>ar.L2.D.y</th> <td>   -0.0692</td> <td>    0.071</td> <td>   -0.974</td> <td> 0.331</td> <td>   -0.208</td> <td>    0.070</td>\n",
              "</tr>\n",
              "<tr>\n",
              "  <th>ar.L3.D.y</th> <td>   -0.0590</td> <td>    0.071</td> <td>   -0.833</td> <td> 0.406</td> <td>   -0.198</td> <td>    0.080</td>\n",
              "</tr>\n",
              "<tr>\n",
              "  <th>ar.L4.D.y</th> <td>    0.0636</td> <td>    0.071</td> <td>    0.897</td> <td> 0.371</td> <td>   -0.075</td> <td>    0.203</td>\n",
              "</tr>\n",
              "</table>\n",
              "<table class=\"simpletable\">\n",
              "<caption>Roots</caption>\n",
              "<tr>\n",
              "    <td></td>   <th>            Real</th>  <th>         Imaginary</th> <th>         Modulus</th>  <th>        Frequency</th>\n",
              "</tr>\n",
              "<tr>\n",
              "  <th>AR.1</th> <td>          -1.8790</td> <td>          -0.0000j</td> <td>           1.8790</td> <td>          -0.5000</td>\n",
              "</tr>\n",
              "<tr>\n",
              "  <th>AR.2</th> <td>           0.1637</td> <td>          -1.8300j</td> <td>           1.8373</td> <td>          -0.2358</td>\n",
              "</tr>\n",
              "<tr>\n",
              "  <th>AR.3</th> <td>           0.1637</td> <td>          +1.8300j</td> <td>           1.8373</td> <td>           0.2358</td>\n",
              "</tr>\n",
              "<tr>\n",
              "  <th>AR.4</th> <td>           2.4804</td> <td>          -0.0000j</td> <td>           2.4804</td> <td>          -0.0000</td>\n",
              "</tr>\n",
              "</table>"
            ],
            "text/plain": [
              "<class 'statsmodels.iolib.summary.Summary'>\n",
              "\"\"\"\n",
              "                             ARIMA Model Results                              \n",
              "==============================================================================\n",
              "Dep. Variable:                    D.y   No. Observations:                  201\n",
              "Model:                 ARIMA(4, 1, 0)   Log Likelihood                -513.325\n",
              "Method:                       css-mle   S.D. of innovations              3.111\n",
              "Date:                Fri, 07 Jan 2022   AIC                           1038.650\n",
              "Time:                        15:39:00   BIC                           1058.470\n",
              "Sample:                             1   HQIC                          1046.670\n",
              "                                                                              \n",
              "==============================================================================\n",
              "                 coef    std err          z      P>|z|      [0.025      0.975]\n",
              "------------------------------------------------------------------------------\n",
              "const          0.5938      0.200      2.966      0.003       0.201       0.986\n",
              "ar.L1.D.y     -0.0320      0.071     -0.451      0.652      -0.171       0.107\n",
              "ar.L2.D.y     -0.0692      0.071     -0.974      0.331      -0.208       0.070\n",
              "ar.L3.D.y     -0.0590      0.071     -0.833      0.406      -0.198       0.080\n",
              "ar.L4.D.y      0.0636      0.071      0.897      0.371      -0.075       0.203\n",
              "                                    Roots                                    \n",
              "=============================================================================\n",
              "                  Real          Imaginary           Modulus         Frequency\n",
              "-----------------------------------------------------------------------------\n",
              "AR.1           -1.8790           -0.0000j            1.8790           -0.5000\n",
              "AR.2            0.1637           -1.8300j            1.8373           -0.2358\n",
              "AR.3            0.1637           +1.8300j            1.8373            0.2358\n",
              "AR.4            2.4804           -0.0000j            2.4804           -0.0000\n",
              "-----------------------------------------------------------------------------\n",
              "\"\"\""
            ]
          },
          "metadata": {},
          "execution_count": 107
        }
      ],
      "source": [
        "model_fit.summary()"
      ]
    },
    {
      "cell_type": "code",
      "execution_count": 97,
      "metadata": {
        "colab": {
          "base_uri": "https://localhost:8080/"
        },
        "id": "iTWB27B0TMD_",
        "outputId": "6bc6b727-3147-4fb2-af43-6ac44744bf52"
      },
      "outputs": [
        {
          "output_type": "execute_result",
          "data": {
            "text/plain": [
              "0"
            ]
          },
          "metadata": {},
          "execution_count": 97
        }
      ],
      "source": [
        "len(model_predict)"
      ]
    },
    {
      "cell_type": "code",
      "execution_count": 98,
      "metadata": {
        "colab": {
          "base_uri": "https://localhost:8080/"
        },
        "id": "4Zlh-xu0H1EB",
        "outputId": "f53469e9-a427-4810-dddf-041d28023c36"
      },
      "outputs": [
        {
          "output_type": "execute_result",
          "data": {
            "text/plain": [
              "202"
            ]
          },
          "metadata": {},
          "execution_count": 98
        }
      ],
      "source": [
        "len(testing_data)"
      ]
    },
    {
      "cell_type": "code",
      "execution_count": 101,
      "metadata": {
        "colab": {
          "base_uri": "https://localhost:8080/",
          "height": 855
        },
        "id": "SgL0RQCdOL8l",
        "outputId": "3762f382-0ad7-4302-c036-f833725d2360"
      },
      "outputs": [
        {
          "output_type": "error",
          "ename": "ValueError",
          "evalue": "ignored",
          "traceback": [
            "\u001b[0;31m---------------------------------------------------------------------------\u001b[0m",
            "\u001b[0;31mValueError\u001b[0m                                Traceback (most recent call last)",
            "\u001b[0;32m<ipython-input-101-ee59c24eb6b5>\u001b[0m in \u001b[0;36m<module>\u001b[0;34m()\u001b[0m\n\u001b[1;32m      4\u001b[0m \u001b[0mdate_range\u001b[0m \u001b[0;34m=\u001b[0m \u001b[0mdf\u001b[0m\u001b[0;34m[\u001b[0m\u001b[0mto_row\u001b[0m\u001b[0;34m:\u001b[0m\u001b[0;34m]\u001b[0m\u001b[0;34m.\u001b[0m\u001b[0mindex\u001b[0m\u001b[0;34m\u001b[0m\u001b[0;34m\u001b[0m\u001b[0m\n\u001b[1;32m      5\u001b[0m \u001b[0;34m\u001b[0m\u001b[0m\n\u001b[0;32m----> 6\u001b[0;31m \u001b[0mplt\u001b[0m\u001b[0;34m.\u001b[0m\u001b[0mplot\u001b[0m\u001b[0;34m(\u001b[0m\u001b[0mdate_range\u001b[0m \u001b[0;34m,\u001b[0m \u001b[0mmodel_predict\u001b[0m\u001b[0;34m[\u001b[0m\u001b[0;34m:\u001b[0m\u001b[0;34m-\u001b[0m\u001b[0;36m202\u001b[0m\u001b[0;34m]\u001b[0m\u001b[0;34m,\u001b[0m \u001b[0mcolor\u001b[0m \u001b[0;34m=\u001b[0m \u001b[0;34m'blue'\u001b[0m\u001b[0;34m,\u001b[0m \u001b[0mmarker\u001b[0m \u001b[0;34m=\u001b[0m \u001b[0;34m'o'\u001b[0m\u001b[0;34m,\u001b[0m \u001b[0mlinestyle\u001b[0m \u001b[0;34m=\u001b[0m\u001b[0;34m'dashed'\u001b[0m\u001b[0;34m,\u001b[0m \u001b[0mlabel\u001b[0m \u001b[0;34m=\u001b[0m \u001b[0;34m'BTC predictied Price'\u001b[0m\u001b[0;34m)\u001b[0m\u001b[0;34m\u001b[0m\u001b[0;34m\u001b[0m\u001b[0m\n\u001b[0m\u001b[1;32m      7\u001b[0m \u001b[0mplt\u001b[0m\u001b[0;34m.\u001b[0m\u001b[0mplot\u001b[0m\u001b[0;34m(\u001b[0m\u001b[0mdate_range\u001b[0m\u001b[0;34m,\u001b[0m\u001b[0mtesting_data\u001b[0m\u001b[0;34m,\u001b[0m \u001b[0mcolor\u001b[0m \u001b[0;34m=\u001b[0m \u001b[0;34m'red'\u001b[0m\u001b[0;34m,\u001b[0m \u001b[0mlabel\u001b[0m \u001b[0;34m=\u001b[0m \u001b[0;34m'BTC Actual Price'\u001b[0m\u001b[0;34m)\u001b[0m\u001b[0;34m\u001b[0m\u001b[0;34m\u001b[0m\u001b[0m\n\u001b[1;32m      8\u001b[0m \u001b[0;34m\u001b[0m\u001b[0m\n",
            "\u001b[0;32m/usr/local/lib/python3.7/dist-packages/matplotlib/pyplot.py\u001b[0m in \u001b[0;36mplot\u001b[0;34m(scalex, scaley, data, *args, **kwargs)\u001b[0m\n\u001b[1;32m   2761\u001b[0m     return gca().plot(\n\u001b[1;32m   2762\u001b[0m         *args, scalex=scalex, scaley=scaley, **({\"data\": data} if data\n\u001b[0;32m-> 2763\u001b[0;31m         is not None else {}), **kwargs)\n\u001b[0m\u001b[1;32m   2764\u001b[0m \u001b[0;34m\u001b[0m\u001b[0m\n\u001b[1;32m   2765\u001b[0m \u001b[0;34m\u001b[0m\u001b[0m\n",
            "\u001b[0;32m/usr/local/lib/python3.7/dist-packages/matplotlib/axes/_axes.py\u001b[0m in \u001b[0;36mplot\u001b[0;34m(self, scalex, scaley, data, *args, **kwargs)\u001b[0m\n\u001b[1;32m   1645\u001b[0m         \"\"\"\n\u001b[1;32m   1646\u001b[0m         \u001b[0mkwargs\u001b[0m \u001b[0;34m=\u001b[0m \u001b[0mcbook\u001b[0m\u001b[0;34m.\u001b[0m\u001b[0mnormalize_kwargs\u001b[0m\u001b[0;34m(\u001b[0m\u001b[0mkwargs\u001b[0m\u001b[0;34m,\u001b[0m \u001b[0mmlines\u001b[0m\u001b[0;34m.\u001b[0m\u001b[0mLine2D\u001b[0m\u001b[0;34m)\u001b[0m\u001b[0;34m\u001b[0m\u001b[0;34m\u001b[0m\u001b[0m\n\u001b[0;32m-> 1647\u001b[0;31m         \u001b[0mlines\u001b[0m \u001b[0;34m=\u001b[0m \u001b[0;34m[\u001b[0m\u001b[0;34m*\u001b[0m\u001b[0mself\u001b[0m\u001b[0;34m.\u001b[0m\u001b[0m_get_lines\u001b[0m\u001b[0;34m(\u001b[0m\u001b[0;34m*\u001b[0m\u001b[0margs\u001b[0m\u001b[0;34m,\u001b[0m \u001b[0mdata\u001b[0m\u001b[0;34m=\u001b[0m\u001b[0mdata\u001b[0m\u001b[0;34m,\u001b[0m \u001b[0;34m**\u001b[0m\u001b[0mkwargs\u001b[0m\u001b[0;34m)\u001b[0m\u001b[0;34m]\u001b[0m\u001b[0;34m\u001b[0m\u001b[0;34m\u001b[0m\u001b[0m\n\u001b[0m\u001b[1;32m   1648\u001b[0m         \u001b[0;32mfor\u001b[0m \u001b[0mline\u001b[0m \u001b[0;32min\u001b[0m \u001b[0mlines\u001b[0m\u001b[0;34m:\u001b[0m\u001b[0;34m\u001b[0m\u001b[0;34m\u001b[0m\u001b[0m\n\u001b[1;32m   1649\u001b[0m             \u001b[0mself\u001b[0m\u001b[0;34m.\u001b[0m\u001b[0madd_line\u001b[0m\u001b[0;34m(\u001b[0m\u001b[0mline\u001b[0m\u001b[0;34m)\u001b[0m\u001b[0;34m\u001b[0m\u001b[0;34m\u001b[0m\u001b[0m\n",
            "\u001b[0;32m/usr/local/lib/python3.7/dist-packages/matplotlib/axes/_base.py\u001b[0m in \u001b[0;36m__call__\u001b[0;34m(self, *args, **kwargs)\u001b[0m\n\u001b[1;32m    214\u001b[0m                 \u001b[0mthis\u001b[0m \u001b[0;34m+=\u001b[0m \u001b[0margs\u001b[0m\u001b[0;34m[\u001b[0m\u001b[0;36m0\u001b[0m\u001b[0;34m]\u001b[0m\u001b[0;34m,\u001b[0m\u001b[0;34m\u001b[0m\u001b[0;34m\u001b[0m\u001b[0m\n\u001b[1;32m    215\u001b[0m                 \u001b[0margs\u001b[0m \u001b[0;34m=\u001b[0m \u001b[0margs\u001b[0m\u001b[0;34m[\u001b[0m\u001b[0;36m1\u001b[0m\u001b[0;34m:\u001b[0m\u001b[0;34m]\u001b[0m\u001b[0;34m\u001b[0m\u001b[0;34m\u001b[0m\u001b[0m\n\u001b[0;32m--> 216\u001b[0;31m             \u001b[0;32myield\u001b[0m \u001b[0;32mfrom\u001b[0m \u001b[0mself\u001b[0m\u001b[0;34m.\u001b[0m\u001b[0m_plot_args\u001b[0m\u001b[0;34m(\u001b[0m\u001b[0mthis\u001b[0m\u001b[0;34m,\u001b[0m \u001b[0mkwargs\u001b[0m\u001b[0;34m)\u001b[0m\u001b[0;34m\u001b[0m\u001b[0;34m\u001b[0m\u001b[0m\n\u001b[0m\u001b[1;32m    217\u001b[0m \u001b[0;34m\u001b[0m\u001b[0m\n\u001b[1;32m    218\u001b[0m     \u001b[0;32mdef\u001b[0m \u001b[0mget_next_color\u001b[0m\u001b[0;34m(\u001b[0m\u001b[0mself\u001b[0m\u001b[0;34m)\u001b[0m\u001b[0;34m:\u001b[0m\u001b[0;34m\u001b[0m\u001b[0;34m\u001b[0m\u001b[0m\n",
            "\u001b[0;32m/usr/local/lib/python3.7/dist-packages/matplotlib/axes/_base.py\u001b[0m in \u001b[0;36m_plot_args\u001b[0;34m(self, tup, kwargs)\u001b[0m\n\u001b[1;32m    340\u001b[0m \u001b[0;34m\u001b[0m\u001b[0m\n\u001b[1;32m    341\u001b[0m         \u001b[0;32mif\u001b[0m \u001b[0mx\u001b[0m\u001b[0;34m.\u001b[0m\u001b[0mshape\u001b[0m\u001b[0;34m[\u001b[0m\u001b[0;36m0\u001b[0m\u001b[0;34m]\u001b[0m \u001b[0;34m!=\u001b[0m \u001b[0my\u001b[0m\u001b[0;34m.\u001b[0m\u001b[0mshape\u001b[0m\u001b[0;34m[\u001b[0m\u001b[0;36m0\u001b[0m\u001b[0;34m]\u001b[0m\u001b[0;34m:\u001b[0m\u001b[0;34m\u001b[0m\u001b[0;34m\u001b[0m\u001b[0m\n\u001b[0;32m--> 342\u001b[0;31m             raise ValueError(f\"x and y must have same first dimension, but \"\n\u001b[0m\u001b[1;32m    343\u001b[0m                              f\"have shapes {x.shape} and {y.shape}\")\n\u001b[1;32m    344\u001b[0m         \u001b[0;32mif\u001b[0m \u001b[0mx\u001b[0m\u001b[0;34m.\u001b[0m\u001b[0mndim\u001b[0m \u001b[0;34m>\u001b[0m \u001b[0;36m2\u001b[0m \u001b[0;32mor\u001b[0m \u001b[0my\u001b[0m\u001b[0;34m.\u001b[0m\u001b[0mndim\u001b[0m \u001b[0;34m>\u001b[0m \u001b[0;36m2\u001b[0m\u001b[0;34m:\u001b[0m\u001b[0;34m\u001b[0m\u001b[0;34m\u001b[0m\u001b[0m\n",
            "\u001b[0;31mValueError\u001b[0m: x and y must have same first dimension, but have shapes (202,) and (0,)"
          ]
        },
        {
          "output_type": "display_data",
          "data": {
            "image/png": "[encoded data removed]",
            "text/plain": [
              "<Figure size 1080x648 with 1 Axes>"
            ]
          },
          "metadata": {
            "needs_background": "light"
          }
        }
      ],
      "source": [
        "plt.figure(figsize=(15,9))\n",
        "plt.grid(True)\n",
        "\n",
        "date_range = df[to_row:].index\n",
        "\n",
        "plt.plot(date_range , model_predict[:-202], color = 'blue', marker = 'o', linestyle ='dashed', label = 'BTC predictied Price')\n",
        "plt.plot(date_range,testing_data, color = 'red', label = 'BTC Actual Price')\n",
        "\n",
        "plt.title('Bitcoin Price Prediction')\n",
        "#plt.xlabel('Date')\n",
        "plt.ylabel('Price')\n",
        "plt.legend()\n",
        "plt.show()\n"
      ]
    },
    {
      "cell_type": "code",
      "execution_count": null,
      "metadata": {
        "colab": {
          "base_uri": "https://localhost:8080/"
        },
        "id": "xu7ZnkWwXPdF",
        "outputId": "0c2a0707-f069-4701-bdae-bc3b73e60e76"
      },
      "outputs": [
        {
          "output_type": "stream",
          "name": "stdout",
          "text": [
            "MAPE: 0.4243958734430338\n"
          ]
        }
      ],
      "source": [
        "#report performance\n",
        "mape = np.mean(np.abs(np.array(model_predict) - np.array(testing_data))/np.abs(testing_data))\n",
        "print('MAPE: ' + str(mape))"
      ]
    },
    {
      "cell_type": "code",
      "execution_count": null,
      "metadata": {
        "id": "tchKJLEYXPgG",
        "colab": {
          "base_uri": "https://localhost:8080/"
        },
        "outputId": "170021d3-5ba1-42a1-d0cb-97b21dee2778"
      },
      "outputs": [
        {
          "output_type": "stream",
          "name": "stdout",
          "text": [
            "RMSE: 92.671217\n"
          ]
        }
      ],
      "source": [
        "from math import sqrt\n",
        "mse = mean_squared_error(testing_data, model_predict)\n",
        "rmse = math.sqrt(mse)\n",
        "print('RMSE: %f' % rmse)"
      ]
    }
  ],
  "metadata": {
    "colab": {
      "collapsed_sections": [],
      "name": "demoARIMA.ipynb",
      "provenance": [],
      "authorship_tag": "ABX9TyM+y5wT/1os+oG5v6zZdO5l",
      "include_colab_link": true
    },
    "kernelspec": {
      "display_name": "Python 3",
      "name": "python3"
    },
    "language_info": {
      "name": "python"
    }
  },
  "nbformat": 4,
  "nbformat_minor": 0
}