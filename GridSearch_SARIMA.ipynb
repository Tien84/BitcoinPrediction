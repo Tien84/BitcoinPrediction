{
  "cells": [
    {
      "cell_type": "markdown",
      "metadata": {
        "id": "view-in-github",
        "colab_type": "text"
      },
      "source": [
        "<a href=\"https://colab.research.google.com/github/Tien84/Face-Detection/blob/master/GridSearch_SARIMA.ipynb\" target=\"_parent\"><img src=\"https://colab.research.google.com/assets/colab-badge.svg\" alt=\"Open In Colab\"/></a>"
      ]
    },
    {
      "cell_type": "code",
      "execution_count": null,
      "metadata": {
        "colab": {
          "base_uri": "https://localhost:8080/"
        },
        "id": "AAnAs51kYuJU",
        "outputId": "48841466-5aef-4c7e-8dfc-e3bc13b566ad"
      },
      "outputs": [
        {
          "name": "stdout",
          "output_type": "stream",
          "text": [
            "Mounted at /content/driver\n"
          ]
        }
      ],
      "source": [
        "from google.colab import drive\n",
        "drive.mount('/content/driver')"
      ]
    },
    {
      "cell_type": "code",
      "execution_count": null,
      "metadata": {
        "colab": {
          "base_uri": "https://localhost:8080/"
        },
        "id": "WTCPuPJcYuL7",
        "outputId": "72d20478-00b6-4f9f-d5a8-c7385da8f294"
      },
      "outputs": [
        {
          "name": "stderr",
          "output_type": "stream",
          "text": [
            "/usr/local/lib/python3.7/dist-packages/statsmodels/tools/_testing.py:19: FutureWarning: pandas.util.testing is deprecated. Use the functions in the public API at pandas.testing instead.\n",
            "  import pandas.util.testing as tm\n"
          ]
        }
      ],
      "source": [
        "# grid search sarima hyperparameters \n",
        "from math import sqrt\n",
        "from multiprocessing import cpu_count\n",
        "from joblib import Parallel\n",
        "from joblib import delayed\n",
        "from warnings import catch_warnings\n",
        "from warnings import filterwarnings\n",
        "from statsmodels.tsa.statespace.sarimax import SARIMAX\n",
        "from sklearn.metrics import mean_squared_error\n",
        "from pandas import read_csv"
      ]
    },
    {
      "cell_type": "code",
      "execution_count": null,
      "metadata": {
        "id": "5BCTd_HHYuOs"
      },
      "outputs": [],
      "source": [
        "# one-step sarima forecast\n",
        "def sarima_forecast(history, config):\n",
        "\torder, sorder, trend = config\n",
        "\t# define model\n",
        "\tmodel = SARIMAX(history, order=order, seasonal_order=sorder, trend=trend, enforce_stationarity=False, enforce_invertibility=False)\n",
        "\t# fit model\n",
        "\tmodel_fit = model.fit(disp=False)\n",
        "\t# make one step forecast\n",
        "\tyhat = model_fit.predict(len(history), len(history))\n",
        "\treturn yhat[0]"
      ]
    },
    {
      "cell_type": "code",
      "execution_count": null,
      "metadata": {
        "id": "Z-iq8AMaYuRY"
      },
      "outputs": [],
      "source": [
        "# root mean squared error or rmse\n",
        "def measure_rmse(actual, predicted):\n",
        "\treturn sqrt(mean_squared_error(actual, predicted))"
      ]
    },
    {
      "cell_type": "code",
      "execution_count": null,
      "metadata": {
        "id": "bYJZyDd3Yubg"
      },
      "outputs": [],
      "source": [
        "# split a univariate dataset into train/test sets\n",
        "def train_test_split(data, n_test):\n",
        "\treturn data[:-n_test], data[-n_test:]"
      ]
    },
    {
      "cell_type": "code",
      "execution_count": null,
      "metadata": {
        "id": "r57RT_2KYueU"
      },
      "outputs": [],
      "source": [
        "# walk-forward validation for data\n",
        "def walk_forward_validation(data, n_test, cfg):\n",
        "\tpredictions = list()\n",
        "\t# split dataset\n",
        "\ttrain, test = train_test_split(data, n_test)\n",
        "\t# seed history with training dataset\n",
        "\thistory = [x for x in train]\n",
        "\t# step over each time-step in the test set\n",
        "\tfor i in range(len(test)):\n",
        "\t\t# fit model and make forecast for history\n",
        "\t\tyhat = sarima_forecast(history, cfg)\n",
        "\t\t# store forecast in list of predictions\n",
        "\t\tpredictions.append(yhat)\n",
        "\t\t# add actual observation to history for the next loop\n",
        "\t\thistory.append(test[i])\n",
        "\t# estimate prediction error\n",
        "\terror = measure_rmse(test, predictions)\n",
        "\treturn error"
      ]
    },
    {
      "cell_type": "code",
      "execution_count": null,
      "metadata": {
        "id": "NFXMAdlbYuhu"
      },
      "outputs": [],
      "source": [
        "# score a model, return None on failure\n",
        "def score_model(data, n_test, cfg, debug=False):\n",
        "\tresult = None\n",
        "\t# convert config to a key\n",
        "\tkey = str(cfg)\n",
        "\t# show all warnings and fail on exception if debugging\n",
        "\tif debug:\n",
        "\t\tresult = walk_forward_validation(data, n_test, cfg)\n",
        "\telse:\n",
        "\t\t# one failure during model validation suggests an unstable config\n",
        "\t\ttry:\n",
        "\t\t\t# never show warnings when grid searching, too noisy\n",
        "\t\t\twith catch_warnings():\n",
        "\t\t\t\tfilterwarnings(\"ignore\")\n",
        "\t\t\t\tresult = walk_forward_validation(data, n_test, cfg)\n",
        "\t\texcept:\n",
        "\t\t\terror = None\n",
        "\t# check for an interesting result\n",
        "\tif result is not None:\n",
        "\t\tprint(' > Model[%s] %.3f' % (key, result))\n",
        "\treturn (key, result)"
      ]
    },
    {
      "cell_type": "code",
      "execution_count": null,
      "metadata": {
        "id": "30wPUqFRZp7C"
      },
      "outputs": [],
      "source": [
        "# grid search configs\n",
        "def grid_search(data, cfg_list, n_test, parallel=True):\n",
        "\tscores = None\n",
        "\tif parallel:\n",
        "\t\t# execute configs in parallel\n",
        "\t\texecutor = Parallel(n_jobs=cpu_count(), backend='multiprocessing')\n",
        "\t\ttasks = (delayed(score_model)(data, n_test, cfg) for cfg in cfg_list)\n",
        "\t\tscores = executor(tasks)\n",
        "\telse:\n",
        "\t\tscores = [score_model(data, n_test, cfg) for cfg in cfg_list]\n",
        "\t# remove empty results\n",
        "\tscores = [r for r in scores if r[1] != None]\n",
        "\t# sort configs by error, asc\n",
        "\tscores.sort(key=lambda tup: tup[1])\n",
        "\treturn scores"
      ]
    },
    {
      "cell_type": "code",
      "execution_count": null,
      "metadata": {
        "id": "Ts5ld_KWZp-S"
      },
      "outputs": [],
      "source": [
        "# create a set of sarima configs to try\n",
        "def sarima_configs(seasonal=[0]):\n",
        "\tmodels = list()\n",
        "\t# define config lists\n",
        "\tp_params = [0, 1, 2]\n",
        "\td_params = [0, 1]\n",
        "\tq_params = [0, 1, 2]\n",
        "\tt_params = ['n','c','t','ct']\n",
        "\tP_params = [0, 1, 2]\n",
        "\tD_params = [0, 1]\n",
        "\tQ_params = [0, 1, 2]\n",
        "\tm_params = seasonal\n",
        "\t# create config instances\n",
        "\tfor p in p_params:\n",
        "\t\tfor d in d_params:\n",
        "\t\t\tfor q in q_params:\n",
        "\t\t\t\tfor t in t_params:\n",
        "\t\t\t\t\tfor P in P_params:\n",
        "\t\t\t\t\t\tfor D in D_params:\n",
        "\t\t\t\t\t\t\tfor Q in Q_params:\n",
        "\t\t\t\t\t\t\t\tfor m in m_params:\n",
        "\t\t\t\t\t\t\t\t\tcfg = [(p,d,q), (P,D,Q,m), t]\n",
        "\t\t\t\t\t\t\t\t\tmodels.append(cfg)\n",
        "\treturn models"
      ]
    },
    {
      "cell_type": "code",
      "execution_count": null,
      "metadata": {
        "colab": {
          "base_uri": "https://localhost:8080/"
        },
        "id": "QLAvf7iyZqBv",
        "outputId": "c791f931-3273-477f-bcb0-900ab8392d2a"
      },
      "outputs": [
        {
          "name": "stdout",
          "output_type": "stream",
          "text": [
            "(2018,)\n",
            " > Model[[(0, 0, 0), (0, 0, 0, 0), 'n']] 189.480\n",
            " > Model[[(0, 0, 0), (0, 0, 1, 0), 'n']] 95.770\n",
            " > Model[[(0, 0, 0), (1, 0, 0, 0), 'n']] 2.982\n",
            " > Model[[(0, 0, 0), (1, 0, 1, 0), 'n']] 2.986\n",
            " > Model[[(0, 0, 0), (0, 0, 2, 0), 'n']] 51.814\n",
            " > Model[[(0, 0, 0), (1, 0, 2, 0), 'n']] 2.984\n",
            " > Model[[(0, 0, 0), (2, 0, 0, 0), 'n']] 2.986\n",
            " > Model[[(0, 0, 0), (2, 0, 2, 0), 'n']] 2.985\n",
            " > Model[[(0, 0, 0), (0, 0, 0, 0), 'c']] 83.382\n",
            " > Model[[(0, 0, 0), (2, 0, 1, 0), 'n']] 2.986\n",
            " > Model[[(0, 0, 0), (0, 0, 1, 0), 'c']] 42.758\n",
            " > Model[[(0, 0, 0), (0, 0, 2, 0), 'c']] 25.179\n",
            " > Model[[(0, 0, 0), (1, 0, 0, 0), 'c']] 2.985\n",
            " > Model[[(0, 0, 0), (1, 0, 1, 0), 'c']] 3.141\n",
            " > Model[[(0, 0, 0), (1, 0, 2, 0), 'c']] 5.754\n",
            " > Model[[(0, 0, 0), (2, 0, 0, 0), 'c']] 2.994\n",
            " > Model[[(0, 0, 0), (2, 0, 1, 0), 'c']] 20.840\n",
            " > Model[[(0, 0, 0), (0, 0, 0, 0), 't']] 21.706\n",
            " > Model[[(0, 0, 0), (0, 0, 1, 0), 't']] 12.206\n",
            " > Model[[(0, 0, 0), (2, 0, 2, 0), 'c']] 17.030\n",
            " > Model[[(0, 0, 0), (0, 0, 2, 0), 't']] 9.106\n",
            " > Model[[(0, 0, 0), (1, 0, 0, 0), 't']] 2.983\n",
            " > Model[[(0, 0, 0), (1, 0, 1, 0), 't']] 3.014\n",
            " > Model[[(0, 0, 0), (1, 0, 2, 0), 't']] 3.009\n",
            " > Model[[(0, 0, 0), (2, 0, 0, 0), 't']] 2.986\n",
            " > Model[[(0, 0, 0), (2, 0, 1, 0), 't']] 5.441\n",
            " > Model[[(0, 0, 0), (0, 0, 0, 0), 'ct']] 32.315\n",
            " > Model[[(0, 0, 0), (2, 0, 2, 0), 't']] 3.022\n",
            " > Model[[(0, 0, 0), (0, 0, 1, 0), 'ct']] 17.168\n",
            " > Model[[(0, 0, 0), (0, 0, 2, 0), 'ct']] 10.916\n",
            " > Model[[(0, 0, 0), (1, 0, 0, 0), 'ct']] 3.060\n",
            " > Model[[(0, 0, 0), (1, 0, 1, 0), 'ct']] 10.459\n",
            " > Model[[(0, 0, 0), (1, 0, 2, 0), 'ct']] 9.719\n",
            " > Model[[(0, 0, 0), (2, 0, 0, 0), 'ct']] 3.111\n",
            " > Model[[(0, 0, 0), (2, 0, 1, 0), 'ct']] 13.887\n",
            " > Model[[(0, 0, 1), (0, 0, 0, 0), 'n']] 95.770\n",
            " > Model[[(0, 0, 1), (0, 0, 1, 0), 'n']] 56.041\n"
          ]
        }
      ],
      "source": [
        "if __name__ == '__main__':\n",
        "\t# load dataset\n",
        "\tseries = read_csv('/content/driver/My Drive/LSTM_Model/AAPL.csv', header=0, index_col=0)\n",
        "\tdata = series['Adj Close'].values\n",
        "\tprint(data.shape)\n",
        "\t# data split\n",
        "\t#n_test = 165\n",
        "\tn_test = 673\n",
        "\t# model configs\n",
        "\tcfg_list = sarima_configs()\n",
        "\t# grid search\n",
        "\tscores = grid_search(data, cfg_list, n_test)\n",
        "\tprint('done')\n",
        "\t# list top 3 configs\n",
        "\tfor cfg, error in scores[:3]:\n",
        "\t\tprint(cfg, error)"
      ]
    },
    {
      "cell_type": "code",
      "execution_count": null,
      "metadata": {
        "colab": {
          "background_save": true,
          "base_uri": "https://localhost:8080/"
        },
        "id": "KtYNoJHnYukl",
        "outputId": "0e6025db-e18d-49a2-904e-8defded0072d"
      },
      "outputs": [
        {
          "name": "stdout",
          "output_type": "stream",
          "text": [
            "(2018,)\n",
            " > Model[[(0, 0, 0), (0, 0, 0, 0), 'n']] 226.745\n",
            " > Model[[(0, 0, 0), (0, 0, 1, 0), 'n']] 114.596\n",
            " > Model[[(0, 0, 0), (1, 0, 0, 0), 'n']] 3.141\n",
            " > Model[[(0, 0, 0), (1, 0, 1, 0), 'n']] 3.144\n",
            " > Model[[(0, 0, 0), (0, 0, 2, 0), 'n']] 62.687\n",
            " > Model[[(0, 0, 0), (1, 0, 2, 0), 'n']] 3.136\n",
            " > Model[[(0, 0, 0), (2, 0, 0, 0), 'n']] 3.144\n",
            " > Model[[(0, 0, 0), (2, 0, 2, 0), 'n']] 3.136\n",
            " > Model[[(0, 0, 0), (0, 0, 0, 0), 'c']] 109.755\n",
            " > Model[[(0, 0, 0), (2, 0, 1, 0), 'n']] 3.145\n",
            " > Model[[(0, 0, 0), (0, 0, 1, 0), 'c']] 56.069\n",
            " > Model[[(0, 0, 0), (0, 0, 2, 0), 'c']] 32.529\n",
            " > Model[[(0, 0, 0), (1, 0, 0, 0), 'c']] 3.147\n",
            " > Model[[(0, 0, 0), (1, 0, 1, 0), 'c']] 3.367\n",
            " > Model[[(0, 0, 0), (1, 0, 2, 0), 'c']] 5.313\n",
            " > Model[[(0, 0, 0), (2, 0, 0, 0), 'c']] 3.161\n",
            " > Model[[(0, 0, 0), (2, 0, 1, 0), 'c']] 32.122\n",
            " > Model[[(0, 0, 0), (0, 0, 0, 0), 't']] 29.424\n",
            " > Model[[(0, 0, 0), (0, 0, 1, 0), 't']] 15.786\n",
            " > Model[[(0, 0, 0), (2, 0, 2, 0), 'c']] 21.437\n",
            " > Model[[(0, 0, 0), (0, 0, 2, 0), 't']] 10.609\n",
            " > Model[[(0, 0, 0), (1, 0, 0, 0), 't']] 3.144\n",
            " > Model[[(0, 0, 0), (1, 0, 1, 0), 't']] 3.146\n",
            " > Model[[(0, 0, 0), (1, 0, 2, 0), 't']] 3.192\n",
            " > Model[[(0, 0, 0), (2, 0, 0, 0), 't']] 3.147\n",
            " > Model[[(0, 0, 0), (2, 0, 1, 0), 't']] 7.503\n",
            " > Model[[(0, 0, 0), (0, 0, 0, 0), 'ct']] 43.220\n",
            " > Model[[(0, 0, 0), (0, 0, 1, 0), 'ct']] 22.794\n",
            " > Model[[(0, 0, 0), (2, 0, 2, 0), 't']] 3.115\n",
            " > Model[[(0, 0, 0), (0, 0, 2, 0), 'ct']] 14.087\n",
            " > Model[[(0, 0, 0), (1, 0, 0, 0), 'ct']] 3.409\n",
            " > Model[[(0, 0, 0), (1, 0, 1, 0), 'ct']] 12.741\n",
            " > Model[[(0, 0, 0), (1, 0, 2, 0), 'ct']] 11.432\n",
            " > Model[[(0, 0, 0), (2, 0, 0, 0), 'ct']] 3.365\n",
            " > Model[[(0, 0, 0), (2, 0, 1, 0), 'ct']] 17.271\n",
            " > Model[[(0, 0, 1), (0, 0, 0, 0), 'n']] 114.596\n",
            " > Model[[(0, 0, 1), (0, 0, 1, 0), 'n']] 66.375\n",
            " > Model[[(0, 0, 0), (2, 0, 2, 0), 'ct']] 13.472\n",
            " > Model[[(0, 0, 1), (0, 0, 2, 0), 'n']] 38.790\n",
            " > Model[[(0, 0, 1), (1, 0, 0, 0), 'n']] 3.145\n",
            " > Model[[(0, 0, 1), (1, 0, 1, 0), 'n']] 4.208\n",
            " > Model[[(0, 0, 1), (1, 0, 2, 0), 'n']] 3.466\n",
            " > Model[[(0, 0, 1), (2, 0, 0, 0), 'n']] 3.148\n",
            " > Model[[(0, 0, 1), (2, 0, 1, 0), 'n']] 10.341\n",
            " > Model[[(0, 0, 1), (2, 0, 2, 0), 'n']] 322407885.204\n",
            " > Model[[(0, 0, 1), (0, 0, 0, 0), 'c']] 56.036\n",
            " > Model[[(0, 0, 1), (0, 0, 1, 0), 'c']] 34.993\n",
            " > Model[[(0, 0, 1), (0, 0, 2, 0), 'c']] 20.878\n",
            " > Model[[(0, 0, 1), (1, 0, 0, 0), 'c']] 3.607\n"
          ]
        }
      ],
      "source": [
        "if __name__ == '__main__':\n",
        "\t# load dataset\n",
        "\tseries = read_csv('/content/driver/My Drive/LSTM_Model/AAPL.csv', header=0, index_col=0)\n",
        "\tdata = series['Adj Close'].values\n",
        "\tprint(data.shape)\n",
        "\t# data split\n",
        "\tn_test = 165\n",
        "\t# model configs\n",
        "\tcfg_list = sarima_configs()\n",
        "\t# grid search\n",
        "\tscores = grid_search(data, cfg_list, n_test)\n",
        "\tprint('done')\n",
        "\t# list top 3 configs\n",
        "\tfor cfg, error in scores[:10]:\n",
        "\t\tprint(cfg, error)"
      ]
    }
  ],
  "metadata": {
    "colab": {
      "collapsed_sections": [],
      "name": "GridSearch_SARIMA.ipynb",
      "provenance": [],
      "authorship_tag": "ABX9TyNL3oLcBs62buYzYx8bXV2m",
      "include_colab_link": true
    },
    "kernelspec": {
      "display_name": "Python 3",
      "name": "python3"
    },
    "language_info": {
      "name": "python"
    }
  },
  "nbformat": 4,
  "nbformat_minor": 0
}