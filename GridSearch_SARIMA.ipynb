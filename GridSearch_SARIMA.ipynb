{
  "cells": [
    {
      "cell_type": "markdown",
      "metadata": {
        "id": "view-in-github",
        "colab_type": "text"
      },
      "source": [
        "<a href=\"https://colab.research.google.com/github/Tien84/BitcoinPrediction/blob/master/GridSearch_SARIMA.ipynb\" target=\"_parent\"><img src=\"https://colab.research.google.com/assets/colab-badge.svg\" alt=\"Open In Colab\"/></a>"
      ]
    },
    {
      "cell_type": "code",
      "execution_count": 1,
      "metadata": {
        "colab": {
          "base_uri": "https://localhost:8080/"
        },
        "id": "AAnAs51kYuJU",
        "outputId": "78280105-d371-4b6e-dc11-c40eb6a9b836"
      },
      "outputs": [
        {
          "output_type": "stream",
          "name": "stdout",
          "text": [
            "Mounted at /content/driver\n"
          ]
        }
      ],
      "source": [
        "from google.colab import drive\n",
        "drive.mount('/content/driver')"
      ]
    },
    {
      "cell_type": "code",
      "execution_count": 2,
      "metadata": {
        "id": "WTCPuPJcYuL7"
      },
      "outputs": [],
      "source": [
        "# grid search sarima hyperparameters \n",
        "from math import sqrt\n",
        "from multiprocessing import cpu_count\n",
        "from joblib import Parallel\n",
        "from joblib import delayed\n",
        "from warnings import catch_warnings\n",
        "from warnings import filterwarnings\n",
        "from statsmodels.tsa.statespace.sarimax import SARIMAX\n",
        "from sklearn.metrics import mean_squared_error\n",
        "from pandas import read_csv"
      ]
    },
    {
      "cell_type": "code",
      "execution_count": 3,
      "metadata": {
        "id": "5BCTd_HHYuOs"
      },
      "outputs": [],
      "source": [
        "# one-step sarima forecast\n",
        "def sarima_forecast(history, config):\n",
        "\torder, sorder, trend = config\n",
        "\t# define model\n",
        "\tmodel = SARIMAX(history, order=order, seasonal_order=sorder, trend=trend, enforce_stationarity=False, enforce_invertibility=False)\n",
        "\t# fit model\n",
        "\tmodel_fit = model.fit(disp=False)\n",
        "\t# make one step forecast\n",
        "\tyhat = model_fit.predict(len(history), len(history))\n",
        "\treturn yhat[0]"
      ]
    },
    {
      "cell_type": "code",
      "execution_count": 4,
      "metadata": {
        "id": "Z-iq8AMaYuRY"
      },
      "outputs": [],
      "source": [
        "# root mean squared error or rmse\n",
        "def measure_rmse(actual, predicted):\n",
        "\treturn sqrt(mean_squared_error(actual, predicted))"
      ]
    },
    {
      "cell_type": "code",
      "execution_count": 5,
      "metadata": {
        "id": "Ha8C3qHym-DX"
      },
      "outputs": [],
      "source": [
        "# root mean squared error or mape\n",
        "def measure_mape(actual, predicted):\n",
        "\treturn mean(abs(array(predicted) - array(actual))/abs(actual))"
      ]
    },
    {
      "cell_type": "code",
      "execution_count": 6,
      "metadata": {
        "id": "bYJZyDd3Yubg"
      },
      "outputs": [],
      "source": [
        "# split a univariate dataset into train/test sets\n",
        "def train_test_split(data, n_test):\n",
        "\treturn data[:-n_test], data[-n_test:]"
      ]
    },
    {
      "cell_type": "code",
      "execution_count": 7,
      "metadata": {
        "id": "r57RT_2KYueU"
      },
      "outputs": [],
      "source": [
        "# walk-forward validation for data\n",
        "def walk_forward_validation(data, n_test, cfg):\n",
        "\tpredictions = list()\n",
        "\t# split dataset\n",
        "\ttrain, test = train_test_split(data, n_test)\n",
        "\t# seed history with training dataset\n",
        "\thistory = [x for x in train]\n",
        "\t# step over each time-step in the test set\n",
        "\tfor i in range(len(test)):\n",
        "\t\t# fit model and make forecast for history\n",
        "\t\tyhat = sarima_forecast(history, cfg)\n",
        "\t\t# store forecast in list of predictions\n",
        "\t\tpredictions.append(yhat)\n",
        "\t\t# add actual observation to history for the next loop\n",
        "\t\thistory.append(test[i])\n",
        "\t# estimate prediction error\n",
        "\terror = measure_rmse(test, predictions)\n",
        "\treturn error"
      ]
    },
    {
      "cell_type": "code",
      "execution_count": 8,
      "metadata": {
        "id": "YmqefZ8onj8h"
      },
      "outputs": [],
      "source": [
        "# walk-forward validation for data\n",
        "def walk_forward_validation_1(data, n_test, cfg):\n",
        "\tpredictions = list()\n",
        "\t# split dataset\n",
        "\ttrain, test = train_test_split(data, n_test)\n",
        "\t# seed history with training dataset\n",
        "\thistory = [x for x in train]\n",
        "\t# step over each time-step in the test set\n",
        "\tfor i in range(len(test)):\n",
        "\t\t# fit model and make forecast for history\n",
        "\t\tyhat = sarima_forecast(history, cfg)\n",
        "\t\t# store forecast in list of predictions\n",
        "\t\tpredictions.append(yhat)\n",
        "\t\t# add actual observation to history for the next loop\n",
        "\t\thistory.append(test[i])\n",
        "\t# estimate prediction error\n",
        "\terror = measure_mape(test, predictions)\n",
        "\treturn error"
      ]
    },
    {
      "cell_type": "code",
      "execution_count": null,
      "metadata": {
        "id": "NFXMAdlbYuhu"
      },
      "outputs": [],
      "source": [
        "# score a model, return None on failure\n",
        "def score_model(data, n_test, cfg, debug=False):\n",
        "\tresult = None\n",
        "\t# convert config to a key\n",
        "\tkey = str(cfg)\n",
        "\t# show all warnings and fail on exception if debugging\n",
        "\tif debug:\n",
        "\t\tresult = walk_forward_validation(data, n_test, cfg)\n",
        "\telse:\n",
        "\t\t# one failure during model validation suggests an unstable config\n",
        "\t\ttry:\n",
        "\t\t\t# never show warnings when grid searching, too noisy\n",
        "\t\t\twith catch_warnings():\n",
        "\t\t\t\tfilterwarnings(\"ignore\")\n",
        "\t\t\t\tresult = walk_forward_validation(data, n_test, cfg)\n",
        "\t\texcept:\n",
        "\t\t\terror = None\n",
        "\t# check for an interesting result\n",
        "\tif result is not None:\n",
        "\t\tprint(' > Model[%s] %.3f' % (key, result))\n",
        "\treturn (key, result)"
      ]
    },
    {
      "cell_type": "code",
      "execution_count": 13,
      "metadata": {
        "id": "_6Ip2FySoJvY"
      },
      "outputs": [],
      "source": [
        "# score a model, return None on failure\n",
        "def score_model_1(data, n_test, cfg, debug=False):\n",
        "\tresult = None\n",
        "\t# convert config to a key\n",
        "\tkey = str(cfg)\n",
        "\t# show all warnings and fail on exception if debugging\n",
        "\tif debug:\n",
        "\t\tresult = walk_forward_validation_1(data, n_test, cfg)\n",
        "\telse:\n",
        "\t\t# one failure during model validation suggests an unstable config\n",
        "\t\ttry:\n",
        "\t\t\t# never show warnings when grid searching, too noisy\n",
        "\t\t\twith catch_warnings():\n",
        "\t\t\t\tfilterwarnings(\"ignore\")\n",
        "\t\t\t\tresult = walk_forward_validation_1(data, n_test, cfg)\n",
        "\t\texcept:\n",
        "\t\t\terror = None\n",
        "\t# check for an interesting result\n",
        "\tif result is not None:\n",
        "\t\tprint(' > Model[%s] %.3f' % (key, result))\n",
        "\treturn (key, result)"
      ]
    },
    {
      "cell_type": "code",
      "execution_count": null,
      "metadata": {
        "id": "30wPUqFRZp7C"
      },
      "outputs": [],
      "source": [
        "# grid search configs\n",
        "def grid_search(data, cfg_list, n_test, parallel=True):\n",
        "\tscores = None\n",
        "\tif parallel:\n",
        "\t\t# execute configs in parallel\n",
        "\t\texecutor = Parallel(n_jobs=cpu_count(), backend='multiprocessing')\n",
        "\t\ttasks = (delayed(score_model)(data, n_test, cfg) for cfg in cfg_list)\n",
        "\t\tscores = executor(tasks)\n",
        "\telse:\n",
        "\t\tscores = [score_model(data, n_test, cfg) for cfg in cfg_list]\n",
        "\t# remove empty results\n",
        "\tscores = [r for r in scores if r[1] != None]\n",
        "\t# sort configs by error, asc\n",
        "\tscores.sort(key=lambda tup: tup[1])\n",
        "\treturn scores"
      ]
    },
    {
      "cell_type": "code",
      "execution_count": 15,
      "metadata": {
        "id": "iKS5pE7NoUVi"
      },
      "outputs": [],
      "source": [
        "# grid search configs\n",
        "def grid_search_1(data, cfg_list, n_test, parallel=True):\n",
        "\tscores = None\n",
        "\tif parallel:\n",
        "\t\t# execute configs in parallel\n",
        "\t\texecutor = Parallel(n_jobs=cpu_count(), backend='multiprocessing')\n",
        "\t\ttasks = (delayed(score_model_1)(data, n_test, cfg) for cfg in cfg_list)\n",
        "\t\tscores = executor(tasks)\n",
        "\telse:\n",
        "\t\tscores = [score_model_1(data, n_test, cfg) for cfg in cfg_list]\n",
        "\t# remove empty results\n",
        "\tscores = [r for r in scores if r[1] != None]\n",
        "\t# sort configs by error, asc\n",
        "\tscores.sort(key=lambda tup: tup[1])\n",
        "\treturn scores"
      ]
    },
    {
      "cell_type": "code",
      "execution_count": 11,
      "metadata": {
        "id": "Ts5ld_KWZp-S"
      },
      "outputs": [],
      "source": [
        "# create a set of sarima configs to try\n",
        "def sarima_configs(seasonal=[0]):\n",
        "\tmodels = list()\n",
        "\t# define config lists\n",
        "\tp_params = [0, 1, 2, 3]\n",
        "\td_params = [0, 1]\n",
        "\tq_params = [0, 1, 2, 3]\n",
        "\tt_params = ['n','c','t','ct']\n",
        "\tP_params = [0, 1, 2, 3]\n",
        "\tD_params = [0, 1]\n",
        "\tQ_params = [0, 1, 2, 3]\n",
        "\tm_params = seasonal\n",
        "\t# create config instances\n",
        "\tfor p in p_params:\n",
        "\t\tfor d in d_params:\n",
        "\t\t\tfor q in q_params:\n",
        "\t\t\t\tfor t in t_params:\n",
        "\t\t\t\t\tfor P in P_params:\n",
        "\t\t\t\t\t\tfor D in D_params:\n",
        "\t\t\t\t\t\t\tfor Q in Q_params:\n",
        "\t\t\t\t\t\t\t\tfor m in m_params:\n",
        "\t\t\t\t\t\t\t\t\tcfg = [(p,d,q), (P,D,Q,m), t]\n",
        "\t\t\t\t\t\t\t\t\tmodels.append(cfg)\n",
        "\treturn models"
      ]
    },
    {
      "cell_type": "code",
      "execution_count": null,
      "metadata": {
        "colab": {
          "background_save": true,
          "base_uri": "https://localhost:8080/"
        },
        "id": "QLAvf7iyZqBv",
        "outputId": "d9c836be-2325-46c1-a96e-16bb76ca3429"
      },
      "outputs": [
        {
          "name": "stdout",
          "output_type": "stream",
          "text": [
            "(2558,)\n",
            " > Model[[(0, 0, 0), (0, 0, 0, 0), 'n']] 39460.016\n",
            " > Model[[(0, 0, 0), (0, 0, 0, 0), 'c']] 29936.472\n",
            " > Model[[(0, 0, 0), (0, 0, 0, 0), 't']] 20538.582\n",
            " > Model[[(0, 0, 0), (0, 0, 0, 0), 'ct']] 19437.937\n",
            " > Model[[(0, 0, 1), (0, 0, 0, 0), 'n']] 20343.405\n",
            " > Model[[(0, 0, 1), (0, 0, 0, 0), 'c']] 15535.828\n",
            " > Model[[(0, 0, 1), (0, 0, 0, 0), 't']] 10860.146\n",
            " > Model[[(0, 0, 1), (0, 0, 0, 0), 'ct']] 10303.705\n",
            " > Model[[(0, 0, 2), (0, 0, 0, 0), 'n']] 11815.698\n",
            " > Model[[(0, 0, 2), (0, 0, 0, 0), 'c']] 9383.221\n",
            " > Model[[(0, 0, 2), (0, 0, 0, 0), 't']] 6802.453\n",
            " > Model[[(0, 0, 3), (0, 0, 0, 0), 'n']] 8193.694\n",
            " > Model[[(0, 0, 2), (0, 0, 0, 0), 'ct']] 6533.651\n",
            " > Model[[(0, 0, 3), (0, 0, 0, 0), 'c']] 6519.974\n",
            " > Model[[(0, 0, 3), (0, 0, 0, 0), 't']] 5703.801\n",
            " > Model[[(0, 1, 0), (0, 0, 0, 0), 'n']] 1494.268\n",
            " > Model[[(0, 1, 0), (0, 0, 0, 0), 'c']] 1494.583\n",
            " > Model[[(0, 1, 0), (0, 0, 0, 0), 't']] 1495.342\n",
            " > Model[[(0, 1, 0), (0, 0, 0, 0), 'ct']] 1495.611\n",
            " > Model[[(0, 1, 1), (0, 0, 0, 0), 'n']] 1496.332\n",
            " > Model[[(0, 1, 1), (0, 0, 0, 0), 'c']] 1496.702\n",
            " > Model[[(0, 1, 1), (0, 0, 0, 0), 't']] 1497.456\n",
            " > Model[[(0, 1, 1), (0, 0, 0, 0), 'ct']] 1497.750\n",
            " > Model[[(0, 1, 2), (0, 0, 0, 0), 'n']] 1499.569\n",
            " > Model[[(0, 1, 2), (0, 0, 0, 0), 'c']] 1499.936\n",
            " > Model[[(0, 1, 2), (0, 0, 0, 0), 't']] 1500.717\n",
            " > Model[[(0, 1, 2), (0, 0, 0, 0), 'ct']] 1500.999\n",
            " > Model[[(0, 0, 3), (0, 0, 0, 0), 'ct']] 5077.389\n",
            " > Model[[(0, 1, 3), (0, 0, 0, 0), 'n']] 1501.893\n",
            " > Model[[(0, 1, 3), (0, 0, 0, 0), 'c']] 1502.252\n",
            " > Model[[(0, 1, 3), (0, 0, 0, 0), 't']] 1503.079\n",
            " > Model[[(1, 0, 0), (0, 0, 0, 0), 'n']] 1498.182\n",
            " > Model[[(0, 1, 3), (0, 0, 0, 0), 'ct']] 1503.355\n",
            " > Model[[(1, 0, 0), (0, 0, 0, 0), 'c']] 1499.053\n",
            " > Model[[(1, 0, 0), (0, 0, 0, 0), 't']] 1500.024\n",
            " > Model[[(1, 0, 1), (0, 0, 0, 0), 'n']] 1500.570\n",
            " > Model[[(1, 0, 0), (0, 0, 0, 0), 'ct']] 1500.128\n",
            " > Model[[(1, 0, 1), (0, 0, 0, 0), 't']] 1502.674\n",
            " > Model[[(1, 0, 1), (0, 0, 0, 0), 'c']] 1501.544\n",
            " > Model[[(1, 0, 2), (0, 0, 0, 0), 'n']] 1504.012\n",
            " > Model[[(1, 0, 1), (0, 0, 0, 0), 'ct']] 1502.841\n",
            " > Model[[(1, 0, 2), (0, 0, 0, 0), 't']] 1506.171\n",
            " > Model[[(1, 0, 2), (0, 0, 0, 0), 'c']] 1504.993\n",
            " > Model[[(1, 0, 3), (0, 0, 0, 0), 'n']] 1506.310\n",
            " > Model[[(1, 0, 2), (0, 0, 0, 0), 'ct']] 1506.066\n",
            " > Model[[(1, 0, 3), (0, 0, 0, 0), 'c']] 1507.271\n",
            " > Model[[(1, 0, 3), (0, 0, 0, 0), 't']] 1508.317\n",
            " > Model[[(1, 1, 0), (0, 0, 0, 0), 'n']] 1496.494\n",
            " > Model[[(1, 1, 0), (0, 0, 0, 0), 'c']] 1496.817\n",
            " > Model[[(1, 0, 3), (0, 0, 0, 0), 'ct']] 1508.557\n",
            " > Model[[(1, 1, 0), (0, 0, 0, 0), 't']] 1497.603\n",
            " > Model[[(1, 1, 0), (0, 0, 0, 0), 'ct']] 1497.877\n",
            " > Model[[(1, 1, 1), (0, 0, 0, 0), 'n']] 1508.479\n",
            " > Model[[(1, 1, 1), (0, 0, 0, 0), 'c']] 1504.084\n",
            " > Model[[(1, 1, 1), (0, 0, 0, 0), 't']] 1508.334\n",
            " > Model[[(1, 1, 2), (0, 0, 0, 0), 'n']] 1502.162\n",
            " > Model[[(1, 1, 1), (0, 0, 0, 0), 'ct']] 1504.332\n",
            " > Model[[(1, 1, 2), (0, 0, 0, 0), 'c']] 1502.285\n",
            " > Model[[(1, 1, 2), (0, 0, 0, 0), 't']] 1502.809\n",
            " > Model[[(1, 1, 3), (0, 0, 0, 0), 'n']] 1508.527\n",
            " > Model[[(1, 1, 2), (0, 0, 0, 0), 'ct']] 1502.933\n",
            " > Model[[(1, 1, 3), (0, 0, 0, 0), 'c']] 1505.921\n"
          ]
        }
      ],
      "source": [
        "if __name__ == '__main__':\n",
        "\t# load dataset\n",
        "\tseries = read_csv('/content/driver/My Drive/DataSet/DataBitcoin.csv', header=0, index_col=0)\n",
        "\tdata = series['Adj Close'].values\n",
        "\tprint(data.shape)\n",
        "\t# data split\n",
        "\t#n_test = 165\n",
        "\tn_test = 768\n",
        "\t# model configs\n",
        "\tcfg_list = sarima_configs()\n",
        "\t# grid search\n",
        "\tscores = grid_search(data, cfg_list, n_test)\n",
        "\tprint('done')\n",
        "\t# list top 3 configs\n",
        "\tfor cfg, error in scores[:3]:\n",
        "\t\tprint(cfg, error)"
      ]
    },
    {
      "cell_type": "code",
      "execution_count": null,
      "metadata": {
        "id": "jMh1gFw3oheY",
        "colab": {
          "base_uri": "https://localhost:8080/"
        },
        "outputId": "eebe1b45-db0d-48c8-8d41-e95cfca7fddd"
      },
      "outputs": [
        {
          "metadata": {
            "tags": null
          },
          "name": "stdout",
          "output_type": "stream",
          "text": [
            "(2558,)\n"
          ]
        }
      ],
      "source": [
        "if __name__ == '__main__':\n",
        "\t# load dataset\n",
        "\tseries = read_csv('/content/driver/My Drive/DataSet/DataBitcoin.csv', header=0, index_col=0)\n",
        "\tdata = series['Adj Close'].values\n",
        "\tprint(data.shape)\n",
        "\t# data split\n",
        "\t#n_test = 165\n",
        "\tn_test = 768\n",
        "\t# model configs\n",
        "\tcfg_list = sarima_configs()\n",
        "\t# grid search\n",
        "\tscores_mape = grid_search_1(data, cfg_list, n_test)\n",
        "\tprint('done')\n",
        "\t# list top 3 configs\n",
        "\tfor cfg, error in scores_mape[:3]:\n",
        "\t\tprint(cfg, error)"
      ]
    }
  ],
  "metadata": {
    "colab": {
      "collapsed_sections": [],
      "provenance": [],
      "authorship_tag": "ABX9TyOCV+IFgwwSfOliauFysw/D",
      "include_colab_link": true
    },
    "kernelspec": {
      "display_name": "Python 3",
      "name": "python3"
    },
    "language_info": {
      "name": "python"
    }
  },
  "nbformat": 4,
  "nbformat_minor": 0
}