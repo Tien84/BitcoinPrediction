{
  "cells": [
    {
      "cell_type": "markdown",
      "metadata": {
        "id": "view-in-github",
        "colab_type": "text"
      },
      "source": [
        "<a href=\"https://colab.research.google.com/github/Tien84/BitcoinPrediction/blob/master/GridSearch_ARIMA.ipynb\" target=\"_parent\"><img src=\"https://colab.research.google.com/assets/colab-badge.svg\" alt=\"Open In Colab\"/></a>"
      ]
    },
    {
      "cell_type": "code",
      "execution_count": null,
      "metadata": {
        "id": "wJfuUHWOPis-"
      },
      "outputs": [],
      "source": [
        "import numpy"
      ]
    },
    {
      "cell_type": "code",
      "execution_count": 1,
      "metadata": {
        "id": "rr5am7M2cl0w",
        "colab": {
          "base_uri": "https://localhost:8080/"
        },
        "outputId": "6746e4fd-aa4b-42a3-e6e8-949adb033dcd"
      },
      "outputs": [
        {
          "output_type": "stream",
          "name": "stdout",
          "text": [
            "Mounted at /content/driver\n"
          ]
        }
      ],
      "source": [
        "from google.colab import drive\n",
        "drive.mount('/content/driver')"
      ]
    },
    {
      "cell_type": "code",
      "execution_count": 2,
      "metadata": {
        "colab": {
          "base_uri": "https://localhost:8080/"
        },
        "id": "1gYUHje3cl3Z",
        "outputId": "6c4c8e52-a9f7-4618-8b03-e9800e6ff031"
      },
      "outputs": [
        {
          "output_type": "stream",
          "name": "stderr",
          "text": [
            "/usr/local/lib/python3.7/dist-packages/ipykernel_launcher.py:5: FutureWarning: The pandas.datetime class is deprecated and will be removed from pandas in a future version. Import from datetime module instead.\n",
            "  \"\"\"\n"
          ]
        }
      ],
      "source": [
        "# grid search ARIMA parameters\n",
        "import warnings\n",
        "from math import sqrt\n",
        "from pandas import read_csv\n",
        "from pandas import datetime\n",
        "from statsmodels.tsa.arima_model import ARIMA\n",
        "from sklearn.metrics import mean_squared_error"
      ]
    },
    {
      "cell_type": "code",
      "execution_count": 3,
      "metadata": {
        "colab": {
          "base_uri": "https://localhost:8080/"
        },
        "id": "biCwJWE-CRB7",
        "outputId": "482bb49c-fbde-4bcd-da86-97995da7ebc1"
      },
      "outputs": [
        {
          "output_type": "stream",
          "name": "stdout",
          "text": [
            "Shape of data (2558,)\n"
          ]
        },
        {
          "output_type": "execute_result",
          "data": {
            "text/plain": [
              "Date\n",
              "2015-11-03      403.416992\n",
              "2015-11-04      411.562988\n",
              "2015-11-05      386.354004\n",
              "2015-11-06      374.470001\n",
              "2015-11-07      386.481995\n",
              "                  ...     \n",
              "2022-10-30    20635.603516\n",
              "2022-10-31    20495.773438\n",
              "2022-11-01    20485.273438\n",
              "2022-11-02    20159.503906\n",
              "2022-11-03    20335.416016\n",
              "Name: Adj Close, Length: 2558, dtype: float64"
            ]
          },
          "metadata": {},
          "execution_count": 3
        }
      ],
      "source": [
        "import pandas as pd\n",
        "df=pd.read_csv('/content/driver/My Drive/DataSet/DataBitcoin.csv',header=0, index_col=0, parse_dates=True, squeeze=True)\n",
        "df=df['Adj Close'].dropna()\n",
        "print('Shape of data',df.shape)\n",
        "df.head()\n",
        "df"
      ]
    },
    {
      "cell_type": "code",
      "execution_count": null,
      "metadata": {
        "id": "GJ5Wqsvscl6K"
      },
      "outputs": [],
      "source": [
        "# evaluate an ARIMA model for a given order (p,d,q)\n",
        "def evaluate_arima_model(df, arima_order):\n",
        "\t# prepare training dataset\n",
        "\tdf = df.astype('float32')\n",
        "\ttrain_size = int(len(df) * 0.667)\n",
        "\ttrain, test = df[0:train_size], df[train_size:]\n",
        "\thistory = [x for x in train]\n",
        "\t#test.reset_index(drop=True,inplace = True)\n",
        "\t# make predictions\n",
        "\tpredictions = list()\n",
        "\tfor t in range(len(test)):\n",
        "\t\tmodel = ARIMA(history, order=arima_order)\n",
        "\t\tmodel_fit = model.fit()\n",
        "\t\tyhat = model_fit.forecast()[0]\n",
        "\t\tpredictions.append(yhat)\n",
        "\t\thistory.append(test[t])\n",
        "\t# calculate out of sample error\n",
        "\trmse = sqrt(mean_squared_error(test, predictions))\n",
        "\treturn rmse"
      ]
    },
    {
      "cell_type": "code",
      "execution_count": 4,
      "metadata": {
        "id": "SVSWftPAL4__"
      },
      "outputs": [],
      "source": [
        "# evaluate an ARIMA model for a given order (p,d,q)\n",
        "def evaluate_arima_model_mape(df, arima_order):\n",
        "\t# prepare training dataset\n",
        "\tdf = df.astype('float32')\n",
        "\ttrain_size = int(len(df) * 0.667)\n",
        "\ttrain, test = df[0:train_size], df[train_size:]\n",
        "\thistory = [x for x in train]\n",
        "\t#test.reset_index(drop=True,inplace = True)\n",
        "\t# make predictions\n",
        "\tpredictions = list()\n",
        "\tfor t in range(len(test)):\n",
        "\t\tmodel = ARIMA(history, order=arima_order)\n",
        "\t\tmodel_fit = model.fit()\n",
        "\t\tyhat = model_fit.forecast()[0]\n",
        "\t\tpredictions.append(yhat)\n",
        "\t\thistory.append(test[t])\n",
        "\t# calculate out of sample error\n",
        "\tmape = np.mean(np.abs(np.array(predictions) - np.array(test))/np.abs(test))\n",
        "\tprint('MAPE: ' + str(mape))\n",
        "\treturn mape"
      ]
    },
    {
      "cell_type": "code",
      "execution_count": null,
      "metadata": {
        "id": "wqxLB-qg67-I"
      },
      "outputs": [],
      "source": [
        "# evaluate combinations of p, d and q values for an ARIMA model\n",
        "def evaluate_models(dataset, p_values, d_values, q_values):\n",
        "\tdataset = dataset.astype('float32')\n",
        "\tbest_score, best_cfg = float(\"inf\"), None\n",
        "\tfor p in p_values:\n",
        "\t\tfor d in d_values:\n",
        "\t\t\tfor q in q_values:\n",
        "\t\t\t\torder = (p,d,q)\n",
        "\t\t\t\ttry:\n",
        "\t\t\t\t\trmse = evaluate_arima_model(dataset, order)\n",
        "\t\t\t\t\tif rmse < best_score:\n",
        "\t\t\t\t\t\tbest_score, best_cfg = rmse, order\n",
        "\t\t\t\t\tprint('ARIMA%s RMSE=%.3f' % (order,rmse))\n",
        "\t\t\t\texcept:\n",
        "\t\t\t\t\tcontinue\n",
        "\tprint('Best ARIMA%s RMSE=%.3f' % (best_cfg, best_score))"
      ]
    },
    {
      "cell_type": "code",
      "execution_count": 5,
      "metadata": {
        "id": "dnhsjy5smByU"
      },
      "outputs": [],
      "source": [
        "# evaluate combinations of p, d and q values for an ARIMA model\n",
        "def evaluate_models_mape(dataset, p_values, d_values, q_values):\n",
        "\tdataset = dataset.astype('float32')\n",
        "\tbest_score, best_cfg = float(\"inf\"), None\n",
        "\tfor p in p_values:\n",
        "\t\tfor d in d_values:\n",
        "\t\t\tfor q in q_values:\n",
        "\t\t\t\torder = (p,d,q)\n",
        "\t\t\t\ttry:\n",
        "\t\t\t\t\tmape = evaluate_arima_model_mape(dataset, order)\n",
        "\t\t\t\t\tif mape < best_score:\n",
        "\t\t\t\t\t\tbest_score, best_cfg = mape, order\n",
        "\t\t\t\t\tprint('ARIMA%s MAPE=%.3f' % (order,mape))\n",
        "\t\t\t\texcept:\n",
        "\t\t\t\t\tcontinue\n",
        "\tprint('Best ARIMA%s MAPE=%.3f' % (best_cfg, best_score))"
      ]
    },
    {
      "cell_type": "code",
      "execution_count": null,
      "metadata": {
        "colab": {
          "base_uri": "https://localhost:8080/"
        },
        "id": "9SvZHt1ax6pU",
        "outputId": "f404bc92-4eb0-4f09-942f-2511b8aab0fa"
      },
      "outputs": [
        {
          "output_type": "stream",
          "name": "stdout",
          "text": [
            "ARIMA(0, 0, 0) RMSE=28475.468\n",
            "ARIMA(0, 0, 1) RMSE=14782.088\n",
            "ARIMA(0, 1, 0) RMSE=1421.699\n",
            "ARIMA(0, 1, 1) RMSE=1423.681\n",
            "ARIMA(0, 1, 2) RMSE=1426.763\n",
            "ARIMA(0, 1, 3) RMSE=1428.976\n",
            "ARIMA(1, 0, 0) RMSE=1421.301\n",
            "ARIMA(1, 1, 0) RMSE=1423.829\n",
            "ARIMA(2, 0, 0) RMSE=1446.863\n",
            "ARIMA(2, 1, 0) RMSE=1426.827\n",
            "ARIMA(2, 1, 1) RMSE=1432.431\n",
            "ARIMA(3, 0, 0) RMSE=3817.214\n",
            "ARIMA(3, 1, 0) RMSE=1429.398\n",
            "ARIMA(3, 1, 1) RMSE=1432.588\n",
            "Best ARIMA(1, 0, 0) RMSE=1421.301\n"
          ]
        }
      ],
      "source": [
        "# load dataset\n",
        "def parser(x):\n",
        "\treturn datetime.strptime('190'+x,'%Y-%m')\n",
        "# load dataset\n",
        "df = pd.read_csv('/content/driver/My Drive/DataSet/DataBitcoin.csv', header=0, index_col=0, parse_dates=True, squeeze=True)\n",
        "# evaluate parameters\n",
        "'''p_values = [0, 1, 2, 4, 6, 8, 10]\n",
        "d_values = range(0, 3)\n",
        "q_values = range(0, 3)'''\n",
        "p_values = [0,1,2,3]\n",
        "d_values = [0,1]\n",
        "q_values = [0,1,2,3]\n",
        "\n",
        "warnings.filterwarnings(\"ignore\")\n",
        "evaluate_models(df['Adj Close'].values, p_values, d_values, q_values)"
      ]
    },
    {
      "cell_type": "code",
      "execution_count": null,
      "metadata": {
        "id": "VMkKS9tIwZbx"
      },
      "outputs": [],
      "source": [
        "# load dataset\n",
        "def parser(x):\n",
        "\treturn datetime.strptime('190'+x,'%Y-%m')\n",
        "# load dataset\n",
        "df = pd.read_csv('/content/driver/My Drive/DataSet/DataBitcoin.csv', header=0, index_col=0, parse_dates=True, squeeze=True)\n",
        "# evaluate parameters\n",
        "p_values = [0, 1, 2, 4, 6, 8, 10]\n",
        "d_values = range(0, 3)\n",
        "q_values = range(0, 3)\n",
        "'''p_values = [0,1,2,3]\n",
        "d_values = [0,1]\n",
        "q_values = [0,1,2,3]'''\n",
        "\n",
        "warnings.filterwarnings(\"ignore\")\n",
        "evaluate_models_mape(df['Adj Close'].values, p_values, d_values, q_values)"
      ]
    }
  ],
  "metadata": {
    "colab": {
      "collapsed_sections": [],
      "provenance": [],
      "authorship_tag": "ABX9TyMS5eygGTv/X7+Kh5MEp7TQ",
      "include_colab_link": true
    },
    "kernelspec": {
      "display_name": "Python 3",
      "name": "python3"
    },
    "language_info": {
      "name": "python"
    }
  },
  "nbformat": 4,
  "nbformat_minor": 0
}