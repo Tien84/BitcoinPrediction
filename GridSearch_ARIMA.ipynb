{
  "cells": [
    {
      "cell_type": "markdown",
      "metadata": {
        "id": "view-in-github",
        "colab_type": "text"
      },
      "source": [
        "<a href=\"https://colab.research.google.com/github/Tien84/Face-Detection/blob/master/GridSearch_ARIMA.ipynb\" target=\"_parent\"><img src=\"https://colab.research.google.com/assets/colab-badge.svg\" alt=\"Open In Colab\"/></a>"
      ]
    },
    {
      "cell_type": "code",
      "execution_count": 1,
      "metadata": {
        "colab": {
          "base_uri": "https://localhost:8080/"
        },
        "id": "rr5am7M2cl0w",
        "outputId": "0c5e1633-81e9-41a3-cd6d-33a3b28a9789"
      },
      "outputs": [
        {
          "output_type": "stream",
          "name": "stdout",
          "text": [
            "Mounted at /content/driver\n"
          ]
        }
      ],
      "source": [
        "from google.colab import drive\n",
        "drive.mount('/content/driver')"
      ]
    },
    {
      "cell_type": "code",
      "execution_count": 2,
      "metadata": {
        "colab": {
          "base_uri": "https://localhost:8080/"
        },
        "id": "1gYUHje3cl3Z",
        "outputId": "dd35739d-46d6-4c5d-ce62-db358e4ae96f"
      },
      "outputs": [
        {
          "output_type": "stream",
          "name": "stderr",
          "text": [
            "/usr/local/lib/python3.7/dist-packages/ipykernel_launcher.py:5: FutureWarning: The pandas.datetime class is deprecated and will be removed from pandas in a future version. Import from datetime module instead.\n",
            "  \"\"\"\n",
            "/usr/local/lib/python3.7/dist-packages/statsmodels/tools/_testing.py:19: FutureWarning: pandas.util.testing is deprecated. Use the functions in the public API at pandas.testing instead.\n",
            "  import pandas.util.testing as tm\n"
          ]
        }
      ],
      "source": [
        "# grid search ARIMA parameters\n",
        "import warnings\n",
        "from math import sqrt\n",
        "from pandas import read_csv\n",
        "from pandas import datetime\n",
        "from statsmodels.tsa.arima_model import ARIMA\n",
        "from sklearn.metrics import mean_squared_error"
      ]
    },
    {
      "cell_type": "code",
      "source": [
        "import pandas as pd\n",
        "df=pd.read_csv('/content/driver/My Drive/LSTM_Model/BitcoinDataDaily.csv',header=0, index_col=0, parse_dates=True, squeeze=True)\n",
        "df=df['Adj Close'].dropna()\n",
        "print('Shape of data',df.shape)\n",
        "df.head()\n",
        "df"
      ],
      "metadata": {
        "colab": {
          "base_uri": "https://localhost:8080/"
        },
        "id": "biCwJWE-CRB7",
        "outputId": "4d9c7c45-42d2-4b80-d5a0-c3646badc404"
      },
      "execution_count": 3,
      "outputs": [
        {
          "output_type": "stream",
          "name": "stdout",
          "text": [
            "Shape of data (2558,)\n"
          ]
        },
        {
          "output_type": "execute_result",
          "data": {
            "text/plain": [
              "Date\n",
              "2015-07-09      269.227997\n",
              "2015-07-10      284.894012\n",
              "2015-07-11      293.114990\n",
              "2015-07-12      310.867004\n",
              "2015-07-13      292.053986\n",
              "                  ...     \n",
              "2022-07-05    20190.115234\n",
              "2022-07-06    20548.246094\n",
              "2022-07-07    21637.587891\n",
              "2022-07-08    21731.117188\n",
              "2022-07-09    21515.798828\n",
              "Name: Adj Close, Length: 2558, dtype: float64"
            ]
          },
          "metadata": {},
          "execution_count": 3
        }
      ]
    },
    {
      "cell_type": "code",
      "execution_count": 4,
      "metadata": {
        "id": "GJ5Wqsvscl6K"
      },
      "outputs": [],
      "source": [
        "# evaluate an ARIMA model for a given order (p,d,q)\n",
        "def evaluate_arima_model(df, arima_order):\n",
        "\t# prepare training dataset\n",
        "\tdf = df.astype('float32')\n",
        "\ttrain_size = int(len(df) * 0.667)\n",
        "\ttrain, test = df[0:train_size], df[train_size:]\n",
        "\thistory = [x for x in train]\n",
        "\t#test.reset_index(drop=True,inplace = True)\n",
        "\t# make predictions\n",
        "\tpredictions = list()\n",
        "\tfor t in range(len(test)):\n",
        "\t\tmodel = ARIMA(history, order=arima_order)\n",
        "\t\tmodel_fit = model.fit()\n",
        "\t\tyhat = model_fit.forecast()[0]\n",
        "\t\tpredictions.append(yhat)\n",
        "\t\thistory.append(test[t])\n",
        "\t# calculate out of sample error\n",
        "\trmse = sqrt(mean_squared_error(test, predictions))\n",
        "\treturn rmse"
      ]
    },
    {
      "cell_type": "code",
      "execution_count": 5,
      "metadata": {
        "id": "ojod4V9Tx6hm"
      },
      "outputs": [],
      "source": [
        "# evaluate combinations of p, d and q values for an ARIMA model\n",
        "def evaluate_models(dataset, p_values, d_values, q_values):\n",
        "\tdataset = dataset.astype('float32')\n",
        "\tbest_score, best_cfg = float(\"inf\"), None\n",
        "\tfor p in p_values:\n",
        "\t\tfor d in d_values:\n",
        "\t\t\tfor q in q_values:\n",
        "\t\t\t\torder = (p,d,q)\n",
        "\t\t\t\ttry:\n",
        "\t\t\t\t\trmse = evaluate_arima_model(dataset, order)\n",
        "\t\t\t\t\tif rmse < best_score:\n",
        "\t\t\t\t\t\tbest_score, best_cfg = rmse, order\n",
        "\t\t\t\t\tprint('ARIMA%s RMSE=%.3f' % (order,rmse))\n",
        "\t\t\t\texcept:\n",
        "\t\t\t\t\tcontinue\n",
        "\tprint('Best ARIMA%s RMSE=%.3f' % (best_cfg, best_score))"
      ]
    },
    {
      "cell_type": "code",
      "execution_count": 6,
      "metadata": {
        "colab": {
          "base_uri": "https://localhost:8080/"
        },
        "id": "9SvZHt1ax6pU",
        "outputId": "01083fd3-05f2-4a64-b8a2-0b46920091b4"
      },
      "outputs": [
        {
          "output_type": "stream",
          "name": "stdout",
          "text": [
            "ARIMA(0, 0, 0) RMSE=28821.285\n",
            "ARIMA(0, 0, 1) RMSE=14956.218\n",
            "ARIMA(0, 1, 0) RMSE=1412.508\n",
            "ARIMA(0, 1, 1) RMSE=1414.570\n",
            "ARIMA(0, 1, 2) RMSE=1417.709\n",
            "ARIMA(1, 0, 0) RMSE=1412.448\n",
            "ARIMA(1, 1, 0) RMSE=1414.714\n",
            "ARIMA(2, 1, 0) RMSE=1417.766\n",
            "ARIMA(2, 1, 1) RMSE=1423.908\n",
            "Best ARIMA(1, 0, 0) RMSE=1412.448\n"
          ]
        }
      ],
      "source": [
        "# load dataset\n",
        "def parser(x):\n",
        "\treturn datetime.strptime('190'+x,'%Y-%m')\n",
        "# load dataset\n",
        "df = pd.read_csv('/content/driver/My Drive/LSTM_Model/BitcoinDataDaily.csv', header=0, index_col=0, parse_dates=True, squeeze=True)\n",
        "# evaluate parameters\n",
        "'''p_values = [0, 1, 2, 4, 6, 8, 10]\n",
        "d_values = range(0, 3)\n",
        "q_values = range(0, 3)'''\n",
        "p_values = [0,1,2]\n",
        "d_values = [0,1]\n",
        "q_values = [0,1,2]\n",
        "\n",
        "warnings.filterwarnings(\"ignore\")\n",
        "evaluate_models(df['Adj Close'].values, p_values, d_values, q_values)"
      ]
    },
    {
      "cell_type": "code",
      "execution_count": null,
      "metadata": {
        "id": "vAfDSUV0cl8q"
      },
      "outputs": [],
      "source": [
        ""
      ]
    }
  ],
  "metadata": {
    "colab": {
      "name": "GridSearch_ARIMA.ipynb",
      "provenance": [],
      "collapsed_sections": [],
      "authorship_tag": "ABX9TyNJIdd4w/oeY3rJ2bEi3CoE",
      "include_colab_link": true
    },
    "kernelspec": {
      "display_name": "Python 3",
      "name": "python3"
    },
    "language_info": {
      "name": "python"
    }
  },
  "nbformat": 4,
  "nbformat_minor": 0
}