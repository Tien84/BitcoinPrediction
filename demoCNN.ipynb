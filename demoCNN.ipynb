{
  "cells": [
    {
      "cell_type": "markdown",
      "metadata": {
        "id": "view-in-github",
        "colab_type": "text"
      },
      "source": [
        "<a href=\"https://colab.research.google.com/github/Tien84/BitcoinPrediction/blob/master/demoCNN.ipynb\" target=\"_parent\"><img src=\"https://colab.research.google.com/assets/colab-badge.svg\" alt=\"Open In Colab\"/></a>"
      ]
    },
    {
      "cell_type": "code",
      "execution_count": null,
      "metadata": {
        "id": "eSP2aVEMkJVY"
      },
      "outputs": [],
      "source": []
    },
    {
      "cell_type": "code",
      "execution_count": null,
      "metadata": {
        "id": "p1QnRtpfkRNk"
      },
      "outputs": [],
      "source": []
    },
    {
      "cell_type": "code",
      "execution_count": null,
      "metadata": {
        "colab": {
          "base_uri": "https://localhost:8080/"
        },
        "id": "WEDAEKPTkRQt",
        "outputId": "0220db1b-0f6a-4341-b71b-dd9278a153f2"
      },
      "outputs": [
        {
          "output_type": "stream",
          "name": "stdout",
          "text": [
            "Mounted at /content/driver\n"
          ]
        }
      ],
      "source": [
        "from google.colab import drive\n",
        "drive.mount('/content/driver')"
      ]
    },
    {
      "cell_type": "code",
      "execution_count": null,
      "metadata": {
        "id": "BXEgfUuAcTxV"
      },
      "outputs": [],
      "source": [
        "from keras.models import Sequential\n",
        "from keras.layers import Activation, Dense, Dropout, LSTM, Flatten, TimeDistributed, ConvLSTM2D\n",
        "from keras.layers.convolutional import Conv1D\n",
        "from keras.layers.convolutional import MaxPooling1D\n",
        "\n",
        "\n",
        "import matplotlib.pyplot as plt\n",
        "import numpy as np\n",
        "import pandas as pd\n",
        "import seaborn as sns\n",
        "from sklearn.metrics import mean_squared_error\n",
        "from sklearn.metrics import mean_absolute_percentage_error\n",
        "%matplotlib inline"
      ]
    },
    {
      "cell_type": "code",
      "execution_count": null,
      "metadata": {
        "colab": {
          "base_uri": "https://localhost:8080/",
          "height": 455
        },
        "id": "dCduBebYcT05",
        "outputId": "a38bc948-5160-463c-9219-2b494a0e7584"
      },
      "outputs": [
        {
          "output_type": "execute_result",
          "data": {
            "text/plain": [
              "                    Open          High           Low         Close  \\\n",
              "Date                                                                 \n",
              "2022-01-10  41910.230469  42199.484375  39796.570313  41821.261719   \n",
              "2022-01-11  41819.507813  43001.156250  41407.753906  42735.855469   \n",
              "2022-01-12  42742.179688  44135.367188  42528.988281  43949.101563   \n",
              "2022-01-13  43946.742188  44278.421875  42447.042969  42591.570313   \n",
              "2022-01-14  42598.871094  43346.687500  41982.617188  43099.699219   \n",
              "...                  ...           ...           ...           ...   \n",
              "2023-01-06  16836.472656  16991.994141  16716.421875  16951.968750   \n",
              "2023-01-07  16952.117188  16975.017578  16914.191406  16955.078125   \n",
              "2023-01-08  16954.146484  17091.144531  16924.050781  17091.144531   \n",
              "2023-01-09  17093.992188  17389.957031  17093.992188  17196.554688   \n",
              "2023-01-10  17203.873047  17268.187500  17165.800781  17264.226563   \n",
              "\n",
              "               Adj Close       Volume  \n",
              "Date                                   \n",
              "2022-01-10  41821.261719  32104232331  \n",
              "2022-01-11  42735.855469  26327648900  \n",
              "2022-01-12  43949.101563  33499938689  \n",
              "2022-01-13  42591.570313  47691135082  \n",
              "2022-01-14  43099.699219  23577403399  \n",
              "...                  ...          ...  \n",
              "2023-01-06  16951.968750  14413662913  \n",
              "2023-01-07  16955.078125   7714767174  \n",
              "2023-01-08  17091.144531   9768827914  \n",
              "2023-01-09  17196.554688  18624736866  \n",
              "2023-01-10  17264.226563  15961652224  \n",
              "\n",
              "[366 rows x 6 columns]"
            ],
            "text/html": [
              "\n",
              "  <div id=\"df-4fb935bb-53fe-4695-9519-7a5f8ebbdb57\">\n",
              "    <div class=\"colab-df-container\">\n",
              "      <div>\n",
              "<style scoped>\n",
              "    .dataframe tbody tr th:only-of-type {\n",
              "        vertical-align: middle;\n",
              "    }\n",
              "\n",
              "    .dataframe tbody tr th {\n",
              "        vertical-align: top;\n",
              "    }\n",
              "\n",
              "    .dataframe thead th {\n",
              "        text-align: right;\n",
              "    }\n",
              "</style>\n",
              "<table border=\"1\" class=\"dataframe\">\n",
              "  <thead>\n",
              "    <tr style=\"text-align: right;\">\n",
              "      <th></th>\n",
              "      <th>Open</th>\n",
              "      <th>High</th>\n",
              "      <th>Low</th>\n",
              "      <th>Close</th>\n",
              "      <th>Adj Close</th>\n",
              "      <th>Volume</th>\n",
              "    </tr>\n",
              "    <tr>\n",
              "      <th>Date</th>\n",
              "      <th></th>\n",
              "      <th></th>\n",
              "      <th></th>\n",
              "      <th></th>\n",
              "      <th></th>\n",
              "      <th></th>\n",
              "    </tr>\n",
              "  </thead>\n",
              "  <tbody>\n",
              "    <tr>\n",
              "      <th>2022-01-10</th>\n",
              "      <td>41910.230469</td>\n",
              "      <td>42199.484375</td>\n",
              "      <td>39796.570313</td>\n",
              "      <td>41821.261719</td>\n",
              "      <td>41821.261719</td>\n",
              "      <td>32104232331</td>\n",
              "    </tr>\n",
              "    <tr>\n",
              "      <th>2022-01-11</th>\n",
              "      <td>41819.507813</td>\n",
              "      <td>43001.156250</td>\n",
              "      <td>41407.753906</td>\n",
              "      <td>42735.855469</td>\n",
              "      <td>42735.855469</td>\n",
              "      <td>26327648900</td>\n",
              "    </tr>\n",
              "    <tr>\n",
              "      <th>2022-01-12</th>\n",
              "      <td>42742.179688</td>\n",
              "      <td>44135.367188</td>\n",
              "      <td>42528.988281</td>\n",
              "      <td>43949.101563</td>\n",
              "      <td>43949.101563</td>\n",
              "      <td>33499938689</td>\n",
              "    </tr>\n",
              "    <tr>\n",
              "      <th>2022-01-13</th>\n",
              "      <td>43946.742188</td>\n",
              "      <td>44278.421875</td>\n",
              "      <td>42447.042969</td>\n",
              "      <td>42591.570313</td>\n",
              "      <td>42591.570313</td>\n",
              "      <td>47691135082</td>\n",
              "    </tr>\n",
              "    <tr>\n",
              "      <th>2022-01-14</th>\n",
              "      <td>42598.871094</td>\n",
              "      <td>43346.687500</td>\n",
              "      <td>41982.617188</td>\n",
              "      <td>43099.699219</td>\n",
              "      <td>43099.699219</td>\n",
              "      <td>23577403399</td>\n",
              "    </tr>\n",
              "    <tr>\n",
              "      <th>...</th>\n",
              "      <td>...</td>\n",
              "      <td>...</td>\n",
              "      <td>...</td>\n",
              "      <td>...</td>\n",
              "      <td>...</td>\n",
              "      <td>...</td>\n",
              "    </tr>\n",
              "    <tr>\n",
              "      <th>2023-01-06</th>\n",
              "      <td>16836.472656</td>\n",
              "      <td>16991.994141</td>\n",
              "      <td>16716.421875</td>\n",
              "      <td>16951.968750</td>\n",
              "      <td>16951.968750</td>\n",
              "      <td>14413662913</td>\n",
              "    </tr>\n",
              "    <tr>\n",
              "      <th>2023-01-07</th>\n",
              "      <td>16952.117188</td>\n",
              "      <td>16975.017578</td>\n",
              "      <td>16914.191406</td>\n",
              "      <td>16955.078125</td>\n",
              "      <td>16955.078125</td>\n",
              "      <td>7714767174</td>\n",
              "    </tr>\n",
              "    <tr>\n",
              "      <th>2023-01-08</th>\n",
              "      <td>16954.146484</td>\n",
              "      <td>17091.144531</td>\n",
              "      <td>16924.050781</td>\n",
              "      <td>17091.144531</td>\n",
              "      <td>17091.144531</td>\n",
              "      <td>9768827914</td>\n",
              "    </tr>\n",
              "    <tr>\n",
              "      <th>2023-01-09</th>\n",
              "      <td>17093.992188</td>\n",
              "      <td>17389.957031</td>\n",
              "      <td>17093.992188</td>\n",
              "      <td>17196.554688</td>\n",
              "      <td>17196.554688</td>\n",
              "      <td>18624736866</td>\n",
              "    </tr>\n",
              "    <tr>\n",
              "      <th>2023-01-10</th>\n",
              "      <td>17203.873047</td>\n",
              "      <td>17268.187500</td>\n",
              "      <td>17165.800781</td>\n",
              "      <td>17264.226563</td>\n",
              "      <td>17264.226563</td>\n",
              "      <td>15961652224</td>\n",
              "    </tr>\n",
              "  </tbody>\n",
              "</table>\n",
              "<p>366 rows × 6 columns</p>\n",
              "</div>\n",
              "      <button class=\"colab-df-convert\" onclick=\"convertToInteractive('df-4fb935bb-53fe-4695-9519-7a5f8ebbdb57')\"\n",
              "              title=\"Convert this dataframe to an interactive table.\"\n",
              "              style=\"display:none;\">\n",
              "        \n",
              "  <svg xmlns=\"http://www.w3.org/2000/svg\" height=\"24px\"viewBox=\"0 0 24 24\"\n",
              "       width=\"24px\">\n",
              "    <path d=\"M0 0h24v24H0V0z\" fill=\"none\"/>\n",
              "    <path d=\"M18.56 5.44l.94 2.06.94-2.06 2.06-.94-2.06-.94-.94-2.06-.94 2.06-2.06.94zm-11 1L8.5 8.5l.94-2.06 2.06-.94-2.06-.94L8.5 2.5l-.94 2.06-2.06.94zm10 10l.94 2.06.94-2.06 2.06-.94-2.06-.94-.94-2.06-.94 2.06-2.06.94z\"/><path d=\"M17.41 7.96l-1.37-1.37c-.4-.4-.92-.59-1.43-.59-.52 0-1.04.2-1.43.59L10.3 9.45l-7.72 7.72c-.78.78-.78 2.05 0 2.83L4 21.41c.39.39.9.59 1.41.59.51 0 1.02-.2 1.41-.59l7.78-7.78 2.81-2.81c.8-.78.8-2.07 0-2.86zM5.41 20L4 18.59l7.72-7.72 1.47 1.35L5.41 20z\"/>\n",
              "  </svg>\n",
              "      </button>\n",
              "      \n",
              "  <style>\n",
              "    .colab-df-container {\n",
              "      display:flex;\n",
              "      flex-wrap:wrap;\n",
              "      gap: 12px;\n",
              "    }\n",
              "\n",
              "    .colab-df-convert {\n",
              "      background-color: #E8F0FE;\n",
              "      border: none;\n",
              "      border-radius: 50%;\n",
              "      cursor: pointer;\n",
              "      display: none;\n",
              "      fill: #1967D2;\n",
              "      height: 32px;\n",
              "      padding: 0 0 0 0;\n",
              "      width: 32px;\n",
              "    }\n",
              "\n",
              "    .colab-df-convert:hover {\n",
              "      background-color: #E2EBFA;\n",
              "      box-shadow: 0px 1px 2px rgba(60, 64, 67, 0.3), 0px 1px 3px 1px rgba(60, 64, 67, 0.15);\n",
              "      fill: #174EA6;\n",
              "    }\n",
              "\n",
              "    [theme=dark] .colab-df-convert {\n",
              "      background-color: #3B4455;\n",
              "      fill: #D2E3FC;\n",
              "    }\n",
              "\n",
              "    [theme=dark] .colab-df-convert:hover {\n",
              "      background-color: #434B5C;\n",
              "      box-shadow: 0px 1px 3px 1px rgba(0, 0, 0, 0.15);\n",
              "      filter: drop-shadow(0px 1px 2px rgba(0, 0, 0, 0.3));\n",
              "      fill: #FFFFFF;\n",
              "    }\n",
              "  </style>\n",
              "\n",
              "      <script>\n",
              "        const buttonEl =\n",
              "          document.querySelector('#df-4fb935bb-53fe-4695-9519-7a5f8ebbdb57 button.colab-df-convert');\n",
              "        buttonEl.style.display =\n",
              "          google.colab.kernel.accessAllowed ? 'block' : 'none';\n",
              "\n",
              "        async function convertToInteractive(key) {\n",
              "          const element = document.querySelector('#df-4fb935bb-53fe-4695-9519-7a5f8ebbdb57');\n",
              "          const dataTable =\n",
              "            await google.colab.kernel.invokeFunction('convertToInteractive',\n",
              "                                                     [key], {});\n",
              "          if (!dataTable) return;\n",
              "\n",
              "          const docLinkHtml = 'Like what you see? Visit the ' +\n",
              "            '<a target=\"_blank\" href=https://colab.research.google.com/notebooks/data_table.ipynb>data table notebook</a>'\n",
              "            + ' to learn more about interactive tables.';\n",
              "          element.innerHTML = '';\n",
              "          dataTable['output_type'] = 'display_data';\n",
              "          await google.colab.output.renderOutput(dataTable, element);\n",
              "          const docLink = document.createElement('div');\n",
              "          docLink.innerHTML = docLinkHtml;\n",
              "          element.appendChild(docLink);\n",
              "        }\n",
              "      </script>\n",
              "    </div>\n",
              "  </div>\n",
              "  "
            ]
          },
          "metadata": {},
          "execution_count": 3
        }
      ],
      "source": [
        "#hist = pd.read_csv('/content/driver/My Drive/DataSet/DataBitcoin2.csv', header=0, index_col=0, parse_dates=True, squeeze=True)\n",
        "hist = pd.read_csv('/content/driver/My Drive/DataSet/DataBitcoin2.csv', parse_dates=True, squeeze=True)\n",
        "#hist = pd.read_csv('/content/driver/My Drive/DataSet/DataBitcoin2.csv')\n",
        "hist = hist.set_index('Date')\n",
        "hist.index = pd.to_datetime(hist.index)\n",
        "target_col = 'Adj Close'\n",
        "hist"
      ]
    },
    {
      "cell_type": "code",
      "execution_count": null,
      "metadata": {
        "colab": {
          "base_uri": "https://localhost:8080/",
          "height": 237
        },
        "id": "SpMJpH4McT2Z",
        "outputId": "f6e0ee2d-de23-4a0d-e5b0-f5f681e845d7"
      },
      "outputs": [
        {
          "output_type": "execute_result",
          "data": {
            "text/plain": [
              "                    Open          High           Low         Close  \\\n",
              "Date                                                                 \n",
              "2022-01-10  41910.230469  42199.484375  39796.570313  41821.261719   \n",
              "2022-01-11  41819.507813  43001.156250  41407.753906  42735.855469   \n",
              "2022-01-12  42742.179688  44135.367188  42528.988281  43949.101563   \n",
              "2022-01-13  43946.742188  44278.421875  42447.042969  42591.570313   \n",
              "2022-01-14  42598.871094  43346.687500  41982.617188  43099.699219   \n",
              "\n",
              "               Adj Close       Volume  \n",
              "Date                                   \n",
              "2022-01-10  41821.261719  32104232331  \n",
              "2022-01-11  42735.855469  26327648900  \n",
              "2022-01-12  43949.101563  33499938689  \n",
              "2022-01-13  42591.570313  47691135082  \n",
              "2022-01-14  43099.699219  23577403399  "
            ],
            "text/html": [
              "\n",
              "  <div id=\"df-7fed347b-b542-4680-9512-a7a34f57d9cd\">\n",
              "    <div class=\"colab-df-container\">\n",
              "      <div>\n",
              "<style scoped>\n",
              "    .dataframe tbody tr th:only-of-type {\n",
              "        vertical-align: middle;\n",
              "    }\n",
              "\n",
              "    .dataframe tbody tr th {\n",
              "        vertical-align: top;\n",
              "    }\n",
              "\n",
              "    .dataframe thead th {\n",
              "        text-align: right;\n",
              "    }\n",
              "</style>\n",
              "<table border=\"1\" class=\"dataframe\">\n",
              "  <thead>\n",
              "    <tr style=\"text-align: right;\">\n",
              "      <th></th>\n",
              "      <th>Open</th>\n",
              "      <th>High</th>\n",
              "      <th>Low</th>\n",
              "      <th>Close</th>\n",
              "      <th>Adj Close</th>\n",
              "      <th>Volume</th>\n",
              "    </tr>\n",
              "    <tr>\n",
              "      <th>Date</th>\n",
              "      <th></th>\n",
              "      <th></th>\n",
              "      <th></th>\n",
              "      <th></th>\n",
              "      <th></th>\n",
              "      <th></th>\n",
              "    </tr>\n",
              "  </thead>\n",
              "  <tbody>\n",
              "    <tr>\n",
              "      <th>2022-01-10</th>\n",
              "      <td>41910.230469</td>\n",
              "      <td>42199.484375</td>\n",
              "      <td>39796.570313</td>\n",
              "      <td>41821.261719</td>\n",
              "      <td>41821.261719</td>\n",
              "      <td>32104232331</td>\n",
              "    </tr>\n",
              "    <tr>\n",
              "      <th>2022-01-11</th>\n",
              "      <td>41819.507813</td>\n",
              "      <td>43001.156250</td>\n",
              "      <td>41407.753906</td>\n",
              "      <td>42735.855469</td>\n",
              "      <td>42735.855469</td>\n",
              "      <td>26327648900</td>\n",
              "    </tr>\n",
              "    <tr>\n",
              "      <th>2022-01-12</th>\n",
              "      <td>42742.179688</td>\n",
              "      <td>44135.367188</td>\n",
              "      <td>42528.988281</td>\n",
              "      <td>43949.101563</td>\n",
              "      <td>43949.101563</td>\n",
              "      <td>33499938689</td>\n",
              "    </tr>\n",
              "    <tr>\n",
              "      <th>2022-01-13</th>\n",
              "      <td>43946.742188</td>\n",
              "      <td>44278.421875</td>\n",
              "      <td>42447.042969</td>\n",
              "      <td>42591.570313</td>\n",
              "      <td>42591.570313</td>\n",
              "      <td>47691135082</td>\n",
              "    </tr>\n",
              "    <tr>\n",
              "      <th>2022-01-14</th>\n",
              "      <td>42598.871094</td>\n",
              "      <td>43346.687500</td>\n",
              "      <td>41982.617188</td>\n",
              "      <td>43099.699219</td>\n",
              "      <td>43099.699219</td>\n",
              "      <td>23577403399</td>\n",
              "    </tr>\n",
              "  </tbody>\n",
              "</table>\n",
              "</div>\n",
              "      <button class=\"colab-df-convert\" onclick=\"convertToInteractive('df-7fed347b-b542-4680-9512-a7a34f57d9cd')\"\n",
              "              title=\"Convert this dataframe to an interactive table.\"\n",
              "              style=\"display:none;\">\n",
              "        \n",
              "  <svg xmlns=\"http://www.w3.org/2000/svg\" height=\"24px\"viewBox=\"0 0 24 24\"\n",
              "       width=\"24px\">\n",
              "    <path d=\"M0 0h24v24H0V0z\" fill=\"none\"/>\n",
              "    <path d=\"M18.56 5.44l.94 2.06.94-2.06 2.06-.94-2.06-.94-.94-2.06-.94 2.06-2.06.94zm-11 1L8.5 8.5l.94-2.06 2.06-.94-2.06-.94L8.5 2.5l-.94 2.06-2.06.94zm10 10l.94 2.06.94-2.06 2.06-.94-2.06-.94-.94-2.06-.94 2.06-2.06.94z\"/><path d=\"M17.41 7.96l-1.37-1.37c-.4-.4-.92-.59-1.43-.59-.52 0-1.04.2-1.43.59L10.3 9.45l-7.72 7.72c-.78.78-.78 2.05 0 2.83L4 21.41c.39.39.9.59 1.41.59.51 0 1.02-.2 1.41-.59l7.78-7.78 2.81-2.81c.8-.78.8-2.07 0-2.86zM5.41 20L4 18.59l7.72-7.72 1.47 1.35L5.41 20z\"/>\n",
              "  </svg>\n",
              "      </button>\n",
              "      \n",
              "  <style>\n",
              "    .colab-df-container {\n",
              "      display:flex;\n",
              "      flex-wrap:wrap;\n",
              "      gap: 12px;\n",
              "    }\n",
              "\n",
              "    .colab-df-convert {\n",
              "      background-color: #E8F0FE;\n",
              "      border: none;\n",
              "      border-radius: 50%;\n",
              "      cursor: pointer;\n",
              "      display: none;\n",
              "      fill: #1967D2;\n",
              "      height: 32px;\n",
              "      padding: 0 0 0 0;\n",
              "      width: 32px;\n",
              "    }\n",
              "\n",
              "    .colab-df-convert:hover {\n",
              "      background-color: #E2EBFA;\n",
              "      box-shadow: 0px 1px 2px rgba(60, 64, 67, 0.3), 0px 1px 3px 1px rgba(60, 64, 67, 0.15);\n",
              "      fill: #174EA6;\n",
              "    }\n",
              "\n",
              "    [theme=dark] .colab-df-convert {\n",
              "      background-color: #3B4455;\n",
              "      fill: #D2E3FC;\n",
              "    }\n",
              "\n",
              "    [theme=dark] .colab-df-convert:hover {\n",
              "      background-color: #434B5C;\n",
              "      box-shadow: 0px 1px 3px 1px rgba(0, 0, 0, 0.15);\n",
              "      filter: drop-shadow(0px 1px 2px rgba(0, 0, 0, 0.3));\n",
              "      fill: #FFFFFF;\n",
              "    }\n",
              "  </style>\n",
              "\n",
              "      <script>\n",
              "        const buttonEl =\n",
              "          document.querySelector('#df-7fed347b-b542-4680-9512-a7a34f57d9cd button.colab-df-convert');\n",
              "        buttonEl.style.display =\n",
              "          google.colab.kernel.accessAllowed ? 'block' : 'none';\n",
              "\n",
              "        async function convertToInteractive(key) {\n",
              "          const element = document.querySelector('#df-7fed347b-b542-4680-9512-a7a34f57d9cd');\n",
              "          const dataTable =\n",
              "            await google.colab.kernel.invokeFunction('convertToInteractive',\n",
              "                                                     [key], {});\n",
              "          if (!dataTable) return;\n",
              "\n",
              "          const docLinkHtml = 'Like what you see? Visit the ' +\n",
              "            '<a target=\"_blank\" href=https://colab.research.google.com/notebooks/data_table.ipynb>data table notebook</a>'\n",
              "            + ' to learn more about interactive tables.';\n",
              "          element.innerHTML = '';\n",
              "          dataTable['output_type'] = 'display_data';\n",
              "          await google.colab.output.renderOutput(dataTable, element);\n",
              "          const docLink = document.createElement('div');\n",
              "          docLink.innerHTML = docLinkHtml;\n",
              "          element.appendChild(docLink);\n",
              "        }\n",
              "      </script>\n",
              "    </div>\n",
              "  </div>\n",
              "  "
            ]
          },
          "metadata": {},
          "execution_count": 4
        }
      ],
      "source": [
        "hist.head(5)"
      ]
    },
    {
      "cell_type": "code",
      "execution_count": null,
      "metadata": {
        "colab": {
          "base_uri": "https://localhost:8080/",
          "height": 237
        },
        "id": "C83DciCVcT49",
        "outputId": "51e5b20d-c8a2-489f-9a1d-17108e53604e"
      },
      "outputs": [
        {
          "output_type": "execute_result",
          "data": {
            "text/plain": [
              "                    Open          High           Low         Close  \\\n",
              "Date                                                                 \n",
              "2023-01-06  16836.472656  16991.994141  16716.421875  16951.968750   \n",
              "2023-01-07  16952.117188  16975.017578  16914.191406  16955.078125   \n",
              "2023-01-08  16954.146484  17091.144531  16924.050781  17091.144531   \n",
              "2023-01-09  17093.992188  17389.957031  17093.992188  17196.554688   \n",
              "2023-01-10  17203.873047  17268.187500  17165.800781  17264.226563   \n",
              "\n",
              "               Adj Close       Volume  \n",
              "Date                                   \n",
              "2023-01-06  16951.968750  14413662913  \n",
              "2023-01-07  16955.078125   7714767174  \n",
              "2023-01-08  17091.144531   9768827914  \n",
              "2023-01-09  17196.554688  18624736866  \n",
              "2023-01-10  17264.226563  15961652224  "
            ],
            "text/html": [
              "\n",
              "  <div id=\"df-1bd355a8-7af1-413c-9637-b8894b7bf581\">\n",
              "    <div class=\"colab-df-container\">\n",
              "      <div>\n",
              "<style scoped>\n",
              "    .dataframe tbody tr th:only-of-type {\n",
              "        vertical-align: middle;\n",
              "    }\n",
              "\n",
              "    .dataframe tbody tr th {\n",
              "        vertical-align: top;\n",
              "    }\n",
              "\n",
              "    .dataframe thead th {\n",
              "        text-align: right;\n",
              "    }\n",
              "</style>\n",
              "<table border=\"1\" class=\"dataframe\">\n",
              "  <thead>\n",
              "    <tr style=\"text-align: right;\">\n",
              "      <th></th>\n",
              "      <th>Open</th>\n",
              "      <th>High</th>\n",
              "      <th>Low</th>\n",
              "      <th>Close</th>\n",
              "      <th>Adj Close</th>\n",
              "      <th>Volume</th>\n",
              "    </tr>\n",
              "    <tr>\n",
              "      <th>Date</th>\n",
              "      <th></th>\n",
              "      <th></th>\n",
              "      <th></th>\n",
              "      <th></th>\n",
              "      <th></th>\n",
              "      <th></th>\n",
              "    </tr>\n",
              "  </thead>\n",
              "  <tbody>\n",
              "    <tr>\n",
              "      <th>2023-01-06</th>\n",
              "      <td>16836.472656</td>\n",
              "      <td>16991.994141</td>\n",
              "      <td>16716.421875</td>\n",
              "      <td>16951.968750</td>\n",
              "      <td>16951.968750</td>\n",
              "      <td>14413662913</td>\n",
              "    </tr>\n",
              "    <tr>\n",
              "      <th>2023-01-07</th>\n",
              "      <td>16952.117188</td>\n",
              "      <td>16975.017578</td>\n",
              "      <td>16914.191406</td>\n",
              "      <td>16955.078125</td>\n",
              "      <td>16955.078125</td>\n",
              "      <td>7714767174</td>\n",
              "    </tr>\n",
              "    <tr>\n",
              "      <th>2023-01-08</th>\n",
              "      <td>16954.146484</td>\n",
              "      <td>17091.144531</td>\n",
              "      <td>16924.050781</td>\n",
              "      <td>17091.144531</td>\n",
              "      <td>17091.144531</td>\n",
              "      <td>9768827914</td>\n",
              "    </tr>\n",
              "    <tr>\n",
              "      <th>2023-01-09</th>\n",
              "      <td>17093.992188</td>\n",
              "      <td>17389.957031</td>\n",
              "      <td>17093.992188</td>\n",
              "      <td>17196.554688</td>\n",
              "      <td>17196.554688</td>\n",
              "      <td>18624736866</td>\n",
              "    </tr>\n",
              "    <tr>\n",
              "      <th>2023-01-10</th>\n",
              "      <td>17203.873047</td>\n",
              "      <td>17268.187500</td>\n",
              "      <td>17165.800781</td>\n",
              "      <td>17264.226563</td>\n",
              "      <td>17264.226563</td>\n",
              "      <td>15961652224</td>\n",
              "    </tr>\n",
              "  </tbody>\n",
              "</table>\n",
              "</div>\n",
              "      <button class=\"colab-df-convert\" onclick=\"convertToInteractive('df-1bd355a8-7af1-413c-9637-b8894b7bf581')\"\n",
              "              title=\"Convert this dataframe to an interactive table.\"\n",
              "              style=\"display:none;\">\n",
              "        \n",
              "  <svg xmlns=\"http://www.w3.org/2000/svg\" height=\"24px\"viewBox=\"0 0 24 24\"\n",
              "       width=\"24px\">\n",
              "    <path d=\"M0 0h24v24H0V0z\" fill=\"none\"/>\n",
              "    <path d=\"M18.56 5.44l.94 2.06.94-2.06 2.06-.94-2.06-.94-.94-2.06-.94 2.06-2.06.94zm-11 1L8.5 8.5l.94-2.06 2.06-.94-2.06-.94L8.5 2.5l-.94 2.06-2.06.94zm10 10l.94 2.06.94-2.06 2.06-.94-2.06-.94-.94-2.06-.94 2.06-2.06.94z\"/><path d=\"M17.41 7.96l-1.37-1.37c-.4-.4-.92-.59-1.43-.59-.52 0-1.04.2-1.43.59L10.3 9.45l-7.72 7.72c-.78.78-.78 2.05 0 2.83L4 21.41c.39.39.9.59 1.41.59.51 0 1.02-.2 1.41-.59l7.78-7.78 2.81-2.81c.8-.78.8-2.07 0-2.86zM5.41 20L4 18.59l7.72-7.72 1.47 1.35L5.41 20z\"/>\n",
              "  </svg>\n",
              "      </button>\n",
              "      \n",
              "  <style>\n",
              "    .colab-df-container {\n",
              "      display:flex;\n",
              "      flex-wrap:wrap;\n",
              "      gap: 12px;\n",
              "    }\n",
              "\n",
              "    .colab-df-convert {\n",
              "      background-color: #E8F0FE;\n",
              "      border: none;\n",
              "      border-radius: 50%;\n",
              "      cursor: pointer;\n",
              "      display: none;\n",
              "      fill: #1967D2;\n",
              "      height: 32px;\n",
              "      padding: 0 0 0 0;\n",
              "      width: 32px;\n",
              "    }\n",
              "\n",
              "    .colab-df-convert:hover {\n",
              "      background-color: #E2EBFA;\n",
              "      box-shadow: 0px 1px 2px rgba(60, 64, 67, 0.3), 0px 1px 3px 1px rgba(60, 64, 67, 0.15);\n",
              "      fill: #174EA6;\n",
              "    }\n",
              "\n",
              "    [theme=dark] .colab-df-convert {\n",
              "      background-color: #3B4455;\n",
              "      fill: #D2E3FC;\n",
              "    }\n",
              "\n",
              "    [theme=dark] .colab-df-convert:hover {\n",
              "      background-color: #434B5C;\n",
              "      box-shadow: 0px 1px 3px 1px rgba(0, 0, 0, 0.15);\n",
              "      filter: drop-shadow(0px 1px 2px rgba(0, 0, 0, 0.3));\n",
              "      fill: #FFFFFF;\n",
              "    }\n",
              "  </style>\n",
              "\n",
              "      <script>\n",
              "        const buttonEl =\n",
              "          document.querySelector('#df-1bd355a8-7af1-413c-9637-b8894b7bf581 button.colab-df-convert');\n",
              "        buttonEl.style.display =\n",
              "          google.colab.kernel.accessAllowed ? 'block' : 'none';\n",
              "\n",
              "        async function convertToInteractive(key) {\n",
              "          const element = document.querySelector('#df-1bd355a8-7af1-413c-9637-b8894b7bf581');\n",
              "          const dataTable =\n",
              "            await google.colab.kernel.invokeFunction('convertToInteractive',\n",
              "                                                     [key], {});\n",
              "          if (!dataTable) return;\n",
              "\n",
              "          const docLinkHtml = 'Like what you see? Visit the ' +\n",
              "            '<a target=\"_blank\" href=https://colab.research.google.com/notebooks/data_table.ipynb>data table notebook</a>'\n",
              "            + ' to learn more about interactive tables.';\n",
              "          element.innerHTML = '';\n",
              "          dataTable['output_type'] = 'display_data';\n",
              "          await google.colab.output.renderOutput(dataTable, element);\n",
              "          const docLink = document.createElement('div');\n",
              "          docLink.innerHTML = docLinkHtml;\n",
              "          element.appendChild(docLink);\n",
              "        }\n",
              "      </script>\n",
              "    </div>\n",
              "  </div>\n",
              "  "
            ]
          },
          "metadata": {},
          "execution_count": 5
        }
      ],
      "source": [
        "hist.tail(5)"
      ]
    },
    {
      "cell_type": "code",
      "execution_count": null,
      "metadata": {
        "colab": {
          "base_uri": "https://localhost:8080/"
        },
        "id": "hL4_6zUajroz",
        "outputId": "99f97bc9-f3a0-450d-b41e-e8a7f07cf748"
      },
      "outputs": [
        {
          "output_type": "stream",
          "name": "stdout",
          "text": [
            "<class 'pandas.core.frame.DataFrame'>\n",
            "DatetimeIndex: 366 entries, 2022-01-10 to 2023-01-10\n",
            "Data columns (total 6 columns):\n",
            " #   Column     Non-Null Count  Dtype  \n",
            "---  ------     --------------  -----  \n",
            " 0   Open       366 non-null    float64\n",
            " 1   High       366 non-null    float64\n",
            " 2   Low        366 non-null    float64\n",
            " 3   Close      366 non-null    float64\n",
            " 4   Adj Close  366 non-null    float64\n",
            " 5   Volume     366 non-null    int64  \n",
            "dtypes: float64(5), int64(1)\n",
            "memory usage: 20.0 KB\n"
          ]
        }
      ],
      "source": [
        "from sklearn.preprocessing import MinMaxScaler\n",
        "df_1=hist.values\n",
        "df_1=df_1.astype('float32')\n",
        "\n",
        "#scaler = MinMaxScaler(feature_range=(-1,1))\n",
        "scaler = MinMaxScaler()\n",
        "scaler = scaler.fit_transform(df_1)\n",
        "\n",
        "hist.info()"
      ]
    },
    {
      "cell_type": "code",
      "execution_count": null,
      "metadata": {
        "id": "VLOZzlXlcT78"
      },
      "outputs": [],
      "source": [
        "def train_test_split(df, test_size=0.3):\n",
        "    split_row = len(df) - int(test_size * len(df))\n",
        "    train_data = df.iloc[:split_row]\n",
        "    test_data = df.iloc[split_row:]\n",
        "    return train_data, test_data"
      ]
    },
    {
      "cell_type": "code",
      "execution_count": null,
      "metadata": {
        "id": "A-HmADdBcT-a"
      },
      "outputs": [],
      "source": [
        "def line_plot(line1, line2, label1=None, label2=None, title='', lw=2):\n",
        "    fig, ax = plt.subplots(1, figsize=(13, 7))\n",
        "    ax.plot(line1, label=label1, linewidth=lw)\n",
        "    ax.plot(line2, label=label2, linewidth=lw)\n",
        "    ax.set_ylabel('price [USD]', fontsize=14)\n",
        "    ax.set_title(title, fontsize=16)\n",
        "    ax.legend(loc='best', fontsize=16);"
      ]
    },
    {
      "cell_type": "markdown",
      "metadata": {
        "id": "k5YOhMIyaH3N"
      },
      "source": []
    },
    {
      "cell_type": "code",
      "execution_count": null,
      "metadata": {
        "id": "EtStADvocUBk"
      },
      "outputs": [],
      "source": [
        "train, test = train_test_split(hist, test_size=0.3)\n"
      ]
    },
    {
      "cell_type": "code",
      "execution_count": null,
      "metadata": {
        "colab": {
          "base_uri": "https://localhost:8080/",
          "height": 428
        },
        "id": "DQZ4v13ZcUEi",
        "outputId": "4ce3a6d9-d469-4818-e4c2-71854cc1faef"
      },
      "outputs": [
        {
          "output_type": "display_data",
          "data": {
            "text/plain": [
              "<Figure size 936x504 with 1 Axes>"
            ],
            "image/png": "[encoded data removed]"
          },
          "metadata": {
            "needs_background": "light"
          }
        }
      ],
      "source": [
        "line_plot(train[target_col], test[target_col], 'training', 'test', title='')"
      ]
    },
    {
      "cell_type": "code",
      "execution_count": null,
      "metadata": {
        "id": "ghwgOQeDcUGY"
      },
      "outputs": [],
      "source": [
        "def normalise_zero_base(df):\n",
        "    return df / df.iloc[0] - 1\n",
        "\n",
        "def normalise_min_max(df):\n",
        "    return (df - df.min()) / (df.max() - df.min())"
      ]
    },
    {
      "cell_type": "code",
      "execution_count": null,
      "metadata": {
        "id": "4vXukiaQcUIX"
      },
      "outputs": [],
      "source": [
        "def extract_window_data(df, window_len=20, zero_base=True):\n",
        "    window_data = []\n",
        "    for idx in range(len(df) - window_len):\n",
        "        tmp = df[idx: (idx + window_len)].copy()\n",
        "        if zero_base:\n",
        "            tmp = normalise_zero_base(tmp)\n",
        "        window_data.append(tmp.values)\n",
        "    return np.array(window_data)"
      ]
    },
    {
      "cell_type": "code",
      "execution_count": null,
      "metadata": {
        "id": "DlsDHDDQcULJ"
      },
      "outputs": [],
      "source": [
        "def prepare_data(df, target_col, window_len=20, zero_base=True, test_size=0.3):\n",
        "    train_data, test_data = train_test_split(df, test_size=test_size)\n",
        "    X_train = extract_window_data(train_data, window_len, zero_base)\n",
        "    X_test = extract_window_data(test_data, window_len, zero_base)\n",
        "    y_train = train_data[target_col][window_len:].values\n",
        "    y_test = test_data[target_col][window_len:].values\n",
        "    if zero_base:\n",
        "        y_train = y_train / train_data[target_col][:-window_len].values - 1\n",
        "        y_test = y_test / test_data[target_col][:-window_len].values - 1\n",
        "\n",
        "    return train_data, test_data, X_train, X_test, y_train, y_test"
      ]
    },
    {
      "cell_type": "code",
      "execution_count": null,
      "metadata": {
        "id": "mWwCXNY_cUOs"
      },
      "outputs": [],
      "source": [
        "np.random.seed(366)\n",
        "window_len = 20\n",
        "test_size = 0.3\n",
        "zero_base = True\n",
        "epochs = 20\n",
        "batch_size = 30"
      ]
    },
    {
      "cell_type": "code",
      "execution_count": null,
      "metadata": {
        "id": "tY8-LBJScURe"
      },
      "outputs": [],
      "source": [
        "train, test, X_train, X_test, y_train, y_test = prepare_data(\n",
        "    hist, target_col, window_len=window_len, zero_base=zero_base, test_size=test_size)"
      ]
    },
    {
      "cell_type": "code",
      "execution_count": null,
      "metadata": {
        "id": "xHWM0ibQcUUS"
      },
      "outputs": [],
      "source": [
        "def build_cnn_model(input_data):\n",
        "    # define model\n",
        "    model = Sequential()\n",
        "    model.add(Conv1D(filters=64, kernel_size=2, activation='relu', input_shape=(input_data.shape[1], input_data.shape[2])))\n",
        "    model.add(MaxPooling1D(pool_size=2))\n",
        "    model.add(Flatten())\n",
        "    model.add(Dense(50, activation='relu'))\n",
        "    model.add(Dropout(0.2))\n",
        "    model.add(Dense(1))\n",
        "    model.compile(optimizer='adam', loss='mse')\n",
        "    return model"
      ]
    },
    {
      "cell_type": "code",
      "execution_count": null,
      "metadata": {
        "colab": {
          "base_uri": "https://localhost:8080/"
        },
        "id": "hkKlvSgacUXP",
        "outputId": "c8c20bf5-e007-4ef2-a9c0-f5aab0a5e1ac"
      },
      "outputs": [
        {
          "output_type": "stream",
          "name": "stdout",
          "text": [
            "Epoch 1/20\n",
            "8/8 [==============================] - 1s 4ms/step - loss: 0.0301\n",
            "Epoch 2/20\n",
            "8/8 [==============================] - 0s 4ms/step - loss: 0.0108\n",
            "Epoch 3/20\n",
            "8/8 [==============================] - 0s 4ms/step - loss: 0.0083\n",
            "Epoch 4/20\n",
            "8/8 [==============================] - 0s 6ms/step - loss: 0.0066\n",
            "Epoch 5/20\n",
            "8/8 [==============================] - 0s 5ms/step - loss: 0.0058\n",
            "Epoch 6/20\n",
            "8/8 [==============================] - 0s 4ms/step - loss: 0.0056\n",
            "Epoch 7/20\n",
            "8/8 [==============================] - 0s 4ms/step - loss: 0.0046\n",
            "Epoch 8/20\n",
            "8/8 [==============================] - 0s 4ms/step - loss: 0.0043\n",
            "Epoch 9/20\n",
            "8/8 [==============================] - 0s 4ms/step - loss: 0.0041\n",
            "Epoch 10/20\n",
            "8/8 [==============================] - 0s 4ms/step - loss: 0.0040\n",
            "Epoch 11/20\n",
            "8/8 [==============================] - 0s 4ms/step - loss: 0.0033\n",
            "Epoch 12/20\n",
            "8/8 [==============================] - 0s 4ms/step - loss: 0.0037\n",
            "Epoch 13/20\n",
            "8/8 [==============================] - 0s 4ms/step - loss: 0.0028\n",
            "Epoch 14/20\n",
            "8/8 [==============================] - 0s 4ms/step - loss: 0.0032\n",
            "Epoch 15/20\n",
            "8/8 [==============================] - 0s 4ms/step - loss: 0.0026\n",
            "Epoch 16/20\n",
            "8/8 [==============================] - 0s 4ms/step - loss: 0.0027\n",
            "Epoch 17/20\n",
            "8/8 [==============================] - 0s 4ms/step - loss: 0.0025\n",
            "Epoch 18/20\n",
            "8/8 [==============================] - 0s 4ms/step - loss: 0.0026\n",
            "Epoch 19/20\n",
            "8/8 [==============================] - 0s 4ms/step - loss: 0.0022\n",
            "Epoch 20/20\n",
            "8/8 [==============================] - 0s 5ms/step - loss: 0.0019\n"
          ]
        }
      ],
      "source": [
        "model = build_cnn_model(X_train)\n",
        "history = model.fit(\n",
        "    X_train, y_train, epochs=epochs, batch_size=batch_size, verbose=1, shuffle=True)"
      ]
    },
    {
      "cell_type": "code",
      "execution_count": null,
      "metadata": {
        "colab": {
          "base_uri": "https://localhost:8080/"
        },
        "id": "bXjWIGwfcUaM",
        "outputId": "b4624786-6034-4268-c671-b5cff185dc80"
      },
      "outputs": [
        {
          "output_type": "stream",
          "name": "stdout",
          "text": [
            "Model: \"sequential\"\n",
            "_________________________________________________________________\n",
            " Layer (type)                Output Shape              Param #   \n",
            "=================================================================\n",
            " conv1d (Conv1D)             (None, 19, 64)            832       \n",
            "                                                                 \n",
            " max_pooling1d (MaxPooling1D  (None, 9, 64)            0         \n",
            " )                                                               \n",
            "                                                                 \n",
            " flatten (Flatten)           (None, 576)               0         \n",
            "                                                                 \n",
            " dense (Dense)               (None, 50)                28850     \n",
            "                                                                 \n",
            " dropout (Dropout)           (None, 50)                0         \n",
            "                                                                 \n",
            " dense_1 (Dense)             (None, 1)                 51        \n",
            "                                                                 \n",
            "=================================================================\n",
            "Total params: 29,733\n",
            "Trainable params: 29,733\n",
            "Non-trainable params: 0\n",
            "_________________________________________________________________\n",
            "None\n"
          ]
        }
      ],
      "source": [
        "print(model.summary())"
      ]
    },
    {
      "cell_type": "code",
      "execution_count": null,
      "metadata": {
        "colab": {
          "base_uri": "https://localhost:8080/"
        },
        "id": "lnySIBTkfKLz",
        "outputId": "63520424-add9-44f7-bc53-983c9218af10"
      },
      "outputs": [
        {
          "output_type": "stream",
          "name": "stdout",
          "text": [
            "3/3 [==============================] - 0s 5ms/step\n"
          ]
        }
      ],
      "source": [
        "from sklearn.metrics import mean_squared_error\n",
        "from math import sqrt\n",
        "targets = test[target_col][window_len:]\n",
        "preds = model.predict(X_test).squeeze()\n",
        "#print(\"RMSE: \" + str(mean_squared_error(y_test, preds, squared=False)))\n",
        "#mse = mean_squared_error(y_test, preds, squared=False)\n",
        "#rmse = sqrt(mse)\n",
        "#print('RMSE: %f' % rmse)\n",
        "\n",
        "#print(\"MAPE: \" + str(mean_absolute_percentage_error(y_test, preds)))\n",
        "#mape = np.mean(np.abs(np.array(preds) - np.array(test_size))/np.abs(test_size))\n",
        "#print('MAPE: ' + str(mape))"
      ]
    },
    {
      "cell_type": "code",
      "execution_count": null,
      "metadata": {
        "colab": {
          "base_uri": "https://localhost:8080/",
          "height": 428
        },
        "id": "AT0iiLzFd5nq",
        "outputId": "0a1b50c0-5bf0-417a-eee1-313a2a6120d1"
      },
      "outputs": [
        {
          "output_type": "display_data",
          "data": {
            "text/plain": [
              "<Figure size 936x504 with 1 Axes>"
            ],
            "image/png": "[encoded data removed]"
          },
          "metadata": {
            "needs_background": "light"
          }
        }
      ],
      "source": [
        "preds = test[target_col].values[:-window_len] * (preds + 1)\n",
        "preds = pd.Series(index=targets.index, data=preds)\n",
        "line_plot(targets, preds, 'actual', 'prediction', lw=3)\n"
      ]
    },
    {
      "cell_type": "code",
      "execution_count": null,
      "metadata": {
        "id": "OfvFjoKLd5pC"
      },
      "outputs": [],
      "source": [
        "from sklearn.preprocessing import MinMaxScaler\n",
        "# Load dữ liệu\n",
        "data = pd.read_csv('/content/driver/My Drive/DataSet/DataBitcoin2.csv',header=0, index_col=0, parse_dates=True, squeeze=True)\n",
        "# tạo bộ scaler\n",
        "scaler = MinMaxScaler()\n",
        "# fit scaler vào data\n",
        "scaler.fit(data)\n",
        "# Thực hiện scale\n",
        "normalized = scaler.transform(data)\n",
        "# quay lại miền giá trị cũ\n",
        "inverse = scaler.inverse_transform(normalized)"
      ]
    },
    {
      "cell_type": "code",
      "execution_count": null,
      "metadata": {
        "id": "e3GfKhaq2rbt"
      },
      "outputs": [],
      "source": [
        "y_pred = model.predict(X_test)\n",
        "inv_y_pred = scaler.inverse_transform(y_pred.reshape(-1, 1))\n",
        "inv_y_test = scaler.inverse_transform(y_test.reshape(-1, 1))\n",
        "\n",
        "mse_test = mean_squared_error(inv_y_test, inv_y_pred)\n",
        "print(\"RMSE on Test:\", np.sqrt(mse_test))\n",
        "print(\"MSE on Test:\", mse_test)"
      ]
    },
    {
      "cell_type": "code",
      "execution_count": null,
      "metadata": {
        "id": "ljI-kLCYCIhw"
      },
      "outputs": [],
      "source": [
        "yhat_inverse = scaler.inverse_transform(inverse)\n",
        "yhat_inverse = yhat_inverse.reshape(-1,1)\n",
        "y_test_inverse = scaler.inverse_transform(normalized)\n",
        "y_test_inverse = y_test_inverse.reshape(-1,1)\n"
      ]
    },
    {
      "cell_type": "markdown",
      "source": [],
      "metadata": {
        "id": "p0VEQ5nySXIk"
      }
    },
    {
      "cell_type": "code",
      "execution_count": null,
      "metadata": {
        "id": "LwI-jh_Ad5r0",
        "colab": {
          "base_uri": "https://localhost:8080/"
        },
        "outputId": "29372ca7-359d-4487-d43d-c324cd3dd0a1"
      },
      "outputs": [
        {
          "output_type": "stream",
          "name": "stdout",
          "text": [
            "RMSE: 72975.516892\n",
            "MAPE: 0.9999908163201536\n"
          ]
        }
      ],
      "source": [
        "mse = mean_squared_error(inverse, normalized, squared=False)\n",
        "rmse = sqrt(mse)\n",
        "print('RMSE: %f' % rmse)\n",
        "\n",
        "mape = np.mean(np.abs(np.array(normalized) - np.array(inverse))/np.abs(inverse))\n",
        "#mape = np.mean(np.abs(np.array(inverse) - np.array(normalized))/np.abs(normalized))\n",
        "print('MAPE: ' + str(mape))"
      ]
    },
    {
      "cell_type": "code",
      "execution_count": null,
      "metadata": {
        "id": "I7RJR1ydd53U"
      },
      "outputs": [],
      "source": []
    },
    {
      "cell_type": "code",
      "execution_count": null,
      "metadata": {
        "id": "TZZ1afIXd56s"
      },
      "outputs": [],
      "source": []
    }
  ],
  "metadata": {
    "colab": {
      "provenance": [],
      "authorship_tag": "ABX9TyNhXUemXJfeRXQjHKs1bU9S",
      "include_colab_link": true
    },
    "kernelspec": {
      "display_name": "Python 3",
      "name": "python3"
    },
    "language_info": {
      "name": "python"
    }
  },
  "nbformat": 4,
  "nbformat_minor": 0
}