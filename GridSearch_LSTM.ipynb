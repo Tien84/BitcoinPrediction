{
  "nbformat": 4,
  "nbformat_minor": 0,
  "metadata": {
    "colab": {
      "name": "GridSearch_LSTM.ipynb",
      "provenance": [],
      "collapsed_sections": [],
      "authorship_tag": "ABX9TyNJtIUVbmXJLtHks+AcFleI",
      "include_colab_link": true
    },
    "kernelspec": {
      "name": "python3",
      "display_name": "Python 3"
    },
    "language_info": {
      "name": "python"
    }
  },
  "cells": [
    {
      "cell_type": "markdown",
      "metadata": {
        "id": "view-in-github",
        "colab_type": "text"
      },
      "source": [
        "<a href=\"https://colab.research.google.com/github/Tien84/Face-Detection/blob/master/GridSearch_LSTM.ipynb\" target=\"_parent\"><img src=\"https://colab.research.google.com/assets/colab-badge.svg\" alt=\"Open In Colab\"/></a>"
      ]
    },
    {
      "cell_type": "code",
      "execution_count": 1,
      "metadata": {
        "colab": {
          "base_uri": "https://localhost:8080/"
        },
        "id": "-HWPrJzb8bkr",
        "outputId": "f6dc5c8c-2d6f-4b4e-b39d-4d7c24ea7071"
      },
      "outputs": [
        {
          "output_type": "stream",
          "name": "stdout",
          "text": [
            "Requirement already satisfied: pandas in /usr/local/lib/python3.7/dist-packages (1.3.5)\n",
            "Requirement already satisfied: pytz>=2017.3 in /usr/local/lib/python3.7/dist-packages (from pandas) (2018.9)\n",
            "Requirement already satisfied: numpy>=1.17.3 in /usr/local/lib/python3.7/dist-packages (from pandas) (1.21.5)\n",
            "Requirement already satisfied: python-dateutil>=2.7.3 in /usr/local/lib/python3.7/dist-packages (from pandas) (2.8.2)\n",
            "Requirement already satisfied: six>=1.5 in /usr/local/lib/python3.7/dist-packages (from python-dateutil>=2.7.3->pandas) (1.15.0)\n"
          ]
        }
      ],
      "source": [
        "!pip install pandas"
      ]
    },
    {
      "cell_type": "code",
      "source": [
        "!pip install numpy"
      ],
      "metadata": {
        "colab": {
          "base_uri": "https://localhost:8080/"
        },
        "id": "Vk2fEgMJ85E9",
        "outputId": "c585012e-63e4-4f88-d498-80234411c4b6"
      },
      "execution_count": 2,
      "outputs": [
        {
          "output_type": "stream",
          "name": "stdout",
          "text": [
            "Requirement already satisfied: numpy in /usr/local/lib/python3.7/dist-packages (1.21.5)\n"
          ]
        }
      ]
    },
    {
      "cell_type": "code",
      "source": [
        "!pip install matplotlib"
      ],
      "metadata": {
        "colab": {
          "base_uri": "https://localhost:8080/"
        },
        "id": "D-qDOnCf7m-F",
        "outputId": "3d872e7c-1e2b-4c08-c0e3-50341d1b6495"
      },
      "execution_count": 3,
      "outputs": [
        {
          "output_type": "stream",
          "name": "stdout",
          "text": [
            "Requirement already satisfied: matplotlib in /usr/local/lib/python3.7/dist-packages (3.2.2)\n",
            "Requirement already satisfied: python-dateutil>=2.1 in /usr/local/lib/python3.7/dist-packages (from matplotlib) (2.8.2)\n",
            "Requirement already satisfied: pyparsing!=2.0.4,!=2.1.2,!=2.1.6,>=2.0.1 in /usr/local/lib/python3.7/dist-packages (from matplotlib) (3.0.7)\n",
            "Requirement already satisfied: cycler>=0.10 in /usr/local/lib/python3.7/dist-packages (from matplotlib) (0.11.0)\n",
            "Requirement already satisfied: numpy>=1.11 in /usr/local/lib/python3.7/dist-packages (from matplotlib) (1.21.5)\n",
            "Requirement already satisfied: kiwisolver>=1.0.1 in /usr/local/lib/python3.7/dist-packages (from matplotlib) (1.3.2)\n",
            "Requirement already satisfied: six>=1.5 in /usr/local/lib/python3.7/dist-packages (from python-dateutil>=2.1->matplotlib) (1.15.0)\n"
          ]
        }
      ]
    },
    {
      "cell_type": "code",
      "source": [
        "!pip install sklearn"
      ],
      "metadata": {
        "colab": {
          "base_uri": "https://localhost:8080/"
        },
        "id": "9P8IL7gR85PA",
        "outputId": "6f41bb44-516b-4c3f-dd51-154f9a2241bd"
      },
      "execution_count": 4,
      "outputs": [
        {
          "output_type": "stream",
          "name": "stdout",
          "text": [
            "Requirement already satisfied: sklearn in /usr/local/lib/python3.7/dist-packages (0.0)\n",
            "Requirement already satisfied: scikit-learn in /usr/local/lib/python3.7/dist-packages (from sklearn) (1.0.2)\n",
            "Requirement already satisfied: scipy>=1.1.0 in /usr/local/lib/python3.7/dist-packages (from scikit-learn->sklearn) (1.4.1)\n",
            "Requirement already satisfied: joblib>=0.11 in /usr/local/lib/python3.7/dist-packages (from scikit-learn->sklearn) (1.1.0)\n",
            "Requirement already satisfied: numpy>=1.14.6 in /usr/local/lib/python3.7/dist-packages (from scikit-learn->sklearn) (1.21.5)\n",
            "Requirement already satisfied: threadpoolctl>=2.0.0 in /usr/local/lib/python3.7/dist-packages (from scikit-learn->sklearn) (3.1.0)\n"
          ]
        }
      ]
    },
    {
      "cell_type": "code",
      "source": [
        "from google.colab import drive\n",
        "drive.mount('/content/driver')"
      ],
      "metadata": {
        "colab": {
          "base_uri": "https://localhost:8080/"
        },
        "id": "tgNFXDDv85SF",
        "outputId": "38c3085e-7444-41c5-b6b8-23cc66b3a55a"
      },
      "execution_count": 5,
      "outputs": [
        {
          "output_type": "stream",
          "name": "stdout",
          "text": [
            "Mounted at /content/driver\n"
          ]
        }
      ]
    },
    {
      "cell_type": "code",
      "source": [
        "import pandas as pd\n",
        "import numpy as np\n",
        "import matplotlib.pyplot as plt\n",
        "from pandas import read_csv\n",
        "\n",
        "data = pd.read_csv('/content/driver/My Drive/LSTM_Model/AAPL.csv', header=0, index_col=0)\n",
        "#data= data[::-1] \n",
        "data.index.freg='Date'\n",
        "data"
      ],
      "metadata": {
        "colab": {
          "base_uri": "https://localhost:8080/",
          "height": 455
        },
        "id": "uMkwJF2CCIbf",
        "outputId": "929501bb-95a3-407e-8a99-20291b3383be"
      },
      "execution_count": 6,
      "outputs": [
        {
          "output_type": "execute_result",
          "data": {
            "text/html": [
              "\n",
              "  <div id=\"df-87642979-2815-420f-8064-b3e675240817\">\n",
              "    <div class=\"colab-df-container\">\n",
              "      <div>\n",
              "<style scoped>\n",
              "    .dataframe tbody tr th:only-of-type {\n",
              "        vertical-align: middle;\n",
              "    }\n",
              "\n",
              "    .dataframe tbody tr th {\n",
              "        vertical-align: top;\n",
              "    }\n",
              "\n",
              "    .dataframe thead th {\n",
              "        text-align: right;\n",
              "    }\n",
              "</style>\n",
              "<table border=\"1\" class=\"dataframe\">\n",
              "  <thead>\n",
              "    <tr style=\"text-align: right;\">\n",
              "      <th></th>\n",
              "      <th>Open</th>\n",
              "      <th>High</th>\n",
              "      <th>Low</th>\n",
              "      <th>Close</th>\n",
              "      <th>Adj Close</th>\n",
              "      <th>Volume</th>\n",
              "    </tr>\n",
              "    <tr>\n",
              "      <th>Date</th>\n",
              "      <th></th>\n",
              "      <th></th>\n",
              "      <th></th>\n",
              "      <th></th>\n",
              "      <th></th>\n",
              "      <th></th>\n",
              "    </tr>\n",
              "  </thead>\n",
              "  <tbody>\n",
              "    <tr>\n",
              "      <th>2012-01-03</th>\n",
              "      <td>58.500000</td>\n",
              "      <td>58.928570</td>\n",
              "      <td>58.428570</td>\n",
              "      <td>58.747143</td>\n",
              "      <td>56.011238</td>\n",
              "      <td>75564699</td>\n",
              "    </tr>\n",
              "    <tr>\n",
              "      <th>2012-01-04</th>\n",
              "      <td>58.599998</td>\n",
              "      <td>59.240002</td>\n",
              "      <td>58.468571</td>\n",
              "      <td>59.062859</td>\n",
              "      <td>56.312252</td>\n",
              "      <td>65061108</td>\n",
              "    </tr>\n",
              "    <tr>\n",
              "      <th>2012-01-05</th>\n",
              "      <td>59.278572</td>\n",
              "      <td>59.792858</td>\n",
              "      <td>58.952858</td>\n",
              "      <td>59.718571</td>\n",
              "      <td>56.937424</td>\n",
              "      <td>67816805</td>\n",
              "    </tr>\n",
              "    <tr>\n",
              "      <th>2012-01-06</th>\n",
              "      <td>59.967140</td>\n",
              "      <td>60.392857</td>\n",
              "      <td>59.888573</td>\n",
              "      <td>60.342857</td>\n",
              "      <td>57.532646</td>\n",
              "      <td>79596412</td>\n",
              "    </tr>\n",
              "    <tr>\n",
              "      <th>2012-01-09</th>\n",
              "      <td>60.788570</td>\n",
              "      <td>61.107143</td>\n",
              "      <td>60.192856</td>\n",
              "      <td>60.247143</td>\n",
              "      <td>57.441391</td>\n",
              "      <td>98505792</td>\n",
              "    </tr>\n",
              "    <tr>\n",
              "      <th>...</th>\n",
              "      <td>...</td>\n",
              "      <td>...</td>\n",
              "      <td>...</td>\n",
              "      <td>...</td>\n",
              "      <td>...</td>\n",
              "      <td>...</td>\n",
              "    </tr>\n",
              "    <tr>\n",
              "      <th>2020-01-03</th>\n",
              "      <td>297.149994</td>\n",
              "      <td>300.579987</td>\n",
              "      <td>296.500000</td>\n",
              "      <td>297.429993</td>\n",
              "      <td>293.598297</td>\n",
              "      <td>36633878</td>\n",
              "    </tr>\n",
              "    <tr>\n",
              "      <th>2020-01-06</th>\n",
              "      <td>293.790009</td>\n",
              "      <td>299.959991</td>\n",
              "      <td>292.750000</td>\n",
              "      <td>299.799988</td>\n",
              "      <td>295.937744</td>\n",
              "      <td>29644644</td>\n",
              "    </tr>\n",
              "    <tr>\n",
              "      <th>2020-01-07</th>\n",
              "      <td>299.839996</td>\n",
              "      <td>300.899994</td>\n",
              "      <td>297.480011</td>\n",
              "      <td>298.390015</td>\n",
              "      <td>294.545959</td>\n",
              "      <td>26207813</td>\n",
              "    </tr>\n",
              "    <tr>\n",
              "      <th>2020-01-08</th>\n",
              "      <td>297.160004</td>\n",
              "      <td>304.439911</td>\n",
              "      <td>297.156006</td>\n",
              "      <td>303.190002</td>\n",
              "      <td>299.284088</td>\n",
              "      <td>33090946</td>\n",
              "    </tr>\n",
              "    <tr>\n",
              "      <th>2020-01-09</th>\n",
              "      <td>307.234985</td>\n",
              "      <td>310.429993</td>\n",
              "      <td>306.200012</td>\n",
              "      <td>309.630005</td>\n",
              "      <td>305.641113</td>\n",
              "      <td>42621542</td>\n",
              "    </tr>\n",
              "  </tbody>\n",
              "</table>\n",
              "<p>2018 rows × 6 columns</p>\n",
              "</div>\n",
              "      <button class=\"colab-df-convert\" onclick=\"convertToInteractive('df-87642979-2815-420f-8064-b3e675240817')\"\n",
              "              title=\"Convert this dataframe to an interactive table.\"\n",
              "              style=\"display:none;\">\n",
              "        \n",
              "  <svg xmlns=\"http://www.w3.org/2000/svg\" height=\"24px\"viewBox=\"0 0 24 24\"\n",
              "       width=\"24px\">\n",
              "    <path d=\"M0 0h24v24H0V0z\" fill=\"none\"/>\n",
              "    <path d=\"M18.56 5.44l.94 2.06.94-2.06 2.06-.94-2.06-.94-.94-2.06-.94 2.06-2.06.94zm-11 1L8.5 8.5l.94-2.06 2.06-.94-2.06-.94L8.5 2.5l-.94 2.06-2.06.94zm10 10l.94 2.06.94-2.06 2.06-.94-2.06-.94-.94-2.06-.94 2.06-2.06.94z\"/><path d=\"M17.41 7.96l-1.37-1.37c-.4-.4-.92-.59-1.43-.59-.52 0-1.04.2-1.43.59L10.3 9.45l-7.72 7.72c-.78.78-.78 2.05 0 2.83L4 21.41c.39.39.9.59 1.41.59.51 0 1.02-.2 1.41-.59l7.78-7.78 2.81-2.81c.8-.78.8-2.07 0-2.86zM5.41 20L4 18.59l7.72-7.72 1.47 1.35L5.41 20z\"/>\n",
              "  </svg>\n",
              "      </button>\n",
              "      \n",
              "  <style>\n",
              "    .colab-df-container {\n",
              "      display:flex;\n",
              "      flex-wrap:wrap;\n",
              "      gap: 12px;\n",
              "    }\n",
              "\n",
              "    .colab-df-convert {\n",
              "      background-color: #E8F0FE;\n",
              "      border: none;\n",
              "      border-radius: 50%;\n",
              "      cursor: pointer;\n",
              "      display: none;\n",
              "      fill: #1967D2;\n",
              "      height: 32px;\n",
              "      padding: 0 0 0 0;\n",
              "      width: 32px;\n",
              "    }\n",
              "\n",
              "    .colab-df-convert:hover {\n",
              "      background-color: #E2EBFA;\n",
              "      box-shadow: 0px 1px 2px rgba(60, 64, 67, 0.3), 0px 1px 3px 1px rgba(60, 64, 67, 0.15);\n",
              "      fill: #174EA6;\n",
              "    }\n",
              "\n",
              "    [theme=dark] .colab-df-convert {\n",
              "      background-color: #3B4455;\n",
              "      fill: #D2E3FC;\n",
              "    }\n",
              "\n",
              "    [theme=dark] .colab-df-convert:hover {\n",
              "      background-color: #434B5C;\n",
              "      box-shadow: 0px 1px 3px 1px rgba(0, 0, 0, 0.15);\n",
              "      filter: drop-shadow(0px 1px 2px rgba(0, 0, 0, 0.3));\n",
              "      fill: #FFFFFF;\n",
              "    }\n",
              "  </style>\n",
              "\n",
              "      <script>\n",
              "        const buttonEl =\n",
              "          document.querySelector('#df-87642979-2815-420f-8064-b3e675240817 button.colab-df-convert');\n",
              "        buttonEl.style.display =\n",
              "          google.colab.kernel.accessAllowed ? 'block' : 'none';\n",
              "\n",
              "        async function convertToInteractive(key) {\n",
              "          const element = document.querySelector('#df-87642979-2815-420f-8064-b3e675240817');\n",
              "          const dataTable =\n",
              "            await google.colab.kernel.invokeFunction('convertToInteractive',\n",
              "                                                     [key], {});\n",
              "          if (!dataTable) return;\n",
              "\n",
              "          const docLinkHtml = 'Like what you see? Visit the ' +\n",
              "            '<a target=\"_blank\" href=https://colab.research.google.com/notebooks/data_table.ipynb>data table notebook</a>'\n",
              "            + ' to learn more about interactive tables.';\n",
              "          element.innerHTML = '';\n",
              "          dataTable['output_type'] = 'display_data';\n",
              "          await google.colab.output.renderOutput(dataTable, element);\n",
              "          const docLink = document.createElement('div');\n",
              "          docLink.innerHTML = docLinkHtml;\n",
              "          element.appendChild(docLink);\n",
              "        }\n",
              "      </script>\n",
              "    </div>\n",
              "  </div>\n",
              "  "
            ],
            "text/plain": [
              "                  Open        High         Low       Close   Adj Close  \\\n",
              "Date                                                                     \n",
              "2012-01-03   58.500000   58.928570   58.428570   58.747143   56.011238   \n",
              "2012-01-04   58.599998   59.240002   58.468571   59.062859   56.312252   \n",
              "2012-01-05   59.278572   59.792858   58.952858   59.718571   56.937424   \n",
              "2012-01-06   59.967140   60.392857   59.888573   60.342857   57.532646   \n",
              "2012-01-09   60.788570   61.107143   60.192856   60.247143   57.441391   \n",
              "...                ...         ...         ...         ...         ...   \n",
              "2020-01-03  297.149994  300.579987  296.500000  297.429993  293.598297   \n",
              "2020-01-06  293.790009  299.959991  292.750000  299.799988  295.937744   \n",
              "2020-01-07  299.839996  300.899994  297.480011  298.390015  294.545959   \n",
              "2020-01-08  297.160004  304.439911  297.156006  303.190002  299.284088   \n",
              "2020-01-09  307.234985  310.429993  306.200012  309.630005  305.641113   \n",
              "\n",
              "              Volume  \n",
              "Date                  \n",
              "2012-01-03  75564699  \n",
              "2012-01-04  65061108  \n",
              "2012-01-05  67816805  \n",
              "2012-01-06  79596412  \n",
              "2012-01-09  98505792  \n",
              "...              ...  \n",
              "2020-01-03  36633878  \n",
              "2020-01-06  29644644  \n",
              "2020-01-07  26207813  \n",
              "2020-01-08  33090946  \n",
              "2020-01-09  42621542  \n",
              "\n",
              "[2018 rows x 6 columns]"
            ]
          },
          "metadata": {},
          "execution_count": 6
        }
      ]
    },
    {
      "cell_type": "code",
      "source": [
        "# summarize shape\n",
        "print(data.shape)"
      ],
      "metadata": {
        "colab": {
          "base_uri": "https://localhost:8080/"
        },
        "id": "UIH0yBHNNiNR",
        "outputId": "2d0b31ae-b820-469d-c05d-11e348284f78"
      },
      "execution_count": 7,
      "outputs": [
        {
          "output_type": "stream",
          "name": "stdout",
          "text": [
            "(2018, 6)\n"
          ]
        }
      ]
    },
    {
      "cell_type": "markdown",
      "source": [
        ""
      ],
      "metadata": {
        "id": "H83aUmcPNMXQ"
      }
    },
    {
      "cell_type": "code",
      "source": [
        "from matplotlib import pyplot\n",
        "# plot\n",
        "pyplot.plot(data['Adj Close'])\n",
        "pyplot.show()"
      ],
      "metadata": {
        "colab": {
          "base_uri": "https://localhost:8080/",
          "height": 265
        },
        "id": "adwxFY42MWMp",
        "outputId": "9a398fc7-4d15-4894-8592-145db56b4b64"
      },
      "execution_count": 8,
      "outputs": [
        {
          "output_type": "display_data",
          "data": {
            "image/png": "[encoded data removed]",
            "text/plain": [
              "<Figure size 432x288 with 1 Axes>"
            ]
          },
          "metadata": {
            "needs_background": "light"
          }
        }
      ]
    },
    {
      "cell_type": "code",
      "source": [
        "open_price = data.iloc[:,1:2]\n",
        "train_set = open_price[:1345].values\n",
        "test_set = open_price[1345:].values\n",
        "print(\"Train size: \",train_set.shape)\n",
        "print(\"Test size:\",test_set.shape)"
      ],
      "metadata": {
        "id": "0YHz-fcGCImt",
        "colab": {
          "base_uri": "https://localhost:8080/"
        },
        "outputId": "06657801-cf9c-48a3-fc2e-b0ef853f2283"
      },
      "execution_count": 9,
      "outputs": [
        {
          "output_type": "stream",
          "name": "stdout",
          "text": [
            "Train size:  (1345, 1)\n",
            "Test size: (673, 1)\n"
          ]
        }
      ]
    },
    {
      "cell_type": "code",
      "source": [
        "# grid search lstm\n",
        "from math import sqrt\n",
        "from numpy import array\n",
        "from numpy import mean\n",
        "from pandas import DataFrame\n",
        "from pandas import concat\n",
        "from pandas import read_csv\n",
        "from sklearn.metrics import mean_squared_error\n",
        "from keras.models import Sequential\n",
        "from keras.layers import Dense\n",
        "from keras.layers import LSTM"
      ],
      "metadata": {
        "id": "bBXwET6xv0gn"
      },
      "execution_count": 10,
      "outputs": []
    },
    {
      "cell_type": "code",
      "source": [
        "from sklearn.model_selection import train_test_split\n",
        "# split a univariate dataset into train/test sets\n",
        "def train_test_split(data, n_test):\n",
        "\treturn data[:-n_test], data[-n_test:]"
      ],
      "metadata": {
        "id": "EC5Y43-HGcDn"
      },
      "execution_count": 11,
      "outputs": []
    },
    {
      "cell_type": "code",
      "source": [
        "# transform list into supervised learning format\n",
        "def series_to_supervised(data, n_in=1, n_out=1):\n",
        "\tdf = DataFrame(data)\n",
        "\tcols = list()\n",
        "\t# input sequence (t-n, ... t-1)\n",
        "\tfor i in range(n_in, 0, -1):\n",
        "\t\tcols.append(df.shift(i))\n",
        "\t# forecast sequence (t, t+1, ... t+n)\n",
        "\tfor i in range(0, n_out):\n",
        "\t\tcols.append(df.shift(-i))\n",
        "\t# put it all together\n",
        "\tagg = concat(cols, axis=1)\n",
        "\t# drop rows with NaN values\n",
        "\tagg.dropna(inplace=True)\n",
        "\treturn agg.values"
      ],
      "metadata": {
        "id": "CGVPB-qOGx3Q"
      },
      "execution_count": 12,
      "outputs": []
    },
    {
      "cell_type": "code",
      "source": [
        "# root mean squared error or rmse\n",
        "def measure_rmse(actual, predicted):\n",
        "\treturn sqrt(mean_squared_error(actual, predicted))"
      ],
      "metadata": {
        "id": "NiVQw4mLGx6P"
      },
      "execution_count": 13,
      "outputs": []
    },
    {
      "cell_type": "code",
      "source": [
        "# difference dataset\n",
        "def difference(data, order):\n",
        "\treturn [data[i] - data[i - order] for i in range(order, len(data))]"
      ],
      "metadata": {
        "id": "SCUcRyprGyAY"
      },
      "execution_count": 14,
      "outputs": []
    },
    {
      "cell_type": "code",
      "source": [
        "# fit a model\n",
        "def model_fit (train, config):\n",
        "  return None"
      ],
      "metadata": {
        "id": "_XYVnr564unL"
      },
      "execution_count": 22,
      "outputs": []
    },
    {
      "cell_type": "code",
      "source": [
        "# fit a model\n",
        "def model_fit(train, config):\n",
        "\t# unpack config\n",
        "\tn_input, n_nodes, n_epochs, n_batch, n_diff = config\n",
        "\t# prepare data\n",
        "\tif n_diff > 0:\n",
        "\t\ttrain = difference(train, n_diff)\n",
        "\t# transform series into supervised format\n",
        "\tdata = series_to_supervised(train, n_in=n_input)\n",
        "\t# separate inputs and outputs\n",
        "\ttrain_x, train_y = data[:, :-1], data[:, -1]\n",
        "\t# reshape input data into [samples, timesteps, features]\n",
        "\tn_features = 1\n",
        "\ttrain_x = train_x.reshape((train_x.shape[0], train_x.shape[1], n_features))\n",
        "\t# define model\n",
        "\tmodel = Sequential()\n",
        "\tmodel.add(LSTM(n_nodes, activation='relu', input_shape=(n_input, n_features)))\n",
        "\tmodel.add(Dense(n_nodes, activation='relu'))\n",
        "\tmodel.add(Dense(1))\n",
        "\tmodel.compile(loss='mse', optimizer='adam')\n",
        "\t# fit model\n",
        "\tmodel.fit(train_x, train_y, epochs=n_epochs, batch_size=n_batch, verbose=0)\n",
        "\treturn model"
      ],
      "metadata": {
        "id": "hqPGf0YlHAvD"
      },
      "execution_count": 23,
      "outputs": []
    },
    {
      "cell_type": "code",
      "source": [
        "def model_predict (model, history, offset):\n",
        "  return history[-offset]"
      ],
      "metadata": {
        "id": "LaCnDk-74_DX"
      },
      "execution_count": 24,
      "outputs": []
    },
    {
      "cell_type": "code",
      "source": [
        " # forecast with the fit model\n",
        "def model_predict(model, history, config):\n",
        "\t# unpack config\n",
        "\tn_input, _, _, _, n_diff = config\n",
        "\t# prepare data\n",
        "\tcorrection = 0.0\n",
        "\tif n_diff > 0:\n",
        "\t\tcorrection = history[-n_diff]\n",
        "\t\thistory = difference(history, n_diff)\n",
        "\t# reshape sample into [samples, timesteps, features]\n",
        "\tx_input = array(history[-n_input:]).reshape((1, n_input, 1))\n",
        "\t# forecast\n",
        "\tyhat = model.predict(x_input, verbose=0)\n",
        "\treturn correction + yhat[0]"
      ],
      "metadata": {
        "id": "rpPoJIQ2HAza"
      },
      "execution_count": 16,
      "outputs": []
    },
    {
      "cell_type": "code",
      "source": [
        "# walk-forward validation for univariate data\n",
        "def walk_forward_validation(data, n_test, cfg):\n",
        "\tpredictions = list()\n",
        "\t# split dataset\n",
        "\ttrain, test = train_test_split(data, n_test)\n",
        "\t# fit model\n",
        "\tmodel = model_fit(train, cfg)\n",
        "\t# seed history with training dataset\n",
        "\thistory = [x for x in train]\n",
        "\t# step over each time-step in the test set\n",
        "\tfor i in range(len(test)):\n",
        "\t\t# fit model and make forecast for history\n",
        "\t\tyhat = model_predict(model, history, cfg)\n",
        "\t\t# store forecast in list of predictions\n",
        "\t\tpredictions.append(yhat)\n",
        "\t\t# add actual observation to history for the next loop\n",
        "\t\thistory.append(test[i])\n",
        "\t# estimate prediction error\n",
        "\terror = measure_rmse(test, predictions)\n",
        "\tprint(' > %.3f' % error)\n",
        "\treturn error"
      ],
      "metadata": {
        "id": "TusJqkBUHA4G"
      },
      "execution_count": 17,
      "outputs": []
    },
    {
      "cell_type": "code",
      "source": [
        "# score a model, return None on failure\n",
        "def repeat_evaluate(data, config, n_test, n_repeats=10):\n",
        "\t# convert config to a key\n",
        "\t#key = str(config)\n",
        "\t# fit and evaluate the model n times\n",
        "\tscores = [walk_forward_validation(data, n_test, config) for _ in range(n_repeats)]\n",
        "\t# summarize score\n",
        "\t#result = mean(scores)\n",
        "\t#print('> Model[%s] %.3f' % (key, result))\n",
        "\t#return (key, result)\n",
        "\treturn scores"
      ],
      "metadata": {
        "id": "avEmlu_GKj2M"
      },
      "execution_count": 47,
      "outputs": []
    },
    {
      "cell_type": "code",
      "source": [
        "# grid search configs\n",
        "def grid_search(data, cfg_list, n_test):\n",
        "\t# evaluate configs\n",
        "\tscores = scores = [repeat_evaluate(data, cfg, n_test) for cfg in cfg_list]\n",
        "\t# sort configs by error, asc\n",
        "\tscores.sort(key=lambda tup: tup[1])\n",
        "\treturn scores"
      ],
      "metadata": {
        "id": "27Dzusc5J8xl"
      },
      "execution_count": 42,
      "outputs": []
    },
    {
      "cell_type": "code",
      "source": [
        "# create a list of configs to try\n",
        "def model_configs():\n",
        "\t# define scope of configs\n",
        "\tn_input = [12]\n",
        "\tn_nodes = [100]\n",
        "\tn_epochs = [50]\n",
        "\tn_batch = [1, 150]\n",
        "\tn_diff = [12]\n",
        "\t# create configs\n",
        "\tconfigs = list()\n",
        "\tfor i in n_input:\n",
        "\t\tfor j in n_nodes:\n",
        "\t\t\tfor k in n_epochs:\n",
        "\t\t\t\tfor l in n_batch:\n",
        "\t\t\t\t\tfor m in n_diff:\n",
        "\t\t\t\t\t\tcfg = [i, j, k, l, m]\n",
        "\t\t\t\t\t\tconfigs.append(cfg)\n",
        "\tprint('Total configs: %d' % len(configs))\n",
        "\treturn configs"
      ],
      "metadata": {
        "id": "56bKR1IVHU_f"
      },
      "execution_count": 43,
      "outputs": []
    },
    {
      "cell_type": "code",
      "source": [
        "#summarize model performance\n",
        "def summarize_scores (name, scores):\n",
        "  #print a summary\n",
        "  scores_m, score_std = mean(scores), std(scores)\n",
        "  print('%s: %.3f RMSE (+/- %.3f)' % (name, scores_m, score_std))\n",
        "  #box and whisker plot\n",
        "  pyplot.boxplot(scores)\n",
        "  pyplot.show()"
      ],
      "metadata": {
        "id": "DK9PudjxKGFE"
      },
      "execution_count": 51,
      "outputs": []
    },
    {
      "cell_type": "code",
      "source": [
        "# define dataset\n",
        "series = read_csv('/content/driver/My Drive/LSTM_Model/AAPL.csv', header=0, index_col=0)\n",
        "data = series.values\n",
        "# data split\n",
        "n_test = 12\n",
        "# model configs\n",
        "cfg_list = [36, 50, 100, 100, 12]\n",
        "# grid search\n",
        "#scores = grid_search(data, cfg_list, n_test)\n",
        "scores = repeat_evaluate(data, config, n_test)\n",
        "#summarize scores\n",
        "summarize_scores('lstm', scores)"
      ],
      "metadata": {
        "id": "54kz4bpKKpcN",
        "colab": {
          "base_uri": "https://localhost:8080/",
          "height": 235
        },
        "outputId": "bc828565-e792-4e61-c756-7004cb206712"
      },
      "execution_count": 56,
      "outputs": [
        {
          "output_type": "error",
          "ename": "NameError",
          "evalue": "ignored",
          "traceback": [
            "\u001b[0;31m---------------------------------------------------------------------------\u001b[0m",
            "\u001b[0;31mNameError\u001b[0m                                 Traceback (most recent call last)",
            "\u001b[0;32m<ipython-input-56-d25871629a2a>\u001b[0m in \u001b[0;36m<module>\u001b[0;34m()\u001b[0m\n\u001b[1;32m      8\u001b[0m \u001b[0;31m# grid search\u001b[0m\u001b[0;34m\u001b[0m\u001b[0;34m\u001b[0m\u001b[0;34m\u001b[0m\u001b[0m\n\u001b[1;32m      9\u001b[0m \u001b[0;31m#scores = grid_search(data, cfg_list, n_test)\u001b[0m\u001b[0;34m\u001b[0m\u001b[0;34m\u001b[0m\u001b[0;34m\u001b[0m\u001b[0m\n\u001b[0;32m---> 10\u001b[0;31m \u001b[0mscores\u001b[0m \u001b[0;34m=\u001b[0m \u001b[0mrepeat_evaluate\u001b[0m\u001b[0;34m(\u001b[0m\u001b[0mdata\u001b[0m\u001b[0;34m,\u001b[0m \u001b[0mconfig\u001b[0m\u001b[0;34m,\u001b[0m \u001b[0mn_test\u001b[0m\u001b[0;34m)\u001b[0m\u001b[0;34m\u001b[0m\u001b[0;34m\u001b[0m\u001b[0m\n\u001b[0m\u001b[1;32m     11\u001b[0m \u001b[0;31m#summarize scores\u001b[0m\u001b[0;34m\u001b[0m\u001b[0;34m\u001b[0m\u001b[0;34m\u001b[0m\u001b[0m\n\u001b[1;32m     12\u001b[0m \u001b[0msummarize_scores\u001b[0m\u001b[0;34m(\u001b[0m\u001b[0;34m'lstm'\u001b[0m\u001b[0;34m,\u001b[0m \u001b[0mscores\u001b[0m\u001b[0;34m)\u001b[0m\u001b[0;34m\u001b[0m\u001b[0;34m\u001b[0m\u001b[0m\n",
            "\u001b[0;31mNameError\u001b[0m: name 'config' is not defined"
          ]
        }
      ]
    },
    {
      "cell_type": "code",
      "source": [
        "# define dataset\n",
        "series = read_csv('/content/driver/My Drive/LSTM_Model/AAPL.csv', header=0, index_col=0)\n",
        "data = series.values\n",
        "# data split\n",
        "n_test = 12\n",
        "# model configs\n",
        "cfg_list = model_configs()\n",
        "# grid search\n",
        "#scores = grid_search(data, cfg_list, n_test)\n",
        "scores = grid_search(data, cfg_list, n_test)\n",
        "print('done')\n",
        "# list top 10 configs\n",
        "for cfg, error in scores[:3]:\n",
        "\tprint(cfg, error)"
      ],
      "metadata": {
        "id": "Gk8ImzDWGcHt"
      },
      "execution_count": null,
      "outputs": []
    },
    {
      "cell_type": "code",
      "source": [
        ""
      ],
      "metadata": {
        "id": "E6pnKwgf85xE"
      },
      "execution_count": null,
      "outputs": []
    },
    {
      "cell_type": "code",
      "source": [
        ""
      ],
      "metadata": {
        "id": "86K_Hn3d850a"
      },
      "execution_count": 50,
      "outputs": []
    }
  ]
}